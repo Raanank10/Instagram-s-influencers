{
  "nbformat": 4,
  "nbformat_minor": 0,
  "metadata": {
    "colab": {
      "name": "Instagram_influencers_eladk_20210902.ipynb",
      "provenance": [],
      "collapsed_sections": [],
      "toc_visible": true,
      "authorship_tag": "ABX9TyOw9QrRlloGNOCKiBH+4ZaG",
      "include_colab_link": true
    },
    "kernelspec": {
      "name": "python3",
      "display_name": "Python 3"
    },
    "language_info": {
      "name": "python"
    }
  },
  "cells": [
    {
      "cell_type": "markdown",
      "metadata": {
        "id": "view-in-github",
        "colab_type": "text"
      },
      "source": [
        "<a href=\"https://colab.research.google.com/github/Raanank10/Instagram-s-influencers/blob/main/Instagram_influencers_eladk_20210902.ipynb\" target=\"_parent\"><img src=\"https://colab.research.google.com/assets/colab-badge.svg\" alt=\"Open In Colab\"/></a>"
      ]
    },
    {
      "cell_type": "markdown",
      "metadata": {
        "id": "wC1M-xaCmpct"
      },
      "source": [
        "**Instagram_influencers**"
      ]
    },
    {
      "cell_type": "markdown",
      "metadata": {
        "id": "CYHKFYQIsYs3"
      },
      "source": [
        "# Global Parameters"
      ]
    },
    {
      "cell_type": "code",
      "metadata": {
        "id": "1qeiaDu9mi-Y"
      },
      "source": [
        "fname = 'ai_posts_analysis_data.xlsx'"
      ],
      "execution_count": 2,
      "outputs": []
    },
    {
      "cell_type": "markdown",
      "metadata": {
        "id": "aI1qxfM0j0KY"
      },
      "source": [
        "# Get the Data"
      ]
    },
    {
      "cell_type": "code",
      "metadata": {
        "colab": {
          "base_uri": "https://localhost:8080/"
        },
        "id": "b2moKRJvjzUv",
        "outputId": "0fea449d-4a31-447c-ca4f-f3fc72e5ebb3"
      },
      "source": [
        "# General Tools\n",
        "import numpy as np\n",
        "import scipy as sp\n",
        "import pandas as pd\n",
        "import missingno as msno\n",
        "\n",
        "# SK Learn\n",
        "from sklearn.impute import SimpleImputer\n",
        "from sklearn.tree import DecisionTreeClassifier\n",
        "from sklearn.neighbors import KNeighborsClassifier\n",
        "from sklearn.linear_model import LogisticRegression\n",
        "from sklearn import preprocessing\n",
        "from sklearn.ensemble import RandomForestClassifier\n",
        "from sklearn.metrics import confusion_matrix, accuracy_score\n",
        "from sklearn.metrics import precision_score, recall_score, f1_score\n",
        "from sklearn.metrics import accuracy_score , confusion_matrix, roc_auc_score, roc_curve\n",
        "from sklearn.metrics import log_loss\n",
        "from sklearn.metrics import classification_report # elad 20210708\n",
        "from sklearn.model_selection import train_test_split, GridSearchCV\n",
        "from sklearn.feature_selection import SelectKBest, chi2, f_classif, mutual_info_classif\n",
        "from sklearn.model_selection import cross_val_score\n",
        "from sklearn.model_selection import StratifiedShuffleSplit\n",
        "\n",
        "# Trees Visualization\n",
        "import pydot\n",
        "from sklearn.tree import export_graphviz\n",
        "from sklearn.externals.six import StringIO\n",
        "\n",
        "# Misc\n",
        "import warnings\n",
        "from sys import modules\n",
        "from time import time\n",
        "from platform import python_version\n",
        "\n",
        "# Visualization\n",
        "import matplotlib.pyplot as plt\n",
        "import plotly.express as px\n",
        "import seaborn as sns\n",
        "\n",
        "# IPython\n",
        "from IPython.display import Image, display\n",
        "\n",
        "# Confuguration\n",
        "warnings.filterwarnings('ignore')\n",
        "%matplotlib inline"
      ],
      "execution_count": 1,
      "outputs": [
        {
          "output_type": "stream",
          "name": "stderr",
          "text": [
            "/usr/local/lib/python3.7/dist-packages/sklearn/externals/six.py:31: FutureWarning: The module is deprecated in version 0.21 and will be removed in version 0.23 since we've dropped support for Python 2.7. Please rely on the official version of six (https://pypi.org/project/six/).\n",
            "  \"(https://pypi.org/project/six/).\", FutureWarning)\n"
          ]
        }
      ]
    },
    {
      "cell_type": "code",
      "metadata": {
        "colab": {
          "base_uri": "https://localhost:8080/",
          "height": 635
        },
        "id": "eNBD7EhXrkpI",
        "outputId": "6e00e543-8de4-4d17-886b-afae5ed8b746"
      },
      "source": [
        "df = pd.read_excel(fname, index_col=0)  \n",
        "df.head()"
      ],
      "execution_count": 5,
      "outputs": [
        {
          "output_type": "execute_result",
          "data": {
            "text/html": [
              "<div>\n",
              "<style scoped>\n",
              "    .dataframe tbody tr th:only-of-type {\n",
              "        vertical-align: middle;\n",
              "    }\n",
              "\n",
              "    .dataframe tbody tr th {\n",
              "        vertical-align: top;\n",
              "    }\n",
              "\n",
              "    .dataframe thead th {\n",
              "        text-align: right;\n",
              "    }\n",
              "</style>\n",
              "<table border=\"1\" class=\"dataframe\">\n",
              "  <thead>\n",
              "    <tr style=\"text-align: right;\">\n",
              "      <th></th>\n",
              "      <th>USERID</th>\n",
              "      <th>USERNAME</th>\n",
              "      <th>FULLNAME</th>\n",
              "      <th>FOLLOWER</th>\n",
              "      <th>POST ID</th>\n",
              "      <th>SHORTCODE</th>\n",
              "      <th>LIKES</th>\n",
              "      <th>COMMENTS</th>\n",
              "      <th>ENGAGEMENT</th>\n",
              "      <th>URL</th>\n",
              "      <th>ACCESSIBILITY CAPTION</th>\n",
              "      <th>CAPTION</th>\n",
              "      <th>LOCATION</th>\n",
              "      <th>CITY</th>\n",
              "      <th>COUNTRY</th>\n",
              "      <th>TIME</th>\n",
              "      <th>IMAGE LABELS</th>\n",
              "      <th>CAPTION INTEREST</th>\n",
              "      <th>ACCESSIBILITY CAPTION INTEREST</th>\n",
              "      <th>IMAGE LABEL INTEREST</th>\n",
              "      <th>IMAGE URL</th>\n",
              "      <th>COMMENT DISABLED</th>\n",
              "      <th>IS VIDEO</th>\n",
              "      <th>HAS AUDIO</th>\n",
              "      <th>VIDEO URL</th>\n",
              "      <th>VIDEO VIEW COUNT</th>\n",
              "    </tr>\n",
              "    <tr>\n",
              "      <th>1</th>\n",
              "      <th></th>\n",
              "      <th></th>\n",
              "      <th></th>\n",
              "      <th></th>\n",
              "      <th></th>\n",
              "      <th></th>\n",
              "      <th></th>\n",
              "      <th></th>\n",
              "      <th></th>\n",
              "      <th></th>\n",
              "      <th></th>\n",
              "      <th></th>\n",
              "      <th></th>\n",
              "      <th></th>\n",
              "      <th></th>\n",
              "      <th></th>\n",
              "      <th></th>\n",
              "      <th></th>\n",
              "      <th></th>\n",
              "      <th></th>\n",
              "      <th></th>\n",
              "      <th></th>\n",
              "      <th></th>\n",
              "      <th></th>\n",
              "      <th></th>\n",
              "      <th></th>\n",
              "    </tr>\n",
              "  </thead>\n",
              "  <tbody>\n",
              "    <tr>\n",
              "      <th>1918</th>\n",
              "      <td>36193140327</td>\n",
              "      <td>elastici_e_passamaneria</td>\n",
              "      <td>Elastici e Passamaneria</td>\n",
              "      <td>1052</td>\n",
              "      <td>2530600951335029174</td>\n",
              "      <td>CMegChUlwm2</td>\n",
              "      <td>23</td>\n",
              "      <td>0</td>\n",
              "      <td>2.19</td>\n",
              "      <td>https://www.instagram.com/p/CMegChUlwm2</td>\n",
              "      <td>Photo by Elastici e Passamaneria on March 16, ...</td>\n",
              "      <td>FFP2 MADE IN ITALY????????#ffp2mask#italiansty...</td>\n",
              "      <td>NaN</td>\n",
              "      <td>NaN</td>\n",
              "      <td>NaN</td>\n",
              "      <td>1615891163</td>\n",
              "      <td>Clothing, Apparel, Text, Money, Collage, Adver...</td>\n",
              "      <td>education</td>\n",
              "      <td>movies</td>\n",
              "      <td>business</td>\n",
              "      <td>https://instagram.fdok2-1.fna.fbcdn.net/v/t51....</td>\n",
              "      <td>no</td>\n",
              "      <td>no</td>\n",
              "      <td>no</td>\n",
              "      <td>NaN</td>\n",
              "      <td>NaN</td>\n",
              "    </tr>\n",
              "    <tr>\n",
              "      <th>1919</th>\n",
              "      <td>8210198494</td>\n",
              "      <td>pamela.latorre.73</td>\n",
              "      <td>Pamela La Torre</td>\n",
              "      <td>309</td>\n",
              "      <td>2595285287724490476</td>\n",
              "      <td>CQETjgBnZ7s</td>\n",
              "      <td>55</td>\n",
              "      <td>23</td>\n",
              "      <td>25.24</td>\n",
              "      <td>https://www.instagram.com/p/CQETjgBnZ7s</td>\n",
              "      <td>Photo by Pamela La Torre on June 13, 2021. May...</td>\n",
              "      <td>Prima comunione Giorgio</td>\n",
              "      <td>Santissimo Crocifisso</td>\n",
              "      <td>Taranto, Italy</td>\n",
              "      <td>NaN</td>\n",
              "      <td>1623602137</td>\n",
              "      <td>Person, Human, Photographer, Photography, Phot...</td>\n",
              "      <td>news</td>\n",
              "      <td>arts_entertainment</td>\n",
              "      <td>style_fashion</td>\n",
              "      <td>https://instagram.fhel3-1.fna.fbcdn.net/v/t51....</td>\n",
              "      <td>no</td>\n",
              "      <td>no</td>\n",
              "      <td>no</td>\n",
              "      <td>NaN</td>\n",
              "      <td>NaN</td>\n",
              "    </tr>\n",
              "    <tr>\n",
              "      <th>1920</th>\n",
              "      <td>36838177086</td>\n",
              "      <td>ilaria._004</td>\n",
              "      <td>????????????????</td>\n",
              "      <td>649</td>\n",
              "      <td>2356209223949454778</td>\n",
              "      <td>CCy784yAY26</td>\n",
              "      <td>138</td>\n",
              "      <td>2</td>\n",
              "      <td>21.57</td>\n",
              "      <td>https://www.instagram.com/p/CCy784yAY26</td>\n",
              "      <td>Photo by ???????????????? on July 18, 2020. Ma...</td>\n",
              "      <td>mirame????</td>\n",
              "      <td>NaN</td>\n",
              "      <td>NaN</td>\n",
              "      <td>NaN</td>\n",
              "      <td>1595102049</td>\n",
              "      <td>Clothing, Apparel, Person, Human, Female, Swim...</td>\n",
              "      <td>education</td>\n",
              "      <td>arts_entertainment</td>\n",
              "      <td>style_fashion</td>\n",
              "      <td>https://instagram.fgua5-1.fna.fbcdn.net/v/t51....</td>\n",
              "      <td>no</td>\n",
              "      <td>no</td>\n",
              "      <td>no</td>\n",
              "      <td>NaN</td>\n",
              "      <td>NaN</td>\n",
              "    </tr>\n",
              "    <tr>\n",
              "      <th>1921</th>\n",
              "      <td>33286901341</td>\n",
              "      <td>wellbishstore</td>\n",
              "      <td>Wellbish Store</td>\n",
              "      <td>188</td>\n",
              "      <td>2462740031272344745</td>\n",
              "      <td>CItaQKiH1yp</td>\n",
              "      <td>6</td>\n",
              "      <td>0</td>\n",
              "      <td>3.19</td>\n",
              "      <td>https://www.instagram.com/p/CItaQKiH1yp</td>\n",
              "      <td>Photo by Wellbish Store on December 12, 2020. ...</td>\n",
              "      <td>How sweet is your Heart? ❤️????\\n.\\n.\\n???? Fo...</td>\n",
              "      <td>NaN</td>\n",
              "      <td>NaN</td>\n",
              "      <td>NaN</td>\n",
              "      <td>1607801511</td>\n",
              "      <td>Pendant, Accessories, Accessory, Goggles</td>\n",
              "      <td>style_fashion</td>\n",
              "      <td>arts_entertainment</td>\n",
              "      <td>style_fashion</td>\n",
              "      <td>https://instagram.fhyd2-1.fna.fbcdn.net/v/t51....</td>\n",
              "      <td>no</td>\n",
              "      <td>no</td>\n",
              "      <td>no</td>\n",
              "      <td>NaN</td>\n",
              "      <td>NaN</td>\n",
              "    </tr>\n",
              "    <tr>\n",
              "      <th>1922</th>\n",
              "      <td>5633363536</td>\n",
              "      <td>amineblc</td>\n",
              "      <td>Mohamed Amine</td>\n",
              "      <td>1103</td>\n",
              "      <td>2127311663854320191</td>\n",
              "      <td>B2Fuq_ylPo_</td>\n",
              "      <td>46</td>\n",
              "      <td>4</td>\n",
              "      <td>4.53</td>\n",
              "      <td>https://www.instagram.com/p/B2Fuq_ylPo_</td>\n",
              "      <td>Photo by Mohamed Amine in Mawazine.</td>\n",
              "      <td>NaN</td>\n",
              "      <td>Mawazine</td>\n",
              "      <td>Ksar Hellal, Tunisia</td>\n",
              "      <td>Tunisia</td>\n",
              "      <td>1567815333</td>\n",
              "      <td>Clothing, Apparel, Person, Human, Sunglasses, ...</td>\n",
              "      <td>NaN</td>\n",
              "      <td>news</td>\n",
              "      <td>style_fashion</td>\n",
              "      <td>https://instagram.fjdf6-1.fna.fbcdn.net/v/t51....</td>\n",
              "      <td>no</td>\n",
              "      <td>no</td>\n",
              "      <td>no</td>\n",
              "      <td>NaN</td>\n",
              "      <td>NaN</td>\n",
              "    </tr>\n",
              "  </tbody>\n",
              "</table>\n",
              "</div>"
            ],
            "text/plain": [
              "           USERID                 USERNAME  ... VIDEO URL  VIDEO VIEW COUNT\n",
              "1                                           ...                            \n",
              "1918  36193140327  elastici_e_passamaneria  ...       NaN               NaN\n",
              "1919   8210198494        pamela.latorre.73  ...       NaN               NaN\n",
              "1920  36838177086              ilaria._004  ...       NaN               NaN\n",
              "1921  33286901341            wellbishstore  ...       NaN               NaN\n",
              "1922   5633363536                 amineblc  ...       NaN               NaN\n",
              "\n",
              "[5 rows x 26 columns]"
            ]
          },
          "metadata": {},
          "execution_count": 5
        }
      ]
    },
    {
      "cell_type": "markdown",
      "metadata": {
        "id": "N7B3k5XZkwUD"
      },
      "source": [
        "# EDA"
      ]
    },
    {
      "cell_type": "markdown",
      "metadata": {
        "id": "_T7gSotnk82F"
      },
      "source": [
        "## Data Cleaning"
      ]
    },
    {
      "cell_type": "markdown",
      "metadata": {
        "id": "88Rioz1FmEch"
      },
      "source": [
        "## Replacing Charecters  with Number"
      ]
    },
    {
      "cell_type": "markdown",
      "metadata": {
        "id": "WOQ4oH8sk_u9"
      },
      "source": [
        "## Feature Engneering"
      ]
    },
    {
      "cell_type": "markdown",
      "metadata": {
        "id": "txQpSmQulN2f"
      },
      "source": [
        "# Split the Data"
      ]
    },
    {
      "cell_type": "markdown",
      "metadata": {
        "id": "IEfHCIsglq68"
      },
      "source": [
        "# Mechine Learning  Model"
      ]
    },
    {
      "cell_type": "markdown",
      "metadata": {
        "id": "4Jr-ID4tld2X"
      },
      "source": [
        "## Appling First1 Model "
      ]
    },
    {
      "cell_type": "markdown",
      "metadata": {
        "id": "QtMtVA3Alo6P"
      },
      "source": [
        "## Validating the Model "
      ]
    },
    {
      "cell_type": "markdown",
      "metadata": {
        "id": "lQNwJ7JHlz9s"
      },
      "source": [
        "## Scoring "
      ]
    }
  ]
}