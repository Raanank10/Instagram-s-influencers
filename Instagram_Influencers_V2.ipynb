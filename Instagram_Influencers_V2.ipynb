{
  "nbformat": 4,
  "nbformat_minor": 0,
  "metadata": {
    "colab": {
      "name": "Instagram_Influencers_V2.ipynb",
      "provenance": [],
      "collapsed_sections": [],
      "toc_visible": true,
      "include_colab_link": true
    },
    "kernelspec": {
      "name": "python3",
      "display_name": "Python 3"
    },
    "language_info": {
      "name": "python"
    }
  },
  "cells": [
    {
      "cell_type": "markdown",
      "metadata": {
        "id": "view-in-github",
        "colab_type": "text"
      },
      "source": [
        "<a href=\"https://colab.research.google.com/github/Raanank10/Instagram-s-influencers/blob/raanan_Instagram_Influencers_V2/Instagram_Influencers_V2.ipynb\" target=\"_parent\"><img src=\"https://colab.research.google.com/assets/colab-badge.svg\" alt=\"Open In Colab\"/></a>"
      ]
    },
    {
      "cell_type": "markdown",
      "metadata": {
        "id": "wC1M-xaCmpct"
      },
      "source": [
        "**Instagram_influencers**"
      ]
    },
    {
      "cell_type": "markdown",
      "metadata": {
        "id": "CYHKFYQIsYs3"
      },
      "source": [
        "# Global Parameters"
      ]
    },
    {
      "cell_type": "code",
      "metadata": {
        "id": "1qeiaDu9mi-Y"
      },
      "source": [
        "path_part0 = 'https://raw.githubusercontent.com/Raanank10/Instagram-s-influencers/main/ai_posts_analysis_data.xlsx'\n",
        "fname = 'ai_posts_analysis_data.xlsx'\n",
        "\n",
        "path_part1= 'https://raw.githubusercontent.com/Raanank10/Instagram-s-influencers/main/project_part1.csv'\n",
        "path_part2= 'https://raw.githubusercontent.com/Raanank10/Instagram-s-influencers/main/project_part2.csv'\n",
        "\n",
        "train_size = 0.75\n",
        "rand_state = 345\n",
        "sigma = 3\n",
        "Min_followers = 500\n",
        "\n",
        "# Bining\n",
        "bin_labels=['Low','Medium','High', 'Very High','Extreme']"
      ],
      "execution_count": 127,
      "outputs": []
    },
    {
      "cell_type": "code",
      "metadata": {
        "id": "ZYEwuKbjPXpF",
        "colab": {
          "base_uri": "https://localhost:8080/"
        },
        "outputId": "15322e22-487c-46da-c18b-84bbb1d94641"
      },
      "source": [
        "# Run the code to install DataPrep\n",
        "!pip install dataprep"
      ],
      "execution_count": 128,
      "outputs": [
        {
          "output_type": "stream",
          "name": "stdout",
          "text": [
            "Requirement already satisfied: dataprep in /usr/local/lib/python3.7/dist-packages (0.4.0)\n",
            "Requirement already satisfied: metaphone<0.7,>=0.6 in /usr/local/lib/python3.7/dist-packages (from dataprep) (0.6)\n",
            "Requirement already satisfied: pydantic<2.0,>=1.6 in /usr/local/lib/python3.7/dist-packages (from dataprep) (1.8.2)\n",
            "Requirement already satisfied: regex<2021.0.0,>=2020.10.15 in /usr/local/lib/python3.7/dist-packages (from dataprep) (2020.11.13)\n",
            "Requirement already satisfied: python-stdnum<2.0,>=1.16 in /usr/local/lib/python3.7/dist-packages (from dataprep) (1.17)\n",
            "Requirement already satisfied: tqdm<5.0,>=4.48 in /usr/local/lib/python3.7/dist-packages (from dataprep) (4.62.3)\n",
            "Requirement already satisfied: pandas<2.0,>=1.1 in /usr/local/lib/python3.7/dist-packages (from dataprep) (1.1.5)\n",
            "Requirement already satisfied: scipy<2,>=1 in /usr/local/lib/python3.7/dist-packages (from dataprep) (1.4.1)\n",
            "Requirement already satisfied: nltk<4.0,>=3.5 in /usr/local/lib/python3.7/dist-packages (from dataprep) (3.6.3)\n",
            "Requirement already satisfied: bokeh<3,>=2 in /usr/local/lib/python3.7/dist-packages (from dataprep) (2.3.3)\n",
            "Requirement already satisfied: ipywidgets<8.0,>=7.5 in /usr/local/lib/python3.7/dist-packages (from dataprep) (7.6.5)\n",
            "Requirement already satisfied: bottleneck<2.0,>=1.3 in /usr/local/lib/python3.7/dist-packages (from dataprep) (1.3.2)\n",
            "Requirement already satisfied: usaddress<0.6.0,>=0.5.10 in /usr/local/lib/python3.7/dist-packages (from dataprep) (0.5.10)\n",
            "Requirement already satisfied: dask[array,dataframe,delayed]<3.0,>=2.25 in /usr/local/lib/python3.7/dist-packages (from dataprep) (2.30.0)\n",
            "Requirement already satisfied: varname<0.9.0,>=0.8.1 in /usr/local/lib/python3.7/dist-packages (from dataprep) (0.8.1)\n",
            "Requirement already satisfied: levenshtein<0.13.0,>=0.12.0 in /usr/local/lib/python3.7/dist-packages (from dataprep) (0.12.0)\n",
            "Requirement already satisfied: jsonpath-ng<2.0,>=1.5 in /usr/local/lib/python3.7/dist-packages (from dataprep) (1.5.3)\n",
            "Requirement already satisfied: numpy<2,>=1 in /usr/local/lib/python3.7/dist-packages (from dataprep) (1.19.5)\n",
            "Requirement already satisfied: aiohttp<4.0,>=3.6 in /usr/local/lib/python3.7/dist-packages (from dataprep) (3.7.4.post0)\n",
            "Requirement already satisfied: wordcloud<2.0,>=1.8 in /usr/local/lib/python3.7/dist-packages (from dataprep) (1.8.1)\n",
            "Requirement already satisfied: jinja2<3.0,>=2.11 in /usr/local/lib/python3.7/dist-packages (from dataprep) (2.11.3)\n",
            "Requirement already satisfied: async-timeout<4.0,>=3.0 in /usr/local/lib/python3.7/dist-packages (from aiohttp<4.0,>=3.6->dataprep) (3.0.1)\n",
            "Requirement already satisfied: yarl<2.0,>=1.0 in /usr/local/lib/python3.7/dist-packages (from aiohttp<4.0,>=3.6->dataprep) (1.7.0)\n",
            "Requirement already satisfied: multidict<7.0,>=4.5 in /usr/local/lib/python3.7/dist-packages (from aiohttp<4.0,>=3.6->dataprep) (5.2.0)\n",
            "Requirement already satisfied: typing-extensions>=3.6.5 in /usr/local/lib/python3.7/dist-packages (from aiohttp<4.0,>=3.6->dataprep) (3.7.4.3)\n",
            "Requirement already satisfied: chardet<5.0,>=2.0 in /usr/local/lib/python3.7/dist-packages (from aiohttp<4.0,>=3.6->dataprep) (3.0.4)\n",
            "Requirement already satisfied: attrs>=17.3.0 in /usr/local/lib/python3.7/dist-packages (from aiohttp<4.0,>=3.6->dataprep) (21.2.0)\n",
            "Requirement already satisfied: python-dateutil>=2.1 in /usr/local/lib/python3.7/dist-packages (from bokeh<3,>=2->dataprep) (2.8.2)\n",
            "Requirement already satisfied: tornado>=5.1 in /usr/local/lib/python3.7/dist-packages (from bokeh<3,>=2->dataprep) (5.1.1)\n",
            "Requirement already satisfied: packaging>=16.8 in /usr/local/lib/python3.7/dist-packages (from bokeh<3,>=2->dataprep) (21.0)\n",
            "Requirement already satisfied: PyYAML>=3.10 in /usr/local/lib/python3.7/dist-packages (from bokeh<3,>=2->dataprep) (3.13)\n",
            "Requirement already satisfied: pillow>=7.1.0 in /usr/local/lib/python3.7/dist-packages (from bokeh<3,>=2->dataprep) (7.1.2)\n",
            "Requirement already satisfied: partd>=0.3.10 in /usr/local/lib/python3.7/dist-packages (from dask[array,dataframe,delayed]<3.0,>=2.25->dataprep) (1.2.0)\n",
            "Requirement already satisfied: fsspec>=0.6.0 in /usr/local/lib/python3.7/dist-packages (from dask[array,dataframe,delayed]<3.0,>=2.25->dataprep) (2021.10.1)\n",
            "Requirement already satisfied: toolz>=0.8.2 in /usr/local/lib/python3.7/dist-packages (from dask[array,dataframe,delayed]<3.0,>=2.25->dataprep) (0.11.1)\n",
            "Requirement already satisfied: cloudpickle>=0.2.2 in /usr/local/lib/python3.7/dist-packages (from dask[array,dataframe,delayed]<3.0,>=2.25->dataprep) (1.3.0)\n",
            "Requirement already satisfied: widgetsnbextension~=3.5.0 in /usr/local/lib/python3.7/dist-packages (from ipywidgets<8.0,>=7.5->dataprep) (3.5.1)\n",
            "Requirement already satisfied: ipython-genutils~=0.2.0 in /usr/local/lib/python3.7/dist-packages (from ipywidgets<8.0,>=7.5->dataprep) (0.2.0)\n",
            "Requirement already satisfied: traitlets>=4.3.1 in /usr/local/lib/python3.7/dist-packages (from ipywidgets<8.0,>=7.5->dataprep) (5.1.0)\n",
            "Requirement already satisfied: ipython>=4.0.0 in /usr/local/lib/python3.7/dist-packages (from ipywidgets<8.0,>=7.5->dataprep) (5.5.0)\n",
            "Requirement already satisfied: ipykernel>=4.5.1 in /usr/local/lib/python3.7/dist-packages (from ipywidgets<8.0,>=7.5->dataprep) (4.10.1)\n",
            "Requirement already satisfied: jupyterlab-widgets>=1.0.0 in /usr/local/lib/python3.7/dist-packages (from ipywidgets<8.0,>=7.5->dataprep) (1.0.2)\n",
            "Requirement already satisfied: nbformat>=4.2.0 in /usr/local/lib/python3.7/dist-packages (from ipywidgets<8.0,>=7.5->dataprep) (5.1.3)\n",
            "Requirement already satisfied: jupyter-client in /usr/local/lib/python3.7/dist-packages (from ipykernel>=4.5.1->ipywidgets<8.0,>=7.5->dataprep) (5.3.5)\n",
            "Requirement already satisfied: pickleshare in /usr/local/lib/python3.7/dist-packages (from ipython>=4.0.0->ipywidgets<8.0,>=7.5->dataprep) (0.7.5)\n",
            "Requirement already satisfied: prompt-toolkit<2.0.0,>=1.0.4 in /usr/local/lib/python3.7/dist-packages (from ipython>=4.0.0->ipywidgets<8.0,>=7.5->dataprep) (1.0.18)\n",
            "Requirement already satisfied: pygments in /usr/local/lib/python3.7/dist-packages (from ipython>=4.0.0->ipywidgets<8.0,>=7.5->dataprep) (2.6.1)\n",
            "Requirement already satisfied: pexpect in /usr/local/lib/python3.7/dist-packages (from ipython>=4.0.0->ipywidgets<8.0,>=7.5->dataprep) (4.8.0)\n",
            "Requirement already satisfied: simplegeneric>0.8 in /usr/local/lib/python3.7/dist-packages (from ipython>=4.0.0->ipywidgets<8.0,>=7.5->dataprep) (0.8.1)\n",
            "Requirement already satisfied: setuptools>=18.5 in /usr/local/lib/python3.7/dist-packages (from ipython>=4.0.0->ipywidgets<8.0,>=7.5->dataprep) (57.4.0)\n",
            "Requirement already satisfied: decorator in /usr/local/lib/python3.7/dist-packages (from ipython>=4.0.0->ipywidgets<8.0,>=7.5->dataprep) (4.4.2)\n",
            "Requirement already satisfied: MarkupSafe>=0.23 in /usr/local/lib/python3.7/dist-packages (from jinja2<3.0,>=2.11->dataprep) (2.0.1)\n",
            "Requirement already satisfied: ply in /usr/local/lib/python3.7/dist-packages (from jsonpath-ng<2.0,>=1.5->dataprep) (3.11)\n",
            "Requirement already satisfied: six in /usr/local/lib/python3.7/dist-packages (from jsonpath-ng<2.0,>=1.5->dataprep) (1.15.0)\n",
            "Requirement already satisfied: jupyter-core in /usr/local/lib/python3.7/dist-packages (from nbformat>=4.2.0->ipywidgets<8.0,>=7.5->dataprep) (4.8.1)\n",
            "Requirement already satisfied: jsonschema!=2.5.0,>=2.4 in /usr/local/lib/python3.7/dist-packages (from nbformat>=4.2.0->ipywidgets<8.0,>=7.5->dataprep) (2.6.0)\n",
            "Requirement already satisfied: joblib in /usr/local/lib/python3.7/dist-packages (from nltk<4.0,>=3.5->dataprep) (1.0.1)\n",
            "Requirement already satisfied: click in /usr/local/lib/python3.7/dist-packages (from nltk<4.0,>=3.5->dataprep) (7.1.2)\n",
            "Requirement already satisfied: pyparsing>=2.0.2 in /usr/local/lib/python3.7/dist-packages (from packaging>=16.8->bokeh<3,>=2->dataprep) (2.4.7)\n",
            "Requirement already satisfied: pytz>=2017.2 in /usr/local/lib/python3.7/dist-packages (from pandas<2.0,>=1.1->dataprep) (2018.9)\n",
            "Requirement already satisfied: locket in /usr/local/lib/python3.7/dist-packages (from partd>=0.3.10->dask[array,dataframe,delayed]<3.0,>=2.25->dataprep) (0.2.1)\n",
            "Requirement already satisfied: wcwidth in /usr/local/lib/python3.7/dist-packages (from prompt-toolkit<2.0.0,>=1.0.4->ipython>=4.0.0->ipywidgets<8.0,>=7.5->dataprep) (0.2.5)\n",
            "Requirement already satisfied: python-crfsuite>=0.7 in /usr/local/lib/python3.7/dist-packages (from usaddress<0.6.0,>=0.5.10->dataprep) (0.9.7)\n",
            "Requirement already satisfied: future>=0.14 in /usr/local/lib/python3.7/dist-packages (from usaddress<0.6.0,>=0.5.10->dataprep) (0.16.0)\n",
            "Requirement already satisfied: probableparsing in /usr/local/lib/python3.7/dist-packages (from usaddress<0.6.0,>=0.5.10->dataprep) (0.0.1)\n",
            "Requirement already satisfied: pure_eval<1.0.0 in /usr/local/lib/python3.7/dist-packages (from varname<0.9.0,>=0.8.1->dataprep) (0.2.1)\n",
            "Requirement already satisfied: asttokens<3.0.0,>=2.0.0 in /usr/local/lib/python3.7/dist-packages (from varname<0.9.0,>=0.8.1->dataprep) (2.0.5)\n",
            "Requirement already satisfied: executing in /usr/local/lib/python3.7/dist-packages (from varname<0.9.0,>=0.8.1->dataprep) (0.8.2)\n",
            "Requirement already satisfied: notebook>=4.4.1 in /usr/local/lib/python3.7/dist-packages (from widgetsnbextension~=3.5.0->ipywidgets<8.0,>=7.5->dataprep) (5.3.1)\n",
            "Requirement already satisfied: terminado>=0.8.1 in /usr/local/lib/python3.7/dist-packages (from notebook>=4.4.1->widgetsnbextension~=3.5.0->ipywidgets<8.0,>=7.5->dataprep) (0.12.1)\n",
            "Requirement already satisfied: nbconvert in /usr/local/lib/python3.7/dist-packages (from notebook>=4.4.1->widgetsnbextension~=3.5.0->ipywidgets<8.0,>=7.5->dataprep) (5.6.1)\n",
            "Requirement already satisfied: Send2Trash in /usr/local/lib/python3.7/dist-packages (from notebook>=4.4.1->widgetsnbextension~=3.5.0->ipywidgets<8.0,>=7.5->dataprep) (1.8.0)\n",
            "Requirement already satisfied: pyzmq>=13 in /usr/local/lib/python3.7/dist-packages (from jupyter-client->ipykernel>=4.5.1->ipywidgets<8.0,>=7.5->dataprep) (22.3.0)\n",
            "Requirement already satisfied: ptyprocess in /usr/local/lib/python3.7/dist-packages (from terminado>=0.8.1->notebook>=4.4.1->widgetsnbextension~=3.5.0->ipywidgets<8.0,>=7.5->dataprep) (0.7.0)\n",
            "Requirement already satisfied: matplotlib in /usr/local/lib/python3.7/dist-packages (from wordcloud<2.0,>=1.8->dataprep) (3.2.2)\n",
            "Requirement already satisfied: idna>=2.0 in /usr/local/lib/python3.7/dist-packages (from yarl<2.0,>=1.0->aiohttp<4.0,>=3.6->dataprep) (2.10)\n",
            "Requirement already satisfied: kiwisolver>=1.0.1 in /usr/local/lib/python3.7/dist-packages (from matplotlib->wordcloud<2.0,>=1.8->dataprep) (1.3.2)\n",
            "Requirement already satisfied: cycler>=0.10 in /usr/local/lib/python3.7/dist-packages (from matplotlib->wordcloud<2.0,>=1.8->dataprep) (0.10.0)\n",
            "Requirement already satisfied: bleach in /usr/local/lib/python3.7/dist-packages (from nbconvert->notebook>=4.4.1->widgetsnbextension~=3.5.0->ipywidgets<8.0,>=7.5->dataprep) (4.1.0)\n",
            "Requirement already satisfied: mistune<2,>=0.8.1 in /usr/local/lib/python3.7/dist-packages (from nbconvert->notebook>=4.4.1->widgetsnbextension~=3.5.0->ipywidgets<8.0,>=7.5->dataprep) (0.8.4)\n",
            "Requirement already satisfied: pandocfilters>=1.4.1 in /usr/local/lib/python3.7/dist-packages (from nbconvert->notebook>=4.4.1->widgetsnbextension~=3.5.0->ipywidgets<8.0,>=7.5->dataprep) (1.5.0)\n",
            "Requirement already satisfied: testpath in /usr/local/lib/python3.7/dist-packages (from nbconvert->notebook>=4.4.1->widgetsnbextension~=3.5.0->ipywidgets<8.0,>=7.5->dataprep) (0.5.0)\n",
            "Requirement already satisfied: defusedxml in /usr/local/lib/python3.7/dist-packages (from nbconvert->notebook>=4.4.1->widgetsnbextension~=3.5.0->ipywidgets<8.0,>=7.5->dataprep) (0.7.1)\n",
            "Requirement already satisfied: entrypoints>=0.2.2 in /usr/local/lib/python3.7/dist-packages (from nbconvert->notebook>=4.4.1->widgetsnbextension~=3.5.0->ipywidgets<8.0,>=7.5->dataprep) (0.3)\n",
            "Requirement already satisfied: webencodings in /usr/local/lib/python3.7/dist-packages (from bleach->nbconvert->notebook>=4.4.1->widgetsnbextension~=3.5.0->ipywidgets<8.0,>=7.5->dataprep) (0.5.1)\n"
          ]
        }
      ]
    },
    {
      "cell_type": "code",
      "metadata": {
        "id": "b2moKRJvjzUv"
      },
      "source": [
        "# General Tools\n",
        "import numpy as np\n",
        "import scipy as sp\n",
        "import pandas as pd\n",
        "import missingno as msno\n",
        "import xgboost as xgb\n",
        "import datetime\n",
        "\n",
        "# SK Learn\n",
        "from sklearn.impute import SimpleImputer\n",
        "from sklearn.tree import DecisionTreeClassifier\n",
        "from sklearn.neighbors import KNeighborsClassifier\n",
        "from sklearn.ensemble import RandomForestRegressor\n",
        "from sklearn import neighbors\n",
        "from sklearn.linear_model import LogisticRegression\n",
        "from sklearn import preprocessing\n",
        "from sklearn.ensemble import RandomForestClassifier\n",
        "from sklearn.preprocessing import MaxAbsScaler, MinMaxScaler, StandardScaler\n",
        "from sklearn.metrics import confusion_matrix, accuracy_score\n",
        "from sklearn.metrics import precision_score, recall_score, f1_score\n",
        "from sklearn.metrics import accuracy_score , confusion_matrix, roc_auc_score, roc_curve\n",
        "from sklearn.metrics import log_loss\n",
        "from sklearn.metrics import classification_report # elad 20210708\n",
        "from sklearn.neighbors import KNeighborsRegressor\n",
        "from sklearn.model_selection import train_test_split, GridSearchCV\n",
        "from sklearn.feature_selection import SelectKBest, chi2, f_classif, mutual_info_classif\n",
        "from sklearn.model_selection import cross_val_score\n",
        "from sklearn.model_selection import StratifiedShuffleSplit\n",
        "\n",
        "from sklearn.preprocessing import OrdinalEncoder # elad 20210911\n",
        "\n",
        "# Trees Visualization\n",
        "import pydot\n",
        "from sklearn.tree import export_graphviz\n",
        "from sklearn.externals.six import StringIO\n",
        "\n",
        "# For scoring\n",
        "from sklearn.metrics import mean_squared_log_error as msle\n",
        "from sklearn.metrics import mean_squared_error as mse\n",
        "from sklearn.metrics import r2_score\n",
        "\n",
        "# Misc\n",
        "import warnings\n",
        "from sys import modules\n",
        "from time import time\n",
        "from platform import python_version\n",
        "\n",
        "# Visualization\n",
        "import matplotlib.pyplot as plt\n",
        "import plotly.express as px\n",
        "import seaborn as sns\n",
        "import plotly.graph_objects as go\n",
        "\n",
        "# IPython\n",
        "from IPython.display import Image, display\n",
        "\n",
        "# Confuguration\n",
        "warnings.filterwarnings('ignore')\n",
        "%matplotlib inline\n",
        "\n",
        "# EDA prep\n",
        "from dataprep.eda import plot, plot_correlation, plot_missing, create_report\n"
      ],
      "execution_count": 129,
      "outputs": []
    },
    {
      "cell_type": "markdown",
      "metadata": {
        "id": "l_vGyYsNquFb"
      },
      "source": [
        "# Get the Data"
      ]
    },
    {
      "cell_type": "markdown",
      "metadata": {
        "id": "9qH-6EQ6jVsI"
      },
      "source": [
        "Concate the 3 files"
      ]
    },
    {
      "cell_type": "code",
      "metadata": {
        "id": "vab55CBvq5ew",
        "colab": {
          "base_uri": "https://localhost:8080/"
        },
        "outputId": "95ddcb15-b8d6-4774-c881-21bb2785643a"
      },
      "source": [
        "df_part0 = pd.read_csv(path_part0, index_col=0)\n",
        "df_part1 = pd.read_csv(path_part1, index_col=0)\n",
        "df_part2 = pd.read_csv(path_part2, index_col=0)\n",
        "df = pd.concat([df_part0, df_part1, df_part2])\n",
        "print(f'data len After concat all 3 parts = {len(df)}')"
      ],
      "execution_count": 130,
      "outputs": [
        {
          "output_type": "stream",
          "name": "stdout",
          "text": [
            "data len After concat all 3 parts = 40849\n"
          ]
        }
      ]
    },
    {
      "cell_type": "code",
      "metadata": {
        "id": "pDfvlkNpq9FF",
        "colab": {
          "base_uri": "https://localhost:8080/"
        },
        "outputId": "f7b60ee7-2fde-4d50-ddf0-ef4ee0755994"
      },
      "source": [
        "df.info()"
      ],
      "execution_count": 131,
      "outputs": [
        {
          "output_type": "stream",
          "name": "stdout",
          "text": [
            "<class 'pandas.core.frame.DataFrame'>\n",
            "Int64Index: 40849 entries, 1918 to 37857\n",
            "Data columns (total 26 columns):\n",
            " #   Column                          Non-Null Count  Dtype  \n",
            "---  ------                          --------------  -----  \n",
            " 0   USERID                          40849 non-null  int64  \n",
            " 1   USERNAME                        40849 non-null  object \n",
            " 2   FULLNAME                        39489 non-null  object \n",
            " 3   FOLLOWER                        40849 non-null  int64  \n",
            " 4   POST ID                         40849 non-null  float64\n",
            " 5   SHORTCODE                       40849 non-null  object \n",
            " 6   LIKES                           40849 non-null  int64  \n",
            " 7   COMMENTS                        40849 non-null  int64  \n",
            " 8   ENGAGEMENT                      40849 non-null  float64\n",
            " 9   URL                             40849 non-null  object \n",
            " 10  ACCESSIBILITY CAPTION           33725 non-null  object \n",
            " 11  CAPTION                         34786 non-null  object \n",
            " 12  LOCATION                        11595 non-null  object \n",
            " 13  CITY                            10799 non-null  object \n",
            " 14  COUNTRY                         9394 non-null   object \n",
            " 15  TIME                            40849 non-null  int64  \n",
            " 16  IMAGE LABELS                    40808 non-null  object \n",
            " 17  CAPTION INTEREST                34786 non-null  object \n",
            " 18  ACCESSIBILITY CAPTION INTEREST  33725 non-null  object \n",
            " 19  IMAGE LABEL INTEREST            40808 non-null  object \n",
            " 20  IMAGE URL                       40849 non-null  object \n",
            " 21  COMMENT DISABLED                40849 non-null  object \n",
            " 22  IS VIDEO                        40849 non-null  object \n",
            " 23  HAS AUDIO                       40849 non-null  object \n",
            " 24  VIDEO URL                       6655 non-null   object \n",
            " 25  VIDEO VIEW COUNT                6655 non-null   float64\n",
            "dtypes: float64(3), int64(5), object(18)\n",
            "memory usage: 8.4+ MB\n"
          ]
        }
      ]
    },
    {
      "cell_type": "markdown",
      "metadata": {
        "id": "13CwMMTKvOmw"
      },
      "source": [
        "# Data processing"
      ]
    },
    {
      "cell_type": "code",
      "metadata": {
        "id": "Ee8EvVesvoSL",
        "colab": {
          "base_uri": "https://localhost:8080/"
        },
        "outputId": "895f8785-1a05-43a3-a2d1-37259032cb8d"
      },
      "source": [
        "print(f'Number of Duplicate Rows = {len(df[df.index.duplicated()])}')\n",
        "df = df[~df.index.duplicated()]"
      ],
      "execution_count": 132,
      "outputs": [
        {
          "output_type": "stream",
          "name": "stdout",
          "text": [
            "Number of Duplicate Rows = 4792\n"
          ]
        }
      ]
    },
    {
      "cell_type": "code",
      "metadata": {
        "colab": {
          "base_uri": "https://localhost:8080/"
        },
        "id": "2F94nN7WBGvm",
        "outputId": "004a1d24-135d-4476-bbc9-3d6bb71bfae6"
      },
      "source": [
        "print(f'Number of row of influencers with less than \\\n",
        "{Min_followers} followers = {len(df[df.FOLLOWER < Min_followers])}')\n",
        "\n",
        "print(f'Number of row of influencers with more than \\\n",
        "{Min_followers} followers = {len(df[df.FOLLOWER > Min_followers])}')\n",
        "\n",
        "df = df[df.FOLLOWER >= Min_followers]\n"
      ],
      "execution_count": 133,
      "outputs": [
        {
          "output_type": "stream",
          "name": "stdout",
          "text": [
            "Number of row of influencers with less than 500 followers = 13934\n",
            "Number of row of influencers with more than 500 followers = 22063\n"
          ]
        }
      ]
    },
    {
      "cell_type": "markdown",
      "metadata": {
        "id": "SUKlWtbg9vCi"
      },
      "source": [
        "## Remove Unnecessary Columns"
      ]
    },
    {
      "cell_type": "markdown",
      "metadata": {
        "id": "q-mjB2H_8dU4"
      },
      "source": [
        "Remove unnecessary columns from Dataframe, should be done in X"
      ]
    },
    {
      "cell_type": "code",
      "metadata": {
        "id": "kIx74Vtr8cuM"
      },
      "source": [
        "df.drop(['POST ID','VIDEO URL','SHORTCODE','IMAGE URL','FULLNAME','USERID',\\\n",
        "         'URL','VIDEO VIEW COUNT','URL'], inplace=True, axis=1)"
      ],
      "execution_count": 134,
      "outputs": []
    },
    {
      "cell_type": "markdown",
      "metadata": {
        "id": "7Zd37gjq9XGg"
      },
      "source": [
        "Remove column that all values are unique:"
      ]
    },
    {
      "cell_type": "code",
      "metadata": {
        "id": "nlyvnhIv0iVu"
      },
      "source": [
        "for col in df.columns:\n",
        "    if len(df[col].unique()) == len(df):\n",
        "        print(col)\n",
        "        #df.drop(col,inplace=True,axis=1)"
      ],
      "execution_count": 135,
      "outputs": []
    },
    {
      "cell_type": "markdown",
      "metadata": {
        "id": "L8If9wOR0zGJ"
      },
      "source": [
        "df_original is holding the original data without any changes but droping unused columns and duplicates  "
      ]
    },
    {
      "cell_type": "code",
      "metadata": {
        "id": "Y5dx6nHq0xdN"
      },
      "source": [
        "df_original = df.copy()"
      ],
      "execution_count": 136,
      "outputs": []
    },
    {
      "cell_type": "code",
      "metadata": {
        "id": "C5YI6mDgFCSr"
      },
      "source": [
        "df.columns = df.columns.str.replace(' ', '_')"
      ],
      "execution_count": 137,
      "outputs": []
    },
    {
      "cell_type": "code",
      "metadata": {
        "colab": {
          "base_uri": "https://localhost:8080/"
        },
        "id": "LqyXS1GUx8dY",
        "outputId": "08c5dccd-907c-4b5b-f272-5ed1063ff3a1"
      },
      "source": [
        "df = df[df['ENGAGEMENT'].notna()]\n",
        "df = df[df['LIKES'].notna()]\n",
        "df = df[df['COMMENTS'].notna()]\n",
        "print(f'After remove lines with no data on ENGAGEMENT, LIKES, COMMENTS = {len(df)}')"
      ],
      "execution_count": 138,
      "outputs": [
        {
          "output_type": "stream",
          "name": "stdout",
          "text": [
            "After remove lines with no data on ENGAGEMENT, LIKES, COMMENTS = 22123\n"
          ]
        }
      ]
    },
    {
      "cell_type": "markdown",
      "metadata": {
        "id": "A7NwVEEM85CI"
      },
      "source": [
        "# Feature Engineering"
      ]
    },
    {
      "cell_type": "markdown",
      "metadata": {
        "id": "Ed1bun9j9E7w"
      },
      "source": [
        "Create Log columns (likes, comments and engagement) for prediction "
      ]
    },
    {
      "cell_type": "code",
      "metadata": {
        "id": "NfQawIlwziiZ"
      },
      "source": [
        "df['log_ENGAGEMENT'] = np.log1p(df.ENGAGEMENT)\n",
        "df['log_LIKES'] = np.log1p(df.LIKES)\n",
        "df['log_COMMENTS'] = np.log1p(df.COMMENTS)"
      ],
      "execution_count": 139,
      "outputs": []
    },
    {
      "cell_type": "markdown",
      "metadata": {
        "id": "lvac2AKI1Fpe"
      },
      "source": [
        "Process Image Labels Column to dummies columns"
      ]
    },
    {
      "cell_type": "code",
      "metadata": {
        "id": "Q60yTkuY1In6"
      },
      "source": [
        "df.IMAGE_LABELS = df.IMAGE_LABELS.str.replace(' ', '')\n",
        "df['IMAGE_LABELS'] = df['IMAGE_LABELS'].str.upper()\n",
        "df_image_labels_dummies = df['IMAGE_LABELS'].str.get_dummies(sep=',')"
      ],
      "execution_count": 140,
      "outputs": []
    },
    {
      "cell_type": "code",
      "metadata": {
        "id": "tWX7-jgB1Xc5"
      },
      "source": [
        "df_image_labels_dummies_style = df_image_labels_dummies[['HUMAN','FOOTWEAR','FACE','FEMALE','SMILE','SWIMWEAR','FINGER',\n",
        "                                                         'SLEEVE','EVENINGDRESS','HEAD','JEWELRY','WOMAN','TEXT','SKIN',\n",
        "                                                         'APPAREL','HAT','PHOTO','FASHION','POSTER','UNDERWEAR']]"
      ],
      "execution_count": 141,
      "outputs": []
    },
    {
      "cell_type": "code",
      "metadata": {
        "id": "yZ6SlBGS1eRG"
      },
      "source": [
        "#df_with_dummies \n",
        "df = pd.concat([df, df_image_labels_dummies_style], axis=1)"
      ],
      "execution_count": 142,
      "outputs": []
    },
    {
      "cell_type": "markdown",
      "metadata": {
        "id": "6Y1PypVP28bw"
      },
      "source": [
        "Create Mean columns for likes, comments, engagement"
      ]
    },
    {
      "cell_type": "code",
      "metadata": {
        "id": "cnne1qUJ274s"
      },
      "source": [
        "mean_likes = df.groupby('USERNAME')['LIKES'].mean()\n",
        "mean_comments = df.groupby('USERNAME')['COMMENTS'].mean()\n",
        "mean_engagement = df.groupby('USERNAME')['ENGAGEMENT'].mean()\n",
        "\n",
        "df = df.set_index(['USERNAME']) # make the same index here\n",
        "df_original = df_original.set_index(['USERNAME']) # make the same index here\n",
        "\n",
        "df['mean_likes'] = mean_likes\n",
        "df_original['mean_likes'] = mean_likes\n",
        "\n",
        "df['mean_comments'] = mean_comments\n",
        "df_original['mean_comments'] = mean_comments\n",
        "\n",
        "df = df.reset_index()\n",
        "df_original = df_original.reset_index()"
      ],
      "execution_count": 143,
      "outputs": []
    },
    {
      "cell_type": "markdown",
      "metadata": {
        "id": "3SceKjrK63Qc"
      },
      "source": [
        "Create Date and Time Features from DATETIME unix time column"
      ]
    },
    {
      "cell_type": "code",
      "metadata": {
        "id": "7Z7CtfaH63u5"
      },
      "source": [
        "df['DATETIME'] = pd.to_datetime(df['TIME'],unit='s')\n",
        "df['YEAR'] = pd.DatetimeIndex(df['DATETIME']).year\n",
        "df['MONTH'] = pd.DatetimeIndex(df['DATETIME']).month\n",
        "df['DAY'] = pd.DatetimeIndex(df['DATETIME']).day\n",
        "df['DAYOFWEEK'] = pd.DatetimeIndex(df['DATETIME']).dayofweek\n",
        "df['HOUR'] = pd.DatetimeIndex(df['DATETIME']).hour\n",
        "df['MINUTE'] = pd.DatetimeIndex(df['DATETIME']).minute"
      ],
      "execution_count": 144,
      "outputs": []
    },
    {
      "cell_type": "code",
      "metadata": {
        "colab": {
          "base_uri": "https://localhost:8080/",
          "height": 303
        },
        "id": "dldFK7a5Ztej",
        "outputId": "182fcd20-2844-4208-f372-83304e322b24"
      },
      "source": [
        "X.drop(['USERNAME','TIME'], axis=1, inplace=True)"
      ],
      "execution_count": 145,
      "outputs": [
        {
          "output_type": "error",
          "ename": "KeyError",
          "evalue": "ignored",
          "traceback": [
            "\u001b[0;31m---------------------------------------------------------------------------\u001b[0m",
            "\u001b[0;31mKeyError\u001b[0m                                  Traceback (most recent call last)",
            "\u001b[0;32m<ipython-input-145-9a6f892abae5>\u001b[0m in \u001b[0;36m<module>\u001b[0;34m()\u001b[0m\n\u001b[0;32m----> 1\u001b[0;31m \u001b[0mX\u001b[0m\u001b[0;34m.\u001b[0m\u001b[0mdrop\u001b[0m\u001b[0;34m(\u001b[0m\u001b[0;34m[\u001b[0m\u001b[0;34m'USERNAME'\u001b[0m\u001b[0;34m,\u001b[0m\u001b[0;34m'TIME'\u001b[0m\u001b[0;34m]\u001b[0m\u001b[0;34m,\u001b[0m \u001b[0maxis\u001b[0m\u001b[0;34m=\u001b[0m\u001b[0;36m1\u001b[0m\u001b[0;34m,\u001b[0m \u001b[0minplace\u001b[0m\u001b[0;34m=\u001b[0m\u001b[0;32mTrue\u001b[0m\u001b[0;34m)\u001b[0m\u001b[0;34m\u001b[0m\u001b[0;34m\u001b[0m\u001b[0m\n\u001b[0m",
            "\u001b[0;32m/usr/local/lib/python3.7/dist-packages/pandas/core/frame.py\u001b[0m in \u001b[0;36mdrop\u001b[0;34m(self, labels, axis, index, columns, level, inplace, errors)\u001b[0m\n\u001b[1;32m   4172\u001b[0m             \u001b[0mlevel\u001b[0m\u001b[0;34m=\u001b[0m\u001b[0mlevel\u001b[0m\u001b[0;34m,\u001b[0m\u001b[0;34m\u001b[0m\u001b[0;34m\u001b[0m\u001b[0m\n\u001b[1;32m   4173\u001b[0m             \u001b[0minplace\u001b[0m\u001b[0;34m=\u001b[0m\u001b[0minplace\u001b[0m\u001b[0;34m,\u001b[0m\u001b[0;34m\u001b[0m\u001b[0;34m\u001b[0m\u001b[0m\n\u001b[0;32m-> 4174\u001b[0;31m             \u001b[0merrors\u001b[0m\u001b[0;34m=\u001b[0m\u001b[0merrors\u001b[0m\u001b[0;34m,\u001b[0m\u001b[0;34m\u001b[0m\u001b[0;34m\u001b[0m\u001b[0m\n\u001b[0m\u001b[1;32m   4175\u001b[0m         )\n\u001b[1;32m   4176\u001b[0m \u001b[0;34m\u001b[0m\u001b[0m\n",
            "\u001b[0;32m/usr/local/lib/python3.7/dist-packages/pandas/core/generic.py\u001b[0m in \u001b[0;36mdrop\u001b[0;34m(self, labels, axis, index, columns, level, inplace, errors)\u001b[0m\n\u001b[1;32m   3887\u001b[0m         \u001b[0;32mfor\u001b[0m \u001b[0maxis\u001b[0m\u001b[0;34m,\u001b[0m \u001b[0mlabels\u001b[0m \u001b[0;32min\u001b[0m \u001b[0maxes\u001b[0m\u001b[0;34m.\u001b[0m\u001b[0mitems\u001b[0m\u001b[0;34m(\u001b[0m\u001b[0;34m)\u001b[0m\u001b[0;34m:\u001b[0m\u001b[0;34m\u001b[0m\u001b[0;34m\u001b[0m\u001b[0m\n\u001b[1;32m   3888\u001b[0m             \u001b[0;32mif\u001b[0m \u001b[0mlabels\u001b[0m \u001b[0;32mis\u001b[0m \u001b[0;32mnot\u001b[0m \u001b[0;32mNone\u001b[0m\u001b[0;34m:\u001b[0m\u001b[0;34m\u001b[0m\u001b[0;34m\u001b[0m\u001b[0m\n\u001b[0;32m-> 3889\u001b[0;31m                 \u001b[0mobj\u001b[0m \u001b[0;34m=\u001b[0m \u001b[0mobj\u001b[0m\u001b[0;34m.\u001b[0m\u001b[0m_drop_axis\u001b[0m\u001b[0;34m(\u001b[0m\u001b[0mlabels\u001b[0m\u001b[0;34m,\u001b[0m \u001b[0maxis\u001b[0m\u001b[0;34m,\u001b[0m \u001b[0mlevel\u001b[0m\u001b[0;34m=\u001b[0m\u001b[0mlevel\u001b[0m\u001b[0;34m,\u001b[0m \u001b[0merrors\u001b[0m\u001b[0;34m=\u001b[0m\u001b[0merrors\u001b[0m\u001b[0;34m)\u001b[0m\u001b[0;34m\u001b[0m\u001b[0;34m\u001b[0m\u001b[0m\n\u001b[0m\u001b[1;32m   3890\u001b[0m \u001b[0;34m\u001b[0m\u001b[0m\n\u001b[1;32m   3891\u001b[0m         \u001b[0;32mif\u001b[0m \u001b[0minplace\u001b[0m\u001b[0;34m:\u001b[0m\u001b[0;34m\u001b[0m\u001b[0;34m\u001b[0m\u001b[0m\n",
            "\u001b[0;32m/usr/local/lib/python3.7/dist-packages/pandas/core/generic.py\u001b[0m in \u001b[0;36m_drop_axis\u001b[0;34m(self, labels, axis, level, errors)\u001b[0m\n\u001b[1;32m   3921\u001b[0m                 \u001b[0mnew_axis\u001b[0m \u001b[0;34m=\u001b[0m \u001b[0maxis\u001b[0m\u001b[0;34m.\u001b[0m\u001b[0mdrop\u001b[0m\u001b[0;34m(\u001b[0m\u001b[0mlabels\u001b[0m\u001b[0;34m,\u001b[0m \u001b[0mlevel\u001b[0m\u001b[0;34m=\u001b[0m\u001b[0mlevel\u001b[0m\u001b[0;34m,\u001b[0m \u001b[0merrors\u001b[0m\u001b[0;34m=\u001b[0m\u001b[0merrors\u001b[0m\u001b[0;34m)\u001b[0m\u001b[0;34m\u001b[0m\u001b[0;34m\u001b[0m\u001b[0m\n\u001b[1;32m   3922\u001b[0m             \u001b[0;32melse\u001b[0m\u001b[0;34m:\u001b[0m\u001b[0;34m\u001b[0m\u001b[0;34m\u001b[0m\u001b[0m\n\u001b[0;32m-> 3923\u001b[0;31m                 \u001b[0mnew_axis\u001b[0m \u001b[0;34m=\u001b[0m \u001b[0maxis\u001b[0m\u001b[0;34m.\u001b[0m\u001b[0mdrop\u001b[0m\u001b[0;34m(\u001b[0m\u001b[0mlabels\u001b[0m\u001b[0;34m,\u001b[0m \u001b[0merrors\u001b[0m\u001b[0;34m=\u001b[0m\u001b[0merrors\u001b[0m\u001b[0;34m)\u001b[0m\u001b[0;34m\u001b[0m\u001b[0;34m\u001b[0m\u001b[0m\n\u001b[0m\u001b[1;32m   3924\u001b[0m             \u001b[0mresult\u001b[0m \u001b[0;34m=\u001b[0m \u001b[0mself\u001b[0m\u001b[0;34m.\u001b[0m\u001b[0mreindex\u001b[0m\u001b[0;34m(\u001b[0m\u001b[0;34m**\u001b[0m\u001b[0;34m{\u001b[0m\u001b[0maxis_name\u001b[0m\u001b[0;34m:\u001b[0m \u001b[0mnew_axis\u001b[0m\u001b[0;34m}\u001b[0m\u001b[0;34m)\u001b[0m\u001b[0;34m\u001b[0m\u001b[0;34m\u001b[0m\u001b[0m\n\u001b[1;32m   3925\u001b[0m \u001b[0;34m\u001b[0m\u001b[0m\n",
            "\u001b[0;32m/usr/local/lib/python3.7/dist-packages/pandas/core/indexes/base.py\u001b[0m in \u001b[0;36mdrop\u001b[0;34m(self, labels, errors)\u001b[0m\n\u001b[1;32m   5285\u001b[0m         \u001b[0;32mif\u001b[0m \u001b[0mmask\u001b[0m\u001b[0;34m.\u001b[0m\u001b[0many\u001b[0m\u001b[0;34m(\u001b[0m\u001b[0;34m)\u001b[0m\u001b[0;34m:\u001b[0m\u001b[0;34m\u001b[0m\u001b[0;34m\u001b[0m\u001b[0m\n\u001b[1;32m   5286\u001b[0m             \u001b[0;32mif\u001b[0m \u001b[0merrors\u001b[0m \u001b[0;34m!=\u001b[0m \u001b[0;34m\"ignore\"\u001b[0m\u001b[0;34m:\u001b[0m\u001b[0;34m\u001b[0m\u001b[0;34m\u001b[0m\u001b[0m\n\u001b[0;32m-> 5287\u001b[0;31m                 \u001b[0;32mraise\u001b[0m \u001b[0mKeyError\u001b[0m\u001b[0;34m(\u001b[0m\u001b[0;34mf\"{labels[mask]} not found in axis\"\u001b[0m\u001b[0;34m)\u001b[0m\u001b[0;34m\u001b[0m\u001b[0;34m\u001b[0m\u001b[0m\n\u001b[0m\u001b[1;32m   5288\u001b[0m             \u001b[0mindexer\u001b[0m \u001b[0;34m=\u001b[0m \u001b[0mindexer\u001b[0m\u001b[0;34m[\u001b[0m\u001b[0;34m~\u001b[0m\u001b[0mmask\u001b[0m\u001b[0;34m]\u001b[0m\u001b[0;34m\u001b[0m\u001b[0;34m\u001b[0m\u001b[0m\n\u001b[1;32m   5289\u001b[0m         \u001b[0;32mreturn\u001b[0m \u001b[0mself\u001b[0m\u001b[0;34m.\u001b[0m\u001b[0mdelete\u001b[0m\u001b[0;34m(\u001b[0m\u001b[0mindexer\u001b[0m\u001b[0;34m)\u001b[0m\u001b[0;34m\u001b[0m\u001b[0;34m\u001b[0m\u001b[0m\n",
            "\u001b[0;31mKeyError\u001b[0m: \"['USERNAME' 'TIME'] not found in axis\""
          ]
        }
      ]
    },
    {
      "cell_type": "code",
      "metadata": {
        "id": "vChC3aW19uP4"
      },
      "source": [
        "df['COMMENT_DISABLED'] = df['COMMENT_DISABLED'].map(dict(yes=1, no=0))\n",
        "df['IS_VIDEO'] = df['IS_VIDEO'].map(dict(yes=1, no=0))\n",
        "df['HAS_AUDIO'] = df['HAS_AUDIO'].map(dict(yes=1, no=0))"
      ],
      "execution_count": null,
      "outputs": []
    },
    {
      "cell_type": "code",
      "metadata": {
        "id": "BC73qN9X-BU7"
      },
      "source": [
        "df = df.rename_axis('LINE_NUM_INDEX')"
      ],
      "execution_count": null,
      "outputs": []
    },
    {
      "cell_type": "markdown",
      "metadata": {
        "id": "S8t7XaAfCLFP"
      },
      "source": [
        "Replace NaN with Null, this is prerequisite for Caption text analysis"
      ]
    },
    {
      "cell_type": "code",
      "metadata": {
        "id": "LYzA2fxmCKZj"
      },
      "source": [
        "for col in df.columns:\n",
        "    if len(df[df[col].isnull()]) > 0:\n",
        "      df[col] = df[col].fillna('Null')\n",
        "      print(col)"
      ],
      "execution_count": null,
      "outputs": []
    },
    {
      "cell_type": "markdown",
      "metadata": {
        "id": "YvwUDdnN_jiB"
      },
      "source": [
        "Feature Engineering Based on Caption text analysis"
      ]
    },
    {
      "cell_type": "code",
      "metadata": {
        "id": "GKovG7L-_QgI"
      },
      "source": [
        "df['NUMBER_OF_WORDS_IN_CAPTION'] = [len(x.split()) for x in df['CAPTION'].tolist()]\n",
        "df['NUMBER_OF_EXCLAMATION_MARK_IN_CAPTION'] = df['CAPTION'].map(lambda x: x.count(\"!\"))\n",
        "df['NUMBER_OF_QUESTION_MARK_IN_CAPTION'] = df['CAPTION'].map(lambda x: x.count(\"?\"))\n",
        "df['NUMBER_OF_HASH_IN_CAPTION'] = df['CAPTION'].map(lambda x: x.count(\"#\"))\n",
        "df['NUMBER_OF_AT_IN_CAPTION'] = df['CAPTION'].map(lambda x: x.count(\"@\"))\n",
        "df['NUMBER_OF_COMMA_IN_CAPTION'] = df['CAPTION'].map(lambda x: x.count(\",\"))"
      ],
      "execution_count": null,
      "outputs": []
    },
    {
      "cell_type": "markdown",
      "metadata": {
        "id": "Vqlx5IPO_rFd"
      },
      "source": [
        "Feature Engineering Based on Accessibility Caption text analysis"
      ]
    },
    {
      "cell_type": "code",
      "metadata": {
        "id": "CdcAZXD-_RUf"
      },
      "source": [
        "df['NUMBER_OF_WORDS_IN_ACCESSIBILITY_CAPTIONN'] = [len(x.split()) for x in df['ACCESSIBILITY_CAPTION'].tolist()]\n",
        "df['NUMBER_OF_EXCLAMATION_MARK_IN_ACCESSIBILITY_CAPTION'] = df['ACCESSIBILITY_CAPTION'].map(lambda x: x.count(\"!\"))\n",
        "df['NUMBER_OF_QUESTION_MARK_IN_ACCESSIBILITY_CAPTION'] = df['ACCESSIBILITY_CAPTION'].map(lambda x: x.count(\"?\"))\n",
        "df['NUMBER_OF_HASH_IN_ACCESSIBILITY_CAPTION'] = df['ACCESSIBILITY_CAPTION'].map(lambda x: x.count(\"#\"))\n",
        "df['NUMBER_OF_AT_IN_ACCESSIBILITY_CAPTION'] = df['ACCESSIBILITY_CAPTION'].map(lambda x: x.count(\"@\"))\n",
        "df['NUMBER_OF_COMMA_IN_ACCESSIBILITY_CAPTION'] = df['ACCESSIBILITY_CAPTION'].map(lambda x: x.count(\",\"))"
      ],
      "execution_count": null,
      "outputs": []
    },
    {
      "cell_type": "markdown",
      "metadata": {
        "id": "73y2QxK8A9zY"
      },
      "source": [
        "Create Binning of Likes, Comments, Engagement"
      ]
    },
    {
      "cell_type": "code",
      "metadata": {
        "id": "U70wxbrwDd8h"
      },
      "source": [
        "map_dict_rank = {'Low':0.0 , 'Medium':1.0, 'High':2.0, 'Very High':3.0, 'Extreme':4.0}\n",
        "map_dict_rank\n"
      ],
      "execution_count": null,
      "outputs": []
    },
    {
      "cell_type": "code",
      "metadata": {
        "id": "QslM9sKpA-nk"
      },
      "source": [
        "df['LIKES_RANK'] = pd.cut(x=df.log_LIKES,  bins=5, labels=bin_labels, ordered=True)\n",
        "df['COMMENTS_RANK'] = pd.cut(x=df.log_COMMENTS,  bins=5, labels=bin_labels, ordered=True)\n",
        "df['ENGAGEMENT_RANK'] = pd.cut(x=df.log_ENGAGEMENT,  bins=5, labels=bin_labels, ordered=True)"
      ],
      "execution_count": null,
      "outputs": []
    },
    {
      "cell_type": "code",
      "metadata": {
        "id": "Un-EkXpKDcnE"
      },
      "source": [
        "df['LIKES_RANK_INT'] =  df['LIKES_RANK'].map(map_dict_rank).astype(int)\n",
        "df['COMMENTS_RANK_INT'] =   df['COMMENTS_RANK'].map(map_dict_rank).astype(int)\n",
        "df['ENGAGEMENT_RANK_INT'] =   df['ENGAGEMENT_RANK'].map(map_dict_rank).astype(int)"
      ],
      "execution_count": null,
      "outputs": []
    },
    {
      "cell_type": "markdown",
      "metadata": {
        "id": "7GnWvKP1D6n7"
      },
      "source": [
        "# Ordinal Encoder"
      ]
    },
    {
      "cell_type": "code",
      "metadata": {
        "id": "Md7y8NBcD9ko"
      },
      "source": [
        "enc = OrdinalEncoder()"
      ],
      "execution_count": null,
      "outputs": []
    },
    {
      "cell_type": "code",
      "metadata": {
        "id": "3UlqMDx_EQIA"
      },
      "source": [
        "for col in df.select_dtypes(include=['object']).dtypes.index:\n",
        "  enc.fit(df[[col]])\n",
        "  df[col + '_OBJECT_AS_INT'] = enc.transform(df[[col]])"
      ],
      "execution_count": null,
      "outputs": []
    },
    {
      "cell_type": "code",
      "metadata": {
        "id": "05tj25mh6SUC"
      },
      "source": [
        "df.info()"
      ],
      "execution_count": null,
      "outputs": []
    },
    {
      "cell_type": "markdown",
      "metadata": {
        "id": "4M07H2nT44IH"
      },
      "source": [
        "# Spliting the Data"
      ]
    },
    {
      "cell_type": "markdown",
      "metadata": {
        "id": "kwDBYApt9avJ"
      },
      "source": [
        "seperate the row data"
      ]
    },
    {
      "cell_type": "code",
      "metadata": {
        "id": "y7iP2Tvt6HVo"
      },
      "source": [
        "df_video = df[df['IS_VIDEO']==1]\n",
        "df_image = df[df['IS_VIDEO'] == 0]\n",
        "df_image_style = df_image[df_image['IMAGE_LABEL_INTEREST'] == 'style_fashion']"
      ],
      "execution_count": null,
      "outputs": []
    },
    {
      "cell_type": "markdown",
      "metadata": {
        "id": "nvlrR_oK9ePa"
      },
      "source": [
        "Separate X, y"
      ]
    },
    {
      "cell_type": "code",
      "metadata": {
        "id": "v8j8i7vd9Zha"
      },
      "source": [
        "X = df_image_style.select_dtypes(include=['number'])\n",
        "X.drop(['LIKES','COMMENTS','ENGAGEMENT','mean_likes','mean_comments',\\\n",
        "        'log_ENGAGEMENT','log_LIKES','log_COMMENTS'], axis=1, inplace=True)\n",
        "X.drop(['LIKES_RANK_INT','COMMENTS_RANK_INT','ENGAGEMENT_RANK_INT'], axis=1, inplace=True)\n",
        "\n"
      ],
      "execution_count": null,
      "outputs": []
    },
    {
      "cell_type": "code",
      "metadata": {
        "id": "-ybJVgF-wbxB"
      },
      "source": [
        "X.info()"
      ],
      "execution_count": null,
      "outputs": []
    },
    {
      "cell_type": "code",
      "metadata": {
        "id": "zXPJGJNc9yGb"
      },
      "source": [
        "y1 = df_image_style['log_LIKES']\n",
        "y2 = df_image_style['log_COMMENTS']\n",
        "y3 = df_image_style['log_ENGAGEMENT']"
      ],
      "execution_count": null,
      "outputs": []
    },
    {
      "cell_type": "markdown",
      "metadata": {
        "id": "Jxqx5zGg9kvZ"
      },
      "source": [
        "Spilt Train and Test"
      ]
    },
    {
      "cell_type": "code",
      "metadata": {
        "id": "cc5GC8b9-cb4"
      },
      "source": [
        "X_train, X_test, y_train, y_test = train_test_split(X, y1, train_size = train_size\\\n",
        "                           , random_state = rand_state)#, stratify = df.ENGAGEMENT)\n",
        "                           "
      ],
      "execution_count": null,
      "outputs": []
    },
    {
      "cell_type": "code",
      "metadata": {
        "id": "AXIm9hPs-vUx"
      },
      "source": [
        "print('Training Features Shape:', X_train.shape)\n",
        "print('Training Labels (y) Shape:', y_train.shape)\n",
        "print('Testing Features Shape:', X_test.shape)\n",
        "print('Testing Labels(y) Shape:', y_test.shape)"
      ],
      "execution_count": null,
      "outputs": []
    },
    {
      "cell_type": "markdown",
      "metadata": {
        "id": "-lMTiyar5FBU"
      },
      "source": [
        "# XGBoost Likes and Comments Prediction"
      ]
    },
    {
      "cell_type": "code",
      "metadata": {
        "id": "AxkywPajBlbn"
      },
      "source": [
        "XGB_reg_likes = xgb.XGBRegressor(\n",
        "colsample_bytree= 1, max_depth= 2, n_estimators= 200\n",
        ")"
      ],
      "execution_count": null,
      "outputs": []
    },
    {
      "cell_type": "code",
      "metadata": {
        "id": "KcCmtEWFDAY0"
      },
      "source": [
        "# XGB_param_grid = {'colsample_bytree': [0.3, 0.7, 1.0, 1.2],\n",
        "#     'n_estimators': [50,100,200],    'max_depth': [2,3,4]\n",
        "# }\n",
        "# XGB_reg_grid = xgb.XGBRegressor()\n",
        "# grid_mse = GridSearchCV(param_grid=XGB_param_grid, estimator=XGB_reg_grid, \n",
        "#                         scoring='neg_mean_squared_error', cv=4, verbose=1)\n",
        "# grid_mse.fit(X, y1)\n",
        "# # Print the best parameters and lowest RMSE\n",
        "# print(\"Best parameters found: \", grid_mse.best_params_)\n",
        "# print(\"Lowest RMSE found: \", np.sqrt(np.abs(grid_mse.best_score_)))"
      ],
      "execution_count": null,
      "outputs": []
    },
    {
      "cell_type": "code",
      "metadata": {
        "id": "QIsWo3POBt5C"
      },
      "source": [
        "XGB_reg_likes.fit(X_train, y_train)"
      ],
      "execution_count": null,
      "outputs": []
    },
    {
      "cell_type": "markdown",
      "metadata": {
        "id": "F_7dD9fVClww"
      },
      "source": [
        "Evaluate the model"
      ]
    },
    {
      "cell_type": "code",
      "metadata": {
        "id": "6d0MCoFOBxYH"
      },
      "source": [
        "score = XGB_reg_likes.score(X_train, y_train)  \n",
        "print(\"Training score: \", score)"
      ],
      "execution_count": null,
      "outputs": []
    },
    {
      "cell_type": "code",
      "metadata": {
        "id": "t2piNer4B2aa"
      },
      "source": [
        "scores = cross_val_score(XGB_reg_likes, X_train, y_train,cv=10)\n",
        "print(\"Mean cross-validation score: %.2f\" % scores.mean())"
      ],
      "execution_count": null,
      "outputs": []
    },
    {
      "cell_type": "code",
      "metadata": {
        "id": "7fKjLcZdCJE6"
      },
      "source": [
        "y_test_pred= XGB_reg_likes.predict(X_test)\n",
        "X_test_copy['y_test_pred'] = XGB_reg_likes.predict(X_test)\n",
        "\n",
        "mse_XGB = mse(y_test, y_test_pred)\n",
        "\n",
        "score_test = XGB_reg_likes.score(X_test,y_test_pred)  \n",
        "\n",
        "print(\"test score: \", round(score_test,2))\n",
        "print(\"MSE: %.2f\" % mse_XGB)\n",
        "print(\"RMSE: %.2f\" % (mse_XGB**0.5))\n",
        "\n",
        "print('MSE by likes after XGBoost model', round(10**mse_XGB,2))"
      ],
      "execution_count": null,
      "outputs": []
    },
    {
      "cell_type": "code",
      "metadata": {
        "id": "BvXp5bBPCcrx"
      },
      "source": [
        "Series1 = 10**X_test_copy.y_test_pred\n",
        "#Series2= X_test.mean_likes\n",
        "#X_test_mean_likes\n",
        "series3 = 10**y_test\n",
        "series4 = series3 - Series1\n",
        "series5 = Series1 - Series2 #X_test_mean_likes\n",
        "# series6 = series3 / Series1 *100\n",
        "# series7 = Series1 / X_test_mean_likes *100\n",
        "res = round(pd.DataFrame({'like_predication': Series1,\\ #'mean_likes': X_test_mean_likes \\\n",
        "                     'real_like': series3, \\\n",
        "                    'diff between like_predication and real_like': series4, \\\n",
        "                    'diff between like_predication and mean like': series5\n",
        "                    # ,'% diff between like_predication and real_like': series6, \\\n",
        "                    # '% diff between like_predication and mean like': series7\n",
        "                    }                   ))\n"
      ],
      "execution_count": null,
      "outputs": []
    },
    {
      "cell_type": "code",
      "metadata": {
        "id": "ZoksXwOqCkCJ"
      },
      "source": [
        "res.sample(10)"
      ],
      "execution_count": null,
      "outputs": []
    },
    {
      "cell_type": "code",
      "metadata": {
        "id": "f3iCRrzwFGKM"
      },
      "source": [
        "# #boston = load_boston()\n",
        "# sorted_idx = XGB_reg_likes.feature_importances_.argsort()\n",
        "# #plt.barh\n",
        "# df_feature_importances = pd.DataFrame(XGB_reg_likes.feature_importances_[sorted_idx])\n",
        "# df_feature_importances_headers = pd.DataFrame(X.columns[sorted_idx])\n",
        "# #plt.xlabel(\"Xgboost Feature Importance\")"
      ],
      "execution_count": null,
      "outputs": []
    },
    {
      "cell_type": "markdown",
      "metadata": {
        "id": "13bdGw0_Mdjn"
      },
      "source": [
        "XGBoost feature Importances"
      ]
    },
    {
      "cell_type": "code",
      "metadata": {
        "id": "lYxtLiwFKd3a"
      },
      "source": [
        "sorted_idx = XGB_reg_likes.feature_importances_.argsort()\n",
        "pd.DataFrame(XGB_reg_likes.feature_importances_[sorted_idx], \n",
        "             index=list(X.columns[sorted_idx]),\n",
        "             columns=[\"Feature_Value\"]).sort_values(by=\"Feature_Value\",ascending=False)"
      ],
      "execution_count": null,
      "outputs": []
    },
    {
      "cell_type": "markdown",
      "metadata": {
        "id": "dG3u8tyS5GZW"
      },
      "source": [
        "# SHAP Understanding the model"
      ]
    },
    {
      "cell_type": "markdown",
      "metadata": {
        "id": "ieZXuzY-zlE5"
      },
      "source": [
        "# Appendix - Data Visualization"
      ]
    },
    {
      "cell_type": "code",
      "metadata": {
        "id": "ovXPN1DTx0p1"
      },
      "source": [
        "df.info()"
      ],
      "execution_count": null,
      "outputs": []
    },
    {
      "cell_type": "markdown",
      "metadata": {
        "id": "N7B3k5XZkwUD"
      },
      "source": [
        "# EDA"
      ]
    },
    {
      "cell_type": "markdown",
      "metadata": {
        "id": "pJsEqMDPy8N7"
      },
      "source": [
        "EDA Only, this section is not require for Production code"
      ]
    },
    {
      "cell_type": "code",
      "metadata": {
        "id": "Aia9nBwB-j1b"
      },
      "source": [
        "df.apply(lambda col: len(col.unique())).sort_values(ascending=False)"
      ],
      "execution_count": null,
      "outputs": []
    },
    {
      "cell_type": "code",
      "metadata": {
        "id": "pvsxDR2PAuTj"
      },
      "source": [
        "# Descriptive statistics for each column\n",
        "df.describe()"
      ],
      "execution_count": null,
      "outputs": []
    },
    {
      "cell_type": "code",
      "metadata": {
        "id": "RJuLFHlEPjc2"
      },
      "source": [
        "plot_missing(df)"
      ],
      "execution_count": null,
      "outputs": []
    },
    {
      "cell_type": "code",
      "metadata": {
        "id": "az5iRMwtagVt"
      },
      "source": [
        "df.isnull().sum()"
      ],
      "execution_count": null,
      "outputs": []
    },
    {
      "cell_type": "code",
      "metadata": {
        "id": "KmC_vlLtPraq"
      },
      "source": [
        "plot(df, \"ENGAGEMENT\")"
      ],
      "execution_count": null,
      "outputs": []
    },
    {
      "cell_type": "code",
      "metadata": {
        "id": "IGh1gCjBPuJ9"
      },
      "source": [
        "plot(df, \"LIKES\")"
      ],
      "execution_count": null,
      "outputs": []
    },
    {
      "cell_type": "code",
      "metadata": {
        "id": "Z23wGWEUPvye"
      },
      "source": [
        "plot(df, \"COMMENTS\")"
      ],
      "execution_count": null,
      "outputs": []
    },
    {
      "cell_type": "code",
      "metadata": {
        "id": "okb26csWPwJK"
      },
      "source": [
        "plot(df, \"FOLLOWER\")"
      ],
      "execution_count": null,
      "outputs": []
    },
    {
      "cell_type": "code",
      "metadata": {
        "id": "RB_0tOJoPytb"
      },
      "source": [
        "plot(df,'USERNAME')"
      ],
      "execution_count": null,
      "outputs": []
    },
    {
      "cell_type": "code",
      "metadata": {
        "id": "3AbwIF1iP1TD"
      },
      "source": [
        "plot(df,'CAPTION')"
      ],
      "execution_count": null,
      "outputs": []
    },
    {
      "cell_type": "code",
      "metadata": {
        "id": "YKS6b7Fwna1Z"
      },
      "source": [
        "plot(df,'CAPTION_INTEREST')"
      ],
      "execution_count": null,
      "outputs": []
    },
    {
      "cell_type": "code",
      "metadata": {
        "id": "MCV4Bxll0IEZ"
      },
      "source": [
        "df.columns"
      ],
      "execution_count": null,
      "outputs": []
    },
    {
      "cell_type": "code",
      "metadata": {
        "id": "ntC8-XRlz-N-"
      },
      "source": [
        "plot(df,'log_ENGAGEMENT')"
      ],
      "execution_count": null,
      "outputs": []
    },
    {
      "cell_type": "code",
      "metadata": {
        "id": "EBHQ8JE00VSY"
      },
      "source": [
        "plot(df,'log_LIKES')"
      ],
      "execution_count": null,
      "outputs": []
    },
    {
      "cell_type": "code",
      "metadata": {
        "id": "_rxa2qlA0Vwg"
      },
      "source": [
        "plot(df,'log_COMMENTS')"
      ],
      "execution_count": null,
      "outputs": []
    },
    {
      "cell_type": "code",
      "metadata": {
        "id": "dNnwZiZfUC1h"
      },
      "source": [
        "df.info()"
      ],
      "execution_count": null,
      "outputs": []
    },
    {
      "cell_type": "markdown",
      "metadata": {
        "id": "xKs87yGa8lFk"
      },
      "source": [
        "mean likes and comments"
      ]
    },
    {
      "cell_type": "code",
      "metadata": {
        "id": "xos9dmZZ5MiO"
      },
      "source": [
        " df.groupby('USERNAME')['LIKES'].mean().sort_values(ascending=False).head(10)"
      ],
      "execution_count": null,
      "outputs": []
    },
    {
      "cell_type": "code",
      "metadata": {
        "id": "j86LtNvU51AJ"
      },
      "source": [
        " df.groupby('USERNAME')['COMMENTS'].mean().sort_values(ascending=False).head(10)"
      ],
      "execution_count": null,
      "outputs": []
    },
    {
      "cell_type": "code",
      "metadata": {
        "id": "gOE3BCQo51tl"
      },
      "source": [
        "df.groupby('USERNAME')['ENGAGEMENT'].mean().sort_values(ascending=False).head(10)\n",
        "#df.groupby('FULLNAME')['ENGAGEMENT'].mean().sort_values(ascending=False).head(10)"
      ],
      "execution_count": null,
      "outputs": []
    },
    {
      "cell_type": "code",
      "metadata": {
        "id": "3_mWqgmjgkeb"
      },
      "source": [
        "IMAGE_LABELS = df.groupby('CAPTION_INTEREST').size().sort_values()\n",
        "IMAGE_LABELS.plot.barh(figsize=(8, 15), fontsize=10, title='CAPTION_INTEREST')"
      ],
      "execution_count": null,
      "outputs": []
    },
    {
      "cell_type": "markdown",
      "metadata": {
        "id": "7Xyw85OBbvj5"
      },
      "source": [
        "## Sigma cleaning"
      ]
    },
    {
      "cell_type": "code",
      "metadata": {
        "id": "dAzvasb2bybT"
      },
      "source": [
        "# # we lose the most viral posts and most unviral posts\n",
        "# for col in df.columns:\n",
        "#     if df[col].dtype == 'float64':\n",
        "#         std = df[col].std()\n",
        "#         ave = df[col].mean()\n",
        "#         df = df.loc[df[col].between\\\n",
        "#                                (ave - (sigma * std), ave + (sigma * std))] \n",
        "#         print(f'Processing {col:10} --> {df.shape[0]:5} entities entries remain')"
      ],
      "execution_count": null,
      "outputs": []
    },
    {
      "cell_type": "code",
      "metadata": {
        "id": "92U3NlTgb4j_"
      },
      "source": [
        "df.describe()"
      ],
      "execution_count": null,
      "outputs": []
    },
    {
      "cell_type": "markdown",
      "metadata": {
        "id": "ksd42-L6J9Sz"
      },
      "source": [
        "How Many NaN values are ther in the datast?"
      ]
    },
    {
      "cell_type": "code",
      "metadata": {
        "id": "xk360FI0J8sB"
      },
      "source": [
        "msno.matrix(df)"
      ],
      "execution_count": null,
      "outputs": []
    },
    {
      "cell_type": "code",
      "metadata": {
        "id": "ItG8cSILKIPZ"
      },
      "source": [
        "msno.bar(df, figsize=(20, 8))"
      ],
      "execution_count": null,
      "outputs": []
    },
    {
      "cell_type": "markdown",
      "metadata": {
        "id": "dzkaJCmyh8Qc"
      },
      "source": [
        "## Some Data Visualization (mostly on time)"
      ]
    },
    {
      "cell_type": "code",
      "metadata": {
        "id": "3xhU2m4udKti"
      },
      "source": [
        "per_DAY = df.groupby(['DAY']).sum()\n",
        "per_DAY.plot(y=[\"ENGAGEMENT\"], kind=\"bar\",figsize=(12,8))"
      ],
      "execution_count": null,
      "outputs": []
    },
    {
      "cell_type": "code",
      "metadata": {
        "id": "_gWWVwSWDCh-"
      },
      "source": [
        "df.columns"
      ],
      "execution_count": null,
      "outputs": []
    },
    {
      "cell_type": "code",
      "metadata": {
        "id": "cysHzt7kCTHB"
      },
      "source": [
        "per_DAYOFWEEK = df.groupby('DAYOFWEEK').agg(NUM_OF_LIKES=('LIKES','sum'),\n",
        "                                            Average_OF_LIKES=('LIKES','mean'),\n",
        "                                            median_OF_LIKES=('LIKES','median')\n",
        "                                            )\n",
        "\n",
        "per_DAYOFWEEK[\"NUM_OF_LIKES_IN_THOUSANDS\"] = per_DAYOFWEEK['NUM_OF_LIKES']/1000\n",
        "per_DAYOFWEEK.plot(y=[\"NUM_OF_LIKES_IN_THOUSANDS\",\n",
        "                      \"Average_OF_LIKES\",\"median_OF_LIKES\"], kind=\"bar\",figsize=(12,8))\n",
        "per_DAYOFWEEK"
      ],
      "execution_count": null,
      "outputs": []
    },
    {
      "cell_type": "code",
      "metadata": {
        "id": "soiAP4DJfeWm"
      },
      "source": [
        "per_HOUR = df.groupby(['HOUR']).sum()\n",
        "per_HOUR.plot(y=[\"ENGAGEMENT\"], kind=\"bar\",figsize=(12,8))"
      ],
      "execution_count": null,
      "outputs": []
    },
    {
      "cell_type": "code",
      "metadata": {
        "id": "e5L6Rresf2jA"
      },
      "source": [
        "per_MINUTE = df.groupby(['MINUTE']).sum()\n",
        "per_MINUTE.plot(y=[\"ENGAGEMENT\"], kind=\"bar\",figsize=(12,8))"
      ],
      "execution_count": null,
      "outputs": []
    },
    {
      "cell_type": "code",
      "metadata": {
        "id": "4RbLDmxITWkQ"
      },
      "source": [
        "per_DAY = df.groupby(['DAY']).sum()\n",
        "per_DAY.plot(y=[\"LIKES\"], kind=\"bar\",figsize=(12,8))"
      ],
      "execution_count": null,
      "outputs": []
    },
    {
      "cell_type": "code",
      "metadata": {
        "id": "1PSY94OgUDSg"
      },
      "source": [
        "per_HOUR = df.groupby(['HOUR']).sum()\n",
        "per_HOUR.plot(y=[\"COMMENTS\"], kind=\"bar\",figsize=(12,8))"
      ],
      "execution_count": null,
      "outputs": []
    },
    {
      "cell_type": "code",
      "metadata": {
        "id": "lL0WJK13Ta-7"
      },
      "source": [
        "per_HOUR = df.groupby(['HOUR']).sum()\n",
        "per_HOUR.plot(y=[\"LIKES\"], kind=\"bar\",figsize=(12,8))"
      ],
      "execution_count": null,
      "outputs": []
    },
    {
      "cell_type": "code",
      "metadata": {
        "id": "TTLEB7a5Ty8T"
      },
      "source": [
        "per_MINUTE = df.groupby(['MINUTE']).sum()\n",
        "per_MINUTE.plot(y=[\"LIKES\"], kind=\"bar\",figsize=(12,8))"
      ],
      "execution_count": null,
      "outputs": []
    },
    {
      "cell_type": "code",
      "metadata": {
        "id": "JJxverSIUGJ_"
      },
      "source": [
        "per_MINUTE = df.groupby(['MINUTE']).sum()\n",
        "per_MINUTE.plot(y=[\"COMMENTS\"], kind=\"bar\",figsize=(12,8))"
      ],
      "execution_count": null,
      "outputs": []
    },
    {
      "cell_type": "code",
      "metadata": {
        "id": "D_AhtU7gTUrJ"
      },
      "source": [
        "df.columns"
      ],
      "execution_count": null,
      "outputs": []
    },
    {
      "cell_type": "markdown",
      "metadata": {
        "id": "FS4RdvS3B4nr"
      },
      "source": [
        "Remove column that all values are unique:"
      ]
    },
    {
      "cell_type": "code",
      "metadata": {
        "id": "mDp86xxgB_H9"
      },
      "source": [
        "for col in df.columns:\n",
        "    if len(df[col].unique()) == len(df):\n",
        "        print(col)\n",
        "        #df.drop(col,inplace=True,axis=1)"
      ],
      "execution_count": null,
      "outputs": []
    },
    {
      "cell_type": "code",
      "metadata": {
        "id": "fpJMf4XQL03A"
      },
      "source": [
        "df.head()"
      ],
      "execution_count": null,
      "outputs": []
    },
    {
      "cell_type": "code",
      "metadata": {
        "id": "2Xk5qhATLp05"
      },
      "source": [
        "df.URL.head()\n",
        "# SHORTCODE\n",
        "# URL\n",
        "# IMAGE_URL\n",
        "# VIDEO_URL # Not working"
      ],
      "execution_count": null,
      "outputs": []
    },
    {
      "cell_type": "markdown",
      "metadata": {
        "id": "lkfxr7bths3r"
      },
      "source": [
        "## feature engeneering base on text in columns CAPTION ,ACCESSIBILITY_CAP\n",
        "\n",
        "```\n",
        "# This is formatted as code\n",
        "```\n",
        "\n",
        "TION:"
      ]
    },
    {
      "cell_type": "markdown",
      "metadata": {
        "id": "ynlNTO0cXeCz"
      },
      "source": [
        "new columns for featur engeneering for 'CAPTION','ACCESSIBILITY_CAPTION','IMAGE_LABELS':\n",
        "*   Number of Hash # in 'CAPTION','ACCESSIBILITY_CAPTION','IMAGE_LABELS',\n",
        "*   Number of AT @ in CAPTION\n",
        "*   Number of question mark? in CAPTION\n",
        "*   Number of , in CAPTION\n",
        "*   Number of Words in CAPTION\n",
        "\n",
        "7-Oct"
      ]
    },
    {
      "cell_type": "code",
      "metadata": {
        "id": "yRfQyypujGIp"
      },
      "source": [
        "#count number of !\n",
        "#df['exc'] = df['line'].map(lambda x: x.count(\"!\"))"
      ],
      "execution_count": null,
      "outputs": []
    },
    {
      "cell_type": "code",
      "metadata": {
        "id": "ItINSusogGcr"
      },
      "source": [
        "d = pd.DataFrame(df[df.index == 2728].CAPTION)"
      ],
      "execution_count": null,
      "outputs": []
    },
    {
      "cell_type": "code",
      "metadata": {
        "id": "0s728DoSeykx"
      },
      "source": [
        "#Number of Words in CAPTION:\n",
        "#d['NUMBER_OF_WORDS_IN_CAPTION'] = [len(x.split()) for x in df[df.index == 2728].CAPTION.tolist()]\n",
        "#d['words'] = [len(x.split()) for x in d['CAPTION'].tolist()]\n",
        "#df['NUMBER_OF_WORDS_IN_CAPTION'] = [len(x.split()) for x in df['CAPTION'].tolist()]"
      ],
      "execution_count": null,
      "outputs": []
    },
    {
      "cell_type": "markdown",
      "metadata": {
        "id": "OhEzsjrMhdWb"
      },
      "source": [
        "Sampleing:"
      ]
    },
    {
      "cell_type": "code",
      "metadata": {
        "id": "0jhraIU0Z3PH"
      },
      "source": [
        "num_of_samples = 5\n",
        "list_of_sample_index = list((df.URL.sample(num_of_samples).index.values))\n",
        "print('indesc sample are: ', list_of_sample_index)\n",
        "print(df.loc[list_of_sample_index]['URL'])\n",
        "df.loc[list_of_sample_index][['LIKES','CAPTION','ACCESSIBILITY_CAPTION','IMAGE_LABELS','CAPTION_INTEREST', 'ACCESSIBILITY_CAPTION_INTEREST','IMAGE_LABEL_INTEREST'\n",
        ",'FOLLOWER','LOCATION'\n",
        "]]"
      ],
      "execution_count": null,
      "outputs": []
    },
    {
      "cell_type": "markdown",
      "metadata": {
        "id": "dvmzVNTENNw2"
      },
      "source": [
        "## Remove unneccessary columns from Dataframe"
      ]
    },
    {
      "cell_type": "code",
      "metadata": {
        "id": "5Ep01ay_nm1p"
      },
      "source": [
        "df.drop(['POST_ID','VIDEO_URL','SHORTCODE','IMAGE_URL','USERID','FULLNAME','USERNAME',\n",
        "         'USERID','TIME',#'URL',\n",
        "         'VIDEO_VIEW_COUNT'],inplace=True,axis=1)"
      ],
      "execution_count": null,
      "outputs": []
    },
    {
      "cell_type": "markdown",
      "metadata": {
        "id": "YqZwRTL0nnp1"
      },
      "source": [
        "After talking with Royi on 1-Oct: "
      ]
    },
    {
      "cell_type": "code",
      "metadata": {
        "id": "CBotm3nAny4M"
      },
      "source": [
        "df.info()"
      ],
      "execution_count": null,
      "outputs": []
    },
    {
      "cell_type": "markdown",
      "metadata": {
        "id": "egjqB8d9BlQS"
      },
      "source": [
        "Convert columns type to characters :"
      ]
    },
    {
      "cell_type": "code",
      "metadata": {
        "id": "VIzv3R77Bjqn"
      },
      "source": [
        "df['COMMENT_DISABLED'].value_counts()"
      ],
      "execution_count": null,
      "outputs": []
    },
    {
      "cell_type": "code",
      "metadata": {
        "id": "5Py0fclpFn1r"
      },
      "source": [
        "df['COMMENT_DISABLED'] = df['COMMENT_DISABLED'].map(dict(yes=1, no=0))\n",
        "df['IS_VIDEO'] = df['IS_VIDEO'].map(dict(yes=1, no=0))\n",
        "df['HAS_AUDIO'] = df['HAS_AUDIO'].map(dict(yes=1, no=0))"
      ],
      "execution_count": null,
      "outputs": []
    },
    {
      "cell_type": "code",
      "metadata": {
        "id": "VTX8T6IIGf0h"
      },
      "source": [
        "df['IS_VIDEO'] = df['IS_VIDEO'].map(dict(yes=1, no=0))"
      ],
      "execution_count": null,
      "outputs": []
    },
    {
      "cell_type": "code",
      "metadata": {
        "id": "TkhoNyMcG_jZ"
      },
      "source": [
        "df['HAS_AUDIO'] = df['HAS_AUDIO'].map(dict(yes=1, no=0))"
      ],
      "execution_count": null,
      "outputs": []
    },
    {
      "cell_type": "code",
      "metadata": {
        "id": "3cVRk_oSGpqR"
      },
      "source": [
        "df[['COMMENT_DISABLED','IS_VIDEO','HAS_AUDIO']].value_counts()"
      ],
      "execution_count": null,
      "outputs": []
    },
    {
      "cell_type": "code",
      "metadata": {
        "id": "zHYCMkwrIvJE"
      },
      "source": [
        "pd.unique(df[['COMMENT_DISABLED','IS_VIDEO','HAS_AUDIO']].values.ravel('K'))"
      ],
      "execution_count": null,
      "outputs": []
    },
    {
      "cell_type": "code",
      "metadata": {
        "id": "80uwyoJezN8I"
      },
      "source": [
        "msno.matrix(df)"
      ],
      "execution_count": null,
      "outputs": []
    },
    {
      "cell_type": "code",
      "metadata": {
        "id": "YuKCxaw0zV1O"
      },
      "source": [
        "df.columns"
      ],
      "execution_count": null,
      "outputs": []
    },
    {
      "cell_type": "markdown",
      "metadata": {
        "id": "uF9AHnIU4ae-"
      },
      "source": [
        "Raname the index"
      ]
    },
    {
      "cell_type": "code",
      "metadata": {
        "id": "3A0qeN-o4DPy"
      },
      "source": [
        "df = df.rename_axis('LINE_NUM_INDEX')"
      ],
      "execution_count": null,
      "outputs": []
    },
    {
      "cell_type": "markdown",
      "metadata": {
        "id": "QosJ4CUL4mcc"
      },
      "source": [
        "Note by Eladk: we can fill location values by using a merdiction model base in the influancer and the time for the post. <BR> \n",
        "For Now, I'll just fill the columns with NULL"
      ]
    },
    {
      "cell_type": "markdown",
      "metadata": {
        "id": "FTZGaoMYArQ4"
      },
      "source": [
        "Replace all cases where VIDEO_VIEW_COUNT == Nan with 0. <BR> for double check i verified it with is_video column"
      ]
    },
    {
      "cell_type": "markdown",
      "metadata": {
        "id": "Z1IpsQ1WDRwW"
      },
      "source": [
        "Eladk note 8-Sep-2021: I still need to handle missing values in column:\n",
        "\n",
        "\n",
        "*   FULLNAME\n",
        "*   ACCESSIBILITY_CAPTION - specify full name, time, location, video or picture and tag\n",
        "*   CAPTION - the text on this post (by the post uploader\n",
        "*   LOCATION, CITY, COUNTRY - location\n",
        "*   CAPTION_INTEREST -\n",
        "*   ACCESSIBILITY_CAPTION_INTEREST\n"
      ]
    },
    {
      "cell_type": "code",
      "metadata": {
        "id": "KFgrunbu5UN5"
      },
      "source": [
        "msno.matrix(df)"
      ],
      "execution_count": null,
      "outputs": []
    },
    {
      "cell_type": "code",
      "metadata": {
        "id": "pJzc-VCL6wem"
      },
      "source": [
        "df.CAPTION.value_counts().sort_values(ascending=False)"
      ],
      "execution_count": null,
      "outputs": []
    },
    {
      "cell_type": "markdown",
      "metadata": {
        "id": "1nfbHMIBGBXo"
      },
      "source": [
        "selecting a subset of the data:"
      ]
    },
    {
      "cell_type": "code",
      "metadata": {
        "id": "EhYai8Vc-E1h"
      },
      "source": [
        "df[['ACCESSIBILITY_CAPTION','CAPTION','LOCATION', 'CITY', 'COUNTRY'\\\n",
        "    ,'CAPTION_INTEREST','ACCESSIBILITY_CAPTION_INTEREST']].head(5)"
      ],
      "execution_count": null,
      "outputs": []
    },
    {
      "cell_type": "markdown",
      "metadata": {
        "id": "FKe1TsN2E03L"
      },
      "source": [
        "Increase the length to a column so that we'll see all the text in a cell"
      ]
    },
    {
      "cell_type": "code",
      "metadata": {
        "id": "DQxDRFJz-z4n"
      },
      "source": [
        "pd.options.display.max_colwidth = 1000\n",
        "df.ACCESSIBILITY_CAPTION.head(5)"
      ],
      "execution_count": null,
      "outputs": []
    },
    {
      "cell_type": "markdown",
      "metadata": {
        "id": "oRFlWKO6EqIZ"
      },
      "source": [
        "Selecting 1 row by index (specific column only)"
      ]
    },
    {
      "cell_type": "code",
      "metadata": {
        "id": "QDwmKBBU9M63"
      },
      "source": [
        "#df[df.index == 1929][['URL','ACCESSIBILITY_CAPTION','DATETIME','LOCATION']] # name, \n",
        "df[df.index == 1929][['ACCESSIBILITY_CAPTION','DATETIME','LOCATION']] # name, "
      ],
      "execution_count": null,
      "outputs": []
    },
    {
      "cell_type": "code",
      "metadata": {
        "id": "gIEu5AuP9DQn"
      },
      "source": [
        "df.columns"
      ],
      "execution_count": null,
      "outputs": []
    },
    {
      "cell_type": "code",
      "metadata": {
        "id": "rEWoJh98GMjH"
      },
      "source": [
        "df[['CAPTION_INTEREST','ACCESSIBILITY_CAPTION_INTEREST']].head(20)"
      ],
      "execution_count": null,
      "outputs": []
    },
    {
      "cell_type": "code",
      "metadata": {
        "id": "XNhBGf_vIyTS"
      },
      "source": [
        "#df[df.index == 1932][['URL','CAPTION_INTEREST','ACCESSIBILITY_CAPTION_INTEREST']] # name, \n",
        "df[df.index == 1932][['CAPTION_INTEREST','ACCESSIBILITY_CAPTION_INTEREST']] # name,"
      ],
      "execution_count": null,
      "outputs": []
    },
    {
      "cell_type": "markdown",
      "metadata": {
        "id": "n_YgP0eGJBuU"
      },
      "source": [
        "there are 308 combination as CAPTION_INTEREST and ACCESSIBILITY_CAPTION_INTEREST"
      ]
    },
    {
      "cell_type": "code",
      "metadata": {
        "id": "RyfBkf7yGViq"
      },
      "source": [
        "df.groupby(['CAPTION_INTEREST','ACCESSIBILITY_CAPTION_INTEREST']).size().sort_values(ascending=False).reset_index(name='counts').head(50)"
      ],
      "execution_count": null,
      "outputs": []
    },
    {
      "cell_type": "markdown",
      "metadata": {
        "id": "kt-1qSIIH2Mm"
      },
      "source": [
        "there are 35 unique CAPTION_INTEREST\n"
      ]
    },
    {
      "cell_type": "code",
      "metadata": {
        "id": "RuNi4pnJHsIj"
      },
      "source": [
        "df.groupby(['CAPTION_INTEREST']).size().sort_values(ascending=False).reset_index(name='counts').head(50)"
      ],
      "execution_count": null,
      "outputs": []
    },
    {
      "cell_type": "markdown",
      "metadata": {
        "id": "cwsqII4BILNz"
      },
      "source": [
        "there are 26 unique ACCESSIBILITY_CAPTION_INTEREST\n"
      ]
    },
    {
      "cell_type": "code",
      "metadata": {
        "id": "TMSR-DOfIFuG"
      },
      "source": [
        "df.groupby(['ACCESSIBILITY_CAPTION_INTEREST']).size().sort_values(ascending=False).reset_index(name='counts').head(30)"
      ],
      "execution_count": null,
      "outputs": []
    },
    {
      "cell_type": "markdown",
      "metadata": {
        "id": "4x8kck8QqZQb"
      },
      "source": [
        "Eladk 1-Oct , creat new column the state if CAPTION_INTEREST == ACCESSIBILITY_CAPTION_INTEREST"
      ]
    },
    {
      "cell_type": "code",
      "metadata": {
        "id": "8Z2aUkz5qS7O"
      },
      "source": [
        "df.groupby(['CAPTION_INTEREST','ACCESSIBILITY_CAPTION_INTEREST']).size().sort_values(ascending=False).reset_index(name='counts').head(50)"
      ],
      "execution_count": null,
      "outputs": []
    },
    {
      "cell_type": "markdown",
      "metadata": {
        "id": "n5cW-lu2Vw_h"
      },
      "source": [
        "##  Handle NaN valus "
      ]
    },
    {
      "cell_type": "markdown",
      "metadata": {
        "id": "cr_5Tiqei0DP"
      },
      "source": [
        "For Now (Eladk 2021-Sep-11) I'll fill every NaN with Null"
      ]
    },
    {
      "cell_type": "code",
      "metadata": {
        "id": "yUX6l3NkV5m1"
      },
      "source": [
        "msno.matrix(df)"
      ],
      "execution_count": null,
      "outputs": []
    },
    {
      "cell_type": "code",
      "metadata": {
        "id": "Z0zJFkodXwdY"
      },
      "source": [
        "#https://datatofish.com/rows-with-nan-pandas-dataframe/\n",
        "#len(df[df['FULLNAME'].isna()]) # 126 #849\n",
        "#df[df['FULLNAME'].isnull()]\n",
        "#df[df.isna().any(axis=1)] # len = 4020\n",
        "#df[df.isnull().any(axis=1)]"
      ],
      "execution_count": null,
      "outputs": []
    },
    {
      "cell_type": "code",
      "metadata": {
        "id": "zMypjDEQXd2x"
      },
      "source": [
        "for col in df.columns:\n",
        "    if len(df[df[col].isnull()]) > 0:\n",
        "      df[col] = df[col].fillna('Null')\n",
        "      print(col)"
      ],
      "execution_count": null,
      "outputs": []
    },
    {
      "cell_type": "code",
      "metadata": {
        "id": "EjV60NeaaTgG"
      },
      "source": [
        "msno.matrix(df)"
      ],
      "execution_count": null,
      "outputs": []
    },
    {
      "cell_type": "markdown",
      "metadata": {
        "id": "ZuMSBwVRkkf3"
      },
      "source": [
        "## creating new columns for featur engeneering base on the columns of CAPTION ,ACCESSIBILITY_CAPTION, IMAGE_LABELS :"
      ]
    },
    {
      "cell_type": "markdown",
      "metadata": {
        "id": "9qKd-9W7kper"
      },
      "source": [
        "new columns for featur engeneering for 'CAPTION','ACCESSIBILITY_CAPTION','IMAGE_LABELS':\n",
        "*   Number of Hash # in 'CAPTION','ACCESSIBILITY_CAPTION','IMAGE_LABELS',\n",
        "*   Number of AT @ in CAPTION\n",
        "*   Number of question mark? in CAPTION\n",
        "*   Number of , in CAPTION\n",
        "*   Number of Words in CAPTION\n",
        "\n",
        "the source for the code is from: https://towardsdatascience.com/9-functions-that-make-natural-language-pre-processing-a-piece-of-cake-8b885c151955 <BR>\n",
        "7-Oct"
      ]
    },
    {
      "cell_type": "code",
      "metadata": {
        "id": "oJHSC9xDkziW"
      },
      "source": [
        "#count number of !\n",
        "#df['exc'] = df['line'].map(lambda x: x.count(\"!\"))"
      ],
      "execution_count": null,
      "outputs": []
    },
    {
      "cell_type": "code",
      "metadata": {
        "id": "i1zbVgYKnocJ"
      },
      "source": [
        "d = pd.DataFrame(df[df.index == 2728].CAPTION)\n",
        "d"
      ],
      "execution_count": null,
      "outputs": []
    },
    {
      "cell_type": "code",
      "metadata": {
        "id": "8heBxT7EqUzP"
      },
      "source": [
        "'Number_of_expamation_mark_in_CAPTION'.upper()"
      ],
      "execution_count": null,
      "outputs": []
    },
    {
      "cell_type": "code",
      "metadata": {
        "id": "vk-iQ3CZpSJ4"
      },
      "source": [
        "#Count the most repeated words example:\n",
        "#pd.DataFrame(Counter('elad elad katz elad katz'.split()).most_common(2000), columns=['word', 'frequency'])"
      ],
      "execution_count": null,
      "outputs": []
    },
    {
      "cell_type": "code",
      "metadata": {
        "id": "sPdyFTGimhKf"
      },
      "source": [
        "#Count the most repeated words\n",
        "#from collections import Counter\n",
        "#pd.DataFrame(Counter(d[['CAPTION']].split()).most_common(200), columns=['word', 'frequency'])"
      ],
      "execution_count": null,
      "outputs": []
    },
    {
      "cell_type": "code",
      "metadata": {
        "id": "iEcfz_l_rm47"
      },
      "source": [
        "'exclamation'.upper()"
      ],
      "execution_count": null,
      "outputs": []
    },
    {
      "cell_type": "markdown",
      "metadata": {
        "id": "VwRbwyuc-2Qq"
      },
      "source": [
        "Caption Feature Engineering"
      ]
    },
    {
      "cell_type": "markdown",
      "metadata": {
        "id": "BYiQOX-XtmNU"
      },
      "source": [
        "New columns for feature engineering cased on Caption:"
      ]
    },
    {
      "cell_type": "markdown",
      "metadata": {
        "id": "IINt_YMNt2Z4"
      },
      "source": [
        "New columns for feature engineering cased on ACCESSIBILITY_CAPTION:"
      ]
    },
    {
      "cell_type": "code",
      "metadata": {
        "id": "EvgPlpm8m5y9"
      },
      "source": [
        "#10. Count emojis\n",
        "# import emoji\n",
        "# emojis_df=[]\n",
        "# for string in df['line']:\n",
        "#     my_str = str(string)\n",
        "#     for each in my_str:\n",
        "#         if each in emoji.UNICODE_EMOJI:\n",
        "#             emojis_df.append(each)\n",
        "# freq = dict(Counter(i for sub in emojis_df for i in set(sub))) \n",
        "# sort_orders = sorted(freq.items(), key=lambda x: x[1], reverse=True)"
      ],
      "execution_count": null,
      "outputs": []
    },
    {
      "cell_type": "markdown",
      "metadata": {
        "id": "_MeVmURXlwRq"
      },
      "source": [
        "View specific line"
      ]
    },
    {
      "cell_type": "code",
      "metadata": {
        "id": "bZZv2hYalvk1"
      },
      "source": [
        "d = pd.DataFrame(df[df.index == 2728].CAPTION)"
      ],
      "execution_count": null,
      "outputs": []
    },
    {
      "cell_type": "markdown",
      "metadata": {
        "id": "xbc8bUHalhRI"
      },
      "source": [
        "Sampling the row data df:"
      ]
    },
    {
      "cell_type": "code",
      "metadata": {
        "id": "myheHW9jk1ZX"
      },
      "source": [
        "num_of_samples = 5\n",
        "list_of_sample_index = list((df.URL.sample(num_of_samples).index.values))\n",
        "print('indesc sample are: ', list_of_sample_index)\n",
        "print(df.loc[list_of_sample_index]['URL'])\n",
        "df.loc[list_of_sample_index][['LIKES','CAPTION','ACCESSIBILITY_CAPTION','IMAGE_LABELS','CAPTION_INTEREST', 'ACCESSIBILITY_CAPTION_INTEREST','IMAGE_LABEL_INTEREST'\n",
        ",'FOLLOWER','LOCATION'\n",
        ",'NUMBER_OF_WORDS_IN_CAPTION', 'NUMBER_OF_EXCLAMATION_MARK_IN_CAPTION','NUMBER_OF_QUESTION_MARK_IN_CAPTION','NUMBER_OF_HASH_IN_CAPTION','NUMBER_OF_AT_IN_CAPTION','NUMBER_OF_COMMA_IN_CAPTION' # <- new added columns\n",
        "]]"
      ],
      "execution_count": null,
      "outputs": []
    },
    {
      "cell_type": "markdown",
      "metadata": {
        "id": "jrPU87zBlYaM"
      },
      "source": [
        "## ## Remove unneccessary columns from Dataframe 2, URL"
      ]
    },
    {
      "cell_type": "code",
      "metadata": {
        "id": "DLZ0C2WRlVfK"
      },
      "source": [
        "df.drop(['URL'],inplace=True,axis=1)"
      ],
      "execution_count": null,
      "outputs": []
    },
    {
      "cell_type": "code",
      "metadata": {
        "id": "yIqU1s91tXfl"
      },
      "source": [
        "df.IMAGE_LABEL_INTEREST.unique()"
      ],
      "execution_count": null,
      "outputs": []
    },
    {
      "cell_type": "code",
      "metadata": {
        "id": "jCpf3nCTtgW1"
      },
      "source": [
        "df.IMAGE_LABEL_INTEREST.value_counts()"
      ],
      "execution_count": null,
      "outputs": []
    },
    {
      "cell_type": "code",
      "metadata": {
        "id": "4Dw_iPEvusa4"
      },
      "source": [
        "IMAGE_LABEL_INTEREST = df.groupby(['IMAGE_LABEL_INTEREST']).head(10)\n",
        "print(IMAGE_LABEL_INTEREST)"
      ],
      "execution_count": null,
      "outputs": []
    },
    {
      "cell_type": "markdown",
      "metadata": {
        "id": "8np0GAF5ZHf-"
      },
      "source": [
        "## Create bins (buckets) of Likes, Comment Engagement so we can use a classification model"
      ]
    },
    {
      "cell_type": "code",
      "metadata": {
        "id": "4cy-I4p7ZUcS"
      },
      "source": [
        "sns.histplot(x = df.LIKES,bins=50)"
      ],
      "execution_count": null,
      "outputs": []
    },
    {
      "cell_type": "code",
      "metadata": {
        "id": "Jyj2WmGZaFB1"
      },
      "source": [
        "#bins_LIKES=[min(df.LIKES)-1,15,40,200,400,max(df.LIKES)+1]\n",
        "pd.cut(x=df.LIKES, bins=5).value_counts()\n",
        "#pd.cut(x=df.LIKES, bins=bins_LIKES, labels=bin_labels,\n",
        "#       ordered=True).value_counts()"
      ],
      "execution_count": null,
      "outputs": []
    },
    {
      "cell_type": "code",
      "metadata": {
        "id": "1Y-zIJ3tAabV"
      },
      "source": [
        "pd.cut(x=df.log_LIKES, bins=5).value_counts()"
      ],
      "execution_count": null,
      "outputs": []
    },
    {
      "cell_type": "code",
      "metadata": {
        "id": "VtfiGx4RZVba"
      },
      "source": [
        "sns.histplot(x = df.COMMENTS,bins=50)"
      ],
      "execution_count": null,
      "outputs": []
    },
    {
      "cell_type": "code",
      "metadata": {
        "id": "38-SRsDxdhuT"
      },
      "source": [
        "len(df.COMMENTS) #3921"
      ],
      "execution_count": null,
      "outputs": []
    },
    {
      "cell_type": "code",
      "metadata": {
        "id": "y9Ex6T9daQOi"
      },
      "source": [
        "bins_COMMENTS=[min(df.COMMENTS)-1,1,5,40,60,max(df.COMMENTS)]\n",
        "#pd.cut(x=df.COMMENTS, bins=5).value_counts()\n",
        "pd.cut(x=df.COMMENTS, bins=bins_COMMENTS#, labels=labels \n",
        "        ,ordered=True).value_counts()"
      ],
      "execution_count": null,
      "outputs": []
    },
    {
      "cell_type": "code",
      "metadata": {
        "id": "sSj3KoHeZV2m"
      },
      "source": [
        "sns.histplot(x = df.ENGAGEMENT,bins=50)"
      ],
      "execution_count": null,
      "outputs": []
    },
    {
      "cell_type": "code",
      "metadata": {
        "id": "G97J2z7qZtKa"
      },
      "source": [
        "bins_ENGAGEMENT=[min(df.ENGAGEMENT)-1,1.5,3.5,10,15,max(df.ENGAGEMENT)]\n",
        "pd.cut(x=df.ENGAGEMENT, bins=5, labels=bin_labels, ordered=True).value_counts()\n",
        "pd.cut(x=df.ENGAGEMENT, bins=bins_ENGAGEMENT, labels=bin_labels, ordered=True).value_counts()"
      ],
      "execution_count": null,
      "outputs": []
    },
    {
      "cell_type": "code",
      "metadata": {
        "id": "gf-HkrAGcIap"
      },
      "source": [
        "df['ENGAGEMENT_RANK']"
      ],
      "execution_count": null,
      "outputs": []
    },
    {
      "cell_type": "markdown",
      "metadata": {
        "id": "RVKDBrD-r1cw"
      },
      "source": [
        "Convert Rank to Code using Dictionary "
      ]
    },
    {
      "cell_type": "code",
      "metadata": {
        "id": "8GjnzjU_sDM-"
      },
      "source": [
        "df.columns"
      ],
      "execution_count": null,
      "outputs": []
    },
    {
      "cell_type": "code",
      "metadata": {
        "id": "ogslQvCzsNja"
      },
      "source": [
        "df.LIKES_RANK.unique()"
      ],
      "execution_count": null,
      "outputs": []
    },
    {
      "cell_type": "code",
      "metadata": {
        "id": "EDbozRwH1Wu0"
      },
      "source": [
        "df['COMMENTS_RANK']"
      ],
      "execution_count": null,
      "outputs": []
    },
    {
      "cell_type": "code",
      "metadata": {
        "id": "UMMoi9bysTIk"
      },
      "source": [
        "map_dict_rank = {'Low':0.0 , 'Medium':1.0, 'High':2.0, 'Very High':3.0, 'Extreme':4.0}\n",
        "map_dict_rank"
      ],
      "execution_count": null,
      "outputs": []
    },
    {
      "cell_type": "code",
      "metadata": {
        "id": "Z0foohodz0os"
      },
      "source": [
        "df[['LIKES_RANK','LIKES_RANK_INT']].value_counts().sort_index()"
      ],
      "execution_count": null,
      "outputs": []
    },
    {
      "cell_type": "code",
      "metadata": {
        "id": "2RLElKQuz64o"
      },
      "source": [
        "df[['COMMENTS_RANK','COMMENTS_RANK_INT']].value_counts().sort_index()"
      ],
      "execution_count": null,
      "outputs": []
    },
    {
      "cell_type": "code",
      "metadata": {
        "id": "ikD3ia5mz7e2"
      },
      "source": [
        "df[['ENGAGEMENT_RANK','ENGAGEMENT_RANK_INT']].value_counts().sort_index()"
      ],
      "execution_count": null,
      "outputs": []
    },
    {
      "cell_type": "code",
      "metadata": {
        "id": "zxqGnokqgs0K"
      },
      "source": [
        "p = sns.violinplot(x='ENGAGEMENT_RANK', y='ENGAGEMENT', \n",
        "                    #order=cut_order, \n",
        "                    data=df)"
      ],
      "execution_count": null,
      "outputs": []
    },
    {
      "cell_type": "markdown",
      "metadata": {
        "id": "JtHjvw_dnWmi"
      },
      "source": [
        "## Eladk 28-Sep-2021, more bucketing"
      ]
    },
    {
      "cell_type": "markdown",
      "metadata": {
        "id": "uLrKcG3LoDqa"
      },
      "source": [
        "\n",
        "\n",
        "1.  VIDEO_VIEW_COUNT          41.148879\n",
        "2.  FOLLOWER                  35.852012\n",
        "3.  USERNAME_OBJECT_AS_INT    17.961764\n",
        "4.  CAPTION_OBJECT_AS_INT      3.558228\n",
        "5.  HOUR                       1.201713\n",
        "6.  MINUTE                     0.277403\n",
        "\n"
      ]
    },
    {
      "cell_type": "code",
      "metadata": {
        "id": "O2rlx5FqnbFI"
      },
      "source": [
        "df.FOLLOWER.value_counts().sort_values(ascending=False).plot.bar()\n",
        "#.reindex()"
      ],
      "execution_count": null,
      "outputs": []
    },
    {
      "cell_type": "markdown",
      "metadata": {
        "id": "88Rioz1FmEch"
      },
      "source": [
        "## Replacing Charecters  with Number uning OrdinalEncoder"
      ]
    },
    {
      "cell_type": "code",
      "metadata": {
        "id": "8SNxkSApbRPq"
      },
      "source": [
        "# list of char / object columns"
      ],
      "execution_count": null,
      "outputs": []
    },
    {
      "cell_type": "code",
      "metadata": {
        "id": "-BjZYcZYiWpY"
      },
      "source": [
        "df.dtypes"
      ],
      "execution_count": null,
      "outputs": []
    },
    {
      "cell_type": "code",
      "metadata": {
        "id": "MCV7T7o8jZ7g"
      },
      "source": [
        "df.select_dtypes(include=['object']).dtypes"
      ],
      "execution_count": null,
      "outputs": []
    },
    {
      "cell_type": "code",
      "metadata": {
        "id": "YMx9o7L_mwe4"
      },
      "source": [
        "df.select_dtypes(include=['object']).dtypes.index"
      ],
      "execution_count": null,
      "outputs": []
    },
    {
      "cell_type": "code",
      "metadata": {
        "id": "Fcr5t2FerRqu"
      },
      "source": [
        "df.info()"
      ],
      "execution_count": null,
      "outputs": []
    },
    {
      "cell_type": "code",
      "metadata": {
        "id": "I0oUrGfpqre2"
      },
      "source": [
        "df.info()"
      ],
      "execution_count": null,
      "outputs": []
    },
    {
      "cell_type": "code",
      "metadata": {
        "id": "8rO3WVx9b3GF"
      },
      "source": [
        "df.head(2)"
      ],
      "execution_count": null,
      "outputs": []
    },
    {
      "cell_type": "code",
      "metadata": {
        "id": "tnJpFe_AEDSm"
      },
      "source": [
        "plt.figure(figsize=(25,12))\n",
        "plt.title(\"Relationship Between The Features of The instagram Data\")\n",
        "sns.heatmap(df.corr().abs(), annot=True, linewidths = 2, linecolor = \"white\")"
      ],
      "execution_count": null,
      "outputs": []
    },
    {
      "cell_type": "code",
      "metadata": {
        "id": "Wpg75JJ8gQmx"
      },
      "source": [
        "# %%time \n",
        "# df = df.select_dtypes(include=np.number)\n",
        "# sns.pairplot(df ,height=1.8) # takes about 5 min."
      ],
      "execution_count": null,
      "outputs": []
    },
    {
      "cell_type": "markdown",
      "metadata": {
        "id": "MgDT06-XkeNa"
      },
      "source": [
        "## More EDA"
      ]
    },
    {
      "cell_type": "code",
      "metadata": {
        "id": "0kFwmF2Kkkzy"
      },
      "source": [
        "df.head(2)"
      ],
      "execution_count": null,
      "outputs": []
    },
    {
      "cell_type": "markdown",
      "metadata": {
        "id": "WOQ4oH8sk_u9"
      },
      "source": [
        "## Feature Engneering"
      ]
    },
    {
      "cell_type": "markdown",
      "metadata": {
        "id": "qMVat39thWpF"
      },
      "source": [
        "## Image captioning"
      ]
    },
    {
      "cell_type": "code",
      "metadata": {
        "id": "7wzSwRd53Yde"
      },
      "source": [
        "pd.concat([df.IMAGE_LABELS.str.split(', ', expand=True)], axis=1)####2\n"
      ],
      "execution_count": null,
      "outputs": []
    },
    {
      "cell_type": "code",
      "metadata": {
        "id": "OwkDB86i9_4f"
      },
      "source": [
        "dfcleancsv = pd.concat([df,pd.concat([df.IMAGE_LABELS.str.split(', ', expand=True)], axis=1)])\n",
        "dfcleancsv.info()###2\n"
      ],
      "execution_count": null,
      "outputs": []
    },
    {
      "cell_type": "markdown",
      "metadata": {
        "id": "agZSyhgnADZJ"
      },
      "source": [
        "Eladk 2021-Sep-17, we need to:\n",
        "\n",
        "\n",
        "*   convert y colum to 5 classes so we can have a classification problem and not a regresion model\n",
        "*   check if the data is inbalance (so we need to use stratify)\n",
        "\n"
      ]
    },
    {
      "cell_type": "markdown",
      "metadata": {
        "id": "wmHb9clEBtu2"
      },
      "source": [
        "# Split the Data for image, video and style post"
      ]
    },
    {
      "cell_type": "code",
      "metadata": {
        "id": "-xDn0t9KEi04"
      },
      "source": [
        "df.info()"
      ],
      "execution_count": null,
      "outputs": []
    },
    {
      "cell_type": "code",
      "metadata": {
        "id": "OfVWrHN8BzN6"
      },
      "source": [
        "df_image = df[df['IS_VIDEO'] == 0]\n",
        "df_image.info()"
      ],
      "execution_count": null,
      "outputs": []
    },
    {
      "cell_type": "code",
      "metadata": {
        "id": "5ufd0c0B50Vx"
      },
      "source": [
        "df_video = df[df['IS_VIDEO']=='yes']\n",
        "df_image = df[df['IS_VIDEO'] == 0]\n",
        "df_image_style = df_image[df_image['IMAGE_LABEL_INTEREST'] == 'style_fashion']"
      ],
      "execution_count": null,
      "outputs": []
    },
    {
      "cell_type": "code",
      "metadata": {
        "id": "uzox1oXHFib3"
      },
      "source": [
        "df_image_style = df_image[df_image['IMAGE_LABEL_INTEREST'] == 'style_fashion']\n",
        "df_image_style.info()"
      ],
      "execution_count": null,
      "outputs": []
    },
    {
      "cell_type": "code",
      "metadata": {
        "id": "xvqUEbmmE_EK"
      },
      "source": [
        "df_video = df[df['IS_VIDEO']=='yes']\n",
        "df_video.info()"
      ],
      "execution_count": null,
      "outputs": []
    },
    {
      "cell_type": "markdown",
      "metadata": {
        "id": "txQpSmQulN2f"
      },
      "source": [
        "# Split the Data for modules"
      ]
    },
    {
      "cell_type": "markdown",
      "metadata": {
        "id": "8R9pK4jD7f6U"
      },
      "source": [
        "select only int and float column types to X \n",
        "seletc LIKES, COMMENTS, ENGAGEMENT as y"
      ]
    },
    {
      "cell_type": "code",
      "metadata": {
        "id": "x8uRD-ir6d2s"
      },
      "source": [
        "df_image.columns"
      ],
      "execution_count": null,
      "outputs": []
    },
    {
      "cell_type": "code",
      "metadata": {
        "id": "LIPj2Ij7FWdi"
      },
      "source": [
        "df_video.columns"
      ],
      "execution_count": null,
      "outputs": []
    },
    {
      "cell_type": "markdown",
      "metadata": {
        "id": "ewQfYHm-SF8d"
      },
      "source": [
        "X is taken from Image interst = style only"
      ]
    },
    {
      "cell_type": "code",
      "metadata": {
        "id": "JNK0bm9s7SNL"
      },
      "source": [
        "X = df_image_style.select_dtypes(include=['number'])\n",
        "X.drop(['LIKES','COMMENTS','ENGAGEMENT','log_ENGAGEMENT'], axis=1, inplace=True) #['LIKES','COMMENTS','ENGAGEMENT']"
      ],
      "execution_count": null,
      "outputs": []
    },
    {
      "cell_type": "code",
      "metadata": {
        "id": "zWfMT2ch6iUA"
      },
      "source": [
        "X.drop(['LIKES_RANK_INT','COMMENTS_RANK_INT','ENGAGEMENT_RANK_INT'], axis=1, inplace=True) #['LIKES','COMMENTS','ENGAGEMENT']"
      ],
      "execution_count": null,
      "outputs": []
    },
    {
      "cell_type": "code",
      "metadata": {
        "id": "XvHdfBNs-nCT"
      },
      "source": [
        "X.drop(['log_LIKES','log_COMMENTS'], axis=1, inplace=True) #['LIKES','COMMENTS','ENGAGEMENT']"
      ],
      "execution_count": null,
      "outputs": []
    },
    {
      "cell_type": "code",
      "metadata": {
        "id": "WmgQCDjD9055"
      },
      "source": [
        "df_video.columns"
      ],
      "execution_count": null,
      "outputs": []
    },
    {
      "cell_type": "code",
      "metadata": {
        "id": "dpsYSMQl8b5b"
      },
      "source": [
        "y = df_image_style['ENGAGEMENT']\n",
        "y1 = df_image_style['log_LIKES']\n",
        "y2 = df_image_style['COMMENTS']\n",
        "y3 = df_image_style['log_ENGAGEMENT']\n",
        "y_ENGAGEMENT_RANK_INT = df_image_style['ENGAGEMENT_RANK_INT']\n",
        "y_LIKES_RANK_INT = df_image_style['LIKES_RANK_INT']\n",
        "y_COMMENTS_RANK_INT = df_image_style['COMMENTS_RANK_INT']"
      ],
      "execution_count": null,
      "outputs": []
    },
    {
      "cell_type": "code",
      "metadata": {
        "id": "3yuZ2qUc_ysg"
      },
      "source": [
        "X_train, X_test, y_train, y_test = train_test_split(X, y1, train_size = train_size\\\n",
        "                           , random_state = rand_state)#, stratify = df.ENGAGEMENT)"
      ],
      "execution_count": null,
      "outputs": []
    },
    {
      "cell_type": "code",
      "metadata": {
        "id": "Vy8CqiHeyyQZ"
      },
      "source": [
        "print('Training Features Shape:', X_train.shape)\n",
        "print('Training Labels (y) Shape:', y_train.shape)\n",
        "print('Testing Features Shape:', X_test.shape)\n",
        "print('Testing Labels(y) Shape:', y_test.shape)"
      ],
      "execution_count": null,
      "outputs": []
    },
    {
      "cell_type": "markdown",
      "metadata": {
        "id": "IEfHCIsglq68"
      },
      "source": [
        "# Mechine Learning  Model for df_image"
      ]
    },
    {
      "cell_type": "markdown",
      "metadata": {
        "id": "4Jr-ID4tld2X"
      },
      "source": [
        "## Appling First1 Model - KNN model"
      ]
    },
    {
      "cell_type": "code",
      "metadata": {
        "id": "8H8qgk8OhilC"
      },
      "source": [
        "rmse_val = [] #to store rmse values for different k\n",
        "for K in range(30):\n",
        "    K = K+1\n",
        "    model = neighbors.KNeighborsRegressor(n_neighbors = K)\n",
        "\n",
        "    model.fit(X_train, y_train)  #fit the model\n",
        "    pred=model.predict(X_test) #make prediction on test set\n",
        "    error = (mse(y_test,pred))**0.5 #calculate rmse\n",
        "    rmse_val.append(error) #store rmse values\n",
        "    print('RMSE value for k= ' , K , 'is:', error)"
      ],
      "execution_count": null,
      "outputs": []
    },
    {
      "cell_type": "code",
      "metadata": {
        "id": "zuPDduwghqRY"
      },
      "source": [
        "#plotting the rmse values against k values\n",
        "curve = pd.DataFrame(rmse_val) #elbow curve \n",
        "curve.plot()"
      ],
      "execution_count": null,
      "outputs": []
    },
    {
      "cell_type": "code",
      "metadata": {
        "id": "K3A0tH80i636"
      },
      "source": [
        "min_mse_k = min(rmse_val)\n",
        "min_index = rmse_val.index(min_mse_k)\n",
        "print(min_index, min_mse_k)"
      ],
      "execution_count": null,
      "outputs": []
    },
    {
      "cell_type": "code",
      "metadata": {
        "id": "wwBEiFn0Du3a"
      },
      "source": [
        "neighbor = min_index\n",
        "knn_model_1 = KNeighborsRegressor(n_neighbors=neighbor).fit(X_train, y_train)"
      ],
      "execution_count": null,
      "outputs": []
    },
    {
      "cell_type": "code",
      "metadata": {
        "id": "wGhxbbeUzDDB"
      },
      "source": [
        "y_train_pred = knn_model_1.predict(X_train)"
      ],
      "execution_count": null,
      "outputs": []
    },
    {
      "cell_type": "code",
      "metadata": {
        "id": "xQau0usPzGFs"
      },
      "source": [
        "ax = sns.scatterplot(x=y_train, y=y_train_pred)\n",
        "ax.plot(y_train, y_train, 'r')"
      ],
      "execution_count": null,
      "outputs": []
    },
    {
      "cell_type": "code",
      "metadata": {
        "id": "lsLYK4vF3p-r"
      },
      "source": [
        "fig = go.Figure()\n",
        "fig.add_trace(go.Scatter(x=list(range(len(y_train[-150:]))), y=y_train[-150:],\n",
        "                         mode='lines',\n",
        "                         name='Prediction'))\n",
        "fig.add_trace(go.Scatter(x=list(range(len(y_train_pred[-150:]))), y=y_train_pred[-150:],\n",
        "                         mode='lines',\n",
        "                         name='True value'))\n",
        "\n",
        "fig.show()"
      ],
      "execution_count": null,
      "outputs": []
    },
    {
      "cell_type": "markdown",
      "metadata": {
        "id": "QtMtVA3Alo6P"
      },
      "source": [
        "## Validating the Model "
      ]
    },
    {
      "cell_type": "code",
      "metadata": {
        "id": "UvIPB3DShe0B"
      },
      "source": [
        "MSE = mse(y_train, y_train_pred)\n",
        "MSE"
      ],
      "execution_count": null,
      "outputs": []
    },
    {
      "cell_type": "code",
      "metadata": {
        "id": "rUK_b_MrA2Nm"
      },
      "source": [
        "like_mse = 10**MSE\n",
        "like_mse"
      ],
      "execution_count": null,
      "outputs": []
    },
    {
      "cell_type": "markdown",
      "metadata": {
        "id": "eb9iPJVNM87B"
      },
      "source": [
        "like_mse = 11.330576957305144"
      ]
    },
    {
      "cell_type": "code",
      "metadata": {
        "id": "HKhnZ1aQhkOW"
      },
      "source": [
        "y_test_pred = knn_model_1.predict(X_test)\n",
        "ax = sns.scatterplot(x=y_test, y=y_test_pred)\n",
        "ax.plot(y_test, y_test, 'r')"
      ],
      "execution_count": null,
      "outputs": []
    },
    {
      "cell_type": "code",
      "metadata": {
        "id": "rAGEawpMiNo1"
      },
      "source": [
        "MSE_KNN = mse(y_test, y_test_pred)\n",
        "print('MSE by likes after knn model', round(10**MSE_KNN,2))\n",
        "\n",
        "print('r2_score: ', round(r2_score(y_test, y_test_pred)*100, 2))"
      ],
      "execution_count": null,
      "outputs": []
    },
    {
      "cell_type": "markdown",
      "metadata": {
        "id": "cBy-Ezg9M_p1"
      },
      "source": [
        "MSE by likes 16.99 <BR>\n",
        "\n",
        "r2_score:  39.33"
      ]
    },
    {
      "cell_type": "markdown",
      "metadata": {
        "id": "t1tZY32LinnW"
      },
      "source": [
        "## Scaled MaxAbsScaler model"
      ]
    },
    {
      "cell_type": "code",
      "metadata": {
        "id": "JeNbo2x7iyk7"
      },
      "source": [
        "my_scaler = MaxAbsScaler().fit(X_train)\n",
        "X_train_scaled = pd.DataFrame(my_scaler.transform(X_train), columns=X_train.columns)\n",
        "X_train_scaled.head()"
      ],
      "execution_count": null,
      "outputs": []
    },
    {
      "cell_type": "code",
      "metadata": {
        "id": "xoD9c6V_i1Iu"
      },
      "source": [
        "knn_model_2 = KNeighborsRegressor(n_neighbors=10).fit(X_train_scaled, y_train)"
      ],
      "execution_count": null,
      "outputs": []
    },
    {
      "cell_type": "code",
      "metadata": {
        "id": "bCA2dniBi69y"
      },
      "source": [
        "y_train_pred_knn_2 = knn_model_2.predict(X_train_scaled)"
      ],
      "execution_count": null,
      "outputs": []
    },
    {
      "cell_type": "code",
      "metadata": {
        "id": "5xVKSBZ6i9Bb"
      },
      "source": [
        "ax = sns.scatterplot(x=y_train, y=y_train_pred_knn_2)\n",
        "ax.plot(y_train, y_train, 'r')"
      ],
      "execution_count": null,
      "outputs": []
    },
    {
      "cell_type": "code",
      "metadata": {
        "id": "401-3iipi_XN"
      },
      "source": [
        "MSE_tr = mse(y_train, y_train_pred_knn_2)\n",
        "MSE_tr"
      ],
      "execution_count": null,
      "outputs": []
    },
    {
      "cell_type": "markdown",
      "metadata": {
        "id": "G_AiPlM9NKUw"
      },
      "source": [
        "MSE_tr = 1.5217511500656686"
      ]
    },
    {
      "cell_type": "code",
      "metadata": {
        "id": "XH0XNEO5jmbK"
      },
      "source": [
        "X_test_scaled = my_scaler.transform(X_test)\n",
        "y_test_pred_scaled = knn_model_2.predict(X_test_scaled)\n",
        "\n",
        "ax = sns.scatterplot(x=y_test, y=y_test_pred_scaled)\n",
        "ax.plot(y_test, y_test, 'r')"
      ],
      "execution_count": null,
      "outputs": []
    },
    {
      "cell_type": "code",
      "metadata": {
        "id": "dlgIARjyjvhs"
      },
      "source": [
        "MSE_maxAbsScalar = mse(y_test, y_test_pred_scaled)\n",
        "MSE_maxAbsScalar"
      ],
      "execution_count": null,
      "outputs": []
    },
    {
      "cell_type": "code",
      "metadata": {
        "id": "w9zx8SQvctqN"
      },
      "source": [
        "MSE_KNN_scaled = mse(y_test, y_test_pred_scaled)\n",
        "print('MSE by likes after knn model', round(10**MSE_KNN_scaled,2))\n",
        "\n",
        "print('r2_score: ', round(r2_score(y_test, y_test_pred_scaled)*100, 2))"
      ],
      "execution_count": null,
      "outputs": []
    },
    {
      "cell_type": "markdown",
      "metadata": {
        "id": "yU9VR2r9dH1w"
      },
      "source": [
        "MSE by likes 67.16 <BR>\n",
        "\n",
        "r2_score:  9.9"
      ]
    },
    {
      "cell_type": "markdown",
      "metadata": {
        "id": "OUbQhXBLNSO4"
      },
      "source": [
        "MSE_maxAbsScalar = "
      ]
    },
    {
      "cell_type": "markdown",
      "metadata": {
        "id": "HoKWz-TKX_uj"
      },
      "source": [
        "## Appling 2nd Model - Decision Tree with bins"
      ]
    },
    {
      "cell_type": "code",
      "metadata": {
        "id": "l0DZM9-0XZ_d"
      },
      "source": [
        "# model_2_dt = DecisionTreeClassifier(\n",
        "#     min_samples_leaf=3\n",
        "#     ,max_depth=5\n",
        "#     )"
      ],
      "execution_count": null,
      "outputs": []
    },
    {
      "cell_type": "code",
      "metadata": {
        "id": "KQhHrVqZ787P"
      },
      "source": [
        "model_2_dt_pred_like = DecisionTreeClassifier(\n",
        "    min_samples_leaf=3\n",
        "    ,max_depth=5\n",
        "    )"
      ],
      "execution_count": null,
      "outputs": []
    },
    {
      "cell_type": "code",
      "metadata": {
        "id": "_q27u7qW79Y0"
      },
      "source": [
        "model_2_dt_pred_comments = DecisionTreeClassifier(\n",
        "    min_samples_leaf=3\n",
        "    ,max_depth=5\n",
        "    )"
      ],
      "execution_count": null,
      "outputs": []
    },
    {
      "cell_type": "code",
      "metadata": {
        "id": "LGw9Js7Y-3W7"
      },
      "source": [
        "X.columns"
      ],
      "execution_count": null,
      "outputs": []
    },
    {
      "cell_type": "code",
      "metadata": {
        "id": "WxyAiLL6Ya4U"
      },
      "source": [
        "# model_2_dt.fit(X, \n",
        "#               y_ENGAGEMENT_RANK_INT)"
      ],
      "execution_count": null,
      "outputs": []
    },
    {
      "cell_type": "code",
      "metadata": {
        "id": "WcnWynaMzhRD"
      },
      "source": [
        "model_2_dt_pred_like.fit(X, \n",
        "              y_LIKES_RANK_INT)"
      ],
      "execution_count": null,
      "outputs": []
    },
    {
      "cell_type": "code",
      "metadata": {
        "id": "HZyDVyTW8Hcf"
      },
      "source": [
        "model_2_dt_pred_comments.fit(X, \n",
        "              y_COMMENTS_RANK_INT)"
      ],
      "execution_count": null,
      "outputs": []
    },
    {
      "cell_type": "code",
      "metadata": {
        "id": "4LeXOrDAe2q5"
      },
      "source": [
        "class_list = [str(x) for x in model_2_dt_pred_comments.classes_]\n",
        "class_list"
      ],
      "execution_count": null,
      "outputs": []
    },
    {
      "cell_type": "code",
      "metadata": {
        "id": "dL3OaXO3ZoMc"
      },
      "source": [
        "dot_data = StringIO()  \n",
        "export_graphviz(model_2_dt_pred_like, out_file=dot_data, feature_names=X.columns, \n",
        "                leaves_parallel=True, filled=True, class_names=[str(x) for x in model_2_dt_pred_like.classes_])\n",
        "graph = pydot.graph_from_dot_data(dot_data.getvalue())[0]  \n",
        "Image(graph.create_png(), width=1000) "
      ],
      "execution_count": null,
      "outputs": []
    },
    {
      "cell_type": "code",
      "metadata": {
        "id": "xuHfejV48SIv"
      },
      "source": [
        "dot_data = StringIO()  \n",
        "export_graphviz(model_2_dt_pred_comments, out_file=dot_data, feature_names=X.columns, \n",
        "                leaves_parallel=True, filled=True, class_names=[str(x) for x in model_2_dt_pred_comments.classes_])\n",
        "graph = pydot.graph_from_dot_data(dot_data.getvalue())[0]  \n",
        "Image(graph.create_png(), width=1000) "
      ],
      "execution_count": null,
      "outputs": []
    },
    {
      "cell_type": "markdown",
      "metadata": {
        "id": "FJ9BxIyLp88_"
      },
      "source": [
        "View Features Emportance:"
      ]
    },
    {
      "cell_type": "code",
      "metadata": {
        "id": "euSQFw0iZ1I4"
      },
      "source": [
        "pd.Series(model_2_dt_pred_like.feature_importances_*100,\n",
        "          index=X.columns).sort_values(ascending=False).round()"
      ],
      "execution_count": null,
      "outputs": []
    },
    {
      "cell_type": "code",
      "metadata": {
        "id": "-W-W6aZH8i2J"
      },
      "source": [
        "pd.Series(model_2_dt_pred_comments.feature_importances_*100,\n",
        "          index=X.columns).sort_values(ascending=False).round()"
      ],
      "execution_count": null,
      "outputs": []
    },
    {
      "cell_type": "markdown",
      "metadata": {
        "id": "RhKAxda_6iuQ"
      },
      "source": [
        "Eladk 2021-Sep-24 comment in first model:\n",
        "\n",
        "*   Why Time is So meaning full?\n",
        "*   What ACCESSIBILITY_CAPTION have corolation with ranking?\n",
        "*   I Need to understand why folloer is very meaningfull\n",
        "*   I Need to understand why USERNAME,userid is very meaningfull"
      ]
    },
    {
      "cell_type": "code",
      "metadata": {
        "id": "FOT2WP_ugxUw"
      },
      "source": [
        "df.head(3)"
      ],
      "execution_count": null,
      "outputs": []
    },
    {
      "cell_type": "code",
      "metadata": {
        "id": "ioxdXnAGdNZx"
      },
      "source": [
        "model_2_dt_pred_like.predict(X)"
      ],
      "execution_count": null,
      "outputs": []
    },
    {
      "cell_type": "code",
      "metadata": {
        "id": "QEIqA8nAATXo"
      },
      "source": [
        "# df['COMMENTS_RANK_INT_pred'] = model_2_dt_pred_comments.predict(X)\n",
        "# df.head(1)"
      ],
      "execution_count": null,
      "outputs": []
    },
    {
      "cell_type": "code",
      "metadata": {
        "id": "EPPPrwsPBAVw"
      },
      "source": [
        "s = pd.Series(model_2_dt_pred_like.feature_importances_*100,\n",
        "          index=X.columns).sort_values(ascending=False)\n",
        "\n",
        "s[s.gt(0)]"
      ],
      "execution_count": null,
      "outputs": []
    },
    {
      "cell_type": "code",
      "metadata": {
        "id": "6JjXQ9sBAY9Z"
      },
      "source": [
        "s = pd.Series(model_2_dt_pred_comments.feature_importances_*100,\n",
        "          index=X.columns).sort_values(ascending=False)\n",
        "\n",
        "s[s.gt(0)]"
      ],
      "execution_count": null,
      "outputs": []
    },
    {
      "cell_type": "code",
      "metadata": {
        "id": "-J6IUP-goKzX"
      },
      "source": [
        "# map_dict_ENGAGEMENT = dict(zip(df.ENGAGEMENT_RANK_INT,df.ENGAGEMENT_RANK))\n",
        "# map_dict_ENGAGEMENT"
      ],
      "execution_count": null,
      "outputs": []
    },
    {
      "cell_type": "code",
      "metadata": {
        "id": "-lkIjq2MkGjj"
      },
      "source": [
        "#df['ENGAGEMENT_RANK_pred'] = df['ENGAGEMENT_RANK_INT_pred'].map(map_dict_ENGAGEMENT)"
      ],
      "execution_count": null,
      "outputs": []
    },
    {
      "cell_type": "markdown",
      "metadata": {
        "id": "VOulAFYJqETj"
      },
      "source": [
        "Evanuating the Model:"
      ]
    },
    {
      "cell_type": "code",
      "metadata": {
        "id": "mNvgTWiG_TnL"
      },
      "source": [
        "#type(df[['ENGAGEMENT_RANK','ENGAGEMENT_RANK_pred']].value_counts())"
      ],
      "execution_count": null,
      "outputs": []
    },
    {
      "cell_type": "code",
      "metadata": {
        "id": "3LgyDpgcAgvG"
      },
      "source": [
        "# df[['LIKES_RANK_INT','LIKES_RANK_INT_pred']].value_counts().sort_index()"
      ],
      "execution_count": null,
      "outputs": []
    },
    {
      "cell_type": "code",
      "metadata": {
        "id": "RwhEp5PuBB0a"
      },
      "source": [
        "# df[['COMMENTS_RANK_INT','COMMENTS_RANK_INT_pred']].value_counts().sort_index()"
      ],
      "execution_count": null,
      "outputs": []
    },
    {
      "cell_type": "code",
      "metadata": {
        "id": "2wprCZbAdOA3"
      },
      "source": [
        "cm = confusion_matrix(y_true=df_image_style.LIKES_RANK_INT,\n",
        "                      y_pred=model_2_dt_pred_like.predict(X))\n",
        "pd.DataFrame(cm,\n",
        "             index=model_2_dt_pred_like.classes_,\n",
        "             columns=model_2_dt_pred_like.classes_)"
      ],
      "execution_count": null,
      "outputs": []
    },
    {
      "cell_type": "code",
      "metadata": {
        "id": "coKexjAjAwmJ"
      },
      "source": [
        "# cm = confusion_matrix(y_true=df.COMMENTS_RANK_INT,\n",
        "#                       y_pred=df.COMMENTS_RANK_INT_pred)\n",
        "# pd.DataFrame(cm,\n",
        "#              index=model_2_dt.classes_,\n",
        "#              columns=model_2_dt.classes_)"
      ],
      "execution_count": null,
      "outputs": []
    },
    {
      "cell_type": "code",
      "metadata": {
        "id": "rxuxXF2aBjFD"
      },
      "source": [
        "print(classification_report(y_true=df_image_style.LIKES_RANK_INT,\n",
        "                      y_pred=model_2_dt_pred_like.predict(X)))"
      ],
      "execution_count": null,
      "outputs": []
    },
    {
      "cell_type": "code",
      "metadata": {
        "id": "u4pSIYqJ8HJ4"
      },
      "source": [
        "# print(classification_report(y_true=df.COMMENTS_RANK_INT,\n",
        "#                       y_pred=df.COMMENTS_RANK_INT_pred))"
      ],
      "execution_count": null,
      "outputs": []
    },
    {
      "cell_type": "code",
      "metadata": {
        "id": "PXLwCQpv8yOG"
      },
      "source": [
        "accuracy_score(y_true=df_image_style.LIKES_RANK_INT,\n",
        "                      y_pred=model_2_dt_pred_like.predict(X))"
      ],
      "execution_count": null,
      "outputs": []
    },
    {
      "cell_type": "markdown",
      "metadata": {
        "id": "Uh80_ucMNe7c"
      },
      "source": [
        "accuracy_score = 0.7713802963348063"
      ]
    },
    {
      "cell_type": "code",
      "metadata": {
        "id": "3j_AWX0NBuDA"
      },
      "source": [
        "# accuracy_score(y_true=df.COMMENTS_RANK_INT, y_pred=df.COMMENTS_RANK_INT_pred)"
      ],
      "execution_count": null,
      "outputs": []
    },
    {
      "cell_type": "code",
      "metadata": {
        "id": "RHdkm_7Rh0wf"
      },
      "source": [
        "# s = pd.Series(model_2_dt_pred_comments.feature_importances_*100,\n",
        "#           index=X.columns).sort_values(ascending=False)\n",
        "\n",
        "# s[s.gt(0)]"
      ],
      "execution_count": null,
      "outputs": []
    },
    {
      "cell_type": "code",
      "metadata": {
        "id": "yqbnx6PNhu1Y"
      },
      "source": [
        "# p = sns.violinplot(x='ENGAGEMENT_RANK', y='HOUR', \n",
        "#                     #order=cut_order, \n",
        "#                     data=df)"
      ],
      "execution_count": null,
      "outputs": []
    },
    {
      "cell_type": "code",
      "metadata": {
        "id": "5ElKkFGDh84Q"
      },
      "source": [
        "# for index, val in pd.Series(model_2_dt.feature_importances_*100,index=X.columns).iteritems():\n",
        "#   if val > 0:\n",
        "#     plt.figure()\n",
        "#     p = sns.violinplot(x='ENGAGEMENT_RANK', y=index, \n",
        "#                     #order=cut_order, \n",
        "#                     data=df)\n",
        "    "
      ],
      "execution_count": null,
      "outputs": []
    },
    {
      "cell_type": "markdown",
      "metadata": {
        "id": "lQNwJ7JHlz9s"
      },
      "source": [
        "## Scoring "
      ]
    },
    {
      "cell_type": "markdown",
      "metadata": {
        "id": "huafxFCPX0Jv"
      },
      "source": [
        "## Appling 3nd Model - Random Forest regression"
      ]
    },
    {
      "cell_type": "code",
      "metadata": {
        "id": "ZAv9GTHabeqm"
      },
      "source": [
        "# # Instantiate model with 1000 decision trees\n",
        "# rf = RandomForestRegressor(n_estimators = 1000, random_state = rand_state)\n",
        "# # Train the model on training data\n",
        "# rf.fit(X_train, y_train);"
      ],
      "execution_count": null,
      "outputs": []
    },
    {
      "cell_type": "code",
      "metadata": {
        "id": "n7HoALaZdyja"
      },
      "source": [
        "# this parameters are best param acording to grid search for this model\n",
        "rf = RandomForestRegressor(\n",
        "bootstrap= True,\n",
        "max_depth= 35,\n",
        "max_features= 3,\n",
        "min_samples_leaf= 3,\n",
        "min_samples_split= 8,\n",
        "n_estimators= 200)\n",
        "# Train the model on training data\n",
        "rf.fit(X_train, y_train);"
      ],
      "execution_count": null,
      "outputs": []
    },
    {
      "cell_type": "markdown",
      "metadata": {
        "id": "oWA-rT_weQIX"
      },
      "source": [
        "Best Params according to grid search <BR>\n",
        "\n",
        "{'bootstrap': True,\n",
        " 'max_depth': 35,\n",
        " 'max_features': 3,\n",
        " 'min_samples_leaf': 3,\n",
        " 'min_samples_split': 8,\n",
        " 'n_estimators': 200}"
      ]
    },
    {
      "cell_type": "code",
      "metadata": {
        "id": "URCAWW4mgEpn"
      },
      "source": [
        "# Use the forest's predict method on the test data\n",
        "rf_predictions = rf.predict(X_test)\n",
        "# Calculate the absolute errors\n",
        "errors = abs(rf_predictions - y_test)\n",
        "# Print out the mean absolute error (mae)\n",
        "print('Mean Absolute Error:', round(np.mean(errors), 2), 'log_of_Likes.')\n",
        "print('Mean Absolute Error:', round(10**round(np.mean(errors), 2),2), 'likes.')"
      ],
      "execution_count": null,
      "outputs": []
    },
    {
      "cell_type": "markdown",
      "metadata": {
        "id": "t1N-XEwjdvdN"
      },
      "source": [
        "Mean Absolute Error: 0.51 log_of_Likes.\n",
        "<BR>\n",
        "Mean Absolute Error: 3.24 likes."
      ]
    },
    {
      "cell_type": "code",
      "metadata": {
        "id": "kxmCw0GurMQ-"
      },
      "source": [
        "ax = sns.scatterplot(x=y_test, y=rf_predictions)\n",
        "ax.plot(y_train, y_train, 'r')"
      ],
      "execution_count": null,
      "outputs": []
    },
    {
      "cell_type": "code",
      "metadata": {
        "id": "UiEF1fJ6ssib"
      },
      "source": [
        "x = np.linspace(0, len(y_test), len(y_test))\n",
        "fig = plt.figure(figsize=(9, 10))\n",
        "plt.plot(x, y_test, label='y_test')\n",
        "plt.plot(x, rf_predictions, label='y_prep')\n",
        "plt.xlabel('index')\n",
        "plt.ylabel('log_engament')\n",
        "plt.legend()\n",
        "plt.show()"
      ],
      "execution_count": null,
      "outputs": []
    },
    {
      "cell_type": "code",
      "metadata": {
        "id": "KK_M9AVGiS1q"
      },
      "source": [
        "rf_y_train_pred = rf.predict(X_train)\n",
        "MSE = mse(y_train, rf_y_train_pred)\n",
        "MSE"
      ],
      "execution_count": null,
      "outputs": []
    },
    {
      "cell_type": "markdown",
      "metadata": {
        "id": "sEO0n3VvNwRh"
      },
      "source": [
        "MSR_rf =0.030273338737538496\n"
      ]
    },
    {
      "cell_type": "code",
      "metadata": {
        "id": "OaYLvhmvBsiP"
      },
      "source": [
        "rf_y_test_pred = rf.predict(X_test)\n",
        "MSE_rf = mse(y_test, rf_y_test_pred)\n",
        "MSE_rf # = 0.20969612433881218\n",
        "\n",
        "print('MSE by likes after Random forest model', round(10**MSE_rf,2))\n"
      ],
      "execution_count": null,
      "outputs": []
    },
    {
      "cell_type": "markdown",
      "metadata": {
        "id": "Q6WtkfRFNujs"
      },
      "source": [
        "MSR_rf = 3.09 Likes"
      ]
    },
    {
      "cell_type": "markdown",
      "metadata": {
        "id": "B8isIN4hN18J"
      },
      "source": [
        "Looks like we have a major overfitting hear..."
      ]
    },
    {
      "cell_type": "code",
      "metadata": {
        "id": "4XbPFLONhEwG"
      },
      "source": [
        "pd.Series(rf.feature_importances_, index=X_train.columns).\\\n",
        "sort_values(ascending=False)"
      ],
      "execution_count": null,
      "outputs": []
    },
    {
      "cell_type": "code",
      "metadata": {
        "id": "O5Fm6APsB_3I"
      },
      "source": [
        "from pprint import pprint\n",
        "# Look at parameters used by our current forest\n",
        "print('Parameters currently in use:\\n')\n",
        "pprint(rf.get_params())"
      ],
      "execution_count": null,
      "outputs": []
    },
    {
      "cell_type": "code",
      "metadata": {
        "id": "v2dDV9w_COww"
      },
      "source": [
        "def evaluate(model, test_features, test_labels):\n",
        "    predictions = model.predict(test_features)\n",
        "    errors = abs(predictions - test_labels)\n",
        "    mape = 100 * np.mean(errors / test_labels)\n",
        "    accuracy = 100 - mape\n",
        "    print('Model Performance')\n",
        "    print('Average Error: {:0.4f} degrees.'.format(np.mean(errors)))\n",
        "    print('Accuracy = {:0.2f}%.'.format(accuracy))"
      ],
      "execution_count": null,
      "outputs": []
    },
    {
      "cell_type": "code",
      "metadata": {
        "id": "K8zFWKgNCRTK"
      },
      "source": [
        "from sklearn.model_selection import GridSearchCV\n",
        "# Create the parameter grid based on the results of random search \n",
        "param_grid = {\n",
        "    'bootstrap': [True],\n",
        "    'max_depth': [20, 35, 50],\n",
        "    'max_features': [2, 3],\n",
        "    'min_samples_leaf': [3, 4, 5],\n",
        "    'min_samples_split': [8, 10, 12],\n",
        "    'n_estimators': [100, 200, 1000]\n",
        "}\n",
        "# Create a based model\n",
        "rf = RandomForestRegressor()\n",
        "# Instantiate the grid search model\n",
        "grid_search = GridSearchCV(estimator = rf, param_grid = param_grid, \n",
        "                          cv = 3, n_jobs = -1, verbose = 2)"
      ],
      "execution_count": null,
      "outputs": []
    },
    {
      "cell_type": "markdown",
      "metadata": {
        "id": "swUy7Pd3QBOp"
      },
      "source": [
        "### Random Forest Regression Grid search"
      ]
    },
    {
      "cell_type": "code",
      "metadata": {
        "id": "noH4SHd8CUFL"
      },
      "source": [
        "# # Fit the grid search to the data\n",
        "# grid_search.fit(X_train, y_train)\n",
        "# grid_search.best_params_\n",
        "# {'bootstrap': True,\n",
        "#  'max_depth': 80,\n",
        "#  'max_features': 3,\n",
        "#  'min_samples_leaf': 5,\n",
        "#  'min_samples_split': 12,\n",
        "#  'n_estimators': 100}\n",
        "# best_grid = grid_search.best_estimator_\n",
        "# grid_accuracy = evaluate(best_grid, X_test, y_test)\n",
        "# #Model Performance\n",
        "# #Average Error: 3.6561 degrees.\n",
        "# #Accuracy = 93.83%.\n",
        "# #print('Improvement of {:0.2f}%.'.format( 100 * (grid_accuracy - base_accuracy) / base_accuracy))\n",
        "# #Improvement of 0.50%."
      ],
      "execution_count": null,
      "outputs": []
    },
    {
      "cell_type": "code",
      "metadata": {
        "id": "PDtza7MACU7M"
      },
      "source": [
        "#grid_search.best_params_"
      ],
      "execution_count": null,
      "outputs": []
    },
    {
      "cell_type": "markdown",
      "metadata": {
        "id": "VbyKe7C7dorg"
      },
      "source": [
        "{'bootstrap': True,\n",
        " 'max_depth': 35,\n",
        " 'max_features': 3,\n",
        " 'min_samples_leaf': 3,\n",
        " 'min_samples_split': 8,\n",
        " 'n_estimators': 200}"
      ]
    },
    {
      "cell_type": "markdown",
      "metadata": {
        "id": "k5PIH6sUe5_j"
      },
      "source": [
        "Avaluate Random Forest Regression model"
      ]
    },
    {
      "cell_type": "markdown",
      "metadata": {
        "id": "pD8OF8Izocmm"
      },
      "source": [
        "## Appling 4nd Model - Random Forest Classification "
      ]
    },
    {
      "cell_type": "code",
      "metadata": {
        "id": "FHwBoNqp1Bsy"
      },
      "source": [
        "X_train_4, X_test_4, y_train_4, y_test_4 = train_test_split(X, y_LIKES_RANK_INT, train_size = train_size\\\n",
        "                           , random_state = rand_state)#, stratify = df.ENGAGEMENT)"
      ],
      "execution_count": null,
      "outputs": []
    },
    {
      "cell_type": "code",
      "metadata": {
        "id": "By87tKVk0BsP"
      },
      "source": [
        "# X_train_4, X_test_4, y_train_4, y_test_4 = train_test_split(X, y_COMMENTS_RANK_INT, train_size = train_size\\\n",
        "#                            , random_state = rand_state)#, stratify = df.ENGAGEMENT)"
      ],
      "execution_count": null,
      "outputs": []
    },
    {
      "cell_type": "code",
      "metadata": {
        "id": "7AMExxQ_zuxg"
      },
      "source": [
        "# X_train_4.drop(columns='VIDEO_VIEW_COUNT', inplace=True)\n",
        "# X_test_4.drop(columns='VIDEO_VIEW_COUNT', inplace=True)"
      ],
      "execution_count": null,
      "outputs": []
    },
    {
      "cell_type": "code",
      "metadata": {
        "id": "h-EApVaa10VT"
      },
      "source": [
        "X_train_4.columns"
      ],
      "execution_count": null,
      "outputs": []
    },
    {
      "cell_type": "code",
      "metadata": {
        "id": "45stLozczjWr"
      },
      "source": [
        "model_rf_4 = RandomForestClassifier()\n",
        "\n",
        "model_rf_4.fit(X_train_4,y_train_4) # X_test_4 is Engagment_rank\n",
        "preds= model_rf_4.predict_proba(X_train_4)[:,1]\n",
        "\n",
        "#roc_auc_score(y_test_4,preds)"
      ],
      "execution_count": null,
      "outputs": []
    },
    {
      "cell_type": "code",
      "metadata": {
        "id": "mdGHSSUeASx8"
      },
      "source": [
        "# map_dict_ENGAGEMENT = dict(zip(df.ENGAGEMENT_RANK_INT,df.ENGAGEMENT_RANK))"
      ],
      "execution_count": null,
      "outputs": []
    },
    {
      "cell_type": "code",
      "metadata": {
        "id": "wM0hrxCyyaBF"
      },
      "source": [
        "pd.Series(model_rf_4.feature_importances_*100, index=X_train_4.columns).sort_values(ascending=False).round()#.plot.barh(figsize=(14,12))"
      ],
      "execution_count": null,
      "outputs": []
    },
    {
      "cell_type": "code",
      "metadata": {
        "id": "V9m93GGc5SzE"
      },
      "source": [
        "from sklearn import tree"
      ],
      "execution_count": null,
      "outputs": []
    },
    {
      "cell_type": "code",
      "metadata": {
        "id": "bIxmOhJV6dcw"
      },
      "source": [
        "import six"
      ],
      "execution_count": null,
      "outputs": []
    },
    {
      "cell_type": "code",
      "metadata": {
        "id": "Zrol2vV95I3N"
      },
      "source": [
        "_ = tree.plot_tree(model_rf_4.estimators_[0], feature_names=X_train_4.columns, filled=True)"
      ],
      "execution_count": null,
      "outputs": []
    },
    {
      "cell_type": "code",
      "metadata": {
        "id": "RK8Epcn2_39W"
      },
      "source": [
        "X_train_4.columns"
      ],
      "execution_count": null,
      "outputs": []
    },
    {
      "cell_type": "code",
      "metadata": {
        "id": "uzctsc_h_8hl"
      },
      "source": [
        "X_train_4.head(3)"
      ],
      "execution_count": null,
      "outputs": []
    },
    {
      "cell_type": "code",
      "metadata": {
        "id": "SfmygXYA8aOI"
      },
      "source": [
        "X_train_4['y_LIKES_RANK_INT_pred_rf'] = model_rf_4.predict(X_train_4)"
      ],
      "execution_count": null,
      "outputs": []
    },
    {
      "cell_type": "code",
      "metadata": {
        "id": "wyFkp4xtBFeU"
      },
      "source": [
        "X_train_4.head(3)"
      ],
      "execution_count": null,
      "outputs": []
    },
    {
      "cell_type": "code",
      "metadata": {
        "id": "3aFsj193BRuD"
      },
      "source": [
        "X_train_4 = pd.concat([X_train_4, y_train_4], axis=1).reset_index()"
      ],
      "execution_count": null,
      "outputs": []
    },
    {
      "cell_type": "code",
      "metadata": {
        "id": "rbfvWG1cBoqi"
      },
      "source": [
        "X_train_4.head(3)"
      ],
      "execution_count": null,
      "outputs": []
    },
    {
      "cell_type": "code",
      "metadata": {
        "id": "r220I9dBD0E8"
      },
      "source": [
        "print(len(X_train_4))"
      ],
      "execution_count": null,
      "outputs": []
    },
    {
      "cell_type": "code",
      "metadata": {
        "id": "cErDB1_7D6jk"
      },
      "source": [
        "#len(X_train_4[X_train_4.y_ENGAGEMENT_RANK_INT_pred_rf == X_train_4.ENGAGEMENT_RANK_INT])"
      ],
      "execution_count": null,
      "outputs": []
    },
    {
      "cell_type": "code",
      "metadata": {
        "id": "I_3D4mYN8SXc"
      },
      "source": [
        "cm = confusion_matrix(y_true=y_train_4,\n",
        "                      y_pred=X_train_4['y_LIKES_RANK_INT_pred_rf'])\n",
        "pd.DataFrame(cm,\n",
        "             index=model_rf_4.classes_,\n",
        "             columns=model_rf_4.classes_)"
      ],
      "execution_count": null,
      "outputs": []
    },
    {
      "cell_type": "code",
      "metadata": {
        "id": "Ae1XXLbvJHhj"
      },
      "source": [
        "X_train_4.columns"
      ],
      "execution_count": null,
      "outputs": []
    },
    {
      "cell_type": "code",
      "metadata": {
        "id": "p07cwbWBJCCu"
      },
      "source": [
        "print(classification_report(y_true=y_train_4,\n",
        "                      y_pred=X_train_4.y_LIKES_RANK_INT_pred_rf))"
      ],
      "execution_count": null,
      "outputs": []
    },
    {
      "cell_type": "markdown",
      "metadata": {
        "id": "NPk2pO5XI28e"
      },
      "source": [
        "**WTF!!!**"
      ]
    },
    {
      "cell_type": "code",
      "metadata": {
        "id": "KkgaImgHI2dJ"
      },
      "source": [
        "# print(classification_report(y_true=df.ENGAGEMENT_RANK_INT,\n",
        "#                       y_pred=df.ENGAGEMENT_RANK_INT_pred))"
      ],
      "execution_count": null,
      "outputs": []
    },
    {
      "cell_type": "code",
      "metadata": {
        "id": "u9TOaYe7GKGA"
      },
      "source": [
        "X_test_4.columns"
      ],
      "execution_count": null,
      "outputs": []
    },
    {
      "cell_type": "code",
      "metadata": {
        "id": "h5vP5sRIGtt-"
      },
      "source": [
        "X_test_4.head(3)"
      ],
      "execution_count": null,
      "outputs": []
    },
    {
      "cell_type": "code",
      "metadata": {
        "id": "YhS0o0kFGIKV"
      },
      "source": [
        "# X_test_4['y_ENGAGEMENT_RANK_INT_pred'] = model_rf_4.predict(X_test_4)"
      ],
      "execution_count": null,
      "outputs": []
    },
    {
      "cell_type": "code",
      "metadata": {
        "id": "ZnX_PWAhGqOq"
      },
      "source": [
        "X_test_4.head(3)"
      ],
      "execution_count": null,
      "outputs": []
    },
    {
      "cell_type": "code",
      "metadata": {
        "id": "6w9-msDKGxbg"
      },
      "source": [
        "# pd.concat([X_test_4, df4.reindex(df1.index)], axis=1)\n",
        "# X_test_4 = pd.concat([X_test_4, y_test_4], axis=1).reindex(X_test_4.index)"
      ],
      "execution_count": null,
      "outputs": []
    },
    {
      "cell_type": "code",
      "metadata": {
        "id": "Q1vgycgnGwwI"
      },
      "source": [
        "X_test_4.head(3)"
      ],
      "execution_count": null,
      "outputs": []
    },
    {
      "cell_type": "code",
      "metadata": {
        "id": "Mm7I3_FCIO4H"
      },
      "source": [
        "# X_test_4[['ENGAGEMENT_RANK_INT','y_ENGAGEMENT_RANK_INT_pred']].value_counts().sort_index()"
      ],
      "execution_count": null,
      "outputs": []
    },
    {
      "cell_type": "code",
      "metadata": {
        "id": "AntgXf1PIgqK"
      },
      "source": [
        "# cm = confusion_matrix(y_true=X_test_4.ENGAGEMENT_RANK_INT,\n",
        "#                       y_pred=X_test_4.y_ENGAGEMENT_RANK_INT_pred)\n",
        "# pd.DataFrame(cm,\n",
        "#              index=model_2_dt.classes_,\n",
        "#              columns=model_2_dt.classes_)"
      ],
      "execution_count": null,
      "outputs": []
    },
    {
      "cell_type": "code",
      "metadata": {
        "id": "97lFycAOJb9B"
      },
      "source": [
        "# print(classification_report(y_test_4,\n",
        "#                       y_pred=X_test_4.y_ENGAGEMENT_RANK_INT_pred))"
      ],
      "execution_count": null,
      "outputs": []
    },
    {
      "cell_type": "markdown",
      "metadata": {
        "id": "XSEFuUof8IaW"
      },
      "source": [
        "Visualize the Random Forest:"
      ]
    },
    {
      "cell_type": "code",
      "metadata": {
        "id": "7ZQKbFtv6J6r"
      },
      "source": [
        "# dotfile = six.StringIO()\n",
        "# i_tree = 0\n",
        "# for tree_in_forest in model_rf_4.estimators_:\n",
        "#   if (i_tree <1):        \n",
        "#       export_graphviz(model_rf_4,\n",
        "#                   feature_names=X_train_4.columns,\n",
        "#                   filled=True,\n",
        "#                   rounded=True)\n",
        "#       pydotplus.graph_from_dot_data(dotfile.getvalue()).write_png('dtree'+ str(i_tree) +'.png')\n",
        "#       i_tree = i_tree + 1"
      ],
      "execution_count": null,
      "outputs": []
    },
    {
      "cell_type": "markdown",
      "metadata": {
        "id": "fjs1pAoYCfNa"
      },
      "source": [
        "## Appling 5nd Model - XGBoost regression\n"
      ]
    },
    {
      "cell_type": "code",
      "metadata": {
        "id": "wijX7cMxCqIl"
      },
      "source": [
        "XGB_reg = xgb.XGBRegressor()"
      ],
      "execution_count": null,
      "outputs": []
    },
    {
      "cell_type": "markdown",
      "metadata": {
        "id": "NL7E8JlaqpbD"
      },
      "source": [
        "Create XGBoots wiht best param found:"
      ]
    },
    {
      "cell_type": "code",
      "metadata": {
        "id": "j0vicAk-Bdf3"
      },
      "source": [
        "XGB_reg = xgb.XGBRegressor(\n",
        "colsample_bytree= 0.7, max_depth= 2, n_estimators= 200\n",
        ")"
      ],
      "execution_count": null,
      "outputs": []
    },
    {
      "cell_type": "code",
      "metadata": {
        "id": "Ky2rDMOkqveW"
      },
      "source": [
        "XGB_reg = xgb.XGBRegressor(\n",
        "colsample_bytree= 0.7, max_depth= 2, n_estimators= 200\n",
        ")"
      ],
      "execution_count": null,
      "outputs": []
    },
    {
      "cell_type": "code",
      "metadata": {
        "id": "xFLotximCtBK"
      },
      "source": [
        "print(XGB_reg)"
      ],
      "execution_count": null,
      "outputs": []
    },
    {
      "cell_type": "code",
      "metadata": {
        "id": "pVDaOyYHCtuC"
      },
      "source": [
        "XGB_reg.fit(X_train, y_train)"
      ],
      "execution_count": null,
      "outputs": []
    },
    {
      "cell_type": "code",
      "metadata": {
        "id": "KzsO58r4Cviq"
      },
      "source": [
        "score = XGB_reg.score(X_train, y_train)  \n",
        "print(\"Training score: \", score)"
      ],
      "execution_count": null,
      "outputs": []
    },
    {
      "cell_type": "markdown",
      "metadata": {
        "id": "AfklrlqIs_cI"
      },
      "source": [
        "Training score:  0.9077780323698028"
      ]
    },
    {
      "cell_type": "code",
      "metadata": {
        "id": "RJbJCJYhCxWW"
      },
      "source": [
        "scores = cross_val_score(XGB_reg, X_train, y_train,cv=10)\n",
        "print(\"Mean cross-validation score: %.2f\" % scores.mean())"
      ],
      "execution_count": null,
      "outputs": []
    },
    {
      "cell_type": "code",
      "metadata": {
        "id": "fK-i0KuRC0LF"
      },
      "source": [
        "X_test_copy = X_test.copy()\n",
        "\n",
        "y_test_pred= XGB_reg.predict(X_test)\n",
        "X_test_copy['y_test_pred'] = XGB_reg.predict(X_test)\n",
        "\n",
        "mse_XGB = mse(y_test, y_test_pred)\n",
        "\n",
        "score_test = XGB_reg.score(X_test,y_test_pred)  \n",
        "\n",
        "print(\"test score: \", round(score_test,2))\n",
        "print(\"MSE: %.2f\" % mse_XGB)\n",
        "print(\"RMSE: %.2f\" % (mse_XGB**0.5))\n",
        "\n",
        "print('MSE by likes after XGBoost model', round(10**mse_XGB,2))\n",
        "\n"
      ],
      "execution_count": null,
      "outputs": []
    },
    {
      "cell_type": "code",
      "metadata": {
        "id": "8eexkOEL07xn"
      },
      "source": [
        "score = XGB_reg.score(X_test, y_test_pred)  \n",
        "print(\"test score: \", score)"
      ],
      "execution_count": null,
      "outputs": []
    },
    {
      "cell_type": "code",
      "metadata": {
        "id": "sxgX2mBK1B9e"
      },
      "source": [
        "scores = cross_val_score(XGB_reg, X_test, y_test_pred,cv=10)\n",
        "print(\"Mean cross-validation score: %.2f\" % scores.mean())"
      ],
      "execution_count": null,
      "outputs": []
    },
    {
      "cell_type": "code",
      "metadata": {
        "id": "IkgDpAZdiPkF"
      },
      "source": [
        "Series1 = 10**X_test_copy.y_test_pred\n",
        "Series2= X_test.mean_likes\n",
        "series3 = 10**y_test\n",
        "series4 = series3 - Series1\n",
        "series5 = Series1 - Series2\n",
        "res = round(pd.DataFrame({'like_predication': Series1, 'mean_likes': Series2 \\\n",
        "                    , 'real_like': series3, \\\n",
        "                    'diff between like_predication and real_like': series4, \\\n",
        "                    'diff between like_predication and mean like': series5}))\n"
      ],
      "execution_count": null,
      "outputs": []
    },
    {
      "cell_type": "code",
      "metadata": {
        "id": "FEHwCa1W9jrO"
      },
      "source": [
        "res.sample(10)"
      ],
      "execution_count": null,
      "outputs": []
    },
    {
      "cell_type": "code",
      "metadata": {
        "id": "M2C-bR8dry71"
      },
      "source": [
        "res.isnull().values.any()"
      ],
      "execution_count": null,
      "outputs": []
    },
    {
      "cell_type": "code",
      "metadata": {
        "id": "iJ_OEjKIkDO-"
      },
      "source": [
        "plot(res, \"diff between like_predication and real_like\")"
      ],
      "execution_count": null,
      "outputs": []
    },
    {
      "cell_type": "code",
      "metadata": {
        "id": "ijI-B3siB0aR"
      },
      "source": [
        "plot(res, \"diff between like_predication and mean like\")"
      ],
      "execution_count": null,
      "outputs": []
    },
    {
      "cell_type": "code",
      "metadata": {
        "id": "0nIpL7FHCG3C"
      },
      "source": [
        "x_ax = range(len(y_test))\n",
        "fig = plt.figure(figsize=(9, 10))\n",
        "plt.plot(x_ax, np.log1p(series4), label=\"diff between like_predication and real_like\")\n",
        "plt.title(\"XGBoost test and predicted data\")\n",
        "plt.legend()\n",
        "plt.show()"
      ],
      "execution_count": null,
      "outputs": []
    },
    {
      "cell_type": "code",
      "metadata": {
        "id": "j198QcYxn7Cm"
      },
      "source": [
        "x_ax = range(len(y_test))\n",
        "fig = plt.figure(figsize=(9, 10))\n",
        "plt.plot(x_ax, series4, label=\"diff between like_predication and real_like\")\n",
        "plt.title(\"XGBoost test and predicted data\")\n",
        "plt.legend()\n",
        "plt.show()"
      ],
      "execution_count": null,
      "outputs": []
    },
    {
      "cell_type": "markdown",
      "metadata": {
        "id": "xQ4oMMW5q9xe"
      },
      "source": [
        "Test score:  0.90 <BR>\n",
        "MSE: 0.20 <BR>\n",
        "RMSE: 0.45 <BR>\n",
        "MSE by Likes: 1.59"
      ]
    },
    {
      "cell_type": "code",
      "metadata": {
        "id": "BvMgDsYWC2M7"
      },
      "source": [
        "x_ax = range(len(y_test))\n",
        "fig = plt.figure(figsize=(9, 10))\n",
        "plt.plot(x_ax, y_test, label=\"original\")\n",
        "plt.plot(x_ax, y_test_pred, label=\"predicted\")\n",
        "plt.plot(x_ax, np.log1p(X_test.mean_likes), label=\"mean_likes\")\n",
        "plt.title(\"XGBoost test and predicted data\")\n",
        "plt.legend()\n",
        "plt.show()"
      ],
      "execution_count": null,
      "outputs": []
    },
    {
      "cell_type": "code",
      "metadata": {
        "id": "HbPoc3y2C40y"
      },
      "source": [
        "# XGB_param_grid = {'colsample_bytree': [0.3, 0.7, 1.0, 1.2],\n",
        "#     'n_estimators': [50,100,200],    'max_depth': [2,3,4]\n",
        "# }\n",
        "# XGB_reg_grid = xgb.XGBRegressor()\n",
        "# grid_mse = GridSearchCV(param_grid=XGB_param_grid, estimator=XGB_reg_grid, \n",
        "#                         scoring='neg_mean_squared_error', cv=4, verbose=1)\n",
        "# grid_mse.fit(X, y)\n",
        "# # Print the best parameters and lowest RMSE\n",
        "# print(\"Best parameters found: \", grid_mse.best_params_)\n",
        "# print(\"Lowest RMSE found: \", np.sqrt(np.abs(grid_mse.best_score_)))"
      ],
      "execution_count": null,
      "outputs": []
    },
    {
      "cell_type": "markdown",
      "metadata": {
        "id": "jUjMOGeHqe-h"
      },
      "source": [
        "Best parameters found:  <BR>\n",
        "{'colsample_bytree': 0.7, 'max_depth': 2, 'n_estimators': 200} <BR>\n",
        "Lowest RMSE found:  5.775132210562886"
      ]
    }
  ]
}