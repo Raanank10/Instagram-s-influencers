{
  "nbformat": 4,
  "nbformat_minor": 0,
  "metadata": {
    "colab": {
      "name": "Instagram_influencers.ipynb",
      "provenance": [],
      "collapsed_sections": [],
      "toc_visible": true,
      "include_colab_link": true
    },
    "kernelspec": {
      "name": "python3",
      "display_name": "Python 3"
    },
    "language_info": {
      "name": "python"
    }
  },
  "cells": [
    {
      "cell_type": "markdown",
      "metadata": {
        "id": "view-in-github",
        "colab_type": "text"
      },
      "source": [
        "<a href=\"https://colab.research.google.com/github/Raanank10/Instagram-s-influencers/blob/Eladk_20210922/Instagram_influencers.ipynb\" target=\"_parent\"><img src=\"https://colab.research.google.com/assets/colab-badge.svg\" alt=\"Open In Colab\"/></a>"
      ]
    },
    {
      "cell_type": "markdown",
      "metadata": {
        "id": "wC1M-xaCmpct"
      },
      "source": [
        "**Instagram_influencers**"
      ]
    },
    {
      "cell_type": "markdown",
      "metadata": {
        "id": "CYHKFYQIsYs3"
      },
      "source": [
        "# Global Parameters"
      ]
    },
    {
      "cell_type": "code",
      "metadata": {
        "id": "1qeiaDu9mi-Y"
      },
      "source": [
        "path = 'https://raw.githubusercontent.com/Raanank10/Instagram-s-influencers/main/ai_posts_analysis_data.xlsx'\n",
        "fname = 'ai_posts_analysis_data.xlsx'\n",
        "# fname = 'https://github.com/Raanank10/Instagram-s-influencers/blob/ai_posts_analysis_data.xlsx'\n",
        "# fname = 'https://github.com/Raanank10/Instagram-s-influencers/blob/main/ai_posts_analysis_data.xlsx'\n",
        "\n",
        "\n",
        "train_size = 0.75\n",
        "rand_state = 990\n",
        "sigma = 3\n",
        "\n",
        "# Bining\n",
        "bin_labels=['Low','Medium','High', 'Very High','Extreme']"
      ],
      "execution_count": 114,
      "outputs": []
    },
    {
      "cell_type": "markdown",
      "metadata": {
        "id": "aI1qxfM0j0KY"
      },
      "source": [
        "# Get the Data"
      ]
    },
    {
      "cell_type": "code",
      "metadata": {
        "id": "b2moKRJvjzUv"
      },
      "source": [
        "# General Tools\n",
        "import numpy as np\n",
        "import scipy as sp\n",
        "import pandas as pd\n",
        "import missingno as msno\n",
        "\n",
        "# SK Learn\n",
        "from sklearn.impute import SimpleImputer\n",
        "from sklearn.tree import DecisionTreeClassifier\n",
        "from sklearn.neighbors import KNeighborsClassifier\n",
        "from sklearn.linear_model import LogisticRegression\n",
        "from sklearn import preprocessing\n",
        "from sklearn.ensemble import RandomForestClassifier\n",
        "from sklearn.preprocessing import MaxAbsScaler, MinMaxScaler, StandardScaler\n",
        "from sklearn.metrics import confusion_matrix, accuracy_score\n",
        "from sklearn.metrics import precision_score, recall_score, f1_score\n",
        "from sklearn.metrics import accuracy_score , confusion_matrix, roc_auc_score, roc_curve\n",
        "from sklearn.metrics import log_loss\n",
        "from sklearn.metrics import classification_report # elad 20210708\n",
        "from sklearn.neighbors import KNeighborsRegressor\n",
        "from sklearn.model_selection import train_test_split, GridSearchCV\n",
        "from sklearn.feature_selection import SelectKBest, chi2, f_classif, mutual_info_classif\n",
        "from sklearn.model_selection import cross_val_score\n",
        "from sklearn.model_selection import StratifiedShuffleSplit\n",
        "\n",
        "from sklearn.preprocessing import OrdinalEncoder # elad 20210911\n",
        "\n",
        "# Trees Visualization\n",
        "import pydot\n",
        "from sklearn.tree import export_graphviz\n",
        "from sklearn.externals.six import StringIO\n",
        "\n",
        "# For scoring\n",
        "from sklearn.metrics import mean_squared_log_error as msle\n",
        "from sklearn.metrics import mean_squared_error as mse\n",
        "from sklearn.metrics import r2_score\n",
        "\n",
        "# Misc\n",
        "import warnings\n",
        "from sys import modules\n",
        "from time import time\n",
        "from platform import python_version\n",
        "\n",
        "# Visualization\n",
        "import matplotlib.pyplot as plt\n",
        "import plotly.express as px\n",
        "import seaborn as sns\n",
        "import plotly.graph_objects as go\n",
        "\n",
        "# IPython\n",
        "from IPython.display import Image, display\n",
        "\n",
        "# Confuguration\n",
        "warnings.filterwarnings('ignore')\n",
        "%matplotlib inline"
      ],
      "execution_count": 115,
      "outputs": []
    },
    {
      "cell_type": "code",
      "metadata": {
        "colab": {
          "base_uri": "https://localhost:8080/",
          "height": 1000
        },
        "id": "eNBD7EhXrkpI",
        "outputId": "43783404-025e-4847-8139-d665f30d46a7"
      },
      "source": [
        "df = pd.read_csv(path, index_col=0)  \n",
        "df.head()"
      ],
      "execution_count": 116,
      "outputs": [
        {
          "output_type": "execute_result",
          "data": {
            "text/html": [
              "<div>\n",
              "<style scoped>\n",
              "    .dataframe tbody tr th:only-of-type {\n",
              "        vertical-align: middle;\n",
              "    }\n",
              "\n",
              "    .dataframe tbody tr th {\n",
              "        vertical-align: top;\n",
              "    }\n",
              "\n",
              "    .dataframe thead th {\n",
              "        text-align: right;\n",
              "    }\n",
              "</style>\n",
              "<table border=\"1\" class=\"dataframe\">\n",
              "  <thead>\n",
              "    <tr style=\"text-align: right;\">\n",
              "      <th></th>\n",
              "      <th>USERID</th>\n",
              "      <th>USERNAME</th>\n",
              "      <th>FULLNAME</th>\n",
              "      <th>FOLLOWER</th>\n",
              "      <th>POST ID</th>\n",
              "      <th>SHORTCODE</th>\n",
              "      <th>LIKES</th>\n",
              "      <th>COMMENTS</th>\n",
              "      <th>ENGAGEMENT</th>\n",
              "      <th>URL</th>\n",
              "      <th>ACCESSIBILITY CAPTION</th>\n",
              "      <th>CAPTION</th>\n",
              "      <th>LOCATION</th>\n",
              "      <th>CITY</th>\n",
              "      <th>COUNTRY</th>\n",
              "      <th>TIME</th>\n",
              "      <th>IMAGE LABELS</th>\n",
              "      <th>CAPTION INTEREST</th>\n",
              "      <th>ACCESSIBILITY CAPTION INTEREST</th>\n",
              "      <th>IMAGE LABEL INTEREST</th>\n",
              "      <th>IMAGE URL</th>\n",
              "      <th>COMMENT DISABLED</th>\n",
              "      <th>IS VIDEO</th>\n",
              "      <th>HAS AUDIO</th>\n",
              "      <th>VIDEO URL</th>\n",
              "      <th>VIDEO VIEW COUNT</th>\n",
              "    </tr>\n",
              "    <tr>\n",
              "      <th>1</th>\n",
              "      <th></th>\n",
              "      <th></th>\n",
              "      <th></th>\n",
              "      <th></th>\n",
              "      <th></th>\n",
              "      <th></th>\n",
              "      <th></th>\n",
              "      <th></th>\n",
              "      <th></th>\n",
              "      <th></th>\n",
              "      <th></th>\n",
              "      <th></th>\n",
              "      <th></th>\n",
              "      <th></th>\n",
              "      <th></th>\n",
              "      <th></th>\n",
              "      <th></th>\n",
              "      <th></th>\n",
              "      <th></th>\n",
              "      <th></th>\n",
              "      <th></th>\n",
              "      <th></th>\n",
              "      <th></th>\n",
              "      <th></th>\n",
              "      <th></th>\n",
              "      <th></th>\n",
              "    </tr>\n",
              "  </thead>\n",
              "  <tbody>\n",
              "    <tr>\n",
              "      <th>1918</th>\n",
              "      <td>36193140327</td>\n",
              "      <td>elastici_e_passamaneria</td>\n",
              "      <td>Elastici e Passamaneria</td>\n",
              "      <td>1052</td>\n",
              "      <td>2530600951335029174</td>\n",
              "      <td>CMegChUlwm2</td>\n",
              "      <td>23</td>\n",
              "      <td>0</td>\n",
              "      <td>2.19</td>\n",
              "      <td>https://www.instagram.com/p/CMegChUlwm2</td>\n",
              "      <td>Photo by Elastici e Passamaneria on March 16, 2021.</td>\n",
              "      <td>FFP2 MADE IN ITALY????????#ffp2mask#italianstyle#madeinitaly????????#produzionepropria#produttori#farmacie#farmacieitaliane#parafarmacia#mascherinelavabili#mask#ffp2</td>\n",
              "      <td>NaN</td>\n",
              "      <td>NaN</td>\n",
              "      <td>NaN</td>\n",
              "      <td>1615891163</td>\n",
              "      <td>Clothing, Apparel, Text, Money, Collage, Advertisement, Poster</td>\n",
              "      <td>education</td>\n",
              "      <td>movies</td>\n",
              "      <td>business</td>\n",
              "      <td>https://instagram.fdok2-1.fna.fbcdn.net/v/t51.2885-15/sh0.08/e35/c0.180.1440.1440a/s640x640/160374486_2823675294516254_158720847037227315_n.jpg?tp=1&amp;_nc_ht=instagram.fdok2-1.fna.fbcdn.net&amp;_nc_cat=102&amp;_nc_ohc=fXOFeWEt3dcAX9moTcA&amp;edm=ABfd0MgBAAAA&amp;ccb=7-4&amp;oh=cc36e9f840bc93314fcc9e76c9e4b8c6&amp;oe=60DA4B27&amp;_nc_sid=7bff83</td>\n",
              "      <td>no</td>\n",
              "      <td>no</td>\n",
              "      <td>no</td>\n",
              "      <td>NaN</td>\n",
              "      <td>NaN</td>\n",
              "    </tr>\n",
              "    <tr>\n",
              "      <th>1919</th>\n",
              "      <td>8210198494</td>\n",
              "      <td>pamela.latorre.73</td>\n",
              "      <td>Pamela La Torre</td>\n",
              "      <td>309</td>\n",
              "      <td>2595285287724490476</td>\n",
              "      <td>CQETjgBnZ7s</td>\n",
              "      <td>55</td>\n",
              "      <td>23</td>\n",
              "      <td>25.24</td>\n",
              "      <td>https://www.instagram.com/p/CQETjgBnZ7s</td>\n",
              "      <td>Photo by Pamela La Torre on June 13, 2021. May be an image of one or more people, people standing and indoor.</td>\n",
              "      <td>Prima comunione Giorgio</td>\n",
              "      <td>Santissimo Crocifisso</td>\n",
              "      <td>Taranto, Italy</td>\n",
              "      <td>NaN</td>\n",
              "      <td>1623602137</td>\n",
              "      <td>Person, Human, Photographer, Photography, Photo, Furniture, Shoe, Clothing, Footwear, Apparel, Interior Design, Indoors</td>\n",
              "      <td>news</td>\n",
              "      <td>arts_entertainment</td>\n",
              "      <td>style_fashion</td>\n",
              "      <td>https://instagram.fhel3-1.fna.fbcdn.net/v/t51.2885-15/sh0.08/e35/s640x640/131454075_203114518334788_1962979990399529842_n.jpg?tp=1&amp;_nc_ht=instagram.fhel3-1.fna.fbcdn.net&amp;_nc_cat=104&amp;_nc_ohc=XmsE8bbC2cIAX-0rYFU&amp;edm=ABfd0MgBAAAA&amp;ccb=7-4&amp;oh=4ca96de8a58eafc0ac1e2eea47d28236&amp;oe=60D9DF1A&amp;_nc_sid=7bff83</td>\n",
              "      <td>no</td>\n",
              "      <td>no</td>\n",
              "      <td>no</td>\n",
              "      <td>NaN</td>\n",
              "      <td>NaN</td>\n",
              "    </tr>\n",
              "    <tr>\n",
              "      <th>1920</th>\n",
              "      <td>36838177086</td>\n",
              "      <td>ilaria._004</td>\n",
              "      <td>????????????????</td>\n",
              "      <td>649</td>\n",
              "      <td>2356209223949454778</td>\n",
              "      <td>CCy784yAY26</td>\n",
              "      <td>138</td>\n",
              "      <td>2</td>\n",
              "      <td>21.57</td>\n",
              "      <td>https://www.instagram.com/p/CCy784yAY26</td>\n",
              "      <td>Photo by ???????????????? on July 18, 2020. May be an image of 1 person.</td>\n",
              "      <td>mirame????</td>\n",
              "      <td>NaN</td>\n",
              "      <td>NaN</td>\n",
              "      <td>NaN</td>\n",
              "      <td>1595102049</td>\n",
              "      <td>Clothing, Apparel, Person, Human, Female, Swimwear, Footwear, Woman, Bikini, Shoe, Skin, Pants, Flooring, Girl</td>\n",
              "      <td>education</td>\n",
              "      <td>arts_entertainment</td>\n",
              "      <td>style_fashion</td>\n",
              "      <td>https://instagram.fgua5-1.fna.fbcdn.net/v/t51.2885-15/sh0.08/e35/c0.86.1080.1080a/s640x640/111218478_173463267523124_4585802501296990831_n.jpg?tp=1&amp;_nc_ht=instagram.fgua5-1.fna.fbcdn.net&amp;_nc_cat=108&amp;_nc_ohc=3eLtxoYSgkUAX-UqCUh&amp;edm=ABfd0MgBAAAA&amp;ccb=7-4&amp;oh=8ca65c0f03f5315391059b88e4879625&amp;oe=60DAB7D9&amp;_nc_sid=7bff83</td>\n",
              "      <td>no</td>\n",
              "      <td>no</td>\n",
              "      <td>no</td>\n",
              "      <td>NaN</td>\n",
              "      <td>NaN</td>\n",
              "    </tr>\n",
              "    <tr>\n",
              "      <th>1921</th>\n",
              "      <td>33286901341</td>\n",
              "      <td>wellbishstore</td>\n",
              "      <td>Wellbish Store</td>\n",
              "      <td>188</td>\n",
              "      <td>2462740031272344745</td>\n",
              "      <td>CItaQKiH1yp</td>\n",
              "      <td>6</td>\n",
              "      <td>0</td>\n",
              "      <td>3.19</td>\n",
              "      <td>https://www.instagram.com/p/CItaQKiH1yp</td>\n",
              "      <td>Photo by Wellbish Store on December 12, 2020. May be an image of jewelry.</td>\n",
              "      <td>How sweet is your Heart? ❤️????\\n.\\n.\\n???? Follow @wellbishstore\\n???? Turn notification on\\n☑️ Tag me in your stories\\n???? click the link in my bio! ????\\n.\\n.\\n#wellbishstore #relationship #love #boyfriend #girlfriend #bracelet #key #heart #jewelry #engagement #sweethearts</td>\n",
              "      <td>NaN</td>\n",
              "      <td>NaN</td>\n",
              "      <td>NaN</td>\n",
              "      <td>1607801511</td>\n",
              "      <td>Pendant, Accessories, Accessory, Goggles</td>\n",
              "      <td>style_fashion</td>\n",
              "      <td>arts_entertainment</td>\n",
              "      <td>style_fashion</td>\n",
              "      <td>https://instagram.fhyd2-1.fna.fbcdn.net/v/t51.2885-15/sh0.08/e35/s640x640/130800364_391796488911604_6608581821876444117_n.jpg?tp=1&amp;_nc_ht=instagram.fhyd2-1.fna.fbcdn.net&amp;_nc_cat=104&amp;_nc_ohc=aNFdVzB8RNkAX-OmQYk&amp;edm=ABfd0MgBAAAA&amp;ccb=7-4&amp;oh=d33040e44bb815f94e36b16550c6dbac&amp;oe=60D955AB&amp;_nc_sid=7bff83</td>\n",
              "      <td>no</td>\n",
              "      <td>no</td>\n",
              "      <td>no</td>\n",
              "      <td>NaN</td>\n",
              "      <td>NaN</td>\n",
              "    </tr>\n",
              "    <tr>\n",
              "      <th>1922</th>\n",
              "      <td>5633363536</td>\n",
              "      <td>amineblc</td>\n",
              "      <td>Mohamed Amine</td>\n",
              "      <td>1103</td>\n",
              "      <td>2127311663854320191</td>\n",
              "      <td>B2Fuq_ylPo_</td>\n",
              "      <td>46</td>\n",
              "      <td>4</td>\n",
              "      <td>4.53</td>\n",
              "      <td>https://www.instagram.com/p/B2Fuq_ylPo_</td>\n",
              "      <td>Photo by Mohamed Amine in Mawazine.</td>\n",
              "      <td>NaN</td>\n",
              "      <td>Mawazine</td>\n",
              "      <td>Ksar Hellal, Tunisia</td>\n",
              "      <td>Tunisia</td>\n",
              "      <td>1567815333</td>\n",
              "      <td>Clothing, Apparel, Person, Human, Sunglasses, Accessories, Accessory, Face, Scarf, Portrait, Photography, Photo, Glasses, People, Selfie, Female, Coat, Smile</td>\n",
              "      <td>NaN</td>\n",
              "      <td>news</td>\n",
              "      <td>style_fashion</td>\n",
              "      <td>https://instagram.fjdf6-1.fna.fbcdn.net/v/t51.2885-15/sh0.08/e35/c180.0.1079.1079a/s640x640/68822328_1329001810597157_525683053977317248_n.jpg?tp=1&amp;_nc_ht=instagram.fjdf6-1.fna.fbcdn.net&amp;_nc_cat=105&amp;_nc_ohc=Oab_ik_P9acAX_VBh4i&amp;edm=ABfd0MgBAAAA&amp;ccb=7-4&amp;oh=310007350b72a7c0ca933d072e7fe557&amp;oe=60DAC5ED&amp;_nc_sid=7bff83</td>\n",
              "      <td>no</td>\n",
              "      <td>no</td>\n",
              "      <td>no</td>\n",
              "      <td>NaN</td>\n",
              "      <td>NaN</td>\n",
              "    </tr>\n",
              "  </tbody>\n",
              "</table>\n",
              "</div>"
            ],
            "text/plain": [
              "           USERID                 USERNAME  ... VIDEO URL  VIDEO VIEW COUNT\n",
              "1                                           ...                            \n",
              "1918  36193140327  elastici_e_passamaneria  ...       NaN               NaN\n",
              "1919   8210198494        pamela.latorre.73  ...       NaN               NaN\n",
              "1920  36838177086              ilaria._004  ...       NaN               NaN\n",
              "1921  33286901341            wellbishstore  ...       NaN               NaN\n",
              "1922   5633363536                 amineblc  ...       NaN               NaN\n",
              "\n",
              "[5 rows x 26 columns]"
            ]
          },
          "metadata": {},
          "execution_count": 116
        }
      ]
    },
    {
      "cell_type": "code",
      "metadata": {
        "colab": {
          "base_uri": "https://localhost:8080/"
        },
        "id": "r-HWgIAPEVZp",
        "outputId": "d3990a30-61d3-4b6c-fc6e-c67e05a014aa"
      },
      "source": [
        "df.info()"
      ],
      "execution_count": 117,
      "outputs": [
        {
          "output_type": "stream",
          "name": "stdout",
          "text": [
            "<class 'pandas.core.frame.DataFrame'>\n",
            "Int64Index: 4792 entries, 1918 to 6709\n",
            "Data columns (total 26 columns):\n",
            " #   Column                          Non-Null Count  Dtype  \n",
            "---  ------                          --------------  -----  \n",
            " 0   USERID                          4792 non-null   int64  \n",
            " 1   USERNAME                        4792 non-null   object \n",
            " 2   FULLNAME                        4666 non-null   object \n",
            " 3   FOLLOWER                        4792 non-null   int64  \n",
            " 4   POST ID                         4792 non-null   int64  \n",
            " 5   SHORTCODE                       4792 non-null   object \n",
            " 6   LIKES                           4792 non-null   int64  \n",
            " 7   COMMENTS                        4792 non-null   int64  \n",
            " 8   ENGAGEMENT                      4792 non-null   float64\n",
            " 9   URL                             4792 non-null   object \n",
            " 10  ACCESSIBILITY CAPTION           3943 non-null   object \n",
            " 11  CAPTION                         4310 non-null   object \n",
            " 12  LOCATION                        1161 non-null   object \n",
            " 13  CITY                            1068 non-null   object \n",
            " 14  COUNTRY                         947 non-null    object \n",
            " 15  TIME                            4792 non-null   int64  \n",
            " 16  IMAGE LABELS                    4786 non-null   object \n",
            " 17  CAPTION INTEREST                4310 non-null   object \n",
            " 18  ACCESSIBILITY CAPTION INTEREST  3943 non-null   object \n",
            " 19  IMAGE LABEL INTEREST            4786 non-null   object \n",
            " 20  IMAGE URL                       4792 non-null   object \n",
            " 21  COMMENT DISABLED                4792 non-null   object \n",
            " 22  IS VIDEO                        4792 non-null   object \n",
            " 23  HAS AUDIO                       4792 non-null   object \n",
            " 24  VIDEO URL                       808 non-null    object \n",
            " 25  VIDEO VIEW COUNT                808 non-null    float64\n",
            "dtypes: float64(2), int64(6), object(18)\n",
            "memory usage: 1010.8+ KB\n"
          ]
        }
      ]
    },
    {
      "cell_type": "markdown",
      "metadata": {
        "id": "N7B3k5XZkwUD"
      },
      "source": [
        "# EDA"
      ]
    },
    {
      "cell_type": "markdown",
      "metadata": {
        "id": "8Qj-ErlQFC0h"
      },
      "source": [
        "Column names: Replace white spaces with underscore "
      ]
    },
    {
      "cell_type": "code",
      "metadata": {
        "id": "C5YI6mDgFCSr"
      },
      "source": [
        "df.columns = df.columns.str.replace(' ', '_')"
      ],
      "execution_count": 118,
      "outputs": []
    },
    {
      "cell_type": "markdown",
      "metadata": {
        "id": "NzJiloFn_gi4"
      },
      "source": [
        "Check for each column how many unique is there (lenght of the dataset 4792, len(df)) "
      ]
    },
    {
      "cell_type": "code",
      "metadata": {
        "colab": {
          "base_uri": "https://localhost:8080/"
        },
        "id": "Aia9nBwB-j1b",
        "outputId": "c975fe4b-6ae6-410d-bbc6-98ad6648539e"
      },
      "source": [
        "df.apply(lambda col: len(col.unique())).sort_values(ascending=False)"
      ],
      "execution_count": 119,
      "outputs": [
        {
          "output_type": "execute_result",
          "data": {
            "text/plain": [
              "POST_ID                           4792\n",
              "SHORTCODE                         4792\n",
              "IMAGE_URL                         4792\n",
              "URL                               4792\n",
              "TIME                              4791\n",
              "IMAGE_LABELS                      4666\n",
              "CAPTION                           4216\n",
              "ACCESSIBILITY_CAPTION             3658\n",
              "ENGAGEMENT                        1415\n",
              "VIDEO_URL                          809\n",
              "LIKES                              588\n",
              "LOCATION                           533\n",
              "VIDEO_VIEW_COUNT                   472\n",
              "USERNAME                           447\n",
              "USERID                             447\n",
              "FULLNAME                           432\n",
              "FOLLOWER                           418\n",
              "CITY                               328\n",
              "COMMENTS                           138\n",
              "COUNTRY                             44\n",
              "CAPTION_INTEREST                    36\n",
              "IMAGE_LABEL_INTEREST                35\n",
              "ACCESSIBILITY_CAPTION_INTEREST      27\n",
              "COMMENT_DISABLED                     2\n",
              "IS_VIDEO                             2\n",
              "HAS_AUDIO                            2\n",
              "dtype: int64"
            ]
          },
          "metadata": {},
          "execution_count": 119
        }
      ]
    },
    {
      "cell_type": "markdown",
      "metadata": {
        "id": "_T7gSotnk82F"
      },
      "source": [
        "## Data Cleaning"
      ]
    },
    {
      "cell_type": "code",
      "metadata": {
        "colab": {
          "base_uri": "https://localhost:8080/",
          "height": 300
        },
        "id": "pvsxDR2PAuTj",
        "outputId": "b83988d9-1d10-4a75-bb82-fc380d099844"
      },
      "source": [
        "# Descriptive statistics for each column\n",
        "df.describe()"
      ],
      "execution_count": 120,
      "outputs": [
        {
          "output_type": "execute_result",
          "data": {
            "text/html": [
              "<div>\n",
              "<style scoped>\n",
              "    .dataframe tbody tr th:only-of-type {\n",
              "        vertical-align: middle;\n",
              "    }\n",
              "\n",
              "    .dataframe tbody tr th {\n",
              "        vertical-align: top;\n",
              "    }\n",
              "\n",
              "    .dataframe thead th {\n",
              "        text-align: right;\n",
              "    }\n",
              "</style>\n",
              "<table border=\"1\" class=\"dataframe\">\n",
              "  <thead>\n",
              "    <tr style=\"text-align: right;\">\n",
              "      <th></th>\n",
              "      <th>USERID</th>\n",
              "      <th>FOLLOWER</th>\n",
              "      <th>POST_ID</th>\n",
              "      <th>LIKES</th>\n",
              "      <th>COMMENTS</th>\n",
              "      <th>ENGAGEMENT</th>\n",
              "      <th>TIME</th>\n",
              "      <th>VIDEO_VIEW_COUNT</th>\n",
              "    </tr>\n",
              "  </thead>\n",
              "  <tbody>\n",
              "    <tr>\n",
              "      <th>count</th>\n",
              "      <td>4.792000e+03</td>\n",
              "      <td>4792.000000</td>\n",
              "      <td>4.792000e+03</td>\n",
              "      <td>4792.000000</td>\n",
              "      <td>4792.000000</td>\n",
              "      <td>4792.000000</td>\n",
              "      <td>4.792000e+03</td>\n",
              "      <td>808.000000</td>\n",
              "    </tr>\n",
              "    <tr>\n",
              "      <th>mean</th>\n",
              "      <td>2.075851e+10</td>\n",
              "      <td>4737.154633</td>\n",
              "      <td>2.511704e+18</td>\n",
              "      <td>130.603923</td>\n",
              "      <td>10.970993</td>\n",
              "      <td>5.917452</td>\n",
              "      <td>1.613638e+09</td>\n",
              "      <td>3787.849010</td>\n",
              "    </tr>\n",
              "    <tr>\n",
              "      <th>std</th>\n",
              "      <td>1.934902e+10</td>\n",
              "      <td>24869.309437</td>\n",
              "      <td>1.817231e+17</td>\n",
              "      <td>996.768347</td>\n",
              "      <td>79.816138</td>\n",
              "      <td>11.570440</td>\n",
              "      <td>2.166305e+07</td>\n",
              "      <td>38903.901192</td>\n",
              "    </tr>\n",
              "    <tr>\n",
              "      <th>min</th>\n",
              "      <td>6.121430e+05</td>\n",
              "      <td>1.000000</td>\n",
              "      <td>6.216878e+17</td>\n",
              "      <td>0.000000</td>\n",
              "      <td>0.000000</td>\n",
              "      <td>0.000000</td>\n",
              "      <td>1.388331e+09</td>\n",
              "      <td>3.000000</td>\n",
              "    </tr>\n",
              "    <tr>\n",
              "      <th>25%</th>\n",
              "      <td>2.138415e+09</td>\n",
              "      <td>522.000000</td>\n",
              "      <td>2.541024e+18</td>\n",
              "      <td>13.000000</td>\n",
              "      <td>0.000000</td>\n",
              "      <td>1.150000</td>\n",
              "      <td>1.617134e+09</td>\n",
              "      <td>48.000000</td>\n",
              "    </tr>\n",
              "    <tr>\n",
              "      <th>50%</th>\n",
              "      <td>1.040845e+10</td>\n",
              "      <td>1338.000000</td>\n",
              "      <td>2.580869e+18</td>\n",
              "      <td>30.000000</td>\n",
              "      <td>2.000000</td>\n",
              "      <td>2.850000</td>\n",
              "      <td>1.621884e+09</td>\n",
              "      <td>144.500000</td>\n",
              "    </tr>\n",
              "    <tr>\n",
              "      <th>75%</th>\n",
              "      <td>4.430101e+10</td>\n",
              "      <td>3296.000000</td>\n",
              "      <td>2.595312e+18</td>\n",
              "      <td>77.250000</td>\n",
              "      <td>7.000000</td>\n",
              "      <td>6.782500</td>\n",
              "      <td>1.623605e+09</td>\n",
              "      <td>478.750000</td>\n",
              "    </tr>\n",
              "    <tr>\n",
              "      <th>max</th>\n",
              "      <td>4.836575e+10</td>\n",
              "      <td>469270.000000</td>\n",
              "      <td>2.602336e+18</td>\n",
              "      <td>47638.000000</td>\n",
              "      <td>3921.000000</td>\n",
              "      <td>352.000000</td>\n",
              "      <td>1.624443e+09</td>\n",
              "      <td>968807.000000</td>\n",
              "    </tr>\n",
              "  </tbody>\n",
              "</table>\n",
              "</div>"
            ],
            "text/plain": [
              "             USERID       FOLLOWER  ...          TIME  VIDEO_VIEW_COUNT\n",
              "count  4.792000e+03    4792.000000  ...  4.792000e+03        808.000000\n",
              "mean   2.075851e+10    4737.154633  ...  1.613638e+09       3787.849010\n",
              "std    1.934902e+10   24869.309437  ...  2.166305e+07      38903.901192\n",
              "min    6.121430e+05       1.000000  ...  1.388331e+09          3.000000\n",
              "25%    2.138415e+09     522.000000  ...  1.617134e+09         48.000000\n",
              "50%    1.040845e+10    1338.000000  ...  1.621884e+09        144.500000\n",
              "75%    4.430101e+10    3296.000000  ...  1.623605e+09        478.750000\n",
              "max    4.836575e+10  469270.000000  ...  1.624443e+09     968807.000000\n",
              "\n",
              "[8 rows x 8 columns]"
            ]
          },
          "metadata": {},
          "execution_count": 120
        }
      ]
    },
    {
      "cell_type": "code",
      "metadata": {
        "colab": {
          "base_uri": "https://localhost:8080/"
        },
        "id": "Xew-Z_G30l6j",
        "outputId": "dfbdff32-e2a1-4b6c-c3af-f9cb7570fcc5"
      },
      "source": [
        "df = df[df['ENGAGEMENT'].notna()]\n",
        "print(f'data len = {len(df)}')"
      ],
      "execution_count": 121,
      "outputs": [
        {
          "output_type": "stream",
          "name": "stdout",
          "text": [
            "data len = 4792\n"
          ]
        }
      ]
    },
    {
      "cell_type": "code",
      "metadata": {
        "colab": {
          "base_uri": "https://localhost:8080/",
          "height": 283
        },
        "id": "4xNT9kwiRJF_",
        "outputId": "dd35f981-d40b-4a68-fe5a-4edfe026e80c"
      },
      "source": [
        "df.ENGAGEMENT.hist(bins=100)"
      ],
      "execution_count": 122,
      "outputs": [
        {
          "output_type": "execute_result",
          "data": {
            "text/plain": [
              "<matplotlib.axes._subplots.AxesSubplot at 0x7f461d21a510>"
            ]
          },
          "metadata": {},
          "execution_count": 122
        },
        {
          "output_type": "display_data",
          "data": {
            "image/png": "[encoded data removed]",
            "text/plain": [
              "<Figure size 432x288 with 1 Axes>"
            ]
          },
          "metadata": {
            "needs_background": "light"
          }
        }
      ]
    },
    {
      "cell_type": "code",
      "metadata": {
        "colab": {
          "base_uri": "https://localhost:8080/",
          "height": 283
        },
        "id": "zT20Pg8SRZDb",
        "outputId": "4f47f5c8-c37e-4cc4-c124-0a6cd0f4b5a9"
      },
      "source": [
        "log_ENGAGEMENT = np.log1p(df.ENGAGEMENT)\n",
        "log_ENGAGEMENT.hist(bins=100)"
      ],
      "execution_count": 123,
      "outputs": [
        {
          "output_type": "execute_result",
          "data": {
            "text/plain": [
              "<matplotlib.axes._subplots.AxesSubplot at 0x7f461d1d5e50>"
            ]
          },
          "metadata": {},
          "execution_count": 123
        },
        {
          "output_type": "display_data",
          "data": {
            "image/png": "[encoded data removed]",
            "text/plain": [
              "<Figure size 432x288 with 1 Axes>"
            ]
          },
          "metadata": {
            "needs_background": "light"
          }
        }
      ]
    },
    {
      "cell_type": "code",
      "metadata": {
        "id": "YYchCjxAmCpu"
      },
      "source": [
        "df['log_ENGAGEMENT'] = log_ENGAGEMENT"
      ],
      "execution_count": 124,
      "outputs": []
    },
    {
      "cell_type": "markdown",
      "metadata": {
        "id": "y8BTw9B4CP69"
      },
      "source": [
        "## Handle NaN valus"
      ]
    },
    {
      "cell_type": "markdown",
      "metadata": {
        "id": "ksd42-L6J9Sz"
      },
      "source": [
        "How Many NaN values are ther in the datast?"
      ]
    },
    {
      "cell_type": "code",
      "metadata": {
        "colab": {
          "base_uri": "https://localhost:8080/",
          "height": 565
        },
        "id": "xk360FI0J8sB",
        "outputId": "a6ffaa20-e77d-4633-964b-6ac18c5d91ef"
      },
      "source": [
        "msno.matrix(df)"
      ],
      "execution_count": 125,
      "outputs": [
        {
          "output_type": "execute_result",
          "data": {
            "text/plain": [
              "<matplotlib.axes._subplots.AxesSubplot at 0x7f461ceab7d0>"
            ]
          },
          "metadata": {},
          "execution_count": 125
        },
        {
          "output_type": "display_data",
          "data": {
            "image/png": "[encoded data removed]",
            "text/plain": [
              "<Figure size 1800x720 with 2 Axes>"
            ]
          },
          "metadata": {
            "needs_background": "light"
          }
        }
      ]
    },
    {
      "cell_type": "code",
      "metadata": {
        "colab": {
          "base_uri": "https://localhost:8080/",
          "height": 625
        },
        "id": "ItG8cSILKIPZ",
        "outputId": "fdda2dc1-8496-484a-d252-08dea2d7d319"
      },
      "source": [
        "msno.bar(df, figsize=(20, 8))"
      ],
      "execution_count": 126,
      "outputs": [
        {
          "output_type": "execute_result",
          "data": {
            "text/plain": [
              "<matplotlib.axes._subplots.AxesSubplot at 0x7f461e2c3a10>"
            ]
          },
          "metadata": {},
          "execution_count": 126
        },
        {
          "output_type": "display_data",
          "data": {
            "image/png": "[encoded data removed]",
            "text/plain": [
              "<Figure size 1440x576 with 3 Axes>"
            ]
          },
          "metadata": {
            "needs_background": "light"
          }
        }
      ]
    },
    {
      "cell_type": "markdown",
      "metadata": {
        "id": "ftNhR1FiMDhe"
      },
      "source": [
        "Conert unix time to separate Date and Time columns"
      ]
    },
    {
      "cell_type": "code",
      "metadata": {
        "id": "rCf1bnIbxjU7"
      },
      "source": [
        "df['DATETIME'] = pd.to_datetime(df['TIME'],unit='s')"
      ],
      "execution_count": 127,
      "outputs": []
    },
    {
      "cell_type": "code",
      "metadata": {
        "id": "LZ_7L8emN7yz"
      },
      "source": [
        "df['YEAR'] = pd.DatetimeIndex(df['DATETIME']).year\n",
        "df['MONTH'] = pd.DatetimeIndex(df['DATETIME']).month\n",
        "df['DAY'] = pd.DatetimeIndex(df['DATETIME']).day\n",
        "df['DAYOFWEEK'] = pd.DatetimeIndex(df['DATETIME']).dayofweek\n",
        "df['HOUR'] = pd.DatetimeIndex(df['DATETIME']).hour\n",
        "df['MINUTE'] = pd.DatetimeIndex(df['DATETIME']).minute"
      ],
      "execution_count": 128,
      "outputs": []
    },
    {
      "cell_type": "markdown",
      "metadata": {
        "id": "FS4RdvS3B4nr"
      },
      "source": [
        "Remove column that all values are unique:"
      ]
    },
    {
      "cell_type": "code",
      "metadata": {
        "colab": {
          "base_uri": "https://localhost:8080/"
        },
        "id": "mDp86xxgB_H9",
        "outputId": "4a4831e6-8918-444d-fe65-5c251640a77a"
      },
      "source": [
        "for col in df.columns:\n",
        "    if len(df[col].unique()) == len(df):\n",
        "        print(col)\n",
        "        #df.drop(col,inplace=True,axis=1)"
      ],
      "execution_count": 129,
      "outputs": [
        {
          "output_type": "stream",
          "name": "stdout",
          "text": [
            "POST_ID\n",
            "SHORTCODE\n",
            "URL\n",
            "IMAGE_URL\n"
          ]
        }
      ]
    },
    {
      "cell_type": "code",
      "metadata": {
        "colab": {
          "base_uri": "https://localhost:8080/",
          "height": 1000
        },
        "id": "fpJMf4XQL03A",
        "outputId": "827ab342-aa22-4cdb-f292-1a46891064ec"
      },
      "source": [
        "df.head()"
      ],
      "execution_count": 130,
      "outputs": [
        {
          "output_type": "execute_result",
          "data": {
            "text/html": [
              "<div>\n",
              "<style scoped>\n",
              "    .dataframe tbody tr th:only-of-type {\n",
              "        vertical-align: middle;\n",
              "    }\n",
              "\n",
              "    .dataframe tbody tr th {\n",
              "        vertical-align: top;\n",
              "    }\n",
              "\n",
              "    .dataframe thead th {\n",
              "        text-align: right;\n",
              "    }\n",
              "</style>\n",
              "<table border=\"1\" class=\"dataframe\">\n",
              "  <thead>\n",
              "    <tr style=\"text-align: right;\">\n",
              "      <th></th>\n",
              "      <th>USERID</th>\n",
              "      <th>USERNAME</th>\n",
              "      <th>FULLNAME</th>\n",
              "      <th>FOLLOWER</th>\n",
              "      <th>POST_ID</th>\n",
              "      <th>SHORTCODE</th>\n",
              "      <th>LIKES</th>\n",
              "      <th>COMMENTS</th>\n",
              "      <th>ENGAGEMENT</th>\n",
              "      <th>URL</th>\n",
              "      <th>ACCESSIBILITY_CAPTION</th>\n",
              "      <th>CAPTION</th>\n",
              "      <th>LOCATION</th>\n",
              "      <th>CITY</th>\n",
              "      <th>COUNTRY</th>\n",
              "      <th>TIME</th>\n",
              "      <th>IMAGE_LABELS</th>\n",
              "      <th>CAPTION_INTEREST</th>\n",
              "      <th>ACCESSIBILITY_CAPTION_INTEREST</th>\n",
              "      <th>IMAGE_LABEL_INTEREST</th>\n",
              "      <th>IMAGE_URL</th>\n",
              "      <th>COMMENT_DISABLED</th>\n",
              "      <th>IS_VIDEO</th>\n",
              "      <th>HAS_AUDIO</th>\n",
              "      <th>VIDEO_URL</th>\n",
              "      <th>VIDEO_VIEW_COUNT</th>\n",
              "      <th>log_ENGAGEMENT</th>\n",
              "      <th>DATETIME</th>\n",
              "      <th>YEAR</th>\n",
              "      <th>MONTH</th>\n",
              "      <th>DAY</th>\n",
              "      <th>DAYOFWEEK</th>\n",
              "      <th>HOUR</th>\n",
              "      <th>MINUTE</th>\n",
              "    </tr>\n",
              "    <tr>\n",
              "      <th>1</th>\n",
              "      <th></th>\n",
              "      <th></th>\n",
              "      <th></th>\n",
              "      <th></th>\n",
              "      <th></th>\n",
              "      <th></th>\n",
              "      <th></th>\n",
              "      <th></th>\n",
              "      <th></th>\n",
              "      <th></th>\n",
              "      <th></th>\n",
              "      <th></th>\n",
              "      <th></th>\n",
              "      <th></th>\n",
              "      <th></th>\n",
              "      <th></th>\n",
              "      <th></th>\n",
              "      <th></th>\n",
              "      <th></th>\n",
              "      <th></th>\n",
              "      <th></th>\n",
              "      <th></th>\n",
              "      <th></th>\n",
              "      <th></th>\n",
              "      <th></th>\n",
              "      <th></th>\n",
              "      <th></th>\n",
              "      <th></th>\n",
              "      <th></th>\n",
              "      <th></th>\n",
              "      <th></th>\n",
              "      <th></th>\n",
              "      <th></th>\n",
              "      <th></th>\n",
              "    </tr>\n",
              "  </thead>\n",
              "  <tbody>\n",
              "    <tr>\n",
              "      <th>1918</th>\n",
              "      <td>36193140327</td>\n",
              "      <td>elastici_e_passamaneria</td>\n",
              "      <td>Elastici e Passamaneria</td>\n",
              "      <td>1052</td>\n",
              "      <td>2530600951335029174</td>\n",
              "      <td>CMegChUlwm2</td>\n",
              "      <td>23</td>\n",
              "      <td>0</td>\n",
              "      <td>2.19</td>\n",
              "      <td>https://www.instagram.com/p/CMegChUlwm2</td>\n",
              "      <td>Photo by Elastici e Passamaneria on March 16, 2021.</td>\n",
              "      <td>FFP2 MADE IN ITALY????????#ffp2mask#italianstyle#madeinitaly????????#produzionepropria#produttori#farmacie#farmacieitaliane#parafarmacia#mascherinelavabili#mask#ffp2</td>\n",
              "      <td>NaN</td>\n",
              "      <td>NaN</td>\n",
              "      <td>NaN</td>\n",
              "      <td>1615891163</td>\n",
              "      <td>Clothing, Apparel, Text, Money, Collage, Advertisement, Poster</td>\n",
              "      <td>education</td>\n",
              "      <td>movies</td>\n",
              "      <td>business</td>\n",
              "      <td>https://instagram.fdok2-1.fna.fbcdn.net/v/t51.2885-15/sh0.08/e35/c0.180.1440.1440a/s640x640/160374486_2823675294516254_158720847037227315_n.jpg?tp=1&amp;_nc_ht=instagram.fdok2-1.fna.fbcdn.net&amp;_nc_cat=102&amp;_nc_ohc=fXOFeWEt3dcAX9moTcA&amp;edm=ABfd0MgBAAAA&amp;ccb=7-4&amp;oh=cc36e9f840bc93314fcc9e76c9e4b8c6&amp;oe=60DA4B27&amp;_nc_sid=7bff83</td>\n",
              "      <td>no</td>\n",
              "      <td>no</td>\n",
              "      <td>no</td>\n",
              "      <td>NaN</td>\n",
              "      <td>NaN</td>\n",
              "      <td>1.160021</td>\n",
              "      <td>2021-03-16 10:39:23</td>\n",
              "      <td>2021</td>\n",
              "      <td>3</td>\n",
              "      <td>16</td>\n",
              "      <td>1</td>\n",
              "      <td>10</td>\n",
              "      <td>39</td>\n",
              "    </tr>\n",
              "    <tr>\n",
              "      <th>1919</th>\n",
              "      <td>8210198494</td>\n",
              "      <td>pamela.latorre.73</td>\n",
              "      <td>Pamela La Torre</td>\n",
              "      <td>309</td>\n",
              "      <td>2595285287724490476</td>\n",
              "      <td>CQETjgBnZ7s</td>\n",
              "      <td>55</td>\n",
              "      <td>23</td>\n",
              "      <td>25.24</td>\n",
              "      <td>https://www.instagram.com/p/CQETjgBnZ7s</td>\n",
              "      <td>Photo by Pamela La Torre on June 13, 2021. May be an image of one or more people, people standing and indoor.</td>\n",
              "      <td>Prima comunione Giorgio</td>\n",
              "      <td>Santissimo Crocifisso</td>\n",
              "      <td>Taranto, Italy</td>\n",
              "      <td>NaN</td>\n",
              "      <td>1623602137</td>\n",
              "      <td>Person, Human, Photographer, Photography, Photo, Furniture, Shoe, Clothing, Footwear, Apparel, Interior Design, Indoors</td>\n",
              "      <td>news</td>\n",
              "      <td>arts_entertainment</td>\n",
              "      <td>style_fashion</td>\n",
              "      <td>https://instagram.fhel3-1.fna.fbcdn.net/v/t51.2885-15/sh0.08/e35/s640x640/131454075_203114518334788_1962979990399529842_n.jpg?tp=1&amp;_nc_ht=instagram.fhel3-1.fna.fbcdn.net&amp;_nc_cat=104&amp;_nc_ohc=XmsE8bbC2cIAX-0rYFU&amp;edm=ABfd0MgBAAAA&amp;ccb=7-4&amp;oh=4ca96de8a58eafc0ac1e2eea47d28236&amp;oe=60D9DF1A&amp;_nc_sid=7bff83</td>\n",
              "      <td>no</td>\n",
              "      <td>no</td>\n",
              "      <td>no</td>\n",
              "      <td>NaN</td>\n",
              "      <td>NaN</td>\n",
              "      <td>3.267285</td>\n",
              "      <td>2021-06-13 16:35:37</td>\n",
              "      <td>2021</td>\n",
              "      <td>6</td>\n",
              "      <td>13</td>\n",
              "      <td>6</td>\n",
              "      <td>16</td>\n",
              "      <td>35</td>\n",
              "    </tr>\n",
              "    <tr>\n",
              "      <th>1920</th>\n",
              "      <td>36838177086</td>\n",
              "      <td>ilaria._004</td>\n",
              "      <td>????????????????</td>\n",
              "      <td>649</td>\n",
              "      <td>2356209223949454778</td>\n",
              "      <td>CCy784yAY26</td>\n",
              "      <td>138</td>\n",
              "      <td>2</td>\n",
              "      <td>21.57</td>\n",
              "      <td>https://www.instagram.com/p/CCy784yAY26</td>\n",
              "      <td>Photo by ???????????????? on July 18, 2020. May be an image of 1 person.</td>\n",
              "      <td>mirame????</td>\n",
              "      <td>NaN</td>\n",
              "      <td>NaN</td>\n",
              "      <td>NaN</td>\n",
              "      <td>1595102049</td>\n",
              "      <td>Clothing, Apparel, Person, Human, Female, Swimwear, Footwear, Woman, Bikini, Shoe, Skin, Pants, Flooring, Girl</td>\n",
              "      <td>education</td>\n",
              "      <td>arts_entertainment</td>\n",
              "      <td>style_fashion</td>\n",
              "      <td>https://instagram.fgua5-1.fna.fbcdn.net/v/t51.2885-15/sh0.08/e35/c0.86.1080.1080a/s640x640/111218478_173463267523124_4585802501296990831_n.jpg?tp=1&amp;_nc_ht=instagram.fgua5-1.fna.fbcdn.net&amp;_nc_cat=108&amp;_nc_ohc=3eLtxoYSgkUAX-UqCUh&amp;edm=ABfd0MgBAAAA&amp;ccb=7-4&amp;oh=8ca65c0f03f5315391059b88e4879625&amp;oe=60DAB7D9&amp;_nc_sid=7bff83</td>\n",
              "      <td>no</td>\n",
              "      <td>no</td>\n",
              "      <td>no</td>\n",
              "      <td>NaN</td>\n",
              "      <td>NaN</td>\n",
              "      <td>3.116622</td>\n",
              "      <td>2020-07-18 19:54:09</td>\n",
              "      <td>2020</td>\n",
              "      <td>7</td>\n",
              "      <td>18</td>\n",
              "      <td>5</td>\n",
              "      <td>19</td>\n",
              "      <td>54</td>\n",
              "    </tr>\n",
              "    <tr>\n",
              "      <th>1921</th>\n",
              "      <td>33286901341</td>\n",
              "      <td>wellbishstore</td>\n",
              "      <td>Wellbish Store</td>\n",
              "      <td>188</td>\n",
              "      <td>2462740031272344745</td>\n",
              "      <td>CItaQKiH1yp</td>\n",
              "      <td>6</td>\n",
              "      <td>0</td>\n",
              "      <td>3.19</td>\n",
              "      <td>https://www.instagram.com/p/CItaQKiH1yp</td>\n",
              "      <td>Photo by Wellbish Store on December 12, 2020. May be an image of jewelry.</td>\n",
              "      <td>How sweet is your Heart? ❤️????\\n.\\n.\\n???? Follow @wellbishstore\\n???? Turn notification on\\n☑️ Tag me in your stories\\n???? click the link in my bio! ????\\n.\\n.\\n#wellbishstore #relationship #love #boyfriend #girlfriend #bracelet #key #heart #jewelry #engagement #sweethearts</td>\n",
              "      <td>NaN</td>\n",
              "      <td>NaN</td>\n",
              "      <td>NaN</td>\n",
              "      <td>1607801511</td>\n",
              "      <td>Pendant, Accessories, Accessory, Goggles</td>\n",
              "      <td>style_fashion</td>\n",
              "      <td>arts_entertainment</td>\n",
              "      <td>style_fashion</td>\n",
              "      <td>https://instagram.fhyd2-1.fna.fbcdn.net/v/t51.2885-15/sh0.08/e35/s640x640/130800364_391796488911604_6608581821876444117_n.jpg?tp=1&amp;_nc_ht=instagram.fhyd2-1.fna.fbcdn.net&amp;_nc_cat=104&amp;_nc_ohc=aNFdVzB8RNkAX-OmQYk&amp;edm=ABfd0MgBAAAA&amp;ccb=7-4&amp;oh=d33040e44bb815f94e36b16550c6dbac&amp;oe=60D955AB&amp;_nc_sid=7bff83</td>\n",
              "      <td>no</td>\n",
              "      <td>no</td>\n",
              "      <td>no</td>\n",
              "      <td>NaN</td>\n",
              "      <td>NaN</td>\n",
              "      <td>1.432701</td>\n",
              "      <td>2020-12-12 19:31:51</td>\n",
              "      <td>2020</td>\n",
              "      <td>12</td>\n",
              "      <td>12</td>\n",
              "      <td>5</td>\n",
              "      <td>19</td>\n",
              "      <td>31</td>\n",
              "    </tr>\n",
              "    <tr>\n",
              "      <th>1922</th>\n",
              "      <td>5633363536</td>\n",
              "      <td>amineblc</td>\n",
              "      <td>Mohamed Amine</td>\n",
              "      <td>1103</td>\n",
              "      <td>2127311663854320191</td>\n",
              "      <td>B2Fuq_ylPo_</td>\n",
              "      <td>46</td>\n",
              "      <td>4</td>\n",
              "      <td>4.53</td>\n",
              "      <td>https://www.instagram.com/p/B2Fuq_ylPo_</td>\n",
              "      <td>Photo by Mohamed Amine in Mawazine.</td>\n",
              "      <td>NaN</td>\n",
              "      <td>Mawazine</td>\n",
              "      <td>Ksar Hellal, Tunisia</td>\n",
              "      <td>Tunisia</td>\n",
              "      <td>1567815333</td>\n",
              "      <td>Clothing, Apparel, Person, Human, Sunglasses, Accessories, Accessory, Face, Scarf, Portrait, Photography, Photo, Glasses, People, Selfie, Female, Coat, Smile</td>\n",
              "      <td>NaN</td>\n",
              "      <td>news</td>\n",
              "      <td>style_fashion</td>\n",
              "      <td>https://instagram.fjdf6-1.fna.fbcdn.net/v/t51.2885-15/sh0.08/e35/c180.0.1079.1079a/s640x640/68822328_1329001810597157_525683053977317248_n.jpg?tp=1&amp;_nc_ht=instagram.fjdf6-1.fna.fbcdn.net&amp;_nc_cat=105&amp;_nc_ohc=Oab_ik_P9acAX_VBh4i&amp;edm=ABfd0MgBAAAA&amp;ccb=7-4&amp;oh=310007350b72a7c0ca933d072e7fe557&amp;oe=60DAC5ED&amp;_nc_sid=7bff83</td>\n",
              "      <td>no</td>\n",
              "      <td>no</td>\n",
              "      <td>no</td>\n",
              "      <td>NaN</td>\n",
              "      <td>NaN</td>\n",
              "      <td>1.710188</td>\n",
              "      <td>2019-09-07 00:15:33</td>\n",
              "      <td>2019</td>\n",
              "      <td>9</td>\n",
              "      <td>7</td>\n",
              "      <td>5</td>\n",
              "      <td>0</td>\n",
              "      <td>15</td>\n",
              "    </tr>\n",
              "  </tbody>\n",
              "</table>\n",
              "</div>"
            ],
            "text/plain": [
              "           USERID                 USERNAME  ... HOUR  MINUTE\n",
              "1                                           ...             \n",
              "1918  36193140327  elastici_e_passamaneria  ...   10      39\n",
              "1919   8210198494        pamela.latorre.73  ...   16      35\n",
              "1920  36838177086              ilaria._004  ...   19      54\n",
              "1921  33286901341            wellbishstore  ...   19      31\n",
              "1922   5633363536                 amineblc  ...    0      15\n",
              "\n",
              "[5 rows x 34 columns]"
            ]
          },
          "metadata": {},
          "execution_count": 130
        }
      ]
    },
    {
      "cell_type": "code",
      "metadata": {
        "colab": {
          "base_uri": "https://localhost:8080/"
        },
        "id": "2Xk5qhATLp05",
        "outputId": "02160ccf-645f-4557-a547-2a43ecde9fdc"
      },
      "source": [
        "df.URL.head()\n",
        "# SHORTCODE\n",
        "# URL\n",
        "# IMAGE_URL\n",
        "# VIDEO_URL # Not working"
      ],
      "execution_count": 131,
      "outputs": [
        {
          "output_type": "execute_result",
          "data": {
            "text/plain": [
              "1\n",
              "1918    https://www.instagram.com/p/CMegChUlwm2\n",
              "1919    https://www.instagram.com/p/CQETjgBnZ7s\n",
              "1920    https://www.instagram.com/p/CCy784yAY26\n",
              "1921    https://www.instagram.com/p/CItaQKiH1yp\n",
              "1922    https://www.instagram.com/p/B2Fuq_ylPo_\n",
              "Name: URL, dtype: object"
            ]
          },
          "metadata": {},
          "execution_count": 131
        }
      ]
    },
    {
      "cell_type": "code",
      "metadata": {
        "id": "JO8OTuLV6HLw"
      },
      "source": [
        "df.drop('POST_ID',inplace=True,axis=1)"
      ],
      "execution_count": 132,
      "outputs": []
    },
    {
      "cell_type": "code",
      "metadata": {
        "id": "Cvp067h46cqz"
      },
      "source": [
        "df.drop('VIDEO_URL',inplace=True,axis=1)"
      ],
      "execution_count": 133,
      "outputs": []
    },
    {
      "cell_type": "code",
      "metadata": {
        "id": "i3R7TbtEP_Cq"
      },
      "source": [
        "df.drop('SHORTCODE',inplace=True,axis=1)"
      ],
      "execution_count": 134,
      "outputs": []
    },
    {
      "cell_type": "code",
      "metadata": {
        "id": "HgmSe0pPP_jp"
      },
      "source": [
        "# df.drop('URL',inplace=True,axis=1)"
      ],
      "execution_count": 135,
      "outputs": []
    },
    {
      "cell_type": "code",
      "metadata": {
        "id": "c3S6qTYdQAAT"
      },
      "source": [
        "df.drop('IMAGE_URL',inplace=True,axis=1)"
      ],
      "execution_count": 136,
      "outputs": []
    },
    {
      "cell_type": "markdown",
      "metadata": {
        "id": "egjqB8d9BlQS"
      },
      "source": [
        "Convert columns type to characters :"
      ]
    },
    {
      "cell_type": "code",
      "metadata": {
        "colab": {
          "base_uri": "https://localhost:8080/"
        },
        "id": "VIzv3R77Bjqn",
        "outputId": "64328715-b261-4444-c07f-5da235e710ca"
      },
      "source": [
        "df['COMMENT_DISABLED'].value_counts()"
      ],
      "execution_count": 137,
      "outputs": [
        {
          "output_type": "execute_result",
          "data": {
            "text/plain": [
              "no     4785\n",
              "yes       7\n",
              "Name: COMMENT_DISABLED, dtype: int64"
            ]
          },
          "metadata": {},
          "execution_count": 137
        }
      ]
    },
    {
      "cell_type": "code",
      "metadata": {
        "id": "5Py0fclpFn1r"
      },
      "source": [
        "df['COMMENT_DISABLED'] = df['COMMENT_DISABLED'].map(dict(yes=1, no=0))"
      ],
      "execution_count": 138,
      "outputs": []
    },
    {
      "cell_type": "code",
      "metadata": {
        "id": "VTX8T6IIGf0h"
      },
      "source": [
        "df['IS_VIDEO'] = df['IS_VIDEO'].map(dict(yes=1, no=0))"
      ],
      "execution_count": 139,
      "outputs": []
    },
    {
      "cell_type": "code",
      "metadata": {
        "id": "TkhoNyMcG_jZ"
      },
      "source": [
        "df['HAS_AUDIO'] = df['HAS_AUDIO'].map(dict(yes=1, no=0))"
      ],
      "execution_count": 140,
      "outputs": []
    },
    {
      "cell_type": "code",
      "metadata": {
        "colab": {
          "base_uri": "https://localhost:8080/"
        },
        "id": "3cVRk_oSGpqR",
        "outputId": "28bb6577-fcf2-4f15-a576-0105e3d5628d"
      },
      "source": [
        "df[['COMMENT_DISABLED','IS_VIDEO','HAS_AUDIO']].value_counts()"
      ],
      "execution_count": 141,
      "outputs": [
        {
          "output_type": "execute_result",
          "data": {
            "text/plain": [
              "COMMENT_DISABLED  IS_VIDEO  HAS_AUDIO\n",
              "0                 0         0            3981\n",
              "                  1         1             722\n",
              "                            0              82\n",
              "1                 1         1               4\n",
              "                  0         0               3\n",
              "dtype: int64"
            ]
          },
          "metadata": {},
          "execution_count": 141
        }
      ]
    },
    {
      "cell_type": "code",
      "metadata": {
        "colab": {
          "base_uri": "https://localhost:8080/"
        },
        "id": "zHYCMkwrIvJE",
        "outputId": "bd31f54c-26af-4410-94a8-d53a6775a363"
      },
      "source": [
        "pd.unique(df[['COMMENT_DISABLED','IS_VIDEO','HAS_AUDIO']].values.ravel('K'))"
      ],
      "execution_count": 142,
      "outputs": [
        {
          "output_type": "execute_result",
          "data": {
            "text/plain": [
              "array([0, 1])"
            ]
          },
          "metadata": {},
          "execution_count": 142
        }
      ]
    },
    {
      "cell_type": "code",
      "metadata": {
        "colab": {
          "base_uri": "https://localhost:8080/",
          "height": 565
        },
        "id": "80uwyoJezN8I",
        "outputId": "092d07a3-292a-4d1d-84d5-d92c483641d8"
      },
      "source": [
        "msno.matrix(df)"
      ],
      "execution_count": 143,
      "outputs": [
        {
          "output_type": "execute_result",
          "data": {
            "text/plain": [
              "<matplotlib.axes._subplots.AxesSubplot at 0x7f461cb765d0>"
            ]
          },
          "metadata": {},
          "execution_count": 143
        },
        {
          "output_type": "display_data",
          "data": {
            "image/png": "[encoded data removed]",
            "text/plain": [
              "<Figure size 1800x720 with 2 Axes>"
            ]
          },
          "metadata": {
            "needs_background": "light"
          }
        }
      ]
    },
    {
      "cell_type": "code",
      "metadata": {
        "colab": {
          "base_uri": "https://localhost:8080/"
        },
        "id": "YuKCxaw0zV1O",
        "outputId": "8ce5c40f-c88a-4fe6-fa2a-12529379a980"
      },
      "source": [
        "df.columns"
      ],
      "execution_count": 144,
      "outputs": [
        {
          "output_type": "execute_result",
          "data": {
            "text/plain": [
              "Index(['USERID', 'USERNAME', 'FULLNAME', 'FOLLOWER', 'LIKES', 'COMMENTS',\n",
              "       'ENGAGEMENT', 'URL', 'ACCESSIBILITY_CAPTION', 'CAPTION', 'LOCATION',\n",
              "       'CITY', 'COUNTRY', 'TIME', 'IMAGE_LABELS', 'CAPTION_INTEREST',\n",
              "       'ACCESSIBILITY_CAPTION_INTEREST', 'IMAGE_LABEL_INTEREST',\n",
              "       'COMMENT_DISABLED', 'IS_VIDEO', 'HAS_AUDIO', 'VIDEO_VIEW_COUNT',\n",
              "       'log_ENGAGEMENT', 'DATETIME', 'YEAR', 'MONTH', 'DAY', 'DAYOFWEEK',\n",
              "       'HOUR', 'MINUTE'],\n",
              "      dtype='object')"
            ]
          },
          "metadata": {},
          "execution_count": 144
        }
      ]
    },
    {
      "cell_type": "markdown",
      "metadata": {
        "id": "uF9AHnIU4ae-"
      },
      "source": [
        "Raname the index"
      ]
    },
    {
      "cell_type": "code",
      "metadata": {
        "id": "3A0qeN-o4DPy"
      },
      "source": [
        "df = df.rename_axis('LINE_NUM_INDEX')"
      ],
      "execution_count": 145,
      "outputs": []
    },
    {
      "cell_type": "markdown",
      "metadata": {
        "id": "QosJ4CUL4mcc"
      },
      "source": [
        "Note by Eladk: we can fill location values by using a merdiction model base in the influancer and the time for the post. <BR> \n",
        "For Now, I'll just fill the columns with NULL"
      ]
    },
    {
      "cell_type": "markdown",
      "metadata": {
        "id": "FTZGaoMYArQ4"
      },
      "source": [
        "Replace all cases where VIDEO_VIEW_COUNT == Nan with 0. <BR> for double check i verified it with is_video column"
      ]
    },
    {
      "cell_type": "code",
      "metadata": {
        "id": "1RyzEtmyAWLd"
      },
      "source": [
        "df['VIDEO_VIEW_COUNT'].fillna(0, inplace=True)"
      ],
      "execution_count": 146,
      "outputs": []
    },
    {
      "cell_type": "markdown",
      "metadata": {
        "id": "Z1IpsQ1WDRwW"
      },
      "source": [
        "Eladk note 8-Sep-2021: I still need to handle missing values in column:\n",
        "\n",
        "\n",
        "*   FULLNAME\n",
        "*   ACCESSIBILITY_CAPTION - specify full name, time, location, video or picture and tag\n",
        "*   CAPTION - the text on this post (by the post uploader\n",
        "*   LOCATION, CITY, COUNTRY - location\n",
        "*   CAPTION_INTEREST -\n",
        "*   ACCESSIBILITY_CAPTION_INTEREST\n"
      ]
    },
    {
      "cell_type": "code",
      "metadata": {
        "colab": {
          "base_uri": "https://localhost:8080/",
          "height": 565
        },
        "id": "KFgrunbu5UN5",
        "outputId": "f27c6f4d-d78b-439a-aed4-27e1740cbb80"
      },
      "source": [
        "msno.matrix(df)"
      ],
      "execution_count": 147,
      "outputs": [
        {
          "output_type": "execute_result",
          "data": {
            "text/plain": [
              "<matplotlib.axes._subplots.AxesSubplot at 0x7f461ca6d350>"
            ]
          },
          "metadata": {},
          "execution_count": 147
        },
        {
          "output_type": "display_data",
          "data": {
            "image/png": "[encoded data removed]",
            "text/plain": [
              "<Figure size 1800x720 with 2 Axes>"
            ]
          },
          "metadata": {
            "needs_background": "light"
          }
        }
      ]
    },
    {
      "cell_type": "code",
      "metadata": {
        "colab": {
          "base_uri": "https://localhost:8080/"
        },
        "id": "pJzc-VCL6wem",
        "outputId": "2384f5b8-d2fa-45c8-d2cd-55ec30dd820f"
      },
      "source": [
        "df.CAPTION.value_counts().sort_values(ascending=False)"
      ],
      "execution_count": 148,
      "outputs": [
        {
          "output_type": "execute_result",
          "data": {
            "text/plain": [
              "????                                                                                                                                                                                                                                                                                                                                                                                                                                                                                                                                     23\n",
              "????????                                                                                                                                                                                                                                                                                                                                                                                                                                                                                                                                 14\n",
              "????????????                                                                                                                                                                                                                                                                                                                                                                                                                                                                                                                             11\n",
              "✨If you’re in Charlotte this Saturday…\\n\\n✨Be a part of the LIVE taping of Brunch with Bree!\\n\\nTickets still available\\n\\nhttps://www.eventbrite.com/e/brunch-with-bree-live-ep12-killing-superwoman-tickets-158021395247?ref=eios\\n\\n???? Catch us on YouTube LIVE ????\\nhttps://www.youtube.com/channel/UC2simvxe1jIqUhvRChCfv3g\\n\\n✨Oh My Soul in NoDa will be hosting the brunch and handling food orders. \\n\\n✨Grab your seats and place your orders starting at 10:15\\n\\n✨Taping starts at 10:30am. Show wraps at 12:00pm.\\n\\n     6\n",
              "Tresuria, crafting your curiosity ????\\n\\nTreat yourself on our website :\\n???? www.tresuria.com\\n\\n#tresuria #tresuriaboutique #jewelry #gems #ring #bracelet #necklace                                                                                                                                                                                                                                                                                                                                                                  6\n",
              "                                                                                                                                                                                                                                                                                                                                                                                                                                                                                                                                         ..\n",
              "I am my Motivation.\\n\\nPhotographer:@exaltedproductions \\n\\n#goddessleoni#fitnessmotivation#jdsports#adidas#pumasneakers #topshop                                                                                                                                                                                                                                                                                                                                                                                                         1\n",
              "sometimes people won’t understand you, that’s okay. life is too short to dwell on misunderstandings. love yourself, do good unto yourself, do good unto others and watch goodness flow to you???? #HappySunday #RestandReflection \\nShot by @m9_images                                                                                                                                                                                                                                                                                    1\n",
              "Quando ero abbronzata. Addio estate ????                                                                                                                                                                                                                                                                                                                                                                                                                                                                                                  1\n",
              "The girls are ready to see @england win today!! \\n\\ntwin #twins #love #twinning #twinsofinstagram #baby #twinsisters #twinstagram #twinlife #cute  #twinlove #england???????? #twinbabies #twingirls #sisters #like #twinsbaby #morning #babies #kids #newborn  #babygirls #happy #positive #love #england #englandfootball #englandfans #englandteam #???????????????????????????? #football                                                                                                                                             1\n",
              "In colour palette con le vigne. ????                                                                                                                                                                                                                                                                                                                                                                                                                                                                                                      1\n",
              "Name: CAPTION, Length: 4215, dtype: int64"
            ]
          },
          "metadata": {},
          "execution_count": 148
        }
      ]
    },
    {
      "cell_type": "markdown",
      "metadata": {
        "id": "1nfbHMIBGBXo"
      },
      "source": [
        "selecting a subset of the data:"
      ]
    },
    {
      "cell_type": "code",
      "metadata": {
        "colab": {
          "base_uri": "https://localhost:8080/",
          "height": 501
        },
        "id": "EhYai8Vc-E1h",
        "outputId": "76e5d5da-3e4e-44e0-e5c4-c3dd52a2193d"
      },
      "source": [
        "df[['FULLNAME','ACCESSIBILITY_CAPTION','CAPTION','LOCATION', 'CITY', 'COUNTRY','CAPTION_INTEREST','ACCESSIBILITY_CAPTION_INTEREST']].head(5)"
      ],
      "execution_count": 149,
      "outputs": [
        {
          "output_type": "execute_result",
          "data": {
            "text/html": [
              "<div>\n",
              "<style scoped>\n",
              "    .dataframe tbody tr th:only-of-type {\n",
              "        vertical-align: middle;\n",
              "    }\n",
              "\n",
              "    .dataframe tbody tr th {\n",
              "        vertical-align: top;\n",
              "    }\n",
              "\n",
              "    .dataframe thead th {\n",
              "        text-align: right;\n",
              "    }\n",
              "</style>\n",
              "<table border=\"1\" class=\"dataframe\">\n",
              "  <thead>\n",
              "    <tr style=\"text-align: right;\">\n",
              "      <th></th>\n",
              "      <th>FULLNAME</th>\n",
              "      <th>ACCESSIBILITY_CAPTION</th>\n",
              "      <th>CAPTION</th>\n",
              "      <th>LOCATION</th>\n",
              "      <th>CITY</th>\n",
              "      <th>COUNTRY</th>\n",
              "      <th>CAPTION_INTEREST</th>\n",
              "      <th>ACCESSIBILITY_CAPTION_INTEREST</th>\n",
              "    </tr>\n",
              "    <tr>\n",
              "      <th>LINE_NUM_INDEX</th>\n",
              "      <th></th>\n",
              "      <th></th>\n",
              "      <th></th>\n",
              "      <th></th>\n",
              "      <th></th>\n",
              "      <th></th>\n",
              "      <th></th>\n",
              "      <th></th>\n",
              "    </tr>\n",
              "  </thead>\n",
              "  <tbody>\n",
              "    <tr>\n",
              "      <th>1918</th>\n",
              "      <td>Elastici e Passamaneria</td>\n",
              "      <td>Photo by Elastici e Passamaneria on March 16, 2021.</td>\n",
              "      <td>FFP2 MADE IN ITALY????????#ffp2mask#italianstyle#madeinitaly????????#produzionepropria#produttori#farmacie#farmacieitaliane#parafarmacia#mascherinelavabili#mask#ffp2</td>\n",
              "      <td>NaN</td>\n",
              "      <td>NaN</td>\n",
              "      <td>NaN</td>\n",
              "      <td>education</td>\n",
              "      <td>movies</td>\n",
              "    </tr>\n",
              "    <tr>\n",
              "      <th>1919</th>\n",
              "      <td>Pamela La Torre</td>\n",
              "      <td>Photo by Pamela La Torre on June 13, 2021. May be an image of one or more people, people standing and indoor.</td>\n",
              "      <td>Prima comunione Giorgio</td>\n",
              "      <td>Santissimo Crocifisso</td>\n",
              "      <td>Taranto, Italy</td>\n",
              "      <td>NaN</td>\n",
              "      <td>news</td>\n",
              "      <td>arts_entertainment</td>\n",
              "    </tr>\n",
              "    <tr>\n",
              "      <th>1920</th>\n",
              "      <td>????????????????</td>\n",
              "      <td>Photo by ???????????????? on July 18, 2020. May be an image of 1 person.</td>\n",
              "      <td>mirame????</td>\n",
              "      <td>NaN</td>\n",
              "      <td>NaN</td>\n",
              "      <td>NaN</td>\n",
              "      <td>education</td>\n",
              "      <td>arts_entertainment</td>\n",
              "    </tr>\n",
              "    <tr>\n",
              "      <th>1921</th>\n",
              "      <td>Wellbish Store</td>\n",
              "      <td>Photo by Wellbish Store on December 12, 2020. May be an image of jewelry.</td>\n",
              "      <td>How sweet is your Heart? ❤️????\\n.\\n.\\n???? Follow @wellbishstore\\n???? Turn notification on\\n☑️ Tag me in your stories\\n???? click the link in my bio! ????\\n.\\n.\\n#wellbishstore #relationship #love #boyfriend #girlfriend #bracelet #key #heart #jewelry #engagement #sweethearts</td>\n",
              "      <td>NaN</td>\n",
              "      <td>NaN</td>\n",
              "      <td>NaN</td>\n",
              "      <td>style_fashion</td>\n",
              "      <td>arts_entertainment</td>\n",
              "    </tr>\n",
              "    <tr>\n",
              "      <th>1922</th>\n",
              "      <td>Mohamed Amine</td>\n",
              "      <td>Photo by Mohamed Amine in Mawazine.</td>\n",
              "      <td>NaN</td>\n",
              "      <td>Mawazine</td>\n",
              "      <td>Ksar Hellal, Tunisia</td>\n",
              "      <td>Tunisia</td>\n",
              "      <td>NaN</td>\n",
              "      <td>news</td>\n",
              "    </tr>\n",
              "  </tbody>\n",
              "</table>\n",
              "</div>"
            ],
            "text/plain": [
              "                               FULLNAME  ... ACCESSIBILITY_CAPTION_INTEREST\n",
              "LINE_NUM_INDEX                           ...                               \n",
              "1918            Elastici e Passamaneria  ...                         movies\n",
              "1919                    Pamela La Torre  ...             arts_entertainment\n",
              "1920                   ????????????????  ...             arts_entertainment\n",
              "1921                     Wellbish Store  ...             arts_entertainment\n",
              "1922                      Mohamed Amine  ...                           news\n",
              "\n",
              "[5 rows x 8 columns]"
            ]
          },
          "metadata": {},
          "execution_count": 149
        }
      ]
    },
    {
      "cell_type": "markdown",
      "metadata": {
        "id": "FKe1TsN2E03L"
      },
      "source": [
        "Increase the length to a column so that we'll see all the text in a cell"
      ]
    },
    {
      "cell_type": "code",
      "metadata": {
        "colab": {
          "base_uri": "https://localhost:8080/"
        },
        "id": "DQxDRFJz-z4n",
        "outputId": "d529023a-07dc-4f69-e3b0-a8fb6bad033f"
      },
      "source": [
        "pd.options.display.max_colwidth = 1000\n",
        "df.ACCESSIBILITY_CAPTION.head(5)"
      ],
      "execution_count": 150,
      "outputs": [
        {
          "output_type": "execute_result",
          "data": {
            "text/plain": [
              "LINE_NUM_INDEX\n",
              "1918                                                              Photo by Elastici e Passamaneria on March 16, 2021.\n",
              "1919    Photo by Pamela La Torre on June 13, 2021. May be an image of one or more people, people standing and indoor.\n",
              "1920                                         Photo by ???????????????? on July 18, 2020. May be an image of 1 person.\n",
              "1921                                        Photo by Wellbish Store on December 12, 2020. May be an image of jewelry.\n",
              "1922                                                                              Photo by Mohamed Amine in Mawazine.\n",
              "Name: ACCESSIBILITY_CAPTION, dtype: object"
            ]
          },
          "metadata": {},
          "execution_count": 150
        }
      ]
    },
    {
      "cell_type": "markdown",
      "metadata": {
        "id": "oRFlWKO6EqIZ"
      },
      "source": [
        "Selecting 1 row by index (specific column only)"
      ]
    },
    {
      "cell_type": "code",
      "metadata": {
        "colab": {
          "base_uri": "https://localhost:8080/",
          "height": 147
        },
        "id": "QDwmKBBU9M63",
        "outputId": "a984df98-37b3-41ae-e7be-63eb60a9c53a"
      },
      "source": [
        "df[df.index == 1929][['URL','ACCESSIBILITY_CAPTION','FULLNAME','DATETIME','LOCATION']] # name, "
      ],
      "execution_count": 151,
      "outputs": [
        {
          "output_type": "execute_result",
          "data": {
            "text/html": [
              "<div>\n",
              "<style scoped>\n",
              "    .dataframe tbody tr th:only-of-type {\n",
              "        vertical-align: middle;\n",
              "    }\n",
              "\n",
              "    .dataframe tbody tr th {\n",
              "        vertical-align: top;\n",
              "    }\n",
              "\n",
              "    .dataframe thead th {\n",
              "        text-align: right;\n",
              "    }\n",
              "</style>\n",
              "<table border=\"1\" class=\"dataframe\">\n",
              "  <thead>\n",
              "    <tr style=\"text-align: right;\">\n",
              "      <th></th>\n",
              "      <th>URL</th>\n",
              "      <th>ACCESSIBILITY_CAPTION</th>\n",
              "      <th>FULLNAME</th>\n",
              "      <th>DATETIME</th>\n",
              "      <th>LOCATION</th>\n",
              "    </tr>\n",
              "    <tr>\n",
              "      <th>LINE_NUM_INDEX</th>\n",
              "      <th></th>\n",
              "      <th></th>\n",
              "      <th></th>\n",
              "      <th></th>\n",
              "      <th></th>\n",
              "    </tr>\n",
              "  </thead>\n",
              "  <tbody>\n",
              "    <tr>\n",
              "      <th>1929</th>\n",
              "      <td>https://www.instagram.com/p/CH5E6XPDO_y</td>\n",
              "      <td>Photo by V i t t o r i a   C a r o n in Palermo, Italy with @federico_alberti_. May be an image of 2 people, outerwear and monument.</td>\n",
              "      <td>V i t t o r i a   C a r o n</td>\n",
              "      <td>2020-11-22 11:44:52</td>\n",
              "      <td>Palermo, Italy</td>\n",
              "    </tr>\n",
              "  </tbody>\n",
              "</table>\n",
              "</div>"
            ],
            "text/plain": [
              "                                                    URL  ...        LOCATION\n",
              "LINE_NUM_INDEX                                           ...                \n",
              "1929            https://www.instagram.com/p/CH5E6XPDO_y  ...  Palermo, Italy\n",
              "\n",
              "[1 rows x 5 columns]"
            ]
          },
          "metadata": {},
          "execution_count": 151
        }
      ]
    },
    {
      "cell_type": "code",
      "metadata": {
        "colab": {
          "base_uri": "https://localhost:8080/"
        },
        "id": "gIEu5AuP9DQn",
        "outputId": "b52f6129-f8d3-4c01-e1d7-76b12b6a2a8f"
      },
      "source": [
        "df.columns"
      ],
      "execution_count": 152,
      "outputs": [
        {
          "output_type": "execute_result",
          "data": {
            "text/plain": [
              "Index(['USERID', 'USERNAME', 'FULLNAME', 'FOLLOWER', 'LIKES', 'COMMENTS',\n",
              "       'ENGAGEMENT', 'URL', 'ACCESSIBILITY_CAPTION', 'CAPTION', 'LOCATION',\n",
              "       'CITY', 'COUNTRY', 'TIME', 'IMAGE_LABELS', 'CAPTION_INTEREST',\n",
              "       'ACCESSIBILITY_CAPTION_INTEREST', 'IMAGE_LABEL_INTEREST',\n",
              "       'COMMENT_DISABLED', 'IS_VIDEO', 'HAS_AUDIO', 'VIDEO_VIEW_COUNT',\n",
              "       'log_ENGAGEMENT', 'DATETIME', 'YEAR', 'MONTH', 'DAY', 'DAYOFWEEK',\n",
              "       'HOUR', 'MINUTE'],\n",
              "      dtype='object')"
            ]
          },
          "metadata": {},
          "execution_count": 152
        }
      ]
    },
    {
      "cell_type": "code",
      "metadata": {
        "colab": {
          "base_uri": "https://localhost:8080/",
          "height": 707
        },
        "id": "rEWoJh98GMjH",
        "outputId": "4a0f596e-d154-42b0-95bb-9c10cbf79b2c"
      },
      "source": [
        "df[['CAPTION_INTEREST','ACCESSIBILITY_CAPTION_INTEREST']].head(20)"
      ],
      "execution_count": 153,
      "outputs": [
        {
          "output_type": "execute_result",
          "data": {
            "text/html": [
              "<div>\n",
              "<style scoped>\n",
              "    .dataframe tbody tr th:only-of-type {\n",
              "        vertical-align: middle;\n",
              "    }\n",
              "\n",
              "    .dataframe tbody tr th {\n",
              "        vertical-align: top;\n",
              "    }\n",
              "\n",
              "    .dataframe thead th {\n",
              "        text-align: right;\n",
              "    }\n",
              "</style>\n",
              "<table border=\"1\" class=\"dataframe\">\n",
              "  <thead>\n",
              "    <tr style=\"text-align: right;\">\n",
              "      <th></th>\n",
              "      <th>CAPTION_INTEREST</th>\n",
              "      <th>ACCESSIBILITY_CAPTION_INTEREST</th>\n",
              "    </tr>\n",
              "    <tr>\n",
              "      <th>LINE_NUM_INDEX</th>\n",
              "      <th></th>\n",
              "      <th></th>\n",
              "    </tr>\n",
              "  </thead>\n",
              "  <tbody>\n",
              "    <tr>\n",
              "      <th>1918</th>\n",
              "      <td>education</td>\n",
              "      <td>movies</td>\n",
              "    </tr>\n",
              "    <tr>\n",
              "      <th>1919</th>\n",
              "      <td>news</td>\n",
              "      <td>arts_entertainment</td>\n",
              "    </tr>\n",
              "    <tr>\n",
              "      <th>1920</th>\n",
              "      <td>education</td>\n",
              "      <td>arts_entertainment</td>\n",
              "    </tr>\n",
              "    <tr>\n",
              "      <th>1921</th>\n",
              "      <td>style_fashion</td>\n",
              "      <td>arts_entertainment</td>\n",
              "    </tr>\n",
              "    <tr>\n",
              "      <th>1922</th>\n",
              "      <td>NaN</td>\n",
              "      <td>news</td>\n",
              "    </tr>\n",
              "    <tr>\n",
              "      <th>1923</th>\n",
              "      <td>NaN</td>\n",
              "      <td>arts_entertainment</td>\n",
              "    </tr>\n",
              "    <tr>\n",
              "      <th>1924</th>\n",
              "      <td>NaN</td>\n",
              "      <td>arts_entertainment</td>\n",
              "    </tr>\n",
              "    <tr>\n",
              "      <th>1925</th>\n",
              "      <td>NaN</td>\n",
              "      <td>arts_entertainment</td>\n",
              "    </tr>\n",
              "    <tr>\n",
              "      <th>1926</th>\n",
              "      <td>parenting</td>\n",
              "      <td>travel</td>\n",
              "    </tr>\n",
              "    <tr>\n",
              "      <th>1927</th>\n",
              "      <td>style_fashion</td>\n",
              "      <td>music</td>\n",
              "    </tr>\n",
              "    <tr>\n",
              "      <th>1928</th>\n",
              "      <td>humor</td>\n",
              "      <td>entertainment</td>\n",
              "    </tr>\n",
              "    <tr>\n",
              "      <th>1929</th>\n",
              "      <td>entertainment</td>\n",
              "      <td>music</td>\n",
              "    </tr>\n",
              "    <tr>\n",
              "      <th>1930</th>\n",
              "      <td>education</td>\n",
              "      <td>NaN</td>\n",
              "    </tr>\n",
              "    <tr>\n",
              "      <th>1931</th>\n",
              "      <td>NaN</td>\n",
              "      <td>arts_entertainment</td>\n",
              "    </tr>\n",
              "    <tr>\n",
              "      <th>1932</th>\n",
              "      <td>desserts_baking</td>\n",
              "      <td>travel</td>\n",
              "    </tr>\n",
              "    <tr>\n",
              "      <th>1933</th>\n",
              "      <td>food_drink</td>\n",
              "      <td>news</td>\n",
              "    </tr>\n",
              "    <tr>\n",
              "      <th>1934</th>\n",
              "      <td>desserts_baking</td>\n",
              "      <td>NaN</td>\n",
              "    </tr>\n",
              "    <tr>\n",
              "      <th>1935</th>\n",
              "      <td>dating_and_relationships</td>\n",
              "      <td>NaN</td>\n",
              "    </tr>\n",
              "    <tr>\n",
              "      <th>1936</th>\n",
              "      <td>arts_entertainment</td>\n",
              "      <td>movies</td>\n",
              "    </tr>\n",
              "    <tr>\n",
              "      <th>1937</th>\n",
              "      <td>travel</td>\n",
              "      <td>arts_entertainment</td>\n",
              "    </tr>\n",
              "  </tbody>\n",
              "</table>\n",
              "</div>"
            ],
            "text/plain": [
              "                        CAPTION_INTEREST ACCESSIBILITY_CAPTION_INTEREST\n",
              "LINE_NUM_INDEX                                                         \n",
              "1918                           education                         movies\n",
              "1919                                news             arts_entertainment\n",
              "1920                           education             arts_entertainment\n",
              "1921                       style_fashion             arts_entertainment\n",
              "1922                                 NaN                           news\n",
              "1923                                 NaN             arts_entertainment\n",
              "1924                                 NaN             arts_entertainment\n",
              "1925                                 NaN             arts_entertainment\n",
              "1926                           parenting                         travel\n",
              "1927                       style_fashion                          music\n",
              "1928                               humor                  entertainment\n",
              "1929                       entertainment                          music\n",
              "1930                           education                            NaN\n",
              "1931                                 NaN             arts_entertainment\n",
              "1932                     desserts_baking                         travel\n",
              "1933                          food_drink                           news\n",
              "1934                     desserts_baking                            NaN\n",
              "1935            dating_and_relationships                            NaN\n",
              "1936                  arts_entertainment                         movies\n",
              "1937                              travel             arts_entertainment"
            ]
          },
          "metadata": {},
          "execution_count": 153
        }
      ]
    },
    {
      "cell_type": "code",
      "metadata": {
        "colab": {
          "base_uri": "https://localhost:8080/",
          "height": 112
        },
        "id": "XNhBGf_vIyTS",
        "outputId": "d3ecd99f-e51c-4f46-c778-ae0d083206e3"
      },
      "source": [
        "df[df.index == 1932][['URL','CAPTION_INTEREST','ACCESSIBILITY_CAPTION_INTEREST']] # name, "
      ],
      "execution_count": 154,
      "outputs": [
        {
          "output_type": "execute_result",
          "data": {
            "text/html": [
              "<div>\n",
              "<style scoped>\n",
              "    .dataframe tbody tr th:only-of-type {\n",
              "        vertical-align: middle;\n",
              "    }\n",
              "\n",
              "    .dataframe tbody tr th {\n",
              "        vertical-align: top;\n",
              "    }\n",
              "\n",
              "    .dataframe thead th {\n",
              "        text-align: right;\n",
              "    }\n",
              "</style>\n",
              "<table border=\"1\" class=\"dataframe\">\n",
              "  <thead>\n",
              "    <tr style=\"text-align: right;\">\n",
              "      <th></th>\n",
              "      <th>URL</th>\n",
              "      <th>CAPTION_INTEREST</th>\n",
              "      <th>ACCESSIBILITY_CAPTION_INTEREST</th>\n",
              "    </tr>\n",
              "    <tr>\n",
              "      <th>LINE_NUM_INDEX</th>\n",
              "      <th></th>\n",
              "      <th></th>\n",
              "      <th></th>\n",
              "    </tr>\n",
              "  </thead>\n",
              "  <tbody>\n",
              "    <tr>\n",
              "      <th>1932</th>\n",
              "      <td>https://www.instagram.com/p/CQAzST6hwxG</td>\n",
              "      <td>desserts_baking</td>\n",
              "      <td>travel</td>\n",
              "    </tr>\n",
              "  </tbody>\n",
              "</table>\n",
              "</div>"
            ],
            "text/plain": [
              "                                                    URL  ... ACCESSIBILITY_CAPTION_INTEREST\n",
              "LINE_NUM_INDEX                                           ...                               \n",
              "1932            https://www.instagram.com/p/CQAzST6hwxG  ...                         travel\n",
              "\n",
              "[1 rows x 3 columns]"
            ]
          },
          "metadata": {},
          "execution_count": 154
        }
      ]
    },
    {
      "cell_type": "markdown",
      "metadata": {
        "id": "n_YgP0eGJBuU"
      },
      "source": [
        "there are 308 combination as CAPTION_INTEREST and ACCESSIBILITY_CAPTION_INTEREST"
      ]
    },
    {
      "cell_type": "code",
      "metadata": {
        "colab": {
          "base_uri": "https://localhost:8080/",
          "height": 1000
        },
        "id": "RyfBkf7yGViq",
        "outputId": "738febdd-ec82-494c-bf09-b38b7d6eae37"
      },
      "source": [
        "df.groupby(['CAPTION_INTEREST','ACCESSIBILITY_CAPTION_INTEREST']).size().sort_values(ascending=False).reset_index(name='counts').head(50)"
      ],
      "execution_count": 155,
      "outputs": [
        {
          "output_type": "execute_result",
          "data": {
            "text/html": [
              "<div>\n",
              "<style scoped>\n",
              "    .dataframe tbody tr th:only-of-type {\n",
              "        vertical-align: middle;\n",
              "    }\n",
              "\n",
              "    .dataframe tbody tr th {\n",
              "        vertical-align: top;\n",
              "    }\n",
              "\n",
              "    .dataframe thead th {\n",
              "        text-align: right;\n",
              "    }\n",
              "</style>\n",
              "<table border=\"1\" class=\"dataframe\">\n",
              "  <thead>\n",
              "    <tr style=\"text-align: right;\">\n",
              "      <th></th>\n",
              "      <th>CAPTION_INTEREST</th>\n",
              "      <th>ACCESSIBILITY_CAPTION_INTEREST</th>\n",
              "      <th>counts</th>\n",
              "    </tr>\n",
              "  </thead>\n",
              "  <tbody>\n",
              "    <tr>\n",
              "      <th>0</th>\n",
              "      <td>parenting</td>\n",
              "      <td>arts_entertainment</td>\n",
              "      <td>229</td>\n",
              "    </tr>\n",
              "    <tr>\n",
              "      <th>1</th>\n",
              "      <td>style_fashion</td>\n",
              "      <td>arts_entertainment</td>\n",
              "      <td>202</td>\n",
              "    </tr>\n",
              "    <tr>\n",
              "      <th>2</th>\n",
              "      <td>arts_entertainment</td>\n",
              "      <td>arts_entertainment</td>\n",
              "      <td>193</td>\n",
              "    </tr>\n",
              "    <tr>\n",
              "      <th>3</th>\n",
              "      <td>style_fashion</td>\n",
              "      <td>style_fashion</td>\n",
              "      <td>160</td>\n",
              "    </tr>\n",
              "    <tr>\n",
              "      <th>4</th>\n",
              "      <td>arts_entertainment</td>\n",
              "      <td>travel</td>\n",
              "      <td>143</td>\n",
              "    </tr>\n",
              "    <tr>\n",
              "      <th>5</th>\n",
              "      <td>parenting</td>\n",
              "      <td>travel</td>\n",
              "      <td>129</td>\n",
              "    </tr>\n",
              "    <tr>\n",
              "      <th>6</th>\n",
              "      <td>education</td>\n",
              "      <td>arts_entertainment</td>\n",
              "      <td>122</td>\n",
              "    </tr>\n",
              "    <tr>\n",
              "      <th>7</th>\n",
              "      <td>food_drink</td>\n",
              "      <td>arts_entertainment</td>\n",
              "      <td>115</td>\n",
              "    </tr>\n",
              "    <tr>\n",
              "      <th>8</th>\n",
              "      <td>style_fashion</td>\n",
              "      <td>travel</td>\n",
              "      <td>91</td>\n",
              "    </tr>\n",
              "    <tr>\n",
              "      <th>9</th>\n",
              "      <td>travel</td>\n",
              "      <td>arts_entertainment</td>\n",
              "      <td>74</td>\n",
              "    </tr>\n",
              "    <tr>\n",
              "      <th>10</th>\n",
              "      <td>dating_and_relationships</td>\n",
              "      <td>arts_entertainment</td>\n",
              "      <td>69</td>\n",
              "    </tr>\n",
              "    <tr>\n",
              "      <th>11</th>\n",
              "      <td>food_drink</td>\n",
              "      <td>food_drink</td>\n",
              "      <td>69</td>\n",
              "    </tr>\n",
              "    <tr>\n",
              "      <th>12</th>\n",
              "      <td>parenting</td>\n",
              "      <td>parenting</td>\n",
              "      <td>68</td>\n",
              "    </tr>\n",
              "    <tr>\n",
              "      <th>13</th>\n",
              "      <td>parenting</td>\n",
              "      <td>style_fashion</td>\n",
              "      <td>63</td>\n",
              "    </tr>\n",
              "    <tr>\n",
              "      <th>14</th>\n",
              "      <td>arts_entertainment</td>\n",
              "      <td>parenting</td>\n",
              "      <td>59</td>\n",
              "    </tr>\n",
              "    <tr>\n",
              "      <th>15</th>\n",
              "      <td>education</td>\n",
              "      <td>travel</td>\n",
              "      <td>57</td>\n",
              "    </tr>\n",
              "    <tr>\n",
              "      <th>16</th>\n",
              "      <td>arts_entertainment</td>\n",
              "      <td>style_fashion</td>\n",
              "      <td>52</td>\n",
              "    </tr>\n",
              "    <tr>\n",
              "      <th>17</th>\n",
              "      <td>travel</td>\n",
              "      <td>travel</td>\n",
              "      <td>45</td>\n",
              "    </tr>\n",
              "    <tr>\n",
              "      <th>18</th>\n",
              "      <td>parenting</td>\n",
              "      <td>food_drink</td>\n",
              "      <td>45</td>\n",
              "    </tr>\n",
              "    <tr>\n",
              "      <th>19</th>\n",
              "      <td>pets</td>\n",
              "      <td>arts_entertainment</td>\n",
              "      <td>43</td>\n",
              "    </tr>\n",
              "    <tr>\n",
              "      <th>20</th>\n",
              "      <td>music</td>\n",
              "      <td>arts_entertainment</td>\n",
              "      <td>40</td>\n",
              "    </tr>\n",
              "    <tr>\n",
              "      <th>21</th>\n",
              "      <td>parenting</td>\n",
              "      <td>events</td>\n",
              "      <td>38</td>\n",
              "    </tr>\n",
              "    <tr>\n",
              "      <th>22</th>\n",
              "      <td>arts_entertainment</td>\n",
              "      <td>food_drink</td>\n",
              "      <td>37</td>\n",
              "    </tr>\n",
              "    <tr>\n",
              "      <th>23</th>\n",
              "      <td>food_drink</td>\n",
              "      <td>travel</td>\n",
              "      <td>36</td>\n",
              "    </tr>\n",
              "    <tr>\n",
              "      <th>24</th>\n",
              "      <td>dating_and_relationships</td>\n",
              "      <td>travel</td>\n",
              "      <td>35</td>\n",
              "    </tr>\n",
              "    <tr>\n",
              "      <th>25</th>\n",
              "      <td>arts_entertainment</td>\n",
              "      <td>events</td>\n",
              "      <td>32</td>\n",
              "    </tr>\n",
              "    <tr>\n",
              "      <th>26</th>\n",
              "      <td>weddings</td>\n",
              "      <td>arts_entertainment</td>\n",
              "      <td>30</td>\n",
              "    </tr>\n",
              "    <tr>\n",
              "      <th>27</th>\n",
              "      <td>travel</td>\n",
              "      <td>style_fashion</td>\n",
              "      <td>24</td>\n",
              "    </tr>\n",
              "    <tr>\n",
              "      <th>28</th>\n",
              "      <td>style_fashion</td>\n",
              "      <td>events</td>\n",
              "      <td>24</td>\n",
              "    </tr>\n",
              "    <tr>\n",
              "      <th>29</th>\n",
              "      <td>food_drink</td>\n",
              "      <td>style_fashion</td>\n",
              "      <td>23</td>\n",
              "    </tr>\n",
              "    <tr>\n",
              "      <th>30</th>\n",
              "      <td>pets</td>\n",
              "      <td>travel</td>\n",
              "      <td>23</td>\n",
              "    </tr>\n",
              "    <tr>\n",
              "      <th>31</th>\n",
              "      <td>parenting</td>\n",
              "      <td>movies</td>\n",
              "      <td>22</td>\n",
              "    </tr>\n",
              "    <tr>\n",
              "      <th>32</th>\n",
              "      <td>news</td>\n",
              "      <td>arts_entertainment</td>\n",
              "      <td>22</td>\n",
              "    </tr>\n",
              "    <tr>\n",
              "      <th>33</th>\n",
              "      <td>style_fashion</td>\n",
              "      <td>parenting</td>\n",
              "      <td>21</td>\n",
              "    </tr>\n",
              "    <tr>\n",
              "      <th>34</th>\n",
              "      <td>education</td>\n",
              "      <td>style_fashion</td>\n",
              "      <td>20</td>\n",
              "    </tr>\n",
              "    <tr>\n",
              "      <th>35</th>\n",
              "      <td>events</td>\n",
              "      <td>arts_entertainment</td>\n",
              "      <td>20</td>\n",
              "    </tr>\n",
              "    <tr>\n",
              "      <th>36</th>\n",
              "      <td>dating_and_relationships</td>\n",
              "      <td>style_fashion</td>\n",
              "      <td>20</td>\n",
              "    </tr>\n",
              "    <tr>\n",
              "      <th>37</th>\n",
              "      <td>parenting</td>\n",
              "      <td>pets</td>\n",
              "      <td>18</td>\n",
              "    </tr>\n",
              "    <tr>\n",
              "      <th>38</th>\n",
              "      <td>style_fashion</td>\n",
              "      <td>food_drink</td>\n",
              "      <td>18</td>\n",
              "    </tr>\n",
              "    <tr>\n",
              "      <th>39</th>\n",
              "      <td>business</td>\n",
              "      <td>arts_entertainment</td>\n",
              "      <td>17</td>\n",
              "    </tr>\n",
              "    <tr>\n",
              "      <th>40</th>\n",
              "      <td>food_drink</td>\n",
              "      <td>events</td>\n",
              "      <td>16</td>\n",
              "    </tr>\n",
              "    <tr>\n",
              "      <th>41</th>\n",
              "      <td>movies</td>\n",
              "      <td>arts_entertainment</td>\n",
              "      <td>15</td>\n",
              "    </tr>\n",
              "    <tr>\n",
              "      <th>42</th>\n",
              "      <td>style_fashion</td>\n",
              "      <td>music</td>\n",
              "      <td>15</td>\n",
              "    </tr>\n",
              "    <tr>\n",
              "      <th>43</th>\n",
              "      <td>weddings</td>\n",
              "      <td>travel</td>\n",
              "      <td>15</td>\n",
              "    </tr>\n",
              "    <tr>\n",
              "      <th>44</th>\n",
              "      <td>pets</td>\n",
              "      <td>parenting</td>\n",
              "      <td>15</td>\n",
              "    </tr>\n",
              "    <tr>\n",
              "      <th>45</th>\n",
              "      <td>pets</td>\n",
              "      <td>events</td>\n",
              "      <td>15</td>\n",
              "    </tr>\n",
              "    <tr>\n",
              "      <th>46</th>\n",
              "      <td>food_drink</td>\n",
              "      <td>parenting</td>\n",
              "      <td>14</td>\n",
              "    </tr>\n",
              "    <tr>\n",
              "      <th>47</th>\n",
              "      <td>dating_and_relationships</td>\n",
              "      <td>parenting</td>\n",
              "      <td>13</td>\n",
              "    </tr>\n",
              "    <tr>\n",
              "      <th>48</th>\n",
              "      <td>sports</td>\n",
              "      <td>arts_entertainment</td>\n",
              "      <td>13</td>\n",
              "    </tr>\n",
              "    <tr>\n",
              "      <th>49</th>\n",
              "      <td>pets</td>\n",
              "      <td>style_fashion</td>\n",
              "      <td>13</td>\n",
              "    </tr>\n",
              "  </tbody>\n",
              "</table>\n",
              "</div>"
            ],
            "text/plain": [
              "            CAPTION_INTEREST ACCESSIBILITY_CAPTION_INTEREST  counts\n",
              "0                  parenting             arts_entertainment     229\n",
              "1              style_fashion             arts_entertainment     202\n",
              "2         arts_entertainment             arts_entertainment     193\n",
              "3              style_fashion                  style_fashion     160\n",
              "4         arts_entertainment                         travel     143\n",
              "5                  parenting                         travel     129\n",
              "6                  education             arts_entertainment     122\n",
              "7                 food_drink             arts_entertainment     115\n",
              "8              style_fashion                         travel      91\n",
              "9                     travel             arts_entertainment      74\n",
              "10  dating_and_relationships             arts_entertainment      69\n",
              "11                food_drink                     food_drink      69\n",
              "12                 parenting                      parenting      68\n",
              "13                 parenting                  style_fashion      63\n",
              "14        arts_entertainment                      parenting      59\n",
              "15                 education                         travel      57\n",
              "16        arts_entertainment                  style_fashion      52\n",
              "17                    travel                         travel      45\n",
              "18                 parenting                     food_drink      45\n",
              "19                      pets             arts_entertainment      43\n",
              "20                     music             arts_entertainment      40\n",
              "21                 parenting                         events      38\n",
              "22        arts_entertainment                     food_drink      37\n",
              "23                food_drink                         travel      36\n",
              "24  dating_and_relationships                         travel      35\n",
              "25        arts_entertainment                         events      32\n",
              "26                  weddings             arts_entertainment      30\n",
              "27                    travel                  style_fashion      24\n",
              "28             style_fashion                         events      24\n",
              "29                food_drink                  style_fashion      23\n",
              "30                      pets                         travel      23\n",
              "31                 parenting                         movies      22\n",
              "32                      news             arts_entertainment      22\n",
              "33             style_fashion                      parenting      21\n",
              "34                 education                  style_fashion      20\n",
              "35                    events             arts_entertainment      20\n",
              "36  dating_and_relationships                  style_fashion      20\n",
              "37                 parenting                           pets      18\n",
              "38             style_fashion                     food_drink      18\n",
              "39                  business             arts_entertainment      17\n",
              "40                food_drink                         events      16\n",
              "41                    movies             arts_entertainment      15\n",
              "42             style_fashion                          music      15\n",
              "43                  weddings                         travel      15\n",
              "44                      pets                      parenting      15\n",
              "45                      pets                         events      15\n",
              "46                food_drink                      parenting      14\n",
              "47  dating_and_relationships                      parenting      13\n",
              "48                    sports             arts_entertainment      13\n",
              "49                      pets                  style_fashion      13"
            ]
          },
          "metadata": {},
          "execution_count": 155
        }
      ]
    },
    {
      "cell_type": "markdown",
      "metadata": {
        "id": "kt-1qSIIH2Mm"
      },
      "source": [
        "there are 35 unique CAPTION_INTEREST\n"
      ]
    },
    {
      "cell_type": "code",
      "metadata": {
        "colab": {
          "base_uri": "https://localhost:8080/",
          "height": 1000
        },
        "id": "RuNi4pnJHsIj",
        "outputId": "ed04cd77-b698-4cfa-aeef-377f9b6ac762"
      },
      "source": [
        "df.groupby(['CAPTION_INTEREST']).size().sort_values(ascending=False).reset_index(name='counts').head(50)"
      ],
      "execution_count": 156,
      "outputs": [
        {
          "output_type": "execute_result",
          "data": {
            "text/html": [
              "<div>\n",
              "<style scoped>\n",
              "    .dataframe tbody tr th:only-of-type {\n",
              "        vertical-align: middle;\n",
              "    }\n",
              "\n",
              "    .dataframe tbody tr th {\n",
              "        vertical-align: top;\n",
              "    }\n",
              "\n",
              "    .dataframe thead th {\n",
              "        text-align: right;\n",
              "    }\n",
              "</style>\n",
              "<table border=\"1\" class=\"dataframe\">\n",
              "  <thead>\n",
              "    <tr style=\"text-align: right;\">\n",
              "      <th></th>\n",
              "      <th>CAPTION_INTEREST</th>\n",
              "      <th>counts</th>\n",
              "    </tr>\n",
              "  </thead>\n",
              "  <tbody>\n",
              "    <tr>\n",
              "      <th>0</th>\n",
              "      <td>parenting</td>\n",
              "      <td>804</td>\n",
              "    </tr>\n",
              "    <tr>\n",
              "      <th>1</th>\n",
              "      <td>arts_entertainment</td>\n",
              "      <td>680</td>\n",
              "    </tr>\n",
              "    <tr>\n",
              "      <th>2</th>\n",
              "      <td>style_fashion</td>\n",
              "      <td>657</td>\n",
              "    </tr>\n",
              "    <tr>\n",
              "      <th>3</th>\n",
              "      <td>food_drink</td>\n",
              "      <td>363</td>\n",
              "    </tr>\n",
              "    <tr>\n",
              "      <th>4</th>\n",
              "      <td>education</td>\n",
              "      <td>335</td>\n",
              "    </tr>\n",
              "    <tr>\n",
              "      <th>5</th>\n",
              "      <td>dating_and_relationships</td>\n",
              "      <td>249</td>\n",
              "    </tr>\n",
              "    <tr>\n",
              "      <th>6</th>\n",
              "      <td>travel</td>\n",
              "      <td>246</td>\n",
              "    </tr>\n",
              "    <tr>\n",
              "      <th>7</th>\n",
              "      <td>pets</td>\n",
              "      <td>152</td>\n",
              "    </tr>\n",
              "    <tr>\n",
              "      <th>8</th>\n",
              "      <td>music</td>\n",
              "      <td>117</td>\n",
              "    </tr>\n",
              "    <tr>\n",
              "      <th>9</th>\n",
              "      <td>weddings</td>\n",
              "      <td>84</td>\n",
              "    </tr>\n",
              "    <tr>\n",
              "      <th>10</th>\n",
              "      <td>news</td>\n",
              "      <td>79</td>\n",
              "    </tr>\n",
              "    <tr>\n",
              "      <th>11</th>\n",
              "      <td>business</td>\n",
              "      <td>59</td>\n",
              "    </tr>\n",
              "    <tr>\n",
              "      <th>12</th>\n",
              "      <td>humor</td>\n",
              "      <td>52</td>\n",
              "    </tr>\n",
              "    <tr>\n",
              "      <th>13</th>\n",
              "      <td>movies</td>\n",
              "      <td>49</td>\n",
              "    </tr>\n",
              "    <tr>\n",
              "      <th>14</th>\n",
              "      <td>desserts_baking</td>\n",
              "      <td>43</td>\n",
              "    </tr>\n",
              "    <tr>\n",
              "      <th>15</th>\n",
              "      <td>entertainment</td>\n",
              "      <td>42</td>\n",
              "    </tr>\n",
              "    <tr>\n",
              "      <th>16</th>\n",
              "      <td>sports</td>\n",
              "      <td>40</td>\n",
              "    </tr>\n",
              "    <tr>\n",
              "      <th>17</th>\n",
              "      <td>events</td>\n",
              "      <td>40</td>\n",
              "    </tr>\n",
              "    <tr>\n",
              "      <th>18</th>\n",
              "      <td>politics</td>\n",
              "      <td>34</td>\n",
              "    </tr>\n",
              "    <tr>\n",
              "      <th>19</th>\n",
              "      <td>health</td>\n",
              "      <td>31</td>\n",
              "    </tr>\n",
              "    <tr>\n",
              "      <th>20</th>\n",
              "      <td>technology_computing</td>\n",
              "      <td>26</td>\n",
              "    </tr>\n",
              "    <tr>\n",
              "      <th>21</th>\n",
              "      <td>home_garden</td>\n",
              "      <td>23</td>\n",
              "    </tr>\n",
              "    <tr>\n",
              "      <th>22</th>\n",
              "      <td>gaming</td>\n",
              "      <td>21</td>\n",
              "    </tr>\n",
              "    <tr>\n",
              "      <th>23</th>\n",
              "      <td>chef</td>\n",
              "      <td>16</td>\n",
              "    </tr>\n",
              "    <tr>\n",
              "      <th>24</th>\n",
              "      <td>fitness</td>\n",
              "      <td>14</td>\n",
              "    </tr>\n",
              "    <tr>\n",
              "      <th>25</th>\n",
              "      <td>accessories</td>\n",
              "      <td>12</td>\n",
              "    </tr>\n",
              "    <tr>\n",
              "      <th>26</th>\n",
              "      <td>comic_books</td>\n",
              "      <td>10</td>\n",
              "    </tr>\n",
              "    <tr>\n",
              "      <th>27</th>\n",
              "      <td>hobbies_interests</td>\n",
              "      <td>8</td>\n",
              "    </tr>\n",
              "    <tr>\n",
              "      <th>28</th>\n",
              "      <td>books_literature</td>\n",
              "      <td>8</td>\n",
              "    </tr>\n",
              "    <tr>\n",
              "      <th>29</th>\n",
              "      <td>podcasts</td>\n",
              "      <td>8</td>\n",
              "    </tr>\n",
              "    <tr>\n",
              "      <th>30</th>\n",
              "      <td>legal</td>\n",
              "      <td>3</td>\n",
              "    </tr>\n",
              "    <tr>\n",
              "      <th>31</th>\n",
              "      <td>baking_cooking</td>\n",
              "      <td>2</td>\n",
              "    </tr>\n",
              "    <tr>\n",
              "      <th>32</th>\n",
              "      <td>finance</td>\n",
              "      <td>1</td>\n",
              "    </tr>\n",
              "    <tr>\n",
              "      <th>33</th>\n",
              "      <td>cars_motorcycles</td>\n",
              "      <td>1</td>\n",
              "    </tr>\n",
              "    <tr>\n",
              "      <th>34</th>\n",
              "      <td>barbecues_grilling</td>\n",
              "      <td>1</td>\n",
              "    </tr>\n",
              "  </tbody>\n",
              "</table>\n",
              "</div>"
            ],
            "text/plain": [
              "            CAPTION_INTEREST  counts\n",
              "0                  parenting     804\n",
              "1         arts_entertainment     680\n",
              "2              style_fashion     657\n",
              "3                 food_drink     363\n",
              "4                  education     335\n",
              "5   dating_and_relationships     249\n",
              "6                     travel     246\n",
              "7                       pets     152\n",
              "8                      music     117\n",
              "9                   weddings      84\n",
              "10                      news      79\n",
              "11                  business      59\n",
              "12                     humor      52\n",
              "13                    movies      49\n",
              "14           desserts_baking      43\n",
              "15             entertainment      42\n",
              "16                    sports      40\n",
              "17                    events      40\n",
              "18                  politics      34\n",
              "19                    health      31\n",
              "20      technology_computing      26\n",
              "21               home_garden      23\n",
              "22                    gaming      21\n",
              "23                      chef      16\n",
              "24                   fitness      14\n",
              "25               accessories      12\n",
              "26               comic_books      10\n",
              "27         hobbies_interests       8\n",
              "28          books_literature       8\n",
              "29                  podcasts       8\n",
              "30                     legal       3\n",
              "31            baking_cooking       2\n",
              "32                   finance       1\n",
              "33          cars_motorcycles       1\n",
              "34        barbecues_grilling       1"
            ]
          },
          "metadata": {},
          "execution_count": 156
        }
      ]
    },
    {
      "cell_type": "markdown",
      "metadata": {
        "id": "cwsqII4BILNz"
      },
      "source": [
        "there are 26 unique ACCESSIBILITY_CAPTION_INTEREST\n"
      ]
    },
    {
      "cell_type": "code",
      "metadata": {
        "colab": {
          "base_uri": "https://localhost:8080/",
          "height": 864
        },
        "id": "TMSR-DOfIFuG",
        "outputId": "8dcace1f-4e2f-428d-9508-a6311bf8374b"
      },
      "source": [
        "df.groupby(['ACCESSIBILITY_CAPTION_INTEREST']).size().sort_values(ascending=False).reset_index(name='counts').head(30)"
      ],
      "execution_count": 157,
      "outputs": [
        {
          "output_type": "execute_result",
          "data": {
            "text/html": [
              "<div>\n",
              "<style scoped>\n",
              "    .dataframe tbody tr th:only-of-type {\n",
              "        vertical-align: middle;\n",
              "    }\n",
              "\n",
              "    .dataframe tbody tr th {\n",
              "        vertical-align: top;\n",
              "    }\n",
              "\n",
              "    .dataframe thead th {\n",
              "        text-align: right;\n",
              "    }\n",
              "</style>\n",
              "<table border=\"1\" class=\"dataframe\">\n",
              "  <thead>\n",
              "    <tr style=\"text-align: right;\">\n",
              "      <th></th>\n",
              "      <th>ACCESSIBILITY_CAPTION_INTEREST</th>\n",
              "      <th>counts</th>\n",
              "    </tr>\n",
              "  </thead>\n",
              "  <tbody>\n",
              "    <tr>\n",
              "      <th>0</th>\n",
              "      <td>arts_entertainment</td>\n",
              "      <td>1534</td>\n",
              "    </tr>\n",
              "    <tr>\n",
              "      <th>1</th>\n",
              "      <td>travel</td>\n",
              "      <td>724</td>\n",
              "    </tr>\n",
              "    <tr>\n",
              "      <th>2</th>\n",
              "      <td>style_fashion</td>\n",
              "      <td>464</td>\n",
              "    </tr>\n",
              "    <tr>\n",
              "      <th>3</th>\n",
              "      <td>food_drink</td>\n",
              "      <td>246</td>\n",
              "    </tr>\n",
              "    <tr>\n",
              "      <th>4</th>\n",
              "      <td>parenting</td>\n",
              "      <td>239</td>\n",
              "    </tr>\n",
              "    <tr>\n",
              "      <th>5</th>\n",
              "      <td>events</td>\n",
              "      <td>206</td>\n",
              "    </tr>\n",
              "    <tr>\n",
              "      <th>6</th>\n",
              "      <td>music</td>\n",
              "      <td>89</td>\n",
              "    </tr>\n",
              "    <tr>\n",
              "      <th>7</th>\n",
              "      <td>movies</td>\n",
              "      <td>83</td>\n",
              "    </tr>\n",
              "    <tr>\n",
              "      <th>8</th>\n",
              "      <td>pets</td>\n",
              "      <td>75</td>\n",
              "    </tr>\n",
              "    <tr>\n",
              "      <th>9</th>\n",
              "      <td>news</td>\n",
              "      <td>57</td>\n",
              "    </tr>\n",
              "    <tr>\n",
              "      <th>10</th>\n",
              "      <td>dating_and_relationships</td>\n",
              "      <td>35</td>\n",
              "    </tr>\n",
              "    <tr>\n",
              "      <th>11</th>\n",
              "      <td>books_literature</td>\n",
              "      <td>32</td>\n",
              "    </tr>\n",
              "    <tr>\n",
              "      <th>12</th>\n",
              "      <td>weddings</td>\n",
              "      <td>24</td>\n",
              "    </tr>\n",
              "    <tr>\n",
              "      <th>13</th>\n",
              "      <td>home_garden</td>\n",
              "      <td>22</td>\n",
              "    </tr>\n",
              "    <tr>\n",
              "      <th>14</th>\n",
              "      <td>entertainment</td>\n",
              "      <td>19</td>\n",
              "    </tr>\n",
              "    <tr>\n",
              "      <th>15</th>\n",
              "      <td>politics</td>\n",
              "      <td>17</td>\n",
              "    </tr>\n",
              "    <tr>\n",
              "      <th>16</th>\n",
              "      <td>health</td>\n",
              "      <td>14</td>\n",
              "    </tr>\n",
              "    <tr>\n",
              "      <th>17</th>\n",
              "      <td>sports</td>\n",
              "      <td>14</td>\n",
              "    </tr>\n",
              "    <tr>\n",
              "      <th>18</th>\n",
              "      <td>chef</td>\n",
              "      <td>11</td>\n",
              "    </tr>\n",
              "    <tr>\n",
              "      <th>19</th>\n",
              "      <td>business</td>\n",
              "      <td>9</td>\n",
              "    </tr>\n",
              "    <tr>\n",
              "      <th>20</th>\n",
              "      <td>fitness</td>\n",
              "      <td>7</td>\n",
              "    </tr>\n",
              "    <tr>\n",
              "      <th>21</th>\n",
              "      <td>education</td>\n",
              "      <td>7</td>\n",
              "    </tr>\n",
              "    <tr>\n",
              "      <th>22</th>\n",
              "      <td>accessories</td>\n",
              "      <td>5</td>\n",
              "    </tr>\n",
              "    <tr>\n",
              "      <th>23</th>\n",
              "      <td>podcasts</td>\n",
              "      <td>4</td>\n",
              "    </tr>\n",
              "    <tr>\n",
              "      <th>24</th>\n",
              "      <td>humor</td>\n",
              "      <td>3</td>\n",
              "    </tr>\n",
              "    <tr>\n",
              "      <th>25</th>\n",
              "      <td>technology_computing</td>\n",
              "      <td>3</td>\n",
              "    </tr>\n",
              "  </tbody>\n",
              "</table>\n",
              "</div>"
            ],
            "text/plain": [
              "   ACCESSIBILITY_CAPTION_INTEREST  counts\n",
              "0              arts_entertainment    1534\n",
              "1                          travel     724\n",
              "2                   style_fashion     464\n",
              "3                      food_drink     246\n",
              "4                       parenting     239\n",
              "5                          events     206\n",
              "6                           music      89\n",
              "7                          movies      83\n",
              "8                            pets      75\n",
              "9                            news      57\n",
              "10       dating_and_relationships      35\n",
              "11               books_literature      32\n",
              "12                       weddings      24\n",
              "13                    home_garden      22\n",
              "14                  entertainment      19\n",
              "15                       politics      17\n",
              "16                         health      14\n",
              "17                         sports      14\n",
              "18                           chef      11\n",
              "19                       business       9\n",
              "20                        fitness       7\n",
              "21                      education       7\n",
              "22                    accessories       5\n",
              "23                       podcasts       4\n",
              "24                          humor       3\n",
              "25           technology_computing       3"
            ]
          },
          "metadata": {},
          "execution_count": 157
        }
      ]
    },
    {
      "cell_type": "markdown",
      "metadata": {
        "id": "n5cW-lu2Vw_h"
      },
      "source": [
        "For Now (Eladk 2021-Sep-11) I'll fill every NaN with Null"
      ]
    },
    {
      "cell_type": "code",
      "metadata": {
        "id": "yUX6l3NkV5m1",
        "colab": {
          "base_uri": "https://localhost:8080/",
          "height": 565
        },
        "outputId": "b1f09d61-cb61-4424-8b7c-980819c0bd3b"
      },
      "source": [
        "msno.matrix(df)"
      ],
      "execution_count": 158,
      "outputs": [
        {
          "output_type": "execute_result",
          "data": {
            "text/plain": [
              "<matplotlib.axes._subplots.AxesSubplot at 0x7f461c9562d0>"
            ]
          },
          "metadata": {},
          "execution_count": 158
        },
        {
          "output_type": "display_data",
          "data": {
            "image/png": "[encoded data removed]",
            "text/plain": [
              "<Figure size 1800x720 with 2 Axes>"
            ]
          },
          "metadata": {
            "needs_background": "light"
          }
        }
      ]
    },
    {
      "cell_type": "code",
      "metadata": {
        "id": "Z0zJFkodXwdY"
      },
      "source": [
        "#https://datatofish.com/rows-with-nan-pandas-dataframe/\n",
        "#len(df[df['FULLNAME'].isna()]) # 126 #849\n",
        "#df[df['FULLNAME'].isnull()]\n",
        "#df[df.isna().any(axis=1)] # len = 4020\n",
        "# df[df.isnull().any(axis=1)]"
      ],
      "execution_count": 159,
      "outputs": []
    },
    {
      "cell_type": "code",
      "metadata": {
        "id": "zMypjDEQXd2x",
        "colab": {
          "base_uri": "https://localhost:8080/"
        },
        "outputId": "5a5ff78c-a607-47a6-adb5-7c213e5036a6"
      },
      "source": [
        "for col in df.columns:\n",
        "    if len(df[df[col].isnull()]) > 0:\n",
        "      df[col] = df[col].fillna('Null')\n",
        "      print(col)"
      ],
      "execution_count": 160,
      "outputs": [
        {
          "output_type": "stream",
          "name": "stdout",
          "text": [
            "FULLNAME\n",
            "ACCESSIBILITY_CAPTION\n",
            "CAPTION\n",
            "LOCATION\n",
            "CITY\n",
            "COUNTRY\n",
            "IMAGE_LABELS\n",
            "CAPTION_INTEREST\n",
            "ACCESSIBILITY_CAPTION_INTEREST\n",
            "IMAGE_LABEL_INTEREST\n"
          ]
        }
      ]
    },
    {
      "cell_type": "code",
      "metadata": {
        "id": "EjV60NeaaTgG",
        "colab": {
          "base_uri": "https://localhost:8080/",
          "height": 565
        },
        "outputId": "2f886ea0-4d55-4439-f0d1-eebd9d3c8f46"
      },
      "source": [
        "msno.matrix(df)"
      ],
      "execution_count": 161,
      "outputs": [
        {
          "output_type": "execute_result",
          "data": {
            "text/plain": [
              "<matplotlib.axes._subplots.AxesSubplot at 0x7f461c7f3750>"
            ]
          },
          "metadata": {},
          "execution_count": 161
        },
        {
          "output_type": "display_data",
          "data": {
            "image/png": "[encoded data removed]",
            "text/plain": [
              "<Figure size 1800x720 with 2 Axes>"
            ]
          },
          "metadata": {
            "needs_background": "light"
          }
        }
      ]
    },
    {
      "cell_type": "code",
      "metadata": {
        "colab": {
          "base_uri": "https://localhost:8080/"
        },
        "id": "yIqU1s91tXfl",
        "outputId": "a69b3fd8-1df0-4581-dcdb-c0348fdde22f"
      },
      "source": [
        "df.IMAGE_LABEL_INTEREST.unique()"
      ],
      "execution_count": 162,
      "outputs": [
        {
          "output_type": "execute_result",
          "data": {
            "text/plain": [
              "array(['business', 'style_fashion', 'pets', 'travel',\n",
              "       'arts_entertainment', 'technology_computing', 'movies',\n",
              "       'hobbies_interests', 'books_literature', 'legal', 'food_drink',\n",
              "       'parenting', 'news', 'sports', 'music', 'home_garden', 'events',\n",
              "       'education', 'weddings', 'fitness', 'health', 'entertainment',\n",
              "       'cars_motorcycles', 'accessories', 'politics', 'gaming', 'Null',\n",
              "       'baking_cooking', 'comic_books', 'podcasts',\n",
              "       'dating_and_relationships', 'green_living', 'finance', 'chef',\n",
              "       'desserts_baking'], dtype=object)"
            ]
          },
          "metadata": {},
          "execution_count": 162
        }
      ]
    },
    {
      "cell_type": "code",
      "metadata": {
        "colab": {
          "base_uri": "https://localhost:8080/"
        },
        "id": "jCpf3nCTtgW1",
        "outputId": "5e564ce9-4e85-4df2-d69a-f0f73e68a81c"
      },
      "source": [
        "df.IMAGE_LABEL_INTEREST.value_counts()"
      ],
      "execution_count": 163,
      "outputs": [
        {
          "output_type": "execute_result",
          "data": {
            "text/plain": [
              "style_fashion               1990\n",
              "arts_entertainment           539\n",
              "food_drink                   508\n",
              "travel                       465\n",
              "business                     268\n",
              "home_garden                  132\n",
              "sports                       112\n",
              "music                        107\n",
              "pets                          82\n",
              "entertainment                 77\n",
              "events                        76\n",
              "technology_computing          66\n",
              "parenting                     57\n",
              "movies                        49\n",
              "books_literature              43\n",
              "weddings                      40\n",
              "fitness                       27\n",
              "education                     18\n",
              "news                          16\n",
              "dating_and_relationships      16\n",
              "hobbies_interests             15\n",
              "legal                         14\n",
              "podcasts                      14\n",
              "health                        12\n",
              "baking_cooking                 9\n",
              "gaming                         8\n",
              "cars_motorcycles               7\n",
              "green_living                   6\n",
              "politics                       6\n",
              "Null                           6\n",
              "accessories                    3\n",
              "finance                        1\n",
              "chef                           1\n",
              "desserts_baking                1\n",
              "comic_books                    1\n",
              "Name: IMAGE_LABEL_INTEREST, dtype: int64"
            ]
          },
          "metadata": {},
          "execution_count": 163
        }
      ]
    },
    {
      "cell_type": "code",
      "metadata": {
        "colab": {
          "base_uri": "https://localhost:8080/"
        },
        "id": "4Dw_iPEvusa4",
        "outputId": "08aff1f2-9e30-4fc5-c84a-a9d5b0f82106"
      },
      "source": [
        "IMAGE_LABEL_INTEREST = df.groupby(['IMAGE_LABEL_INTEREST']).head(10)\n",
        "print(IMAGE_LABEL_INTEREST)"
      ],
      "execution_count": 164,
      "outputs": [
        {
          "output_type": "stream",
          "name": "stdout",
          "text": [
            "                     USERID                 USERNAME  ... HOUR  MINUTE\n",
            "LINE_NUM_INDEX                                        ...             \n",
            "1918            36193140327  elastici_e_passamaneria  ...   10      39\n",
            "1919             8210198494        pamela.latorre.73  ...   16      35\n",
            "1920            36838177086              ilaria._004  ...   19      54\n",
            "1921            33286901341            wellbishstore  ...   19      31\n",
            "1922             5633363536                 amineblc  ...    0      15\n",
            "...                     ...                      ...  ...  ...     ...\n",
            "5895            47647886512           mysweet_toooth  ...   13      28\n",
            "6013             5524181273  coralee_and_crystal_lee  ...    1      33\n",
            "6032            47210751499           lera.hand.made  ...   13      24\n",
            "6265             1298737473           jonathanjcasey  ...   15      12\n",
            "6411            12886330556          littlecraftisan  ...   16      26\n",
            "\n",
            "[289 rows x 30 columns]\n"
          ]
        }
      ]
    },
    {
      "cell_type": "markdown",
      "metadata": {
        "id": "8np0GAF5ZHf-"
      },
      "source": [
        "## Create bins (buckets) of Likes, Comment Engagement so we can use a classification model"
      ]
    },
    {
      "cell_type": "code",
      "metadata": {
        "colab": {
          "base_uri": "https://localhost:8080/",
          "height": 297
        },
        "id": "4cy-I4p7ZUcS",
        "outputId": "74797e8d-be5f-4ba7-b59f-eeef697c0a80"
      },
      "source": [
        "sns.histplot(x = df.LIKES,bins=50)"
      ],
      "execution_count": 165,
      "outputs": [
        {
          "output_type": "execute_result",
          "data": {
            "text/plain": [
              "<matplotlib.axes._subplots.AxesSubplot at 0x7f461c6b00d0>"
            ]
          },
          "metadata": {},
          "execution_count": 165
        },
        {
          "output_type": "display_data",
          "data": {
            "image/png": "[encoded data removed]",
            "text/plain": [
              "<Figure size 432x288 with 1 Axes>"
            ]
          },
          "metadata": {
            "needs_background": "light"
          }
        }
      ]
    },
    {
      "cell_type": "code",
      "metadata": {
        "colab": {
          "base_uri": "https://localhost:8080/"
        },
        "id": "Jyj2WmGZaFB1",
        "outputId": "670dffe3-d890-4e13-a854-5bc05f0423af"
      },
      "source": [
        "bins_LIKES=[min(df.LIKES)-1,15,40,200,400,max(df.LIKES)+1]\n",
        "pd.cut(x=df.LIKES, bins=5).value_counts()\n",
        "pd.cut(x=df.LIKES, bins=bins_LIKES, labels=bin_labels,\n",
        "       ordered=True).value_counts()"
      ],
      "execution_count": 166,
      "outputs": [
        {
          "output_type": "execute_result",
          "data": {
            "text/plain": [
              "High         1466\n",
              "Low          1433\n",
              "Medium       1358\n",
              "Extreme       283\n",
              "Very High     252\n",
              "Name: LIKES, dtype: int64"
            ]
          },
          "metadata": {},
          "execution_count": 166
        }
      ]
    },
    {
      "cell_type": "code",
      "metadata": {
        "id": "iwM5U9n8aYZS"
      },
      "source": [
        "df['LIKES_RANK'] = pd.cut(x=df.LIKES, bins=bins_LIKES, labels=bin_labels,\n",
        "       ordered=True)"
      ],
      "execution_count": 167,
      "outputs": []
    },
    {
      "cell_type": "code",
      "metadata": {
        "colab": {
          "base_uri": "https://localhost:8080/",
          "height": 297
        },
        "id": "VtfiGx4RZVba",
        "outputId": "1d2ac02c-047a-49c0-8956-159ab1a46fc3"
      },
      "source": [
        "sns.histplot(x = df.COMMENTS,bins=50)"
      ],
      "execution_count": 168,
      "outputs": [
        {
          "output_type": "execute_result",
          "data": {
            "text/plain": [
              "<matplotlib.axes._subplots.AxesSubplot at 0x7f461c75be10>"
            ]
          },
          "metadata": {},
          "execution_count": 168
        },
        {
          "output_type": "display_data",
          "data": {
            "image/png": "[encoded data removed]",
            "text/plain": [
              "<Figure size 432x288 with 1 Axes>"
            ]
          },
          "metadata": {
            "needs_background": "light"
          }
        }
      ]
    },
    {
      "cell_type": "code",
      "metadata": {
        "colab": {
          "base_uri": "https://localhost:8080/"
        },
        "id": "38-SRsDxdhuT",
        "outputId": "65beb09a-4db0-4c19-b5fe-c0e7ef6ae418"
      },
      "source": [
        "len(df.COMMENTS) #3921"
      ],
      "execution_count": 169,
      "outputs": [
        {
          "output_type": "execute_result",
          "data": {
            "text/plain": [
              "4792"
            ]
          },
          "metadata": {},
          "execution_count": 169
        }
      ]
    },
    {
      "cell_type": "code",
      "metadata": {
        "colab": {
          "base_uri": "https://localhost:8080/"
        },
        "id": "y9Ex6T9daQOi",
        "outputId": "9909a920-98fd-41ed-f602-a0347ceea974"
      },
      "source": [
        "bins_COMMENTS=[min(df.COMMENTS)-1,1,5,40,60,max(df.COMMENTS)]\n",
        "#pd.cut(x=df.COMMENTS, bins=5).value_counts()\n",
        "pd.cut(x=df.COMMENTS, bins=bins_COMMENTS#, labels=labels \n",
        "        ,ordered=True).value_counts()"
      ],
      "execution_count": 170,
      "outputs": [
        {
          "output_type": "execute_result",
          "data": {
            "text/plain": [
              "(-1, 1]       2256\n",
              "(5, 40]       1162\n",
              "(1, 5]        1114\n",
              "(60, 3921]     133\n",
              "(40, 60]       127\n",
              "Name: COMMENTS, dtype: int64"
            ]
          },
          "metadata": {},
          "execution_count": 170
        }
      ]
    },
    {
      "cell_type": "code",
      "metadata": {
        "id": "W-uzUFsTahRs"
      },
      "source": [
        "df['COMMENTS_RANK'] = pd.cut(x=df.COMMENTS, bins=bins_COMMENTS, labels=bin_labels \n",
        "        ,ordered=True)"
      ],
      "execution_count": 171,
      "outputs": []
    },
    {
      "cell_type": "code",
      "metadata": {
        "colab": {
          "base_uri": "https://localhost:8080/",
          "height": 297
        },
        "id": "sSj3KoHeZV2m",
        "outputId": "d3dd1c19-190d-4351-eee6-d68d20375efa"
      },
      "source": [
        "sns.histplot(x = df.ENGAGEMENT,bins=50)"
      ],
      "execution_count": 172,
      "outputs": [
        {
          "output_type": "execute_result",
          "data": {
            "text/plain": [
              "<matplotlib.axes._subplots.AxesSubplot at 0x7f461c4ed110>"
            ]
          },
          "metadata": {},
          "execution_count": 172
        },
        {
          "output_type": "display_data",
          "data": {
            "image/png": "[encoded data removed]",
            "text/plain": [
              "<Figure size 432x288 with 1 Axes>"
            ]
          },
          "metadata": {
            "needs_background": "light"
          }
        }
      ]
    },
    {
      "cell_type": "code",
      "metadata": {
        "id": "uWnd3CbhhnCd"
      },
      "source": [
        ""
      ],
      "execution_count": 172,
      "outputs": []
    },
    {
      "cell_type": "code",
      "metadata": {
        "colab": {
          "base_uri": "https://localhost:8080/"
        },
        "id": "G97J2z7qZtKa",
        "outputId": "3455066b-9b75-42b0-f86f-233080f633b3"
      },
      "source": [
        "bins_ENGAGEMENT=[min(df.ENGAGEMENT)-1,1.5,3.5,10,15,max(df.ENGAGEMENT)]\n",
        "pd.cut(x=df.ENGAGEMENT, bins=5, labels=bin_labels, ordered=True).value_counts()\n",
        "pd.cut(x=df.ENGAGEMENT, bins=bins_ENGAGEMENT, labels=bin_labels, ordered=True).value_counts()"
      ],
      "execution_count": 173,
      "outputs": [
        {
          "output_type": "execute_result",
          "data": {
            "text/plain": [
              "Low          1479\n",
              "High         1335\n",
              "Medium       1216\n",
              "Extreme       416\n",
              "Very High     346\n",
              "Name: ENGAGEMENT, dtype: int64"
            ]
          },
          "metadata": {},
          "execution_count": 173
        }
      ]
    },
    {
      "cell_type": "code",
      "metadata": {
        "id": "XKe78jRgapiz"
      },
      "source": [
        "df['ENGAGEMENT_RANK'] = pd.cut(x=df.ENGAGEMENT, bins=bins_ENGAGEMENT, labels=bin_labels, ordered=True)"
      ],
      "execution_count": 174,
      "outputs": []
    },
    {
      "cell_type": "code",
      "metadata": {
        "colab": {
          "base_uri": "https://localhost:8080/"
        },
        "id": "gf-HkrAGcIap",
        "outputId": "7a50b984-ec5d-4554-891f-686fb4ea85ab"
      },
      "source": [
        "df['ENGAGEMENT_RANK']"
      ],
      "execution_count": 175,
      "outputs": [
        {
          "output_type": "execute_result",
          "data": {
            "text/plain": [
              "LINE_NUM_INDEX\n",
              "1918     Medium\n",
              "1919    Extreme\n",
              "1920    Extreme\n",
              "1921     Medium\n",
              "1922       High\n",
              "         ...   \n",
              "6705       High\n",
              "6706       High\n",
              "6707       High\n",
              "6708       High\n",
              "6709       High\n",
              "Name: ENGAGEMENT_RANK, Length: 4792, dtype: category\n",
              "Categories (5, object): ['Low' < 'Medium' < 'High' < 'Very High' < 'Extreme']"
            ]
          },
          "metadata": {},
          "execution_count": 175
        }
      ]
    },
    {
      "cell_type": "markdown",
      "metadata": {
        "id": "RVKDBrD-r1cw"
      },
      "source": [
        "Convert Rank to Code using Dictionary "
      ]
    },
    {
      "cell_type": "code",
      "metadata": {
        "id": "8GjnzjU_sDM-",
        "colab": {
          "base_uri": "https://localhost:8080/"
        },
        "outputId": "b353b6b0-4e90-44b8-f4e2-b883b4513628"
      },
      "source": [
        "df.columns"
      ],
      "execution_count": 176,
      "outputs": [
        {
          "output_type": "execute_result",
          "data": {
            "text/plain": [
              "Index(['USERID', 'USERNAME', 'FULLNAME', 'FOLLOWER', 'LIKES', 'COMMENTS',\n",
              "       'ENGAGEMENT', 'URL', 'ACCESSIBILITY_CAPTION', 'CAPTION', 'LOCATION',\n",
              "       'CITY', 'COUNTRY', 'TIME', 'IMAGE_LABELS', 'CAPTION_INTEREST',\n",
              "       'ACCESSIBILITY_CAPTION_INTEREST', 'IMAGE_LABEL_INTEREST',\n",
              "       'COMMENT_DISABLED', 'IS_VIDEO', 'HAS_AUDIO', 'VIDEO_VIEW_COUNT',\n",
              "       'log_ENGAGEMENT', 'DATETIME', 'YEAR', 'MONTH', 'DAY', 'DAYOFWEEK',\n",
              "       'HOUR', 'MINUTE', 'LIKES_RANK', 'COMMENTS_RANK', 'ENGAGEMENT_RANK'],\n",
              "      dtype='object')"
            ]
          },
          "metadata": {},
          "execution_count": 176
        }
      ]
    },
    {
      "cell_type": "code",
      "metadata": {
        "id": "ogslQvCzsNja",
        "colab": {
          "base_uri": "https://localhost:8080/"
        },
        "outputId": "bb424fd1-7e74-46a4-e9f6-ea96054755ec"
      },
      "source": [
        "df.LIKES_RANK.unique()"
      ],
      "execution_count": 177,
      "outputs": [
        {
          "output_type": "execute_result",
          "data": {
            "text/plain": [
              "['Medium', 'High', 'Low', 'Very High', 'Extreme']\n",
              "Categories (5, object): ['Low' < 'Medium' < 'High' < 'Very High' < 'Extreme']"
            ]
          },
          "metadata": {},
          "execution_count": 177
        }
      ]
    },
    {
      "cell_type": "code",
      "metadata": {
        "id": "EDbozRwH1Wu0",
        "colab": {
          "base_uri": "https://localhost:8080/"
        },
        "outputId": "c15e2a7c-429a-4eb6-8c57-21a9817d8c97"
      },
      "source": [
        "df['COMMENTS_RANK']"
      ],
      "execution_count": 178,
      "outputs": [
        {
          "output_type": "execute_result",
          "data": {
            "text/plain": [
              "LINE_NUM_INDEX\n",
              "1918       Low\n",
              "1919      High\n",
              "1920    Medium\n",
              "1921       Low\n",
              "1922    Medium\n",
              "         ...  \n",
              "6705    Medium\n",
              "6706      High\n",
              "6707      High\n",
              "6708    Medium\n",
              "6709      High\n",
              "Name: COMMENTS_RANK, Length: 4792, dtype: category\n",
              "Categories (5, object): ['Low' < 'Medium' < 'High' < 'Very High' < 'Extreme']"
            ]
          },
          "metadata": {},
          "execution_count": 178
        }
      ]
    },
    {
      "cell_type": "code",
      "metadata": {
        "id": "UMMoi9bysTIk",
        "colab": {
          "base_uri": "https://localhost:8080/"
        },
        "outputId": "8098bddb-eb88-4121-cb45-0a44262e928b"
      },
      "source": [
        "map_dict_rank = {'Low':0.0 , 'Medium':1.0, 'High':2.0, 'Very High':3.0, 'Extreme':4.0}\n",
        "map_dict_rank"
      ],
      "execution_count": 179,
      "outputs": [
        {
          "output_type": "execute_result",
          "data": {
            "text/plain": [
              "{'Extreme': 4.0, 'High': 2.0, 'Low': 0.0, 'Medium': 1.0, 'Very High': 3.0}"
            ]
          },
          "metadata": {},
          "execution_count": 179
        }
      ]
    },
    {
      "cell_type": "code",
      "metadata": {
        "id": "pPXqmdmgr1BR"
      },
      "source": [
        "df['LIKES_RANK_INT'] =  df['LIKES_RANK'].map(map_dict_rank).astype(int)"
      ],
      "execution_count": 180,
      "outputs": []
    },
    {
      "cell_type": "code",
      "metadata": {
        "id": "0n2nX4Pgtnk1"
      },
      "source": [
        "df['COMMENTS_RANK_INT'] =   df['COMMENTS_RANK'].map(map_dict_rank).astype(int)"
      ],
      "execution_count": 181,
      "outputs": []
    },
    {
      "cell_type": "code",
      "metadata": {
        "id": "0PYykOAVtoDF"
      },
      "source": [
        "df['ENGAGEMENT_RANK_INT'] =   df['ENGAGEMENT_RANK'].map(map_dict_rank).astype(int)"
      ],
      "execution_count": 182,
      "outputs": []
    },
    {
      "cell_type": "code",
      "metadata": {
        "id": "Z0foohodz0os",
        "colab": {
          "base_uri": "https://localhost:8080/"
        },
        "outputId": "3523f367-90db-4ae3-cfd8-a06413fae351"
      },
      "source": [
        "df[['LIKES_RANK','LIKES_RANK_INT']].value_counts().sort_index()"
      ],
      "execution_count": 183,
      "outputs": [
        {
          "output_type": "execute_result",
          "data": {
            "text/plain": [
              "LIKES_RANK  LIKES_RANK_INT\n",
              "Low         0                 1433\n",
              "Medium      1                 1358\n",
              "High        2                 1466\n",
              "Very High   3                  252\n",
              "Extreme     4                  283\n",
              "dtype: int64"
            ]
          },
          "metadata": {},
          "execution_count": 183
        }
      ]
    },
    {
      "cell_type": "code",
      "metadata": {
        "id": "2RLElKQuz64o",
        "colab": {
          "base_uri": "https://localhost:8080/"
        },
        "outputId": "244e77bf-05bb-4ac0-f7f7-f068925c0a42"
      },
      "source": [
        "df[['COMMENTS_RANK','COMMENTS_RANK_INT']].value_counts().sort_index()"
      ],
      "execution_count": 184,
      "outputs": [
        {
          "output_type": "execute_result",
          "data": {
            "text/plain": [
              "COMMENTS_RANK  COMMENTS_RANK_INT\n",
              "Low            0                    2256\n",
              "Medium         1                    1114\n",
              "High           2                    1162\n",
              "Very High      3                     127\n",
              "Extreme        4                     133\n",
              "dtype: int64"
            ]
          },
          "metadata": {},
          "execution_count": 184
        }
      ]
    },
    {
      "cell_type": "code",
      "metadata": {
        "id": "ikD3ia5mz7e2",
        "colab": {
          "base_uri": "https://localhost:8080/"
        },
        "outputId": "c1213146-ec4f-4856-8ad0-d6393d47289f"
      },
      "source": [
        "df[['ENGAGEMENT_RANK','ENGAGEMENT_RANK_INT']].value_counts().sort_index()"
      ],
      "execution_count": 185,
      "outputs": [
        {
          "output_type": "execute_result",
          "data": {
            "text/plain": [
              "ENGAGEMENT_RANK  ENGAGEMENT_RANK_INT\n",
              "Low              0                      1479\n",
              "Medium           1                      1216\n",
              "High             2                      1335\n",
              "Very High        3                       346\n",
              "Extreme          4                       416\n",
              "dtype: int64"
            ]
          },
          "metadata": {},
          "execution_count": 185
        }
      ]
    },
    {
      "cell_type": "markdown",
      "metadata": {
        "id": "88Rioz1FmEch"
      },
      "source": [
        "## Replacing Charecters  with Number uning OrdinalEncoder"
      ]
    },
    {
      "cell_type": "code",
      "metadata": {
        "id": "8SNxkSApbRPq"
      },
      "source": [
        "# list of char / object columns"
      ],
      "execution_count": 186,
      "outputs": []
    },
    {
      "cell_type": "code",
      "metadata": {
        "id": "-BjZYcZYiWpY",
        "colab": {
          "base_uri": "https://localhost:8080/"
        },
        "outputId": "28bbc984-0a07-4728-b942-383cbcae206b"
      },
      "source": [
        "df.dtypes"
      ],
      "execution_count": 187,
      "outputs": [
        {
          "output_type": "execute_result",
          "data": {
            "text/plain": [
              "USERID                                     int64\n",
              "USERNAME                                  object\n",
              "FULLNAME                                  object\n",
              "FOLLOWER                                   int64\n",
              "LIKES                                      int64\n",
              "COMMENTS                                   int64\n",
              "ENGAGEMENT                               float64\n",
              "URL                                       object\n",
              "ACCESSIBILITY_CAPTION                     object\n",
              "CAPTION                                   object\n",
              "LOCATION                                  object\n",
              "CITY                                      object\n",
              "COUNTRY                                   object\n",
              "TIME                                       int64\n",
              "IMAGE_LABELS                              object\n",
              "CAPTION_INTEREST                          object\n",
              "ACCESSIBILITY_CAPTION_INTEREST            object\n",
              "IMAGE_LABEL_INTEREST                      object\n",
              "COMMENT_DISABLED                           int64\n",
              "IS_VIDEO                                   int64\n",
              "HAS_AUDIO                                  int64\n",
              "VIDEO_VIEW_COUNT                         float64\n",
              "log_ENGAGEMENT                           float64\n",
              "DATETIME                          datetime64[ns]\n",
              "YEAR                                       int64\n",
              "MONTH                                      int64\n",
              "DAY                                        int64\n",
              "DAYOFWEEK                                  int64\n",
              "HOUR                                       int64\n",
              "MINUTE                                     int64\n",
              "LIKES_RANK                              category\n",
              "COMMENTS_RANK                           category\n",
              "ENGAGEMENT_RANK                         category\n",
              "LIKES_RANK_INT                             int64\n",
              "COMMENTS_RANK_INT                          int64\n",
              "ENGAGEMENT_RANK_INT                        int64\n",
              "dtype: object"
            ]
          },
          "metadata": {},
          "execution_count": 187
        }
      ]
    },
    {
      "cell_type": "code",
      "metadata": {
        "id": "MCV7T7o8jZ7g",
        "colab": {
          "base_uri": "https://localhost:8080/"
        },
        "outputId": "d001a4de-6136-4f7e-b16a-41a4dba36279"
      },
      "source": [
        "df.select_dtypes(include=['object']).dtypes"
      ],
      "execution_count": 188,
      "outputs": [
        {
          "output_type": "execute_result",
          "data": {
            "text/plain": [
              "USERNAME                          object\n",
              "FULLNAME                          object\n",
              "URL                               object\n",
              "ACCESSIBILITY_CAPTION             object\n",
              "CAPTION                           object\n",
              "LOCATION                          object\n",
              "CITY                              object\n",
              "COUNTRY                           object\n",
              "IMAGE_LABELS                      object\n",
              "CAPTION_INTEREST                  object\n",
              "ACCESSIBILITY_CAPTION_INTEREST    object\n",
              "IMAGE_LABEL_INTEREST              object\n",
              "dtype: object"
            ]
          },
          "metadata": {},
          "execution_count": 188
        }
      ]
    },
    {
      "cell_type": "code",
      "metadata": {
        "id": "YMx9o7L_mwe4",
        "colab": {
          "base_uri": "https://localhost:8080/"
        },
        "outputId": "ff925ec7-83af-4128-f112-c1a4993b1c8a"
      },
      "source": [
        "df.select_dtypes(include=['object']).dtypes.index"
      ],
      "execution_count": 189,
      "outputs": [
        {
          "output_type": "execute_result",
          "data": {
            "text/plain": [
              "Index(['USERNAME', 'FULLNAME', 'URL', 'ACCESSIBILITY_CAPTION', 'CAPTION',\n",
              "       'LOCATION', 'CITY', 'COUNTRY', 'IMAGE_LABELS', 'CAPTION_INTEREST',\n",
              "       'ACCESSIBILITY_CAPTION_INTEREST', 'IMAGE_LABEL_INTEREST'],\n",
              "      dtype='object')"
            ]
          },
          "metadata": {},
          "execution_count": 189
        }
      ]
    },
    {
      "cell_type": "code",
      "metadata": {
        "id": "Fcr5t2FerRqu",
        "colab": {
          "base_uri": "https://localhost:8080/"
        },
        "outputId": "6795ad49-9d1e-448f-d628-c57f5cdbee0b"
      },
      "source": [
        "df.info()"
      ],
      "execution_count": 190,
      "outputs": [
        {
          "output_type": "stream",
          "name": "stdout",
          "text": [
            "<class 'pandas.core.frame.DataFrame'>\n",
            "Int64Index: 4792 entries, 1918 to 6709\n",
            "Data columns (total 36 columns):\n",
            " #   Column                          Non-Null Count  Dtype         \n",
            "---  ------                          --------------  -----         \n",
            " 0   USERID                          4792 non-null   int64         \n",
            " 1   USERNAME                        4792 non-null   object        \n",
            " 2   FULLNAME                        4792 non-null   object        \n",
            " 3   FOLLOWER                        4792 non-null   int64         \n",
            " 4   LIKES                           4792 non-null   int64         \n",
            " 5   COMMENTS                        4792 non-null   int64         \n",
            " 6   ENGAGEMENT                      4792 non-null   float64       \n",
            " 7   URL                             4792 non-null   object        \n",
            " 8   ACCESSIBILITY_CAPTION           4792 non-null   object        \n",
            " 9   CAPTION                         4792 non-null   object        \n",
            " 10  LOCATION                        4792 non-null   object        \n",
            " 11  CITY                            4792 non-null   object        \n",
            " 12  COUNTRY                         4792 non-null   object        \n",
            " 13  TIME                            4792 non-null   int64         \n",
            " 14  IMAGE_LABELS                    4792 non-null   object        \n",
            " 15  CAPTION_INTEREST                4792 non-null   object        \n",
            " 16  ACCESSIBILITY_CAPTION_INTEREST  4792 non-null   object        \n",
            " 17  IMAGE_LABEL_INTEREST            4792 non-null   object        \n",
            " 18  COMMENT_DISABLED                4792 non-null   int64         \n",
            " 19  IS_VIDEO                        4792 non-null   int64         \n",
            " 20  HAS_AUDIO                       4792 non-null   int64         \n",
            " 21  VIDEO_VIEW_COUNT                4792 non-null   float64       \n",
            " 22  log_ENGAGEMENT                  4792 non-null   float64       \n",
            " 23  DATETIME                        4792 non-null   datetime64[ns]\n",
            " 24  YEAR                            4792 non-null   int64         \n",
            " 25  MONTH                           4792 non-null   int64         \n",
            " 26  DAY                             4792 non-null   int64         \n",
            " 27  DAYOFWEEK                       4792 non-null   int64         \n",
            " 28  HOUR                            4792 non-null   int64         \n",
            " 29  MINUTE                          4792 non-null   int64         \n",
            " 30  LIKES_RANK                      4792 non-null   category      \n",
            " 31  COMMENTS_RANK                   4792 non-null   category      \n",
            " 32  ENGAGEMENT_RANK                 4792 non-null   category      \n",
            " 33  LIKES_RANK_INT                  4792 non-null   int64         \n",
            " 34  COMMENTS_RANK_INT               4792 non-null   int64         \n",
            " 35  ENGAGEMENT_RANK_INT             4792 non-null   int64         \n",
            "dtypes: category(3), datetime64[ns](1), float64(3), int64(17), object(12)\n",
            "memory usage: 1.3+ MB\n"
          ]
        }
      ]
    },
    {
      "cell_type": "code",
      "metadata": {
        "id": "IkMgjuAerpKx"
      },
      "source": [
        "enc = OrdinalEncoder()"
      ],
      "execution_count": 191,
      "outputs": []
    },
    {
      "cell_type": "markdown",
      "metadata": {
        "id": "5KJW3SiP1sKY"
      },
      "source": [
        "Many columns:"
      ]
    },
    {
      "cell_type": "code",
      "metadata": {
        "id": "q-SzoBLq3WCA"
      },
      "source": [
        "for col in df.select_dtypes(include=['object']).dtypes.index:\n",
        "#for col in ['USERNAME','FULLNAME']:\n",
        "  #col_list = pd.DataFrame(df[col].unique())\n",
        "  #col_list.rename(columns = {0:col},inplace=True)\n",
        "  #col_list.rename(columns = {0:col},inplace=True)\n",
        "  enc.fit(df[[col]])\n",
        "  df[col + '_OBJECT_AS_INT'] = enc.transform(df[[col]])\n",
        "  #print(col)"
      ],
      "execution_count": 192,
      "outputs": []
    },
    {
      "cell_type": "code",
      "metadata": {
        "id": "I0oUrGfpqre2",
        "colab": {
          "base_uri": "https://localhost:8080/"
        },
        "outputId": "8344a4cd-00b3-4b2a-94d1-dfa21f5d4085"
      },
      "source": [
        "df.info()"
      ],
      "execution_count": 193,
      "outputs": [
        {
          "output_type": "stream",
          "name": "stdout",
          "text": [
            "<class 'pandas.core.frame.DataFrame'>\n",
            "Int64Index: 4792 entries, 1918 to 6709\n",
            "Data columns (total 48 columns):\n",
            " #   Column                                        Non-Null Count  Dtype         \n",
            "---  ------                                        --------------  -----         \n",
            " 0   USERID                                        4792 non-null   int64         \n",
            " 1   USERNAME                                      4792 non-null   object        \n",
            " 2   FULLNAME                                      4792 non-null   object        \n",
            " 3   FOLLOWER                                      4792 non-null   int64         \n",
            " 4   LIKES                                         4792 non-null   int64         \n",
            " 5   COMMENTS                                      4792 non-null   int64         \n",
            " 6   ENGAGEMENT                                    4792 non-null   float64       \n",
            " 7   URL                                           4792 non-null   object        \n",
            " 8   ACCESSIBILITY_CAPTION                         4792 non-null   object        \n",
            " 9   CAPTION                                       4792 non-null   object        \n",
            " 10  LOCATION                                      4792 non-null   object        \n",
            " 11  CITY                                          4792 non-null   object        \n",
            " 12  COUNTRY                                       4792 non-null   object        \n",
            " 13  TIME                                          4792 non-null   int64         \n",
            " 14  IMAGE_LABELS                                  4792 non-null   object        \n",
            " 15  CAPTION_INTEREST                              4792 non-null   object        \n",
            " 16  ACCESSIBILITY_CAPTION_INTEREST                4792 non-null   object        \n",
            " 17  IMAGE_LABEL_INTEREST                          4792 non-null   object        \n",
            " 18  COMMENT_DISABLED                              4792 non-null   int64         \n",
            " 19  IS_VIDEO                                      4792 non-null   int64         \n",
            " 20  HAS_AUDIO                                     4792 non-null   int64         \n",
            " 21  VIDEO_VIEW_COUNT                              4792 non-null   float64       \n",
            " 22  log_ENGAGEMENT                                4792 non-null   float64       \n",
            " 23  DATETIME                                      4792 non-null   datetime64[ns]\n",
            " 24  YEAR                                          4792 non-null   int64         \n",
            " 25  MONTH                                         4792 non-null   int64         \n",
            " 26  DAY                                           4792 non-null   int64         \n",
            " 27  DAYOFWEEK                                     4792 non-null   int64         \n",
            " 28  HOUR                                          4792 non-null   int64         \n",
            " 29  MINUTE                                        4792 non-null   int64         \n",
            " 30  LIKES_RANK                                    4792 non-null   category      \n",
            " 31  COMMENTS_RANK                                 4792 non-null   category      \n",
            " 32  ENGAGEMENT_RANK                               4792 non-null   category      \n",
            " 33  LIKES_RANK_INT                                4792 non-null   int64         \n",
            " 34  COMMENTS_RANK_INT                             4792 non-null   int64         \n",
            " 35  ENGAGEMENT_RANK_INT                           4792 non-null   int64         \n",
            " 36  USERNAME_OBJECT_AS_INT                        4792 non-null   float64       \n",
            " 37  FULLNAME_OBJECT_AS_INT                        4792 non-null   float64       \n",
            " 38  URL_OBJECT_AS_INT                             4792 non-null   float64       \n",
            " 39  ACCESSIBILITY_CAPTION_OBJECT_AS_INT           4792 non-null   float64       \n",
            " 40  CAPTION_OBJECT_AS_INT                         4792 non-null   float64       \n",
            " 41  LOCATION_OBJECT_AS_INT                        4792 non-null   float64       \n",
            " 42  CITY_OBJECT_AS_INT                            4792 non-null   float64       \n",
            " 43  COUNTRY_OBJECT_AS_INT                         4792 non-null   float64       \n",
            " 44  IMAGE_LABELS_OBJECT_AS_INT                    4792 non-null   float64       \n",
            " 45  CAPTION_INTEREST_OBJECT_AS_INT                4792 non-null   float64       \n",
            " 46  ACCESSIBILITY_CAPTION_INTEREST_OBJECT_AS_INT  4792 non-null   float64       \n",
            " 47  IMAGE_LABEL_INTEREST_OBJECT_AS_INT            4792 non-null   float64       \n",
            "dtypes: category(3), datetime64[ns](1), float64(15), int64(17), object(12)\n",
            "memory usage: 1.7+ MB\n"
          ]
        }
      ]
    },
    {
      "cell_type": "code",
      "metadata": {
        "colab": {
          "base_uri": "https://localhost:8080/",
          "height": 458
        },
        "id": "8rO3WVx9b3GF",
        "outputId": "4a3401a9-dbc3-4ac5-a8c5-02510dd1255b"
      },
      "source": [
        "df.head(2)"
      ],
      "execution_count": 194,
      "outputs": [
        {
          "output_type": "execute_result",
          "data": {
            "text/html": [
              "<div>\n",
              "<style scoped>\n",
              "    .dataframe tbody tr th:only-of-type {\n",
              "        vertical-align: middle;\n",
              "    }\n",
              "\n",
              "    .dataframe tbody tr th {\n",
              "        vertical-align: top;\n",
              "    }\n",
              "\n",
              "    .dataframe thead th {\n",
              "        text-align: right;\n",
              "    }\n",
              "</style>\n",
              "<table border=\"1\" class=\"dataframe\">\n",
              "  <thead>\n",
              "    <tr style=\"text-align: right;\">\n",
              "      <th></th>\n",
              "      <th>USERID</th>\n",
              "      <th>USERNAME</th>\n",
              "      <th>FULLNAME</th>\n",
              "      <th>FOLLOWER</th>\n",
              "      <th>LIKES</th>\n",
              "      <th>COMMENTS</th>\n",
              "      <th>ENGAGEMENT</th>\n",
              "      <th>URL</th>\n",
              "      <th>ACCESSIBILITY_CAPTION</th>\n",
              "      <th>CAPTION</th>\n",
              "      <th>LOCATION</th>\n",
              "      <th>CITY</th>\n",
              "      <th>COUNTRY</th>\n",
              "      <th>TIME</th>\n",
              "      <th>IMAGE_LABELS</th>\n",
              "      <th>CAPTION_INTEREST</th>\n",
              "      <th>ACCESSIBILITY_CAPTION_INTEREST</th>\n",
              "      <th>IMAGE_LABEL_INTEREST</th>\n",
              "      <th>COMMENT_DISABLED</th>\n",
              "      <th>IS_VIDEO</th>\n",
              "      <th>HAS_AUDIO</th>\n",
              "      <th>VIDEO_VIEW_COUNT</th>\n",
              "      <th>log_ENGAGEMENT</th>\n",
              "      <th>DATETIME</th>\n",
              "      <th>YEAR</th>\n",
              "      <th>MONTH</th>\n",
              "      <th>DAY</th>\n",
              "      <th>DAYOFWEEK</th>\n",
              "      <th>HOUR</th>\n",
              "      <th>MINUTE</th>\n",
              "      <th>LIKES_RANK</th>\n",
              "      <th>COMMENTS_RANK</th>\n",
              "      <th>ENGAGEMENT_RANK</th>\n",
              "      <th>LIKES_RANK_INT</th>\n",
              "      <th>COMMENTS_RANK_INT</th>\n",
              "      <th>ENGAGEMENT_RANK_INT</th>\n",
              "      <th>USERNAME_OBJECT_AS_INT</th>\n",
              "      <th>FULLNAME_OBJECT_AS_INT</th>\n",
              "      <th>URL_OBJECT_AS_INT</th>\n",
              "      <th>ACCESSIBILITY_CAPTION_OBJECT_AS_INT</th>\n",
              "      <th>CAPTION_OBJECT_AS_INT</th>\n",
              "      <th>LOCATION_OBJECT_AS_INT</th>\n",
              "      <th>CITY_OBJECT_AS_INT</th>\n",
              "      <th>COUNTRY_OBJECT_AS_INT</th>\n",
              "      <th>IMAGE_LABELS_OBJECT_AS_INT</th>\n",
              "      <th>CAPTION_INTEREST_OBJECT_AS_INT</th>\n",
              "      <th>ACCESSIBILITY_CAPTION_INTEREST_OBJECT_AS_INT</th>\n",
              "      <th>IMAGE_LABEL_INTEREST_OBJECT_AS_INT</th>\n",
              "    </tr>\n",
              "    <tr>\n",
              "      <th>LINE_NUM_INDEX</th>\n",
              "      <th></th>\n",
              "      <th></th>\n",
              "      <th></th>\n",
              "      <th></th>\n",
              "      <th></th>\n",
              "      <th></th>\n",
              "      <th></th>\n",
              "      <th></th>\n",
              "      <th></th>\n",
              "      <th></th>\n",
              "      <th></th>\n",
              "      <th></th>\n",
              "      <th></th>\n",
              "      <th></th>\n",
              "      <th></th>\n",
              "      <th></th>\n",
              "      <th></th>\n",
              "      <th></th>\n",
              "      <th></th>\n",
              "      <th></th>\n",
              "      <th></th>\n",
              "      <th></th>\n",
              "      <th></th>\n",
              "      <th></th>\n",
              "      <th></th>\n",
              "      <th></th>\n",
              "      <th></th>\n",
              "      <th></th>\n",
              "      <th></th>\n",
              "      <th></th>\n",
              "      <th></th>\n",
              "      <th></th>\n",
              "      <th></th>\n",
              "      <th></th>\n",
              "      <th></th>\n",
              "      <th></th>\n",
              "      <th></th>\n",
              "      <th></th>\n",
              "      <th></th>\n",
              "      <th></th>\n",
              "      <th></th>\n",
              "      <th></th>\n",
              "      <th></th>\n",
              "      <th></th>\n",
              "      <th></th>\n",
              "      <th></th>\n",
              "      <th></th>\n",
              "      <th></th>\n",
              "    </tr>\n",
              "  </thead>\n",
              "  <tbody>\n",
              "    <tr>\n",
              "      <th>1918</th>\n",
              "      <td>36193140327</td>\n",
              "      <td>elastici_e_passamaneria</td>\n",
              "      <td>Elastici e Passamaneria</td>\n",
              "      <td>1052</td>\n",
              "      <td>23</td>\n",
              "      <td>0</td>\n",
              "      <td>2.19</td>\n",
              "      <td>https://www.instagram.com/p/CMegChUlwm2</td>\n",
              "      <td>Photo by Elastici e Passamaneria on March 16, 2021.</td>\n",
              "      <td>FFP2 MADE IN ITALY????????#ffp2mask#italianstyle#madeinitaly????????#produzionepropria#produttori#farmacie#farmacieitaliane#parafarmacia#mascherinelavabili#mask#ffp2</td>\n",
              "      <td>Null</td>\n",
              "      <td>Null</td>\n",
              "      <td>Null</td>\n",
              "      <td>1615891163</td>\n",
              "      <td>Clothing, Apparel, Text, Money, Collage, Advertisement, Poster</td>\n",
              "      <td>education</td>\n",
              "      <td>movies</td>\n",
              "      <td>business</td>\n",
              "      <td>0</td>\n",
              "      <td>0</td>\n",
              "      <td>0</td>\n",
              "      <td>0.0</td>\n",
              "      <td>1.160021</td>\n",
              "      <td>2021-03-16 10:39:23</td>\n",
              "      <td>2021</td>\n",
              "      <td>3</td>\n",
              "      <td>16</td>\n",
              "      <td>1</td>\n",
              "      <td>10</td>\n",
              "      <td>39</td>\n",
              "      <td>Medium</td>\n",
              "      <td>Low</td>\n",
              "      <td>Medium</td>\n",
              "      <td>1</td>\n",
              "      <td>0</td>\n",
              "      <td>1</td>\n",
              "      <td>107.0</td>\n",
              "      <td>122.0</td>\n",
              "      <td>1124.0</td>\n",
              "      <td>821.0</td>\n",
              "      <td>1336.0</td>\n",
              "      <td>318.0</td>\n",
              "      <td>213.0</td>\n",
              "      <td>28.0</td>\n",
              "      <td>1128.0</td>\n",
              "      <td>12.0</td>\n",
              "      <td>15.0</td>\n",
              "      <td>5.0</td>\n",
              "    </tr>\n",
              "    <tr>\n",
              "      <th>1919</th>\n",
              "      <td>8210198494</td>\n",
              "      <td>pamela.latorre.73</td>\n",
              "      <td>Pamela La Torre</td>\n",
              "      <td>309</td>\n",
              "      <td>55</td>\n",
              "      <td>23</td>\n",
              "      <td>25.24</td>\n",
              "      <td>https://www.instagram.com/p/CQETjgBnZ7s</td>\n",
              "      <td>Photo by Pamela La Torre on June 13, 2021. May be an image of one or more people, people standing and indoor.</td>\n",
              "      <td>Prima comunione Giorgio</td>\n",
              "      <td>Santissimo Crocifisso</td>\n",
              "      <td>Taranto, Italy</td>\n",
              "      <td>Null</td>\n",
              "      <td>1623602137</td>\n",
              "      <td>Person, Human, Photographer, Photography, Photo, Furniture, Shoe, Clothing, Footwear, Apparel, Interior Design, Indoors</td>\n",
              "      <td>news</td>\n",
              "      <td>arts_entertainment</td>\n",
              "      <td>style_fashion</td>\n",
              "      <td>0</td>\n",
              "      <td>0</td>\n",
              "      <td>0</td>\n",
              "      <td>0.0</td>\n",
              "      <td>3.267285</td>\n",
              "      <td>2021-06-13 16:35:37</td>\n",
              "      <td>2021</td>\n",
              "      <td>6</td>\n",
              "      <td>13</td>\n",
              "      <td>6</td>\n",
              "      <td>16</td>\n",
              "      <td>35</td>\n",
              "      <td>High</td>\n",
              "      <td>High</td>\n",
              "      <td>Extreme</td>\n",
              "      <td>2</td>\n",
              "      <td>2</td>\n",
              "      <td>4</td>\n",
              "      <td>309.0</td>\n",
              "      <td>275.0</td>\n",
              "      <td>3586.0</td>\n",
              "      <td>1915.0</td>\n",
              "      <td>2828.0</td>\n",
              "      <td>393.0</td>\n",
              "      <td>296.0</td>\n",
              "      <td>28.0</td>\n",
              "      <td>3407.0</td>\n",
              "      <td>26.0</td>\n",
              "      <td>2.0</td>\n",
              "      <td>31.0</td>\n",
              "    </tr>\n",
              "  </tbody>\n",
              "</table>\n",
              "</div>"
            ],
            "text/plain": [
              "                     USERID  ... IMAGE_LABEL_INTEREST_OBJECT_AS_INT\n",
              "LINE_NUM_INDEX               ...                                   \n",
              "1918            36193140327  ...                                5.0\n",
              "1919             8210198494  ...                               31.0\n",
              "\n",
              "[2 rows x 48 columns]"
            ]
          },
          "metadata": {},
          "execution_count": 194
        }
      ]
    },
    {
      "cell_type": "code",
      "metadata": {
        "colab": {
          "base_uri": "https://localhost:8080/"
        },
        "id": "tnJpFe_AEDSm",
        "outputId": "f07c9c68-2978-47f4-b867-a43eeb0cd11d"
      },
      "source": [
        "plt.figure(figsize=(25,12))\n",
        "plt.title(\"Relationship Between The Features of The instagram Data\")\n",
        "sns.heatmap(df.corr().abs(), annot=True, linewidths = 2, linecolor = \"white\")"
      ],
      "execution_count": null,
      "outputs": [
        {
          "output_type": "execute_result",
          "data": {
            "text/plain": [
              "<matplotlib.axes._subplots.AxesSubplot at 0x7f461c3e16d0>"
            ]
          },
          "metadata": {},
          "execution_count": 195
        }
      ]
    },
    {
      "cell_type": "markdown",
      "metadata": {
        "id": "WOQ4oH8sk_u9"
      },
      "source": [
        "## Feature Engneering"
      ]
    },
    {
      "cell_type": "markdown",
      "metadata": {
        "id": "B1It9due1Gat"
      },
      "source": [
        "## Sigma cleaning"
      ]
    },
    {
      "cell_type": "code",
      "metadata": {
        "id": "UuG8VTYpTFaE"
      },
      "source": [
        "# we lose the most viral posts and most unviral posts\n",
        "for col in df.columns:\n",
        "    if df[col].dtype == 'float64':\n",
        "        std = df[col].std()\n",
        "        ave = df[col].mean()\n",
        "        df = df.loc[df[col].between\\\n",
        "                               (ave - (sigma * std), ave + (sigma * std))] \n",
        "        print(f'Processing {col:10} --> {df.shape[0]:5} entities entries remain')"
      ],
      "execution_count": null,
      "outputs": []
    },
    {
      "cell_type": "code",
      "metadata": {
        "id": "7wzSwRd53Yde"
      },
      "source": [
        "# %%time \n",
        "# df = df.select_dtypes(include=np.number)\n",
        "# sns.pairplot(df ,height=1.8) # takes about 5 min."
      ],
      "execution_count": null,
      "outputs": []
    },
    {
      "cell_type": "code",
      "metadata": {
        "id": "97bCaNu411_m"
      },
      "source": [
        "df.ENGAGEMENT.std()"
      ],
      "execution_count": null,
      "outputs": []
    },
    {
      "cell_type": "markdown",
      "metadata": {
        "id": "agZSyhgnADZJ"
      },
      "source": [
        "Eladk 2021-Sep-17, we need to:\n",
        "\n",
        "\n",
        "*   convert y colum to 5 classes so we can have a classification problem and not a regresion model\n",
        "*   check if the data is inbalance (so we need to use stratify)\n",
        "\n"
      ]
    },
    {
      "cell_type": "markdown",
      "metadata": {
        "id": "txQpSmQulN2f"
      },
      "source": [
        "# Split the Data"
      ]
    },
    {
      "cell_type": "markdown",
      "metadata": {
        "id": "8R9pK4jD7f6U"
      },
      "source": [
        "select only int and float column types to X \n",
        "seletc LIKES, COMMENTS, ENGAGEMENT as y"
      ]
    },
    {
      "cell_type": "code",
      "metadata": {
        "id": "JNK0bm9s7SNL"
      },
      "source": [
        "X = df.select_dtypes(include=['number'])\n",
        "X.drop(['LIKES','COMMENTS','ENGAGEMENT','log_ENGAGEMENT'], axis=1, inplace=True) #['LIKES','COMMENTS','ENGAGEMENT']\n",
        "X.drop(['LIKES_RANK_INT','COMMENTS_RANK_INT','ENGAGEMENT_RANK_INT'], axis=1, inplace=True) #['LIKES','COMMENTS','ENGAGEMENT']"
      ],
      "execution_count": null,
      "outputs": []
    },
    {
      "cell_type": "code",
      "metadata": {
        "id": "dpsYSMQl8b5b"
      },
      "source": [
        "y = df['ENGAGEMENT']\n",
        "y1 = df['LIKES']\n",
        "y2 = df['COMMENTS']\n",
        "y3 = df['log_ENGAGEMENT']\n",
        "y_ENGAGEMENT_RANK_INT = df['ENGAGEMENT_RANK_INT']\n",
        "y_LIKES_RANK_INT = df['LIKES_RANK_INT']\n",
        "y_COMMENTS_RANK_INT = df['COMMENTS_RANK_INT']"
      ],
      "execution_count": null,
      "outputs": []
    },
    {
      "cell_type": "code",
      "metadata": {
        "id": "3yuZ2qUc_ysg"
      },
      "source": [
        "X_train, X_test, y_train, y_test = train_test_split(X, y3, train_size = train_size\\\n",
        "                           , random_state = rand_state)#, stratify = df.ENGAGEMENT)"
      ],
      "execution_count": null,
      "outputs": []
    },
    {
      "cell_type": "code",
      "metadata": {
        "id": "Vy8CqiHeyyQZ"
      },
      "source": [
        "X_train.head(5)"
      ],
      "execution_count": null,
      "outputs": []
    },
    {
      "cell_type": "markdown",
      "metadata": {
        "id": "IEfHCIsglq68"
      },
      "source": [
        "# Mechine Learning  Model"
      ]
    },
    {
      "cell_type": "markdown",
      "metadata": {
        "id": "4Jr-ID4tld2X"
      },
      "source": [
        "## Appling First1 Model - KNN model"
      ]
    },
    {
      "cell_type": "code",
      "metadata": {
        "id": "wwBEiFn0Du3a"
      },
      "source": [
        "neighbor = 3\n",
        "knn_model_1 = KNeighborsRegressor(n_neighbors=neighbor).fit(X_train, y_train)"
      ],
      "execution_count": null,
      "outputs": []
    },
    {
      "cell_type": "code",
      "metadata": {
        "id": "wGhxbbeUzDDB"
      },
      "source": [
        "y_train_pred = knn_model_1.predict(X_train)"
      ],
      "execution_count": null,
      "outputs": []
    },
    {
      "cell_type": "code",
      "metadata": {
        "id": "xQau0usPzGFs"
      },
      "source": [
        "ax = sns.scatterplot(x=y_train, y=y_train_pred)\n",
        "ax.plot(y_train, y_train, 'r')"
      ],
      "execution_count": null,
      "outputs": []
    },
    {
      "cell_type": "code",
      "metadata": {
        "id": "lsLYK4vF3p-r"
      },
      "source": [
        "fig = go.Figure()\n",
        "fig.add_trace(go.Scatter(x=list(range(len(y_train[-150:]))), y=y_train[-150:],\n",
        "                         mode='lines',\n",
        "                         name='Prediction'))\n",
        "fig.add_trace(go.Scatter(x=list(range(len(y_train_pred[-150:]))), y=y_train_pred[-150:],\n",
        "                         mode='lines',\n",
        "                         name='True value'))\n",
        "\n",
        "fig.show()"
      ],
      "execution_count": null,
      "outputs": []
    },
    {
      "cell_type": "markdown",
      "metadata": {
        "id": "QtMtVA3Alo6P"
      },
      "source": [
        "## Validating the Model "
      ]
    },
    {
      "cell_type": "code",
      "metadata": {
        "id": "UvIPB3DShe0B"
      },
      "source": [
        "RMSE = mse(y_train, y_train_pred)**0.5\n",
        "RMSE"
      ],
      "execution_count": null,
      "outputs": []
    },
    {
      "cell_type": "code",
      "metadata": {
        "id": "HKhnZ1aQhkOW"
      },
      "source": [
        "y_test_pred = knn_model_1.predict(X_test)\n",
        "ax = sns.scatterplot(x=y_test, y=y_test_pred)\n",
        "ax.plot(y_test, y_test, 'r')"
      ],
      "execution_count": null,
      "outputs": []
    },
    {
      "cell_type": "code",
      "metadata": {
        "id": "rAGEawpMiNo1"
      },
      "source": [
        "RMSE = mse(y_test, y_test_pred)**0.5\n",
        "RMSE"
      ],
      "execution_count": null,
      "outputs": []
    },
    {
      "cell_type": "markdown",
      "metadata": {
        "id": "t1tZY32LinnW"
      },
      "source": [
        "## Scaled MaxAbsScaler model"
      ]
    },
    {
      "cell_type": "code",
      "metadata": {
        "id": "JeNbo2x7iyk7"
      },
      "source": [
        "my_scaler = MaxAbsScaler().fit(X_train)\n",
        "X_train_scaled = pd.DataFrame(my_scaler.transform(X_train), columns=X_train.columns)\n",
        "X_train_scaled.head()"
      ],
      "execution_count": null,
      "outputs": []
    },
    {
      "cell_type": "code",
      "metadata": {
        "id": "xoD9c6V_i1Iu"
      },
      "source": [
        "knn_model_2 = KNeighborsRegressor(n_neighbors=10).fit(X_train_scaled, y_train)"
      ],
      "execution_count": null,
      "outputs": []
    },
    {
      "cell_type": "code",
      "metadata": {
        "id": "bCA2dniBi69y"
      },
      "source": [
        "y_train_pred = knn_model_2.predict(X_train_scaled)"
      ],
      "execution_count": null,
      "outputs": []
    },
    {
      "cell_type": "code",
      "metadata": {
        "id": "5xVKSBZ6i9Bb"
      },
      "source": [
        "ax = sns.scatterplot(x=y_train, y=y_train_pred)\n",
        "ax.plot(y_train, y_train, 'r')"
      ],
      "execution_count": null,
      "outputs": []
    },
    {
      "cell_type": "code",
      "metadata": {
        "id": "401-3iipi_XN"
      },
      "source": [
        "RMSE = mse(y_train, y_train_pred)**0.5\n",
        "RMSE"
      ],
      "execution_count": null,
      "outputs": []
    },
    {
      "cell_type": "code",
      "metadata": {
        "id": "XH0XNEO5jmbK"
      },
      "source": [
        "X_test_scaled = my_scaler.transform(X_test)\n",
        "y_test_pred = knn_model_2.predict(X_test_scaled)\n",
        "\n",
        "ax = sns.scatterplot(x=y_test, y=y_test_pred)\n",
        "ax.plot(y_test, y_test, 'r')"
      ],
      "execution_count": null,
      "outputs": []
    },
    {
      "cell_type": "code",
      "metadata": {
        "id": "dlgIARjyjvhs"
      },
      "source": [
        "RMSE = mse(y_test, y_test_pred)**0.5\n",
        "RMSE"
      ],
      "execution_count": null,
      "outputs": []
    },
    {
      "cell_type": "markdown",
      "metadata": {
        "id": "HoKWz-TKX_uj"
      },
      "source": [
        "## Appling 2nd Model - Decision Tree"
      ]
    },
    {
      "cell_type": "code",
      "metadata": {
        "id": "l0DZM9-0XZ_d"
      },
      "source": [
        "model_2_dt = DecisionTreeClassifier(\n",
        "    min_samples_leaf=3\n",
        "    ,max_depth=5\n",
        "    )"
      ],
      "execution_count": null,
      "outputs": []
    },
    {
      "cell_type": "code",
      "metadata": {
        "id": "WxyAiLL6Ya4U"
      },
      "source": [
        "model_2_dt.fit(X, \n",
        "              y_ENGAGEMENT_RANK)"
      ],
      "execution_count": null,
      "outputs": []
    },
    {
      "cell_type": "code",
      "metadata": {
        "id": "dL3OaXO3ZoMc"
      },
      "source": [
        "dot_data = StringIO()  \n",
        "export_graphviz(model_2_dt, out_file=dot_data, feature_names=X.columns, \n",
        "                leaves_parallel=True, filled=True, class_names=str(model_2_dt.classes_))  \n",
        "graph = pydot.graph_from_dot_data(dot_data.getvalue())[0]  \n",
        "Image(graph.create_png(), width=1000) "
      ],
      "execution_count": null,
      "outputs": []
    },
    {
      "cell_type": "markdown",
      "metadata": {
        "id": "FJ9BxIyLp88_"
      },
      "source": [
        "View Features Emportance:"
      ]
    },
    {
      "cell_type": "code",
      "metadata": {
        "id": "euSQFw0iZ1I4"
      },
      "source": [
        "pd.Series(model_2_dt.feature_importances_*100,\n",
        "          index=X.columns).sort_values(ascending=False).round()"
      ],
      "execution_count": null,
      "outputs": []
    },
    {
      "cell_type": "markdown",
      "metadata": {
        "id": "RhKAxda_6iuQ"
      },
      "source": [
        "Eladk 2021-Sep-24 comment in first model:\n",
        "\n",
        "*   Why Time is So meaning full?\n",
        "*   What ACCESSIBILITY_CAPTION have corolation with ranking?\n",
        "*   I Need to understand why folloer is very meaningfull\n",
        "*   I Need to understand why USERNAME,userid is very meaningfull"
      ]
    },
    {
      "cell_type": "code",
      "metadata": {
        "id": "FOT2WP_ugxUw"
      },
      "source": [
        "df.head(3)"
      ],
      "execution_count": null,
      "outputs": []
    },
    {
      "cell_type": "code",
      "metadata": {
        "id": "ioxdXnAGdNZx"
      },
      "source": [
        "df['ENGAGEMENT_RANK_INT_pred'] = model_2_dt.predict(X)\n",
        "df.head(3)"
      ],
      "execution_count": null,
      "outputs": []
    },
    {
      "cell_type": "code",
      "metadata": {
        "id": "-J6IUP-goKzX"
      },
      "source": [
        "map_dict_ENGAGEMENT = dict(zip(df.ENGAGEMENT_RANK_INT,df.ENGAGEMEN_,))\n",
        "map_dict_ENGAGEMENT"
      ],
      "execution_count": null,
      "outputs": []
    },
    {
      "cell_type": "code",
      "metadata": {
        "id": "-lkIjq2MkGjj"
      },
      "source": [
        "df['ENGAGEMENT_RANK_pred'] = df['ENGAGEMENT_RANK_INT_pred'].map(map_dict_ENGAGEMENT)"
      ],
      "execution_count": null,
      "outputs": []
    },
    {
      "cell_type": "markdown",
      "metadata": {
        "id": "VOulAFYJqETj"
      },
      "source": [
        "Evanuating the Model:"
      ]
    },
    {
      "cell_type": "code",
      "metadata": {
        "id": "mNvgTWiG_TnL"
      },
      "source": [
        "type(df[['ENGAGEMENT_RANK','ENGAGEMENT_RANK_pred']].value_counts())"
      ],
      "execution_count": null,
      "outputs": []
    },
    {
      "cell_type": "code",
      "metadata": {
        "id": "RwhEp5PuBB0a"
      },
      "source": [
        "df[['ENGAGEMENT_RANK_INT','ENGAGEMENT_RANK_INT_pred']].value_counts().sort_index()"
      ],
      "execution_count": null,
      "outputs": []
    },
    {
      "cell_type": "code",
      "metadata": {
        "id": "r25D8vq39dCS"
      },
      "source": [
        "df[['ENGAGEMENT_RANK','ENGAGEMENT_RANK_pred']].value_counts().sort_index()"
      ],
      "execution_count": null,
      "outputs": []
    },
    {
      "cell_type": "code",
      "metadata": {
        "id": "2wprCZbAdOA3"
      },
      "source": [
        "cm = confusion_matrix(y_true=df.ENGAGEMENT_RANK_INT,\n",
        "                      y_pred=df.ENGAGEMENT_RANK_INT_pred)\n",
        "pd.DataFrame(cm,\n",
        "             index=model_2_dt.classes_,\n",
        "             columns=model_2_dt.classes_)"
      ],
      "execution_count": null,
      "outputs": []
    },
    {
      "cell_type": "code",
      "metadata": {
        "id": "u4pSIYqJ8HJ4"
      },
      "source": [
        "print(classification_report(y_true=df.ENGAGEMENT_RANK_INT,\n",
        "                      y_pred=df.ENGAGEMENT_RANK_INT_pred))"
      ],
      "execution_count": null,
      "outputs": []
    },
    {
      "cell_type": "code",
      "metadata": {
        "id": "PXLwCQpv8yOG"
      },
      "source": [
        "accuracy_score(y_true=df.ENGAGEMENT_RANK, y_pred=df.ENGAGEMENT_RANK_pred)"
      ],
      "execution_count": null,
      "outputs": []
    },
    {
      "cell_type": "markdown",
      "metadata": {
        "id": "lQNwJ7JHlz9s"
      },
      "source": [
        "## Scoring "
      ]
    }
  ]
}