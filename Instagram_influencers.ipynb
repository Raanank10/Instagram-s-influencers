{
  "nbformat": 4,
  "nbformat_minor": 0,
  "metadata": {
    "colab": {
      "name": "Instagram_influencers_eladk_20210904.ipynb",
      "provenance": [],
      "collapsed_sections": [],
      "toc_visible": true,
      "authorship_tag": "ABX9TyMi0S7SHxsiaTMgNggscvWj",
      "include_colab_link": true
    },
    "kernelspec": {
      "name": "python3",
      "display_name": "Python 3"
    },
    "language_info": {
      "name": "python"
    }
  },
  "cells": [
    {
      "cell_type": "markdown",
      "metadata": {
        "id": "view-in-github",
        "colab_type": "text"
      },
      "source": [
        "<a href=\"https://colab.research.google.com/github/Raanank10/Instagram-s-influencers/blob/main/Instagram_influencers.ipynb\" target=\"_parent\"><img src=\"https://colab.research.google.com/assets/colab-badge.svg\" alt=\"Open In Colab\"/></a>"
      ]
    },
    {
      "cell_type": "markdown",
      "metadata": {
        "id": "wC1M-xaCmpct"
      },
      "source": [
        "**Instagram_influencers**"
      ]
    },
    {
      "cell_type": "markdown",
      "metadata": {
        "id": "CYHKFYQIsYs3"
      },
      "source": [
        "# Global Parameters"
      ]
    },
    {
      "cell_type": "code",
      "metadata": {
        "id": "1qeiaDu9mi-Y"
      },
      "source": [
        "fname = 'ai_posts_analysis_data.xlsx'"
      ],
      "execution_count": 111,
      "outputs": []
    },
    {
      "cell_type": "markdown",
      "metadata": {
        "id": "aI1qxfM0j0KY"
      },
      "source": [
        "# Get the Data"
      ]
    },
    {
      "cell_type": "code",
      "metadata": {
        "id": "b2moKRJvjzUv"
      },
      "source": [
        "# General Tools\n",
        "import numpy as np\n",
        "import scipy as sp\n",
        "import pandas as pd\n",
        "import missingno as msno\n",
        "\n",
        "# SK Learn\n",
        "from sklearn.impute import SimpleImputer\n",
        "from sklearn.tree import DecisionTreeClassifier\n",
        "from sklearn.neighbors import KNeighborsClassifier\n",
        "from sklearn.linear_model import LogisticRegression\n",
        "from sklearn import preprocessing\n",
        "from sklearn.ensemble import RandomForestClassifier\n",
        "from sklearn.metrics import confusion_matrix, accuracy_score\n",
        "from sklearn.metrics import precision_score, recall_score, f1_score\n",
        "from sklearn.metrics import accuracy_score , confusion_matrix, roc_auc_score, roc_curve\n",
        "from sklearn.metrics import log_loss\n",
        "from sklearn.metrics import classification_report # elad 20210708\n",
        "from sklearn.model_selection import train_test_split, GridSearchCV\n",
        "from sklearn.feature_selection import SelectKBest, chi2, f_classif, mutual_info_classif\n",
        "from sklearn.model_selection import cross_val_score\n",
        "from sklearn.model_selection import StratifiedShuffleSplit\n",
        "\n",
        "# Trees Visualization\n",
        "import pydot\n",
        "from sklearn.tree import export_graphviz\n",
        "from sklearn.externals.six import StringIO\n",
        "\n",
        "# Misc\n",
        "import warnings\n",
        "from sys import modules\n",
        "from time import time\n",
        "from platform import python_version\n",
        "\n",
        "# Visualization\n",
        "import matplotlib.pyplot as plt\n",
        "import plotly.express as px\n",
        "import seaborn as sns\n",
        "\n",
        "# IPython\n",
        "from IPython.display import Image, display\n",
        "\n",
        "# Confuguration\n",
        "warnings.filterwarnings('ignore')\n",
        "%matplotlib inline"
      ],
      "execution_count": 112,
      "outputs": []
    },
    {
      "cell_type": "code",
      "metadata": {
        "colab": {
          "base_uri": "https://localhost:8080/",
          "height": 635
        },
        "id": "eNBD7EhXrkpI",
        "outputId": "5829192e-d507-4947-b409-f00f52c8a52c"
      },
      "source": [
        "df = pd.read_excel(fname, index_col=0)  \n",
        "df.head()"
      ],
      "execution_count": 113,
      "outputs": [
        {
          "output_type": "execute_result",
          "data": {
            "text/html": [
              "<div>\n",
              "<style scoped>\n",
              "    .dataframe tbody tr th:only-of-type {\n",
              "        vertical-align: middle;\n",
              "    }\n",
              "\n",
              "    .dataframe tbody tr th {\n",
              "        vertical-align: top;\n",
              "    }\n",
              "\n",
              "    .dataframe thead th {\n",
              "        text-align: right;\n",
              "    }\n",
              "</style>\n",
              "<table border=\"1\" class=\"dataframe\">\n",
              "  <thead>\n",
              "    <tr style=\"text-align: right;\">\n",
              "      <th></th>\n",
              "      <th>USERID</th>\n",
              "      <th>USERNAME</th>\n",
              "      <th>FULLNAME</th>\n",
              "      <th>FOLLOWER</th>\n",
              "      <th>POST ID</th>\n",
              "      <th>SHORTCODE</th>\n",
              "      <th>LIKES</th>\n",
              "      <th>COMMENTS</th>\n",
              "      <th>ENGAGEMENT</th>\n",
              "      <th>URL</th>\n",
              "      <th>ACCESSIBILITY CAPTION</th>\n",
              "      <th>CAPTION</th>\n",
              "      <th>LOCATION</th>\n",
              "      <th>CITY</th>\n",
              "      <th>COUNTRY</th>\n",
              "      <th>TIME</th>\n",
              "      <th>IMAGE LABELS</th>\n",
              "      <th>CAPTION INTEREST</th>\n",
              "      <th>ACCESSIBILITY CAPTION INTEREST</th>\n",
              "      <th>IMAGE LABEL INTEREST</th>\n",
              "      <th>IMAGE URL</th>\n",
              "      <th>COMMENT DISABLED</th>\n",
              "      <th>IS VIDEO</th>\n",
              "      <th>HAS AUDIO</th>\n",
              "      <th>VIDEO URL</th>\n",
              "      <th>VIDEO VIEW COUNT</th>\n",
              "    </tr>\n",
              "    <tr>\n",
              "      <th>1</th>\n",
              "      <th></th>\n",
              "      <th></th>\n",
              "      <th></th>\n",
              "      <th></th>\n",
              "      <th></th>\n",
              "      <th></th>\n",
              "      <th></th>\n",
              "      <th></th>\n",
              "      <th></th>\n",
              "      <th></th>\n",
              "      <th></th>\n",
              "      <th></th>\n",
              "      <th></th>\n",
              "      <th></th>\n",
              "      <th></th>\n",
              "      <th></th>\n",
              "      <th></th>\n",
              "      <th></th>\n",
              "      <th></th>\n",
              "      <th></th>\n",
              "      <th></th>\n",
              "      <th></th>\n",
              "      <th></th>\n",
              "      <th></th>\n",
              "      <th></th>\n",
              "      <th></th>\n",
              "    </tr>\n",
              "  </thead>\n",
              "  <tbody>\n",
              "    <tr>\n",
              "      <th>1918</th>\n",
              "      <td>36193140327</td>\n",
              "      <td>elastici_e_passamaneria</td>\n",
              "      <td>Elastici e Passamaneria</td>\n",
              "      <td>1052</td>\n",
              "      <td>2530600951335029174</td>\n",
              "      <td>CMegChUlwm2</td>\n",
              "      <td>23</td>\n",
              "      <td>0</td>\n",
              "      <td>2.19</td>\n",
              "      <td>https://www.instagram.com/p/CMegChUlwm2</td>\n",
              "      <td>Photo by Elastici e Passamaneria on March 16, ...</td>\n",
              "      <td>FFP2 MADE IN ITALY????????#ffp2mask#italiansty...</td>\n",
              "      <td>NaN</td>\n",
              "      <td>NaN</td>\n",
              "      <td>NaN</td>\n",
              "      <td>1615891163</td>\n",
              "      <td>Clothing, Apparel, Text, Money, Collage, Adver...</td>\n",
              "      <td>education</td>\n",
              "      <td>movies</td>\n",
              "      <td>business</td>\n",
              "      <td>https://instagram.fdok2-1.fna.fbcdn.net/v/t51....</td>\n",
              "      <td>no</td>\n",
              "      <td>no</td>\n",
              "      <td>no</td>\n",
              "      <td>NaN</td>\n",
              "      <td>NaN</td>\n",
              "    </tr>\n",
              "    <tr>\n",
              "      <th>1919</th>\n",
              "      <td>8210198494</td>\n",
              "      <td>pamela.latorre.73</td>\n",
              "      <td>Pamela La Torre</td>\n",
              "      <td>309</td>\n",
              "      <td>2595285287724490476</td>\n",
              "      <td>CQETjgBnZ7s</td>\n",
              "      <td>55</td>\n",
              "      <td>23</td>\n",
              "      <td>25.24</td>\n",
              "      <td>https://www.instagram.com/p/CQETjgBnZ7s</td>\n",
              "      <td>Photo by Pamela La Torre on June 13, 2021. May...</td>\n",
              "      <td>Prima comunione Giorgio</td>\n",
              "      <td>Santissimo Crocifisso</td>\n",
              "      <td>Taranto, Italy</td>\n",
              "      <td>NaN</td>\n",
              "      <td>1623602137</td>\n",
              "      <td>Person, Human, Photographer, Photography, Phot...</td>\n",
              "      <td>news</td>\n",
              "      <td>arts_entertainment</td>\n",
              "      <td>style_fashion</td>\n",
              "      <td>https://instagram.fhel3-1.fna.fbcdn.net/v/t51....</td>\n",
              "      <td>no</td>\n",
              "      <td>no</td>\n",
              "      <td>no</td>\n",
              "      <td>NaN</td>\n",
              "      <td>NaN</td>\n",
              "    </tr>\n",
              "    <tr>\n",
              "      <th>1920</th>\n",
              "      <td>36838177086</td>\n",
              "      <td>ilaria._004</td>\n",
              "      <td>????????????????</td>\n",
              "      <td>649</td>\n",
              "      <td>2356209223949454778</td>\n",
              "      <td>CCy784yAY26</td>\n",
              "      <td>138</td>\n",
              "      <td>2</td>\n",
              "      <td>21.57</td>\n",
              "      <td>https://www.instagram.com/p/CCy784yAY26</td>\n",
              "      <td>Photo by ???????????????? on July 18, 2020. Ma...</td>\n",
              "      <td>mirame????</td>\n",
              "      <td>NaN</td>\n",
              "      <td>NaN</td>\n",
              "      <td>NaN</td>\n",
              "      <td>1595102049</td>\n",
              "      <td>Clothing, Apparel, Person, Human, Female, Swim...</td>\n",
              "      <td>education</td>\n",
              "      <td>arts_entertainment</td>\n",
              "      <td>style_fashion</td>\n",
              "      <td>https://instagram.fgua5-1.fna.fbcdn.net/v/t51....</td>\n",
              "      <td>no</td>\n",
              "      <td>no</td>\n",
              "      <td>no</td>\n",
              "      <td>NaN</td>\n",
              "      <td>NaN</td>\n",
              "    </tr>\n",
              "    <tr>\n",
              "      <th>1921</th>\n",
              "      <td>33286901341</td>\n",
              "      <td>wellbishstore</td>\n",
              "      <td>Wellbish Store</td>\n",
              "      <td>188</td>\n",
              "      <td>2462740031272344745</td>\n",
              "      <td>CItaQKiH1yp</td>\n",
              "      <td>6</td>\n",
              "      <td>0</td>\n",
              "      <td>3.19</td>\n",
              "      <td>https://www.instagram.com/p/CItaQKiH1yp</td>\n",
              "      <td>Photo by Wellbish Store on December 12, 2020. ...</td>\n",
              "      <td>How sweet is your Heart? ❤️????\\n.\\n.\\n???? Fo...</td>\n",
              "      <td>NaN</td>\n",
              "      <td>NaN</td>\n",
              "      <td>NaN</td>\n",
              "      <td>1607801511</td>\n",
              "      <td>Pendant, Accessories, Accessory, Goggles</td>\n",
              "      <td>style_fashion</td>\n",
              "      <td>arts_entertainment</td>\n",
              "      <td>style_fashion</td>\n",
              "      <td>https://instagram.fhyd2-1.fna.fbcdn.net/v/t51....</td>\n",
              "      <td>no</td>\n",
              "      <td>no</td>\n",
              "      <td>no</td>\n",
              "      <td>NaN</td>\n",
              "      <td>NaN</td>\n",
              "    </tr>\n",
              "    <tr>\n",
              "      <th>1922</th>\n",
              "      <td>5633363536</td>\n",
              "      <td>amineblc</td>\n",
              "      <td>Mohamed Amine</td>\n",
              "      <td>1103</td>\n",
              "      <td>2127311663854320191</td>\n",
              "      <td>B2Fuq_ylPo_</td>\n",
              "      <td>46</td>\n",
              "      <td>4</td>\n",
              "      <td>4.53</td>\n",
              "      <td>https://www.instagram.com/p/B2Fuq_ylPo_</td>\n",
              "      <td>Photo by Mohamed Amine in Mawazine.</td>\n",
              "      <td>NaN</td>\n",
              "      <td>Mawazine</td>\n",
              "      <td>Ksar Hellal, Tunisia</td>\n",
              "      <td>Tunisia</td>\n",
              "      <td>1567815333</td>\n",
              "      <td>Clothing, Apparel, Person, Human, Sunglasses, ...</td>\n",
              "      <td>NaN</td>\n",
              "      <td>news</td>\n",
              "      <td>style_fashion</td>\n",
              "      <td>https://instagram.fjdf6-1.fna.fbcdn.net/v/t51....</td>\n",
              "      <td>no</td>\n",
              "      <td>no</td>\n",
              "      <td>no</td>\n",
              "      <td>NaN</td>\n",
              "      <td>NaN</td>\n",
              "    </tr>\n",
              "  </tbody>\n",
              "</table>\n",
              "</div>"
            ],
            "text/plain": [
              "           USERID                 USERNAME  ... VIDEO URL  VIDEO VIEW COUNT\n",
              "1                                           ...                            \n",
              "1918  36193140327  elastici_e_passamaneria  ...       NaN               NaN\n",
              "1919   8210198494        pamela.latorre.73  ...       NaN               NaN\n",
              "1920  36838177086              ilaria._004  ...       NaN               NaN\n",
              "1921  33286901341            wellbishstore  ...       NaN               NaN\n",
              "1922   5633363536                 amineblc  ...       NaN               NaN\n",
              "\n",
              "[5 rows x 26 columns]"
            ]
          },
          "metadata": {},
          "execution_count": 113
        }
      ]
    },
    {
      "cell_type": "code",
      "metadata": {
        "colab": {
          "base_uri": "https://localhost:8080/"
        },
        "id": "r-HWgIAPEVZp",
        "outputId": "49305f97-eadb-4d7d-bcf9-633ccd9761c0"
      },
      "source": [
        "df.info()"
      ],
      "execution_count": 114,
      "outputs": [
        {
          "output_type": "stream",
          "name": "stdout",
          "text": [
            "<class 'pandas.core.frame.DataFrame'>\n",
            "Int64Index: 4792 entries, 1918 to 6709\n",
            "Data columns (total 26 columns):\n",
            " #   Column                          Non-Null Count  Dtype  \n",
            "---  ------                          --------------  -----  \n",
            " 0   USERID                          4792 non-null   int64  \n",
            " 1   USERNAME                        4792 non-null   object \n",
            " 2   FULLNAME                        4666 non-null   object \n",
            " 3   FOLLOWER                        4792 non-null   int64  \n",
            " 4   POST ID                         4792 non-null   int64  \n",
            " 5   SHORTCODE                       4792 non-null   object \n",
            " 6   LIKES                           4792 non-null   int64  \n",
            " 7   COMMENTS                        4792 non-null   int64  \n",
            " 8   ENGAGEMENT                      4792 non-null   float64\n",
            " 9   URL                             4792 non-null   object \n",
            " 10  ACCESSIBILITY CAPTION           3943 non-null   object \n",
            " 11  CAPTION                         4310 non-null   object \n",
            " 12  LOCATION                        1161 non-null   object \n",
            " 13  CITY                            1068 non-null   object \n",
            " 14  COUNTRY                         947 non-null    object \n",
            " 15  TIME                            4792 non-null   int64  \n",
            " 16  IMAGE LABELS                    4786 non-null   object \n",
            " 17  CAPTION INTEREST                4310 non-null   object \n",
            " 18  ACCESSIBILITY CAPTION INTEREST  3943 non-null   object \n",
            " 19  IMAGE LABEL INTEREST            4786 non-null   object \n",
            " 20  IMAGE URL                       4792 non-null   object \n",
            " 21  COMMENT DISABLED                4792 non-null   object \n",
            " 22  IS VIDEO                        4792 non-null   object \n",
            " 23  HAS AUDIO                       4792 non-null   object \n",
            " 24  VIDEO URL                       808 non-null    object \n",
            " 25  VIDEO VIEW COUNT                808 non-null    float64\n",
            "dtypes: float64(2), int64(6), object(18)\n",
            "memory usage: 1010.8+ KB\n"
          ]
        }
      ]
    },
    {
      "cell_type": "markdown",
      "metadata": {
        "id": "N7B3k5XZkwUD"
      },
      "source": [
        "# EDA"
      ]
    },
    {
      "cell_type": "markdown",
      "metadata": {
        "id": "8Qj-ErlQFC0h"
      },
      "source": [
        "Column names: Replace white spaces with underscore "
      ]
    },
    {
      "cell_type": "code",
      "metadata": {
        "id": "C5YI6mDgFCSr"
      },
      "source": [
        "df.columns = df.columns.str.replace(' ', '_')"
      ],
      "execution_count": 115,
      "outputs": []
    },
    {
      "cell_type": "markdown",
      "metadata": {
        "id": "NzJiloFn_gi4"
      },
      "source": [
        "Check for each column how many unique is there (lenght of the dataset 4792, len(df)) "
      ]
    },
    {
      "cell_type": "code",
      "metadata": {
        "colab": {
          "base_uri": "https://localhost:8080/"
        },
        "id": "Aia9nBwB-j1b",
        "outputId": "f5f537e5-4264-4f5b-9dba-9ad74d399ece"
      },
      "source": [
        "df.apply(lambda col: len(col.unique())).sort_values(ascending=False)"
      ],
      "execution_count": 116,
      "outputs": [
        {
          "output_type": "execute_result",
          "data": {
            "text/plain": [
              "POST_ID                           4792\n",
              "SHORTCODE                         4792\n",
              "IMAGE_URL                         4792\n",
              "URL                               4792\n",
              "TIME                              4791\n",
              "IMAGE_LABELS                      4666\n",
              "CAPTION                           4216\n",
              "ACCESSIBILITY_CAPTION             3658\n",
              "ENGAGEMENT                        1415\n",
              "VIDEO_URL                          809\n",
              "LIKES                              588\n",
              "LOCATION                           533\n",
              "VIDEO_VIEW_COUNT                   472\n",
              "USERNAME                           447\n",
              "USERID                             447\n",
              "FULLNAME                           432\n",
              "FOLLOWER                           418\n",
              "CITY                               328\n",
              "COMMENTS                           138\n",
              "COUNTRY                             44\n",
              "CAPTION_INTEREST                    36\n",
              "IMAGE_LABEL_INTEREST                35\n",
              "ACCESSIBILITY_CAPTION_INTEREST      27\n",
              "COMMENT_DISABLED                     2\n",
              "IS_VIDEO                             2\n",
              "HAS_AUDIO                            2\n",
              "dtype: int64"
            ]
          },
          "metadata": {},
          "execution_count": 116
        }
      ]
    },
    {
      "cell_type": "markdown",
      "metadata": {
        "id": "y8BTw9B4CP69"
      },
      "source": [
        "## Handle NaN valus"
      ]
    },
    {
      "cell_type": "markdown",
      "metadata": {
        "id": "ksd42-L6J9Sz"
      },
      "source": [
        "How Many NaN values are ther in the datast?"
      ]
    },
    {
      "cell_type": "code",
      "metadata": {
        "colab": {
          "base_uri": "https://localhost:8080/",
          "height": 822
        },
        "id": "xk360FI0J8sB",
        "outputId": "7fafc87b-3908-4c4d-ffde-f611b45fdece"
      },
      "source": [
        "msno.matrix(df)"
      ],
      "execution_count": 117,
      "outputs": [
        {
          "output_type": "execute_result",
          "data": {
            "text/plain": [
              "<matplotlib.axes._subplots.AxesSubplot at 0x7f957e838a90>"
            ]
          },
          "metadata": {},
          "execution_count": 117
        },
        {
          "output_type": "display_data",
          "data": {
            "image/png": "[encoded data removed]",
            "text/plain": [
              "<Figure size 1800x720 with 2 Axes>"
            ]
          },
          "metadata": {
            "needs_background": "light"
          }
        }
      ]
    },
    {
      "cell_type": "code",
      "metadata": {
        "colab": {
          "base_uri": "https://localhost:8080/",
          "height": 748
        },
        "id": "ItG8cSILKIPZ",
        "outputId": "a6a9a8f0-7632-40c6-f12b-01cb54205663"
      },
      "source": [
        "msno.bar(df, figsize=(20, 8))"
      ],
      "execution_count": 118,
      "outputs": [
        {
          "output_type": "execute_result",
          "data": {
            "text/plain": [
              "<matplotlib.axes._subplots.AxesSubplot at 0x7f957eb44d50>"
            ]
          },
          "metadata": {},
          "execution_count": 118
        },
        {
          "output_type": "display_data",
          "data": {
            "image/png": "[encoded data removed]",
            "text/plain": [
              "<Figure size 1440x576 with 3 Axes>"
            ]
          },
          "metadata": {
            "needs_background": "light"
          }
        }
      ]
    },
    {
      "cell_type": "code",
      "metadata": {
        "id": "LZ_7L8emN7yz"
      },
      "source": [
        "df['YEAR'] = pd.DatetimeIndex(df['TIME']).year\n",
        "df['MONTH'] = pd.DatetimeIndex(df['TIME']).month\n",
        "df['DAY'] = pd.DatetimeIndex(df['TIME']).day\n",
        "df['DAYOFWEEK'] = pd.DatetimeIndex(df['TIME']).dayofweek\n",
        "df['HOUR'] = pd.DatetimeIndex(df['TIME']).hour"
      ],
      "execution_count": 119,
      "outputs": []
    },
    {
      "cell_type": "markdown",
      "metadata": {
        "id": "FS4RdvS3B4nr"
      },
      "source": [
        "Remove column that all values are unique:"
      ]
    },
    {
      "cell_type": "code",
      "metadata": {
        "colab": {
          "base_uri": "https://localhost:8080/"
        },
        "id": "mDp86xxgB_H9",
        "outputId": "f578d917-4ce6-44ae-833b-e041d80a080d"
      },
      "source": [
        "for col in df.columns:\n",
        "    if len(df[col].unique()) == len(df):\n",
        "        print(col)\n",
        "        #df.drop(col,inplace=True,axis=1)"
      ],
      "execution_count": 120,
      "outputs": [
        {
          "output_type": "stream",
          "name": "stdout",
          "text": [
            "POST_ID\n",
            "SHORTCODE\n",
            "URL\n",
            "IMAGE_URL\n"
          ]
        }
      ]
    },
    {
      "cell_type": "code",
      "metadata": {
        "colab": {
          "base_uri": "https://localhost:8080/",
          "height": 1000
        },
        "id": "fpJMf4XQL03A",
        "outputId": "59af0665-43c2-4afe-ba93-88d1d402b49d"
      },
      "source": [
        "df"
      ],
      "execution_count": 121,
      "outputs": [
        {
          "output_type": "execute_result",
          "data": {
            "text/html": [
              "<div>\n",
              "<style scoped>\n",
              "    .dataframe tbody tr th:only-of-type {\n",
              "        vertical-align: middle;\n",
              "    }\n",
              "\n",
              "    .dataframe tbody tr th {\n",
              "        vertical-align: top;\n",
              "    }\n",
              "\n",
              "    .dataframe thead th {\n",
              "        text-align: right;\n",
              "    }\n",
              "</style>\n",
              "<table border=\"1\" class=\"dataframe\">\n",
              "  <thead>\n",
              "    <tr style=\"text-align: right;\">\n",
              "      <th></th>\n",
              "      <th>USERID</th>\n",
              "      <th>USERNAME</th>\n",
              "      <th>FULLNAME</th>\n",
              "      <th>FOLLOWER</th>\n",
              "      <th>POST_ID</th>\n",
              "      <th>SHORTCODE</th>\n",
              "      <th>LIKES</th>\n",
              "      <th>COMMENTS</th>\n",
              "      <th>ENGAGEMENT</th>\n",
              "      <th>URL</th>\n",
              "      <th>ACCESSIBILITY_CAPTION</th>\n",
              "      <th>CAPTION</th>\n",
              "      <th>LOCATION</th>\n",
              "      <th>CITY</th>\n",
              "      <th>COUNTRY</th>\n",
              "      <th>TIME</th>\n",
              "      <th>IMAGE_LABELS</th>\n",
              "      <th>CAPTION_INTEREST</th>\n",
              "      <th>ACCESSIBILITY_CAPTION_INTEREST</th>\n",
              "      <th>IMAGE_LABEL_INTEREST</th>\n",
              "      <th>IMAGE_URL</th>\n",
              "      <th>COMMENT_DISABLED</th>\n",
              "      <th>IS_VIDEO</th>\n",
              "      <th>HAS_AUDIO</th>\n",
              "      <th>VIDEO_URL</th>\n",
              "      <th>VIDEO_VIEW_COUNT</th>\n",
              "      <th>YEAR</th>\n",
              "      <th>MONTH</th>\n",
              "      <th>DAY</th>\n",
              "      <th>DAYOFWEEK</th>\n",
              "      <th>HOUR</th>\n",
              "    </tr>\n",
              "    <tr>\n",
              "      <th>1</th>\n",
              "      <th></th>\n",
              "      <th></th>\n",
              "      <th></th>\n",
              "      <th></th>\n",
              "      <th></th>\n",
              "      <th></th>\n",
              "      <th></th>\n",
              "      <th></th>\n",
              "      <th></th>\n",
              "      <th></th>\n",
              "      <th></th>\n",
              "      <th></th>\n",
              "      <th></th>\n",
              "      <th></th>\n",
              "      <th></th>\n",
              "      <th></th>\n",
              "      <th></th>\n",
              "      <th></th>\n",
              "      <th></th>\n",
              "      <th></th>\n",
              "      <th></th>\n",
              "      <th></th>\n",
              "      <th></th>\n",
              "      <th></th>\n",
              "      <th></th>\n",
              "      <th></th>\n",
              "      <th></th>\n",
              "      <th></th>\n",
              "      <th></th>\n",
              "      <th></th>\n",
              "      <th></th>\n",
              "    </tr>\n",
              "  </thead>\n",
              "  <tbody>\n",
              "    <tr>\n",
              "      <th>1918</th>\n",
              "      <td>36193140327</td>\n",
              "      <td>elastici_e_passamaneria</td>\n",
              "      <td>Elastici e Passamaneria</td>\n",
              "      <td>1052</td>\n",
              "      <td>2530600951335029174</td>\n",
              "      <td>CMegChUlwm2</td>\n",
              "      <td>23</td>\n",
              "      <td>0</td>\n",
              "      <td>2.19</td>\n",
              "      <td>https://www.instagram.com/p/CMegChUlwm2</td>\n",
              "      <td>Photo by Elastici e Passamaneria on March 16, ...</td>\n",
              "      <td>FFP2 MADE IN ITALY????????#ffp2mask#italiansty...</td>\n",
              "      <td>NaN</td>\n",
              "      <td>NaN</td>\n",
              "      <td>NaN</td>\n",
              "      <td>1615891163</td>\n",
              "      <td>Clothing, Apparel, Text, Money, Collage, Adver...</td>\n",
              "      <td>education</td>\n",
              "      <td>movies</td>\n",
              "      <td>business</td>\n",
              "      <td>https://instagram.fdok2-1.fna.fbcdn.net/v/t51....</td>\n",
              "      <td>no</td>\n",
              "      <td>no</td>\n",
              "      <td>no</td>\n",
              "      <td>NaN</td>\n",
              "      <td>NaN</td>\n",
              "      <td>1970</td>\n",
              "      <td>1</td>\n",
              "      <td>1</td>\n",
              "      <td>3</td>\n",
              "      <td>0</td>\n",
              "    </tr>\n",
              "    <tr>\n",
              "      <th>1919</th>\n",
              "      <td>8210198494</td>\n",
              "      <td>pamela.latorre.73</td>\n",
              "      <td>Pamela La Torre</td>\n",
              "      <td>309</td>\n",
              "      <td>2595285287724490476</td>\n",
              "      <td>CQETjgBnZ7s</td>\n",
              "      <td>55</td>\n",
              "      <td>23</td>\n",
              "      <td>25.24</td>\n",
              "      <td>https://www.instagram.com/p/CQETjgBnZ7s</td>\n",
              "      <td>Photo by Pamela La Torre on June 13, 2021. May...</td>\n",
              "      <td>Prima comunione Giorgio</td>\n",
              "      <td>Santissimo Crocifisso</td>\n",
              "      <td>Taranto, Italy</td>\n",
              "      <td>NaN</td>\n",
              "      <td>1623602137</td>\n",
              "      <td>Person, Human, Photographer, Photography, Phot...</td>\n",
              "      <td>news</td>\n",
              "      <td>arts_entertainment</td>\n",
              "      <td>style_fashion</td>\n",
              "      <td>https://instagram.fhel3-1.fna.fbcdn.net/v/t51....</td>\n",
              "      <td>no</td>\n",
              "      <td>no</td>\n",
              "      <td>no</td>\n",
              "      <td>NaN</td>\n",
              "      <td>NaN</td>\n",
              "      <td>1970</td>\n",
              "      <td>1</td>\n",
              "      <td>1</td>\n",
              "      <td>3</td>\n",
              "      <td>0</td>\n",
              "    </tr>\n",
              "    <tr>\n",
              "      <th>1920</th>\n",
              "      <td>36838177086</td>\n",
              "      <td>ilaria._004</td>\n",
              "      <td>????????????????</td>\n",
              "      <td>649</td>\n",
              "      <td>2356209223949454778</td>\n",
              "      <td>CCy784yAY26</td>\n",
              "      <td>138</td>\n",
              "      <td>2</td>\n",
              "      <td>21.57</td>\n",
              "      <td>https://www.instagram.com/p/CCy784yAY26</td>\n",
              "      <td>Photo by ???????????????? on July 18, 2020. Ma...</td>\n",
              "      <td>mirame????</td>\n",
              "      <td>NaN</td>\n",
              "      <td>NaN</td>\n",
              "      <td>NaN</td>\n",
              "      <td>1595102049</td>\n",
              "      <td>Clothing, Apparel, Person, Human, Female, Swim...</td>\n",
              "      <td>education</td>\n",
              "      <td>arts_entertainment</td>\n",
              "      <td>style_fashion</td>\n",
              "      <td>https://instagram.fgua5-1.fna.fbcdn.net/v/t51....</td>\n",
              "      <td>no</td>\n",
              "      <td>no</td>\n",
              "      <td>no</td>\n",
              "      <td>NaN</td>\n",
              "      <td>NaN</td>\n",
              "      <td>1970</td>\n",
              "      <td>1</td>\n",
              "      <td>1</td>\n",
              "      <td>3</td>\n",
              "      <td>0</td>\n",
              "    </tr>\n",
              "    <tr>\n",
              "      <th>1921</th>\n",
              "      <td>33286901341</td>\n",
              "      <td>wellbishstore</td>\n",
              "      <td>Wellbish Store</td>\n",
              "      <td>188</td>\n",
              "      <td>2462740031272344745</td>\n",
              "      <td>CItaQKiH1yp</td>\n",
              "      <td>6</td>\n",
              "      <td>0</td>\n",
              "      <td>3.19</td>\n",
              "      <td>https://www.instagram.com/p/CItaQKiH1yp</td>\n",
              "      <td>Photo by Wellbish Store on December 12, 2020. ...</td>\n",
              "      <td>How sweet is your Heart? ❤️????\\n.\\n.\\n???? Fo...</td>\n",
              "      <td>NaN</td>\n",
              "      <td>NaN</td>\n",
              "      <td>NaN</td>\n",
              "      <td>1607801511</td>\n",
              "      <td>Pendant, Accessories, Accessory, Goggles</td>\n",
              "      <td>style_fashion</td>\n",
              "      <td>arts_entertainment</td>\n",
              "      <td>style_fashion</td>\n",
              "      <td>https://instagram.fhyd2-1.fna.fbcdn.net/v/t51....</td>\n",
              "      <td>no</td>\n",
              "      <td>no</td>\n",
              "      <td>no</td>\n",
              "      <td>NaN</td>\n",
              "      <td>NaN</td>\n",
              "      <td>1970</td>\n",
              "      <td>1</td>\n",
              "      <td>1</td>\n",
              "      <td>3</td>\n",
              "      <td>0</td>\n",
              "    </tr>\n",
              "    <tr>\n",
              "      <th>1922</th>\n",
              "      <td>5633363536</td>\n",
              "      <td>amineblc</td>\n",
              "      <td>Mohamed Amine</td>\n",
              "      <td>1103</td>\n",
              "      <td>2127311663854320191</td>\n",
              "      <td>B2Fuq_ylPo_</td>\n",
              "      <td>46</td>\n",
              "      <td>4</td>\n",
              "      <td>4.53</td>\n",
              "      <td>https://www.instagram.com/p/B2Fuq_ylPo_</td>\n",
              "      <td>Photo by Mohamed Amine in Mawazine.</td>\n",
              "      <td>NaN</td>\n",
              "      <td>Mawazine</td>\n",
              "      <td>Ksar Hellal, Tunisia</td>\n",
              "      <td>Tunisia</td>\n",
              "      <td>1567815333</td>\n",
              "      <td>Clothing, Apparel, Person, Human, Sunglasses, ...</td>\n",
              "      <td>NaN</td>\n",
              "      <td>news</td>\n",
              "      <td>style_fashion</td>\n",
              "      <td>https://instagram.fjdf6-1.fna.fbcdn.net/v/t51....</td>\n",
              "      <td>no</td>\n",
              "      <td>no</td>\n",
              "      <td>no</td>\n",
              "      <td>NaN</td>\n",
              "      <td>NaN</td>\n",
              "      <td>1970</td>\n",
              "      <td>1</td>\n",
              "      <td>1</td>\n",
              "      <td>3</td>\n",
              "      <td>0</td>\n",
              "    </tr>\n",
              "    <tr>\n",
              "      <th>...</th>\n",
              "      <td>...</td>\n",
              "      <td>...</td>\n",
              "      <td>...</td>\n",
              "      <td>...</td>\n",
              "      <td>...</td>\n",
              "      <td>...</td>\n",
              "      <td>...</td>\n",
              "      <td>...</td>\n",
              "      <td>...</td>\n",
              "      <td>...</td>\n",
              "      <td>...</td>\n",
              "      <td>...</td>\n",
              "      <td>...</td>\n",
              "      <td>...</td>\n",
              "      <td>...</td>\n",
              "      <td>...</td>\n",
              "      <td>...</td>\n",
              "      <td>...</td>\n",
              "      <td>...</td>\n",
              "      <td>...</td>\n",
              "      <td>...</td>\n",
              "      <td>...</td>\n",
              "      <td>...</td>\n",
              "      <td>...</td>\n",
              "      <td>...</td>\n",
              "      <td>...</td>\n",
              "      <td>...</td>\n",
              "      <td>...</td>\n",
              "      <td>...</td>\n",
              "      <td>...</td>\n",
              "      <td>...</td>\n",
              "    </tr>\n",
              "    <tr>\n",
              "      <th>6705</th>\n",
              "      <td>21497287</td>\n",
              "      <td>clinton_buckley</td>\n",
              "      <td>Clinton Buckley</td>\n",
              "      <td>442</td>\n",
              "      <td>2492770169244451884</td>\n",
              "      <td>CKYGUL8gYQs</td>\n",
              "      <td>27</td>\n",
              "      <td>4</td>\n",
              "      <td>7.01</td>\n",
              "      <td>https://www.instagram.com/p/CKYGUL8gYQs</td>\n",
              "      <td>Photo by Clinton Buckley in PIXAR Putt. May be...</td>\n",
              "      <td>#pixarputt with the kid today, thanks to @rebe...</td>\n",
              "      <td>PIXAR Putt</td>\n",
              "      <td>Brisbane, Queensland, Australia</td>\n",
              "      <td>NaN</td>\n",
              "      <td>1611381382</td>\n",
              "      <td>Hat, Clothing, Apparel, Person, Human, Sunglas...</td>\n",
              "      <td>hobbies_interests</td>\n",
              "      <td>music</td>\n",
              "      <td>style_fashion</td>\n",
              "      <td>https://instagram.fcgk9-2.fna.fbcdn.net/v/t51....</td>\n",
              "      <td>no</td>\n",
              "      <td>no</td>\n",
              "      <td>no</td>\n",
              "      <td>NaN</td>\n",
              "      <td>NaN</td>\n",
              "      <td>1970</td>\n",
              "      <td>1</td>\n",
              "      <td>1</td>\n",
              "      <td>3</td>\n",
              "      <td>0</td>\n",
              "    </tr>\n",
              "    <tr>\n",
              "      <th>6706</th>\n",
              "      <td>2058525803</td>\n",
              "      <td>elvisonradio</td>\n",
              "      <td>Elvis The Main Ace</td>\n",
              "      <td>3576</td>\n",
              "      <td>2581199666677175865</td>\n",
              "      <td>CPSQ2vKplY5</td>\n",
              "      <td>148</td>\n",
              "      <td>29</td>\n",
              "      <td>4.95</td>\n",
              "      <td>https://www.instagram.com/p/CPSQ2vKplY5</td>\n",
              "      <td>Photo by Elvis The Main Ace on May 24, 2021. M...</td>\n",
              "      <td>Happy birthday son , keep shining and may your...</td>\n",
              "      <td>NaN</td>\n",
              "      <td>NaN</td>\n",
              "      <td>NaN</td>\n",
              "      <td>1621923000</td>\n",
              "      <td>Clothing, Apparel, Boy, Person, Human, T-Shirt...</td>\n",
              "      <td>parenting</td>\n",
              "      <td>movies</td>\n",
              "      <td>style_fashion</td>\n",
              "      <td>https://scontent-iev1-1.cdninstagram.com/v/t51...</td>\n",
              "      <td>no</td>\n",
              "      <td>no</td>\n",
              "      <td>no</td>\n",
              "      <td>NaN</td>\n",
              "      <td>NaN</td>\n",
              "      <td>1970</td>\n",
              "      <td>1</td>\n",
              "      <td>1</td>\n",
              "      <td>3</td>\n",
              "      <td>0</td>\n",
              "    </tr>\n",
              "    <tr>\n",
              "      <th>6707</th>\n",
              "      <td>2058525803</td>\n",
              "      <td>elvisonradio</td>\n",
              "      <td>Elvis The Main Ace</td>\n",
              "      <td>3576</td>\n",
              "      <td>2564666284317341928</td>\n",
              "      <td>COXhmW8J_jo</td>\n",
              "      <td>176</td>\n",
              "      <td>33</td>\n",
              "      <td>5.84</td>\n",
              "      <td>https://www.instagram.com/p/COXhmW8J_jo</td>\n",
              "      <td>Photo by Elvis The Main Ace on May 02, 2021. M...</td>\n",
              "      <td>It shall be very clear</td>\n",
              "      <td>NaN</td>\n",
              "      <td>NaN</td>\n",
              "      <td>NaN</td>\n",
              "      <td>1619952067</td>\n",
              "      <td>Cushion, Face, Person, Human, Glasses, Accesso...</td>\n",
              "      <td>desserts_baking</td>\n",
              "      <td>movies</td>\n",
              "      <td>style_fashion</td>\n",
              "      <td>https://scontent-iev1-1.cdninstagram.com/v/t51...</td>\n",
              "      <td>no</td>\n",
              "      <td>no</td>\n",
              "      <td>no</td>\n",
              "      <td>NaN</td>\n",
              "      <td>NaN</td>\n",
              "      <td>1970</td>\n",
              "      <td>1</td>\n",
              "      <td>1</td>\n",
              "      <td>3</td>\n",
              "      <td>0</td>\n",
              "    </tr>\n",
              "    <tr>\n",
              "      <th>6708</th>\n",
              "      <td>21497287</td>\n",
              "      <td>clinton_buckley</td>\n",
              "      <td>Clinton Buckley</td>\n",
              "      <td>442</td>\n",
              "      <td>2425532988180713381</td>\n",
              "      <td>CGpOWbXgM-l</td>\n",
              "      <td>21</td>\n",
              "      <td>2</td>\n",
              "      <td>5.20</td>\n",
              "      <td>https://www.instagram.com/p/CGpOWbXgM-l</td>\n",
              "      <td>Photo by Clinton Buckley on October 22, 2020. ...</td>\n",
              "      <td>I bloody love this kid❤❤. Taking \\neach day as...</td>\n",
              "      <td>NaN</td>\n",
              "      <td>NaN</td>\n",
              "      <td>NaN</td>\n",
              "      <td>1603366086</td>\n",
              "      <td>Labrador Retriever, Canine, Dog, Pet, Animal, ...</td>\n",
              "      <td>pets</td>\n",
              "      <td>books_literature</td>\n",
              "      <td>pets</td>\n",
              "      <td>https://instagram.fcgk8-1.fna.fbcdn.net/v/t51....</td>\n",
              "      <td>no</td>\n",
              "      <td>no</td>\n",
              "      <td>no</td>\n",
              "      <td>NaN</td>\n",
              "      <td>NaN</td>\n",
              "      <td>1970</td>\n",
              "      <td>1</td>\n",
              "      <td>1</td>\n",
              "      <td>3</td>\n",
              "      <td>0</td>\n",
              "    </tr>\n",
              "    <tr>\n",
              "      <th>6709</th>\n",
              "      <td>2058525803</td>\n",
              "      <td>elvisonradio</td>\n",
              "      <td>Elvis The Main Ace</td>\n",
              "      <td>3576</td>\n",
              "      <td>2530682024841689401</td>\n",
              "      <td>CMeyeS6J7k5</td>\n",
              "      <td>159</td>\n",
              "      <td>23</td>\n",
              "      <td>5.09</td>\n",
              "      <td>https://www.instagram.com/p/CMeyeS6J7k5</td>\n",
              "      <td>Photo by Elvis The Main Ace on March 16, 2021....</td>\n",
              "      <td>Until Musa leave gate , nothing him no go see....</td>\n",
              "      <td>NaN</td>\n",
              "      <td>NaN</td>\n",
              "      <td>NaN</td>\n",
              "      <td>1615900827</td>\n",
              "      <td>Sitting, Person, Human, Clothing, Apparel, Pan...</td>\n",
              "      <td>parenting</td>\n",
              "      <td>movies</td>\n",
              "      <td>style_fashion</td>\n",
              "      <td>https://scontent-iev1-1.cdninstagram.com/v/t51...</td>\n",
              "      <td>no</td>\n",
              "      <td>no</td>\n",
              "      <td>no</td>\n",
              "      <td>NaN</td>\n",
              "      <td>NaN</td>\n",
              "      <td>1970</td>\n",
              "      <td>1</td>\n",
              "      <td>1</td>\n",
              "      <td>3</td>\n",
              "      <td>0</td>\n",
              "    </tr>\n",
              "  </tbody>\n",
              "</table>\n",
              "<p>4792 rows × 31 columns</p>\n",
              "</div>"
            ],
            "text/plain": [
              "           USERID                 USERNAME  ... DAYOFWEEK  HOUR\n",
              "1                                           ...                \n",
              "1918  36193140327  elastici_e_passamaneria  ...         3     0\n",
              "1919   8210198494        pamela.latorre.73  ...         3     0\n",
              "1920  36838177086              ilaria._004  ...         3     0\n",
              "1921  33286901341            wellbishstore  ...         3     0\n",
              "1922   5633363536                 amineblc  ...         3     0\n",
              "...           ...                      ...  ...       ...   ...\n",
              "6705     21497287          clinton_buckley  ...         3     0\n",
              "6706   2058525803             elvisonradio  ...         3     0\n",
              "6707   2058525803             elvisonradio  ...         3     0\n",
              "6708     21497287          clinton_buckley  ...         3     0\n",
              "6709   2058525803             elvisonradio  ...         3     0\n",
              "\n",
              "[4792 rows x 31 columns]"
            ]
          },
          "metadata": {},
          "execution_count": 121
        }
      ]
    },
    {
      "cell_type": "code",
      "metadata": {
        "colab": {
          "base_uri": "https://localhost:8080/"
        },
        "id": "2Xk5qhATLp05",
        "outputId": "9e0dafe4-e73a-4553-a490-c23cd55f8116"
      },
      "source": [
        "df.IMAGE_URL.head()\n",
        "# SHORTCODE\n",
        "# URL\n",
        "# IMAGE_URL"
      ],
      "execution_count": 122,
      "outputs": [
        {
          "output_type": "execute_result",
          "data": {
            "text/plain": [
              "1\n",
              "1918    https://instagram.fdok2-1.fna.fbcdn.net/v/t51....\n",
              "1919    https://instagram.fhel3-1.fna.fbcdn.net/v/t51....\n",
              "1920    https://instagram.fgua5-1.fna.fbcdn.net/v/t51....\n",
              "1921    https://instagram.fhyd2-1.fna.fbcdn.net/v/t51....\n",
              "1922    https://instagram.fjdf6-1.fna.fbcdn.net/v/t51....\n",
              "Name: IMAGE_URL, dtype: object"
            ]
          },
          "metadata": {},
          "execution_count": 122
        }
      ]
    },
    {
      "cell_type": "code",
      "metadata": {
        "id": "xztvFTsnPo5-"
      },
      "source": [
        "df.drop('POST_ID',inplace=True,axis=1)"
      ],
      "execution_count": 123,
      "outputs": []
    },
    {
      "cell_type": "code",
      "metadata": {
        "id": "i3R7TbtEP_Cq"
      },
      "source": [
        "df.drop('SHORTCODE',inplace=True,axis=1)"
      ],
      "execution_count": 124,
      "outputs": []
    },
    {
      "cell_type": "code",
      "metadata": {
        "id": "HgmSe0pPP_jp"
      },
      "source": [
        "# df.drop('URL',inplace=True,axis=1)"
      ],
      "execution_count": 125,
      "outputs": []
    },
    {
      "cell_type": "code",
      "metadata": {
        "id": "c3S6qTYdQAAT"
      },
      "source": [
        "df.drop('IMAGE_URL',inplace=True,axis=1)"
      ],
      "execution_count": 126,
      "outputs": []
    },
    {
      "cell_type": "markdown",
      "metadata": {
        "id": "egjqB8d9BlQS"
      },
      "source": [
        "Convert columns type to characters :"
      ]
    },
    {
      "cell_type": "code",
      "metadata": {
        "colab": {
          "base_uri": "https://localhost:8080/"
        },
        "id": "VIzv3R77Bjqn",
        "outputId": "1a5a9a14-adf9-4aa0-eb7e-a5a0298cd772"
      },
      "source": [
        "df['COMMENT_DISABLED'].value_counts()"
      ],
      "execution_count": 127,
      "outputs": [
        {
          "output_type": "execute_result",
          "data": {
            "text/plain": [
              "no     4785\n",
              "yes       7\n",
              "Name: COMMENT_DISABLED, dtype: int64"
            ]
          },
          "metadata": {},
          "execution_count": 127
        }
      ]
    },
    {
      "cell_type": "code",
      "metadata": {
        "id": "5Py0fclpFn1r"
      },
      "source": [
        "df['COMMENT_DISABLED'] = df['COMMENT_DISABLED'].map(dict(yes=1, no=0))"
      ],
      "execution_count": 128,
      "outputs": []
    },
    {
      "cell_type": "code",
      "metadata": {
        "id": "VTX8T6IIGf0h"
      },
      "source": [
        "df['IS_VIDEO'] = df['IS_VIDEO'].map(dict(yes=1, no=0))"
      ],
      "execution_count": 129,
      "outputs": []
    },
    {
      "cell_type": "code",
      "metadata": {
        "id": "TkhoNyMcG_jZ"
      },
      "source": [
        "df['HAS_AUDIO'] = df['HAS_AUDIO'].map(dict(yes=1, no=0))"
      ],
      "execution_count": 130,
      "outputs": []
    },
    {
      "cell_type": "code",
      "metadata": {
        "colab": {
          "base_uri": "https://localhost:8080/"
        },
        "id": "3cVRk_oSGpqR",
        "outputId": "6b314ee7-37d6-41f3-9437-678313fc461d"
      },
      "source": [
        "df[['COMMENT_DISABLED','IS_VIDEO','HAS_AUDIO']].value_counts()"
      ],
      "execution_count": 131,
      "outputs": [
        {
          "output_type": "execute_result",
          "data": {
            "text/plain": [
              "COMMENT_DISABLED  IS_VIDEO  HAS_AUDIO\n",
              "0                 0         0            3981\n",
              "                  1         1             722\n",
              "                            0              82\n",
              "1                 1         1               4\n",
              "                  0         0               3\n",
              "dtype: int64"
            ]
          },
          "metadata": {},
          "execution_count": 131
        }
      ]
    },
    {
      "cell_type": "code",
      "metadata": {
        "colab": {
          "base_uri": "https://localhost:8080/"
        },
        "id": "zHYCMkwrIvJE",
        "outputId": "bc469ce8-11a0-4a11-da1a-e096ab1123c8"
      },
      "source": [
        "pd.unique(df[['COMMENT_DISABLED','IS_VIDEO','HAS_AUDIO']].values.ravel('K'))"
      ],
      "execution_count": 132,
      "outputs": [
        {
          "output_type": "execute_result",
          "data": {
            "text/plain": [
              "array([0, 1])"
            ]
          },
          "metadata": {},
          "execution_count": 132
        }
      ]
    },
    {
      "cell_type": "markdown",
      "metadata": {
        "id": "ftNhR1FiMDhe"
      },
      "source": [
        "Conert unix time to separate Date and Time columns"
      ]
    },
    {
      "cell_type": "markdown",
      "metadata": {
        "id": "_T7gSotnk82F"
      },
      "source": [
        "## Data Cleaning"
      ]
    },
    {
      "cell_type": "markdown",
      "metadata": {
        "id": "88Rioz1FmEch"
      },
      "source": [
        "## Replacing Charecters  with Number"
      ]
    },
    {
      "cell_type": "markdown",
      "metadata": {
        "id": "WOQ4oH8sk_u9"
      },
      "source": [
        "## Feature Engneering"
      ]
    },
    {
      "cell_type": "markdown",
      "metadata": {
        "id": "txQpSmQulN2f"
      },
      "source": [
        "# Split the Data"
      ]
    },
    {
      "cell_type": "markdown",
      "metadata": {
        "id": "IEfHCIsglq68"
      },
      "source": [
        "# Mechine Learning  Model"
      ]
    },
    {
      "cell_type": "markdown",
      "metadata": {
        "id": "4Jr-ID4tld2X"
      },
      "source": [
        "## Appling First1 Model "
      ]
    },
    {
      "cell_type": "markdown",
      "metadata": {
        "id": "QtMtVA3Alo6P"
      },
      "source": [
        "## Validating the Model "
      ]
    },
    {
      "cell_type": "markdown",
      "metadata": {
        "id": "lQNwJ7JHlz9s"
      },
      "source": [
        "## Scoring "
      ]
    }
  ]
}