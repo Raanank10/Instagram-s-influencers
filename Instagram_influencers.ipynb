{
  "nbformat": 4,
  "nbformat_minor": 0,
  "metadata": {
    "colab": {
      "name": "Instagram_influencers.ipynb",
      "provenance": [],
      "collapsed_sections": [],
      "toc_visible": true,
      "authorship_tag": "ABX9TyPJDdUd58Nnzr+qDNFPceYW",
      "include_colab_link": true
    },
    "kernelspec": {
      "name": "python3",
      "display_name": "Python 3"
    },
    "language_info": {
      "name": "python"
    }
  },
  "cells": [
    {
      "cell_type": "markdown",
      "metadata": {
        "id": "view-in-github",
        "colab_type": "text"
      },
      "source": [
        "<a href=\"https://colab.research.google.com/github/Raanank10/Instagram-s-influencers/blob/Eladk_20210917/Instagram_influencers.ipynb\" target=\"_parent\"><img src=\"https://colab.research.google.com/assets/colab-badge.svg\" alt=\"Open In Colab\"/></a>"
      ]
    },
    {
      "cell_type": "markdown",
      "metadata": {
        "id": "wC1M-xaCmpct"
      },
      "source": [
        "**Instagram_influencers**"
      ]
    },
    {
      "cell_type": "markdown",
      "metadata": {
        "id": "CYHKFYQIsYs3"
      },
      "source": [
        "# Global Parameters"
      ]
    },
    {
      "cell_type": "code",
      "metadata": {
        "id": "1qeiaDu9mi-Y"
      },
      "source": [
        "path = 'https://github.com/Raanank10/Instagram-s-influencers/blob/main/'\n",
        "fname = 'ai_posts_analysis_data.xlsx'\n",
        "# fname = 'https://github.com/Raanank10/Instagram-s-influencers/blob/ai_posts_analysis_data.xlsx'\n",
        "# fname = 'https://github.com/Raanank10/Instagram-s-influencers/blob/main/ai_posts_analysis_data.xlsx'\n",
        "\n",
        "\n",
        "train_size = 0.75\n",
        "rand_state = 990"
      ],
      "execution_count": 69,
      "outputs": []
    },
    {
      "cell_type": "markdown",
      "metadata": {
        "id": "aI1qxfM0j0KY"
      },
      "source": [
        "# Get the Data"
      ]
    },
    {
      "cell_type": "code",
      "metadata": {
        "id": "b2moKRJvjzUv"
      },
      "source": [
        "# General Tools\n",
        "import numpy as np\n",
        "import scipy as sp\n",
        "import pandas as pd\n",
        "import missingno as msno\n",
        "\n",
        "# SK Learn\n",
        "from sklearn.impute import SimpleImputer\n",
        "from sklearn.tree import DecisionTreeClassifier\n",
        "from sklearn.neighbors import KNeighborsClassifier\n",
        "from sklearn.linear_model import LogisticRegression\n",
        "from sklearn import preprocessing\n",
        "from sklearn.ensemble import RandomForestClassifier\n",
        "from sklearn.metrics import confusion_matrix, accuracy_score\n",
        "from sklearn.metrics import precision_score, recall_score, f1_score\n",
        "from sklearn.metrics import accuracy_score , confusion_matrix, roc_auc_score, roc_curve\n",
        "from sklearn.metrics import log_loss\n",
        "from sklearn.metrics import classification_report # elad 20210708\n",
        "from sklearn.model_selection import train_test_split, GridSearchCV\n",
        "from sklearn.feature_selection import SelectKBest, chi2, f_classif, mutual_info_classif\n",
        "from sklearn.model_selection import cross_val_score\n",
        "from sklearn.model_selection import StratifiedShuffleSplit\n",
        "\n",
        "from sklearn.preprocessing import OrdinalEncoder # elad 20210911\n",
        "\n",
        "# Trees Visualization\n",
        "import pydot\n",
        "from sklearn.tree import export_graphviz\n",
        "from sklearn.externals.six import StringIO\n",
        "\n",
        "# Misc\n",
        "import warnings\n",
        "from sys import modules\n",
        "from time import time\n",
        "from platform import python_version\n",
        "\n",
        "# Visualization\n",
        "import matplotlib.pyplot as plt\n",
        "import plotly.express as px\n",
        "import seaborn as sns\n",
        "\n",
        "# IPython\n",
        "from IPython.display import Image, display\n",
        "\n",
        "# Confuguration\n",
        "warnings.filterwarnings('ignore')\n",
        "%matplotlib inline"
      ],
      "execution_count": 70,
      "outputs": []
    },
    {
      "cell_type": "code",
      "metadata": {
        "colab": {
          "base_uri": "https://localhost:8080/",
          "height": 1000
        },
        "id": "eNBD7EhXrkpI",
        "outputId": "28432a31-b9c6-4331-c647-2399df9645f1"
      },
      "source": [
        "df = pd.read_excel(fname, index_col=0)  \n",
        "df.head()"
      ],
      "execution_count": 71,
      "outputs": [
        {
          "output_type": "execute_result",
          "data": {
            "text/html": [
              "<div>\n",
              "<style scoped>\n",
              "    .dataframe tbody tr th:only-of-type {\n",
              "        vertical-align: middle;\n",
              "    }\n",
              "\n",
              "    .dataframe tbody tr th {\n",
              "        vertical-align: top;\n",
              "    }\n",
              "\n",
              "    .dataframe thead th {\n",
              "        text-align: right;\n",
              "    }\n",
              "</style>\n",
              "<table border=\"1\" class=\"dataframe\">\n",
              "  <thead>\n",
              "    <tr style=\"text-align: right;\">\n",
              "      <th></th>\n",
              "      <th>USERID</th>\n",
              "      <th>USERNAME</th>\n",
              "      <th>FULLNAME</th>\n",
              "      <th>FOLLOWER</th>\n",
              "      <th>POST ID</th>\n",
              "      <th>SHORTCODE</th>\n",
              "      <th>LIKES</th>\n",
              "      <th>COMMENTS</th>\n",
              "      <th>ENGAGEMENT</th>\n",
              "      <th>URL</th>\n",
              "      <th>ACCESSIBILITY CAPTION</th>\n",
              "      <th>CAPTION</th>\n",
              "      <th>LOCATION</th>\n",
              "      <th>CITY</th>\n",
              "      <th>COUNTRY</th>\n",
              "      <th>TIME</th>\n",
              "      <th>IMAGE LABELS</th>\n",
              "      <th>CAPTION INTEREST</th>\n",
              "      <th>ACCESSIBILITY CAPTION INTEREST</th>\n",
              "      <th>IMAGE LABEL INTEREST</th>\n",
              "      <th>IMAGE URL</th>\n",
              "      <th>COMMENT DISABLED</th>\n",
              "      <th>IS VIDEO</th>\n",
              "      <th>HAS AUDIO</th>\n",
              "      <th>VIDEO URL</th>\n",
              "      <th>VIDEO VIEW COUNT</th>\n",
              "    </tr>\n",
              "    <tr>\n",
              "      <th>1</th>\n",
              "      <th></th>\n",
              "      <th></th>\n",
              "      <th></th>\n",
              "      <th></th>\n",
              "      <th></th>\n",
              "      <th></th>\n",
              "      <th></th>\n",
              "      <th></th>\n",
              "      <th></th>\n",
              "      <th></th>\n",
              "      <th></th>\n",
              "      <th></th>\n",
              "      <th></th>\n",
              "      <th></th>\n",
              "      <th></th>\n",
              "      <th></th>\n",
              "      <th></th>\n",
              "      <th></th>\n",
              "      <th></th>\n",
              "      <th></th>\n",
              "      <th></th>\n",
              "      <th></th>\n",
              "      <th></th>\n",
              "      <th></th>\n",
              "      <th></th>\n",
              "      <th></th>\n",
              "    </tr>\n",
              "  </thead>\n",
              "  <tbody>\n",
              "    <tr>\n",
              "      <th>1918</th>\n",
              "      <td>36193140327</td>\n",
              "      <td>elastici_e_passamaneria</td>\n",
              "      <td>Elastici e Passamaneria</td>\n",
              "      <td>1052</td>\n",
              "      <td>2530600951335029174</td>\n",
              "      <td>CMegChUlwm2</td>\n",
              "      <td>23</td>\n",
              "      <td>0</td>\n",
              "      <td>2.19</td>\n",
              "      <td>https://www.instagram.com/p/CMegChUlwm2</td>\n",
              "      <td>Photo by Elastici e Passamaneria on March 16, 2021.</td>\n",
              "      <td>FFP2 MADE IN ITALY????????#ffp2mask#italianstyle#madeinitaly????????#produzionepropria#produttori#farmacie#farmacieitaliane#parafarmacia#mascherinelavabili#mask#ffp2</td>\n",
              "      <td>NaN</td>\n",
              "      <td>NaN</td>\n",
              "      <td>NaN</td>\n",
              "      <td>1615891163</td>\n",
              "      <td>Clothing, Apparel, Text, Money, Collage, Advertisement, Poster</td>\n",
              "      <td>education</td>\n",
              "      <td>movies</td>\n",
              "      <td>business</td>\n",
              "      <td>https://instagram.fdok2-1.fna.fbcdn.net/v/t51.2885-15/sh0.08/e35/c0.180.1440.1440a/s640x640/160374486_2823675294516254_158720847037227315_n.jpg?tp=1&amp;_nc_ht=instagram.fdok2-1.fna.fbcdn.net&amp;_nc_cat=102&amp;_nc_ohc=fXOFeWEt3dcAX9moTcA&amp;edm=ABfd0MgBAAAA&amp;ccb=7-4&amp;oh=cc36e9f840bc93314fcc9e76c9e4b8c6&amp;oe=60DA4B27&amp;_nc_sid=7bff83</td>\n",
              "      <td>no</td>\n",
              "      <td>no</td>\n",
              "      <td>no</td>\n",
              "      <td>NaN</td>\n",
              "      <td>NaN</td>\n",
              "    </tr>\n",
              "    <tr>\n",
              "      <th>1919</th>\n",
              "      <td>8210198494</td>\n",
              "      <td>pamela.latorre.73</td>\n",
              "      <td>Pamela La Torre</td>\n",
              "      <td>309</td>\n",
              "      <td>2595285287724490476</td>\n",
              "      <td>CQETjgBnZ7s</td>\n",
              "      <td>55</td>\n",
              "      <td>23</td>\n",
              "      <td>25.24</td>\n",
              "      <td>https://www.instagram.com/p/CQETjgBnZ7s</td>\n",
              "      <td>Photo by Pamela La Torre on June 13, 2021. May be an image of one or more people, people standing and indoor.</td>\n",
              "      <td>Prima comunione Giorgio</td>\n",
              "      <td>Santissimo Crocifisso</td>\n",
              "      <td>Taranto, Italy</td>\n",
              "      <td>NaN</td>\n",
              "      <td>1623602137</td>\n",
              "      <td>Person, Human, Photographer, Photography, Photo, Furniture, Shoe, Clothing, Footwear, Apparel, Interior Design, Indoors</td>\n",
              "      <td>news</td>\n",
              "      <td>arts_entertainment</td>\n",
              "      <td>style_fashion</td>\n",
              "      <td>https://instagram.fhel3-1.fna.fbcdn.net/v/t51.2885-15/sh0.08/e35/s640x640/131454075_203114518334788_1962979990399529842_n.jpg?tp=1&amp;_nc_ht=instagram.fhel3-1.fna.fbcdn.net&amp;_nc_cat=104&amp;_nc_ohc=XmsE8bbC2cIAX-0rYFU&amp;edm=ABfd0MgBAAAA&amp;ccb=7-4&amp;oh=4ca96de8a58eafc0ac1e2eea47d28236&amp;oe=60D9DF1A&amp;_nc_sid=7bff83</td>\n",
              "      <td>no</td>\n",
              "      <td>no</td>\n",
              "      <td>no</td>\n",
              "      <td>NaN</td>\n",
              "      <td>NaN</td>\n",
              "    </tr>\n",
              "    <tr>\n",
              "      <th>1920</th>\n",
              "      <td>36838177086</td>\n",
              "      <td>ilaria._004</td>\n",
              "      <td>????????????????</td>\n",
              "      <td>649</td>\n",
              "      <td>2356209223949454778</td>\n",
              "      <td>CCy784yAY26</td>\n",
              "      <td>138</td>\n",
              "      <td>2</td>\n",
              "      <td>21.57</td>\n",
              "      <td>https://www.instagram.com/p/CCy784yAY26</td>\n",
              "      <td>Photo by ???????????????? on July 18, 2020. May be an image of 1 person.</td>\n",
              "      <td>mirame????</td>\n",
              "      <td>NaN</td>\n",
              "      <td>NaN</td>\n",
              "      <td>NaN</td>\n",
              "      <td>1595102049</td>\n",
              "      <td>Clothing, Apparel, Person, Human, Female, Swimwear, Footwear, Woman, Bikini, Shoe, Skin, Pants, Flooring, Girl</td>\n",
              "      <td>education</td>\n",
              "      <td>arts_entertainment</td>\n",
              "      <td>style_fashion</td>\n",
              "      <td>https://instagram.fgua5-1.fna.fbcdn.net/v/t51.2885-15/sh0.08/e35/c0.86.1080.1080a/s640x640/111218478_173463267523124_4585802501296990831_n.jpg?tp=1&amp;_nc_ht=instagram.fgua5-1.fna.fbcdn.net&amp;_nc_cat=108&amp;_nc_ohc=3eLtxoYSgkUAX-UqCUh&amp;edm=ABfd0MgBAAAA&amp;ccb=7-4&amp;oh=8ca65c0f03f5315391059b88e4879625&amp;oe=60DAB7D9&amp;_nc_sid=7bff83</td>\n",
              "      <td>no</td>\n",
              "      <td>no</td>\n",
              "      <td>no</td>\n",
              "      <td>NaN</td>\n",
              "      <td>NaN</td>\n",
              "    </tr>\n",
              "    <tr>\n",
              "      <th>1921</th>\n",
              "      <td>33286901341</td>\n",
              "      <td>wellbishstore</td>\n",
              "      <td>Wellbish Store</td>\n",
              "      <td>188</td>\n",
              "      <td>2462740031272344745</td>\n",
              "      <td>CItaQKiH1yp</td>\n",
              "      <td>6</td>\n",
              "      <td>0</td>\n",
              "      <td>3.19</td>\n",
              "      <td>https://www.instagram.com/p/CItaQKiH1yp</td>\n",
              "      <td>Photo by Wellbish Store on December 12, 2020. May be an image of jewelry.</td>\n",
              "      <td>How sweet is your Heart? ❤️????\\n.\\n.\\n???? Follow @wellbishstore\\n???? Turn notification on\\n☑️ Tag me in your stories\\n???? click the link in my bio! ????\\n.\\n.\\n#wellbishstore #relationship #love #boyfriend #girlfriend #bracelet #key #heart #jewelry #engagement #sweethearts</td>\n",
              "      <td>NaN</td>\n",
              "      <td>NaN</td>\n",
              "      <td>NaN</td>\n",
              "      <td>1607801511</td>\n",
              "      <td>Pendant, Accessories, Accessory, Goggles</td>\n",
              "      <td>style_fashion</td>\n",
              "      <td>arts_entertainment</td>\n",
              "      <td>style_fashion</td>\n",
              "      <td>https://instagram.fhyd2-1.fna.fbcdn.net/v/t51.2885-15/sh0.08/e35/s640x640/130800364_391796488911604_6608581821876444117_n.jpg?tp=1&amp;_nc_ht=instagram.fhyd2-1.fna.fbcdn.net&amp;_nc_cat=104&amp;_nc_ohc=aNFdVzB8RNkAX-OmQYk&amp;edm=ABfd0MgBAAAA&amp;ccb=7-4&amp;oh=d33040e44bb815f94e36b16550c6dbac&amp;oe=60D955AB&amp;_nc_sid=7bff83</td>\n",
              "      <td>no</td>\n",
              "      <td>no</td>\n",
              "      <td>no</td>\n",
              "      <td>NaN</td>\n",
              "      <td>NaN</td>\n",
              "    </tr>\n",
              "    <tr>\n",
              "      <th>1922</th>\n",
              "      <td>5633363536</td>\n",
              "      <td>amineblc</td>\n",
              "      <td>Mohamed Amine</td>\n",
              "      <td>1103</td>\n",
              "      <td>2127311663854320191</td>\n",
              "      <td>B2Fuq_ylPo_</td>\n",
              "      <td>46</td>\n",
              "      <td>4</td>\n",
              "      <td>4.53</td>\n",
              "      <td>https://www.instagram.com/p/B2Fuq_ylPo_</td>\n",
              "      <td>Photo by Mohamed Amine in Mawazine.</td>\n",
              "      <td>NaN</td>\n",
              "      <td>Mawazine</td>\n",
              "      <td>Ksar Hellal, Tunisia</td>\n",
              "      <td>Tunisia</td>\n",
              "      <td>1567815333</td>\n",
              "      <td>Clothing, Apparel, Person, Human, Sunglasses, Accessories, Accessory, Face, Scarf, Portrait, Photography, Photo, Glasses, People, Selfie, Female, Coat, Smile</td>\n",
              "      <td>NaN</td>\n",
              "      <td>news</td>\n",
              "      <td>style_fashion</td>\n",
              "      <td>https://instagram.fjdf6-1.fna.fbcdn.net/v/t51.2885-15/sh0.08/e35/c180.0.1079.1079a/s640x640/68822328_1329001810597157_525683053977317248_n.jpg?tp=1&amp;_nc_ht=instagram.fjdf6-1.fna.fbcdn.net&amp;_nc_cat=105&amp;_nc_ohc=Oab_ik_P9acAX_VBh4i&amp;edm=ABfd0MgBAAAA&amp;ccb=7-4&amp;oh=310007350b72a7c0ca933d072e7fe557&amp;oe=60DAC5ED&amp;_nc_sid=7bff83</td>\n",
              "      <td>no</td>\n",
              "      <td>no</td>\n",
              "      <td>no</td>\n",
              "      <td>NaN</td>\n",
              "      <td>NaN</td>\n",
              "    </tr>\n",
              "  </tbody>\n",
              "</table>\n",
              "</div>"
            ],
            "text/plain": [
              "           USERID                 USERNAME  ... VIDEO URL  VIDEO VIEW COUNT\n",
              "1                                           ...                            \n",
              "1918  36193140327  elastici_e_passamaneria  ...       NaN               NaN\n",
              "1919   8210198494        pamela.latorre.73  ...       NaN               NaN\n",
              "1920  36838177086              ilaria._004  ...       NaN               NaN\n",
              "1921  33286901341            wellbishstore  ...       NaN               NaN\n",
              "1922   5633363536                 amineblc  ...       NaN               NaN\n",
              "\n",
              "[5 rows x 26 columns]"
            ]
          },
          "metadata": {},
          "execution_count": 71
        }
      ]
    },
    {
      "cell_type": "code",
      "metadata": {
        "colab": {
          "base_uri": "https://localhost:8080/"
        },
        "id": "r-HWgIAPEVZp",
        "outputId": "689fb0fe-eeec-4994-a7f3-25e9ec64889c"
      },
      "source": [
        "df.info()"
      ],
      "execution_count": 72,
      "outputs": [
        {
          "output_type": "stream",
          "name": "stdout",
          "text": [
            "<class 'pandas.core.frame.DataFrame'>\n",
            "Int64Index: 4792 entries, 1918 to 6709\n",
            "Data columns (total 26 columns):\n",
            " #   Column                          Non-Null Count  Dtype  \n",
            "---  ------                          --------------  -----  \n",
            " 0   USERID                          4792 non-null   int64  \n",
            " 1   USERNAME                        4792 non-null   object \n",
            " 2   FULLNAME                        4666 non-null   object \n",
            " 3   FOLLOWER                        4792 non-null   int64  \n",
            " 4   POST ID                         4792 non-null   int64  \n",
            " 5   SHORTCODE                       4792 non-null   object \n",
            " 6   LIKES                           4792 non-null   int64  \n",
            " 7   COMMENTS                        4792 non-null   int64  \n",
            " 8   ENGAGEMENT                      4792 non-null   float64\n",
            " 9   URL                             4792 non-null   object \n",
            " 10  ACCESSIBILITY CAPTION           3943 non-null   object \n",
            " 11  CAPTION                         4310 non-null   object \n",
            " 12  LOCATION                        1161 non-null   object \n",
            " 13  CITY                            1068 non-null   object \n",
            " 14  COUNTRY                         947 non-null    object \n",
            " 15  TIME                            4792 non-null   int64  \n",
            " 16  IMAGE LABELS                    4786 non-null   object \n",
            " 17  CAPTION INTEREST                4310 non-null   object \n",
            " 18  ACCESSIBILITY CAPTION INTEREST  3943 non-null   object \n",
            " 19  IMAGE LABEL INTEREST            4786 non-null   object \n",
            " 20  IMAGE URL                       4792 non-null   object \n",
            " 21  COMMENT DISABLED                4792 non-null   object \n",
            " 22  IS VIDEO                        4792 non-null   object \n",
            " 23  HAS AUDIO                       4792 non-null   object \n",
            " 24  VIDEO URL                       808 non-null    object \n",
            " 25  VIDEO VIEW COUNT                808 non-null    float64\n",
            "dtypes: float64(2), int64(6), object(18)\n",
            "memory usage: 1010.8+ KB\n"
          ]
        }
      ]
    },
    {
      "cell_type": "markdown",
      "metadata": {
        "id": "N7B3k5XZkwUD"
      },
      "source": [
        "# EDA"
      ]
    },
    {
      "cell_type": "markdown",
      "metadata": {
        "id": "8Qj-ErlQFC0h"
      },
      "source": [
        "Column names: Replace white spaces with underscore "
      ]
    },
    {
      "cell_type": "code",
      "metadata": {
        "id": "C5YI6mDgFCSr"
      },
      "source": [
        "df.columns = df.columns.str.replace(' ', '_')"
      ],
      "execution_count": 73,
      "outputs": []
    },
    {
      "cell_type": "markdown",
      "metadata": {
        "id": "NzJiloFn_gi4"
      },
      "source": [
        "Check for each column how many unique is there (lenght of the dataset 4792, len(df)) "
      ]
    },
    {
      "cell_type": "code",
      "metadata": {
        "colab": {
          "base_uri": "https://localhost:8080/"
        },
        "id": "Aia9nBwB-j1b",
        "outputId": "85646493-9cc5-4ec2-bc76-7610e2e1b770"
      },
      "source": [
        "df.apply(lambda col: len(col.unique())).sort_values(ascending=False)"
      ],
      "execution_count": 74,
      "outputs": [
        {
          "output_type": "execute_result",
          "data": {
            "text/plain": [
              "POST_ID                           4792\n",
              "SHORTCODE                         4792\n",
              "IMAGE_URL                         4792\n",
              "URL                               4792\n",
              "TIME                              4791\n",
              "IMAGE_LABELS                      4666\n",
              "CAPTION                           4216\n",
              "ACCESSIBILITY_CAPTION             3658\n",
              "ENGAGEMENT                        1415\n",
              "VIDEO_URL                          809\n",
              "LIKES                              588\n",
              "LOCATION                           533\n",
              "VIDEO_VIEW_COUNT                   472\n",
              "USERNAME                           447\n",
              "USERID                             447\n",
              "FULLNAME                           432\n",
              "FOLLOWER                           418\n",
              "CITY                               328\n",
              "COMMENTS                           138\n",
              "COUNTRY                             44\n",
              "CAPTION_INTEREST                    36\n",
              "IMAGE_LABEL_INTEREST                35\n",
              "ACCESSIBILITY_CAPTION_INTEREST      27\n",
              "COMMENT_DISABLED                     2\n",
              "IS_VIDEO                             2\n",
              "HAS_AUDIO                            2\n",
              "dtype: int64"
            ]
          },
          "metadata": {},
          "execution_count": 74
        }
      ]
    },
    {
      "cell_type": "markdown",
      "metadata": {
        "id": "_T7gSotnk82F"
      },
      "source": [
        "## Data Cleaning"
      ]
    },
    {
      "cell_type": "markdown",
      "metadata": {
        "id": "y8BTw9B4CP69"
      },
      "source": [
        "## Handle NaN valus"
      ]
    },
    {
      "cell_type": "markdown",
      "metadata": {
        "id": "ksd42-L6J9Sz"
      },
      "source": [
        "How Many NaN values are ther in the datast?"
      ]
    },
    {
      "cell_type": "code",
      "metadata": {
        "colab": {
          "base_uri": "https://localhost:8080/",
          "height": 822
        },
        "id": "xk360FI0J8sB",
        "outputId": "8e150bff-c2d7-4b30-fb58-86d97685c948"
      },
      "source": [
        "msno.matrix(df)"
      ],
      "execution_count": 75,
      "outputs": [
        {
          "output_type": "execute_result",
          "data": {
            "text/plain": [
              "<matplotlib.axes._subplots.AxesSubplot at 0x7f9ca715ecd0>"
            ]
          },
          "metadata": {},
          "execution_count": 75
        },
        {
          "output_type": "display_data",
          "data": {
            "image/png": "[encoded data removed]",
            "text/plain": [
              "<Figure size 1800x720 with 2 Axes>"
            ]
          },
          "metadata": {
            "needs_background": "light"
          }
        }
      ]
    },
    {
      "cell_type": "code",
      "metadata": {
        "colab": {
          "base_uri": "https://localhost:8080/",
          "height": 748
        },
        "id": "ItG8cSILKIPZ",
        "outputId": "8ec18b4a-b310-450b-a11d-bf1ffc850993"
      },
      "source": [
        "msno.bar(df, figsize=(20, 8))"
      ],
      "execution_count": 76,
      "outputs": [
        {
          "output_type": "execute_result",
          "data": {
            "text/plain": [
              "<matplotlib.axes._subplots.AxesSubplot at 0x7f9ca722ce50>"
            ]
          },
          "metadata": {},
          "execution_count": 76
        },
        {
          "output_type": "display_data",
          "data": {
            "image/png": "[encoded data removed]",
            "text/plain": [
              "<Figure size 1440x576 with 3 Axes>"
            ]
          },
          "metadata": {
            "needs_background": "light"
          }
        }
      ]
    },
    {
      "cell_type": "markdown",
      "metadata": {
        "id": "ftNhR1FiMDhe"
      },
      "source": [
        "Conert unix time to separate Date and Time columns"
      ]
    },
    {
      "cell_type": "code",
      "metadata": {
        "id": "rCf1bnIbxjU7"
      },
      "source": [
        "df['DATETIME'] = pd.to_datetime(df['TIME'],unit='s')"
      ],
      "execution_count": 77,
      "outputs": []
    },
    {
      "cell_type": "code",
      "metadata": {
        "id": "LZ_7L8emN7yz"
      },
      "source": [
        "df['YEAR'] = pd.DatetimeIndex(df['DATETIME']).year\n",
        "df['MONTH'] = pd.DatetimeIndex(df['DATETIME']).month\n",
        "df['DAY'] = pd.DatetimeIndex(df['DATETIME']).day\n",
        "df['DAYOFWEEK'] = pd.DatetimeIndex(df['DATETIME']).dayofweek\n",
        "df['HOUR'] = pd.DatetimeIndex(df['DATETIME']).hour\n",
        "df['MINUTE'] = pd.DatetimeIndex(df['DATETIME']).minute"
      ],
      "execution_count": 78,
      "outputs": []
    },
    {
      "cell_type": "markdown",
      "metadata": {
        "id": "FS4RdvS3B4nr"
      },
      "source": [
        "Remove column that all values are unique:"
      ]
    },
    {
      "cell_type": "code",
      "metadata": {
        "colab": {
          "base_uri": "https://localhost:8080/"
        },
        "id": "mDp86xxgB_H9",
        "outputId": "4d75c8d1-f24b-47f3-ea6d-f06e5d15f275"
      },
      "source": [
        "for col in df.columns:\n",
        "    if len(df[col].unique()) == len(df):\n",
        "        print(col)\n",
        "        #df.drop(col,inplace=True,axis=1)"
      ],
      "execution_count": 79,
      "outputs": [
        {
          "output_type": "stream",
          "name": "stdout",
          "text": [
            "POST_ID\n",
            "SHORTCODE\n",
            "URL\n",
            "IMAGE_URL\n"
          ]
        }
      ]
    },
    {
      "cell_type": "code",
      "metadata": {
        "colab": {
          "base_uri": "https://localhost:8080/",
          "height": 1000
        },
        "id": "fpJMf4XQL03A",
        "outputId": "59a90cf5-80f5-4cad-8ceb-4bb9d441802b"
      },
      "source": [
        "df.head()"
      ],
      "execution_count": 80,
      "outputs": [
        {
          "output_type": "execute_result",
          "data": {
            "text/html": [
              "<div>\n",
              "<style scoped>\n",
              "    .dataframe tbody tr th:only-of-type {\n",
              "        vertical-align: middle;\n",
              "    }\n",
              "\n",
              "    .dataframe tbody tr th {\n",
              "        vertical-align: top;\n",
              "    }\n",
              "\n",
              "    .dataframe thead th {\n",
              "        text-align: right;\n",
              "    }\n",
              "</style>\n",
              "<table border=\"1\" class=\"dataframe\">\n",
              "  <thead>\n",
              "    <tr style=\"text-align: right;\">\n",
              "      <th></th>\n",
              "      <th>USERID</th>\n",
              "      <th>USERNAME</th>\n",
              "      <th>FULLNAME</th>\n",
              "      <th>FOLLOWER</th>\n",
              "      <th>POST_ID</th>\n",
              "      <th>SHORTCODE</th>\n",
              "      <th>LIKES</th>\n",
              "      <th>COMMENTS</th>\n",
              "      <th>ENGAGEMENT</th>\n",
              "      <th>URL</th>\n",
              "      <th>ACCESSIBILITY_CAPTION</th>\n",
              "      <th>CAPTION</th>\n",
              "      <th>LOCATION</th>\n",
              "      <th>CITY</th>\n",
              "      <th>COUNTRY</th>\n",
              "      <th>TIME</th>\n",
              "      <th>IMAGE_LABELS</th>\n",
              "      <th>CAPTION_INTEREST</th>\n",
              "      <th>ACCESSIBILITY_CAPTION_INTEREST</th>\n",
              "      <th>IMAGE_LABEL_INTEREST</th>\n",
              "      <th>IMAGE_URL</th>\n",
              "      <th>COMMENT_DISABLED</th>\n",
              "      <th>IS_VIDEO</th>\n",
              "      <th>HAS_AUDIO</th>\n",
              "      <th>VIDEO_URL</th>\n",
              "      <th>VIDEO_VIEW_COUNT</th>\n",
              "      <th>DATETIME</th>\n",
              "      <th>YEAR</th>\n",
              "      <th>MONTH</th>\n",
              "      <th>DAY</th>\n",
              "      <th>DAYOFWEEK</th>\n",
              "      <th>HOUR</th>\n",
              "      <th>MINUTE</th>\n",
              "    </tr>\n",
              "    <tr>\n",
              "      <th>1</th>\n",
              "      <th></th>\n",
              "      <th></th>\n",
              "      <th></th>\n",
              "      <th></th>\n",
              "      <th></th>\n",
              "      <th></th>\n",
              "      <th></th>\n",
              "      <th></th>\n",
              "      <th></th>\n",
              "      <th></th>\n",
              "      <th></th>\n",
              "      <th></th>\n",
              "      <th></th>\n",
              "      <th></th>\n",
              "      <th></th>\n",
              "      <th></th>\n",
              "      <th></th>\n",
              "      <th></th>\n",
              "      <th></th>\n",
              "      <th></th>\n",
              "      <th></th>\n",
              "      <th></th>\n",
              "      <th></th>\n",
              "      <th></th>\n",
              "      <th></th>\n",
              "      <th></th>\n",
              "      <th></th>\n",
              "      <th></th>\n",
              "      <th></th>\n",
              "      <th></th>\n",
              "      <th></th>\n",
              "      <th></th>\n",
              "      <th></th>\n",
              "    </tr>\n",
              "  </thead>\n",
              "  <tbody>\n",
              "    <tr>\n",
              "      <th>1918</th>\n",
              "      <td>36193140327</td>\n",
              "      <td>elastici_e_passamaneria</td>\n",
              "      <td>Elastici e Passamaneria</td>\n",
              "      <td>1052</td>\n",
              "      <td>2530600951335029174</td>\n",
              "      <td>CMegChUlwm2</td>\n",
              "      <td>23</td>\n",
              "      <td>0</td>\n",
              "      <td>2.19</td>\n",
              "      <td>https://www.instagram.com/p/CMegChUlwm2</td>\n",
              "      <td>Photo by Elastici e Passamaneria on March 16, 2021.</td>\n",
              "      <td>FFP2 MADE IN ITALY????????#ffp2mask#italianstyle#madeinitaly????????#produzionepropria#produttori#farmacie#farmacieitaliane#parafarmacia#mascherinelavabili#mask#ffp2</td>\n",
              "      <td>NaN</td>\n",
              "      <td>NaN</td>\n",
              "      <td>NaN</td>\n",
              "      <td>1615891163</td>\n",
              "      <td>Clothing, Apparel, Text, Money, Collage, Advertisement, Poster</td>\n",
              "      <td>education</td>\n",
              "      <td>movies</td>\n",
              "      <td>business</td>\n",
              "      <td>https://instagram.fdok2-1.fna.fbcdn.net/v/t51.2885-15/sh0.08/e35/c0.180.1440.1440a/s640x640/160374486_2823675294516254_158720847037227315_n.jpg?tp=1&amp;_nc_ht=instagram.fdok2-1.fna.fbcdn.net&amp;_nc_cat=102&amp;_nc_ohc=fXOFeWEt3dcAX9moTcA&amp;edm=ABfd0MgBAAAA&amp;ccb=7-4&amp;oh=cc36e9f840bc93314fcc9e76c9e4b8c6&amp;oe=60DA4B27&amp;_nc_sid=7bff83</td>\n",
              "      <td>no</td>\n",
              "      <td>no</td>\n",
              "      <td>no</td>\n",
              "      <td>NaN</td>\n",
              "      <td>NaN</td>\n",
              "      <td>2021-03-16 10:39:23</td>\n",
              "      <td>2021</td>\n",
              "      <td>3</td>\n",
              "      <td>16</td>\n",
              "      <td>1</td>\n",
              "      <td>10</td>\n",
              "      <td>39</td>\n",
              "    </tr>\n",
              "    <tr>\n",
              "      <th>1919</th>\n",
              "      <td>8210198494</td>\n",
              "      <td>pamela.latorre.73</td>\n",
              "      <td>Pamela La Torre</td>\n",
              "      <td>309</td>\n",
              "      <td>2595285287724490476</td>\n",
              "      <td>CQETjgBnZ7s</td>\n",
              "      <td>55</td>\n",
              "      <td>23</td>\n",
              "      <td>25.24</td>\n",
              "      <td>https://www.instagram.com/p/CQETjgBnZ7s</td>\n",
              "      <td>Photo by Pamela La Torre on June 13, 2021. May be an image of one or more people, people standing and indoor.</td>\n",
              "      <td>Prima comunione Giorgio</td>\n",
              "      <td>Santissimo Crocifisso</td>\n",
              "      <td>Taranto, Italy</td>\n",
              "      <td>NaN</td>\n",
              "      <td>1623602137</td>\n",
              "      <td>Person, Human, Photographer, Photography, Photo, Furniture, Shoe, Clothing, Footwear, Apparel, Interior Design, Indoors</td>\n",
              "      <td>news</td>\n",
              "      <td>arts_entertainment</td>\n",
              "      <td>style_fashion</td>\n",
              "      <td>https://instagram.fhel3-1.fna.fbcdn.net/v/t51.2885-15/sh0.08/e35/s640x640/131454075_203114518334788_1962979990399529842_n.jpg?tp=1&amp;_nc_ht=instagram.fhel3-1.fna.fbcdn.net&amp;_nc_cat=104&amp;_nc_ohc=XmsE8bbC2cIAX-0rYFU&amp;edm=ABfd0MgBAAAA&amp;ccb=7-4&amp;oh=4ca96de8a58eafc0ac1e2eea47d28236&amp;oe=60D9DF1A&amp;_nc_sid=7bff83</td>\n",
              "      <td>no</td>\n",
              "      <td>no</td>\n",
              "      <td>no</td>\n",
              "      <td>NaN</td>\n",
              "      <td>NaN</td>\n",
              "      <td>2021-06-13 16:35:37</td>\n",
              "      <td>2021</td>\n",
              "      <td>6</td>\n",
              "      <td>13</td>\n",
              "      <td>6</td>\n",
              "      <td>16</td>\n",
              "      <td>35</td>\n",
              "    </tr>\n",
              "    <tr>\n",
              "      <th>1920</th>\n",
              "      <td>36838177086</td>\n",
              "      <td>ilaria._004</td>\n",
              "      <td>????????????????</td>\n",
              "      <td>649</td>\n",
              "      <td>2356209223949454778</td>\n",
              "      <td>CCy784yAY26</td>\n",
              "      <td>138</td>\n",
              "      <td>2</td>\n",
              "      <td>21.57</td>\n",
              "      <td>https://www.instagram.com/p/CCy784yAY26</td>\n",
              "      <td>Photo by ???????????????? on July 18, 2020. May be an image of 1 person.</td>\n",
              "      <td>mirame????</td>\n",
              "      <td>NaN</td>\n",
              "      <td>NaN</td>\n",
              "      <td>NaN</td>\n",
              "      <td>1595102049</td>\n",
              "      <td>Clothing, Apparel, Person, Human, Female, Swimwear, Footwear, Woman, Bikini, Shoe, Skin, Pants, Flooring, Girl</td>\n",
              "      <td>education</td>\n",
              "      <td>arts_entertainment</td>\n",
              "      <td>style_fashion</td>\n",
              "      <td>https://instagram.fgua5-1.fna.fbcdn.net/v/t51.2885-15/sh0.08/e35/c0.86.1080.1080a/s640x640/111218478_173463267523124_4585802501296990831_n.jpg?tp=1&amp;_nc_ht=instagram.fgua5-1.fna.fbcdn.net&amp;_nc_cat=108&amp;_nc_ohc=3eLtxoYSgkUAX-UqCUh&amp;edm=ABfd0MgBAAAA&amp;ccb=7-4&amp;oh=8ca65c0f03f5315391059b88e4879625&amp;oe=60DAB7D9&amp;_nc_sid=7bff83</td>\n",
              "      <td>no</td>\n",
              "      <td>no</td>\n",
              "      <td>no</td>\n",
              "      <td>NaN</td>\n",
              "      <td>NaN</td>\n",
              "      <td>2020-07-18 19:54:09</td>\n",
              "      <td>2020</td>\n",
              "      <td>7</td>\n",
              "      <td>18</td>\n",
              "      <td>5</td>\n",
              "      <td>19</td>\n",
              "      <td>54</td>\n",
              "    </tr>\n",
              "    <tr>\n",
              "      <th>1921</th>\n",
              "      <td>33286901341</td>\n",
              "      <td>wellbishstore</td>\n",
              "      <td>Wellbish Store</td>\n",
              "      <td>188</td>\n",
              "      <td>2462740031272344745</td>\n",
              "      <td>CItaQKiH1yp</td>\n",
              "      <td>6</td>\n",
              "      <td>0</td>\n",
              "      <td>3.19</td>\n",
              "      <td>https://www.instagram.com/p/CItaQKiH1yp</td>\n",
              "      <td>Photo by Wellbish Store on December 12, 2020. May be an image of jewelry.</td>\n",
              "      <td>How sweet is your Heart? ❤️????\\n.\\n.\\n???? Follow @wellbishstore\\n???? Turn notification on\\n☑️ Tag me in your stories\\n???? click the link in my bio! ????\\n.\\n.\\n#wellbishstore #relationship #love #boyfriend #girlfriend #bracelet #key #heart #jewelry #engagement #sweethearts</td>\n",
              "      <td>NaN</td>\n",
              "      <td>NaN</td>\n",
              "      <td>NaN</td>\n",
              "      <td>1607801511</td>\n",
              "      <td>Pendant, Accessories, Accessory, Goggles</td>\n",
              "      <td>style_fashion</td>\n",
              "      <td>arts_entertainment</td>\n",
              "      <td>style_fashion</td>\n",
              "      <td>https://instagram.fhyd2-1.fna.fbcdn.net/v/t51.2885-15/sh0.08/e35/s640x640/130800364_391796488911604_6608581821876444117_n.jpg?tp=1&amp;_nc_ht=instagram.fhyd2-1.fna.fbcdn.net&amp;_nc_cat=104&amp;_nc_ohc=aNFdVzB8RNkAX-OmQYk&amp;edm=ABfd0MgBAAAA&amp;ccb=7-4&amp;oh=d33040e44bb815f94e36b16550c6dbac&amp;oe=60D955AB&amp;_nc_sid=7bff83</td>\n",
              "      <td>no</td>\n",
              "      <td>no</td>\n",
              "      <td>no</td>\n",
              "      <td>NaN</td>\n",
              "      <td>NaN</td>\n",
              "      <td>2020-12-12 19:31:51</td>\n",
              "      <td>2020</td>\n",
              "      <td>12</td>\n",
              "      <td>12</td>\n",
              "      <td>5</td>\n",
              "      <td>19</td>\n",
              "      <td>31</td>\n",
              "    </tr>\n",
              "    <tr>\n",
              "      <th>1922</th>\n",
              "      <td>5633363536</td>\n",
              "      <td>amineblc</td>\n",
              "      <td>Mohamed Amine</td>\n",
              "      <td>1103</td>\n",
              "      <td>2127311663854320191</td>\n",
              "      <td>B2Fuq_ylPo_</td>\n",
              "      <td>46</td>\n",
              "      <td>4</td>\n",
              "      <td>4.53</td>\n",
              "      <td>https://www.instagram.com/p/B2Fuq_ylPo_</td>\n",
              "      <td>Photo by Mohamed Amine in Mawazine.</td>\n",
              "      <td>NaN</td>\n",
              "      <td>Mawazine</td>\n",
              "      <td>Ksar Hellal, Tunisia</td>\n",
              "      <td>Tunisia</td>\n",
              "      <td>1567815333</td>\n",
              "      <td>Clothing, Apparel, Person, Human, Sunglasses, Accessories, Accessory, Face, Scarf, Portrait, Photography, Photo, Glasses, People, Selfie, Female, Coat, Smile</td>\n",
              "      <td>NaN</td>\n",
              "      <td>news</td>\n",
              "      <td>style_fashion</td>\n",
              "      <td>https://instagram.fjdf6-1.fna.fbcdn.net/v/t51.2885-15/sh0.08/e35/c180.0.1079.1079a/s640x640/68822328_1329001810597157_525683053977317248_n.jpg?tp=1&amp;_nc_ht=instagram.fjdf6-1.fna.fbcdn.net&amp;_nc_cat=105&amp;_nc_ohc=Oab_ik_P9acAX_VBh4i&amp;edm=ABfd0MgBAAAA&amp;ccb=7-4&amp;oh=310007350b72a7c0ca933d072e7fe557&amp;oe=60DAC5ED&amp;_nc_sid=7bff83</td>\n",
              "      <td>no</td>\n",
              "      <td>no</td>\n",
              "      <td>no</td>\n",
              "      <td>NaN</td>\n",
              "      <td>NaN</td>\n",
              "      <td>2019-09-07 00:15:33</td>\n",
              "      <td>2019</td>\n",
              "      <td>9</td>\n",
              "      <td>7</td>\n",
              "      <td>5</td>\n",
              "      <td>0</td>\n",
              "      <td>15</td>\n",
              "    </tr>\n",
              "  </tbody>\n",
              "</table>\n",
              "</div>"
            ],
            "text/plain": [
              "           USERID                 USERNAME  ... HOUR  MINUTE\n",
              "1                                           ...             \n",
              "1918  36193140327  elastici_e_passamaneria  ...   10      39\n",
              "1919   8210198494        pamela.latorre.73  ...   16      35\n",
              "1920  36838177086              ilaria._004  ...   19      54\n",
              "1921  33286901341            wellbishstore  ...   19      31\n",
              "1922   5633363536                 amineblc  ...    0      15\n",
              "\n",
              "[5 rows x 33 columns]"
            ]
          },
          "metadata": {},
          "execution_count": 80
        }
      ]
    },
    {
      "cell_type": "code",
      "metadata": {
        "colab": {
          "base_uri": "https://localhost:8080/"
        },
        "id": "2Xk5qhATLp05",
        "outputId": "b50caacd-117f-447c-f1b9-fe846ef27c1b"
      },
      "source": [
        "df.URL.head()\n",
        "# SHORTCODE\n",
        "# URL\n",
        "# IMAGE_URL\n",
        "# VIDEO_URL # Not working"
      ],
      "execution_count": 81,
      "outputs": [
        {
          "output_type": "execute_result",
          "data": {
            "text/plain": [
              "1\n",
              "1918    https://www.instagram.com/p/CMegChUlwm2\n",
              "1919    https://www.instagram.com/p/CQETjgBnZ7s\n",
              "1920    https://www.instagram.com/p/CCy784yAY26\n",
              "1921    https://www.instagram.com/p/CItaQKiH1yp\n",
              "1922    https://www.instagram.com/p/B2Fuq_ylPo_\n",
              "Name: URL, dtype: object"
            ]
          },
          "metadata": {},
          "execution_count": 81
        }
      ]
    },
    {
      "cell_type": "code",
      "metadata": {
        "id": "JO8OTuLV6HLw"
      },
      "source": [
        "df.drop('POST_ID',inplace=True,axis=1)"
      ],
      "execution_count": 82,
      "outputs": []
    },
    {
      "cell_type": "code",
      "metadata": {
        "id": "Cvp067h46cqz"
      },
      "source": [
        "df.drop('VIDEO_URL',inplace=True,axis=1)"
      ],
      "execution_count": 83,
      "outputs": []
    },
    {
      "cell_type": "code",
      "metadata": {
        "id": "i3R7TbtEP_Cq"
      },
      "source": [
        "df.drop('SHORTCODE',inplace=True,axis=1)"
      ],
      "execution_count": 84,
      "outputs": []
    },
    {
      "cell_type": "code",
      "metadata": {
        "id": "HgmSe0pPP_jp"
      },
      "source": [
        "# df.drop('URL',inplace=True,axis=1)"
      ],
      "execution_count": 85,
      "outputs": []
    },
    {
      "cell_type": "code",
      "metadata": {
        "id": "c3S6qTYdQAAT"
      },
      "source": [
        "df.drop('IMAGE_URL',inplace=True,axis=1)"
      ],
      "execution_count": 86,
      "outputs": []
    },
    {
      "cell_type": "markdown",
      "metadata": {
        "id": "egjqB8d9BlQS"
      },
      "source": [
        "Convert columns type to characters :"
      ]
    },
    {
      "cell_type": "code",
      "metadata": {
        "colab": {
          "base_uri": "https://localhost:8080/"
        },
        "id": "VIzv3R77Bjqn",
        "outputId": "3feeedf4-d3f4-4729-9eda-a60ef8078dc4"
      },
      "source": [
        "df['COMMENT_DISABLED'].value_counts()"
      ],
      "execution_count": 87,
      "outputs": [
        {
          "output_type": "execute_result",
          "data": {
            "text/plain": [
              "no     4785\n",
              "yes       7\n",
              "Name: COMMENT_DISABLED, dtype: int64"
            ]
          },
          "metadata": {},
          "execution_count": 87
        }
      ]
    },
    {
      "cell_type": "code",
      "metadata": {
        "id": "5Py0fclpFn1r"
      },
      "source": [
        "df['COMMENT_DISABLED'] = df['COMMENT_DISABLED'].map(dict(yes=1, no=0))"
      ],
      "execution_count": 88,
      "outputs": []
    },
    {
      "cell_type": "code",
      "metadata": {
        "id": "VTX8T6IIGf0h"
      },
      "source": [
        "df['IS_VIDEO'] = df['IS_VIDEO'].map(dict(yes=1, no=0))"
      ],
      "execution_count": 89,
      "outputs": []
    },
    {
      "cell_type": "code",
      "metadata": {
        "id": "TkhoNyMcG_jZ"
      },
      "source": [
        "df['HAS_AUDIO'] = df['HAS_AUDIO'].map(dict(yes=1, no=0))"
      ],
      "execution_count": 90,
      "outputs": []
    },
    {
      "cell_type": "code",
      "metadata": {
        "colab": {
          "base_uri": "https://localhost:8080/"
        },
        "id": "3cVRk_oSGpqR",
        "outputId": "1a49485a-2b0d-44ee-8054-014471037aec"
      },
      "source": [
        "df[['COMMENT_DISABLED','IS_VIDEO','HAS_AUDIO']].value_counts()"
      ],
      "execution_count": 91,
      "outputs": [
        {
          "output_type": "execute_result",
          "data": {
            "text/plain": [
              "COMMENT_DISABLED  IS_VIDEO  HAS_AUDIO\n",
              "0                 0         0            3981\n",
              "                  1         1             722\n",
              "                            0              82\n",
              "1                 1         1               4\n",
              "                  0         0               3\n",
              "dtype: int64"
            ]
          },
          "metadata": {},
          "execution_count": 91
        }
      ]
    },
    {
      "cell_type": "code",
      "metadata": {
        "colab": {
          "base_uri": "https://localhost:8080/"
        },
        "id": "zHYCMkwrIvJE",
        "outputId": "54fb07a5-27c2-43e3-9e78-2695c8720783"
      },
      "source": [
        "pd.unique(df[['COMMENT_DISABLED','IS_VIDEO','HAS_AUDIO']].values.ravel('K'))"
      ],
      "execution_count": 92,
      "outputs": [
        {
          "output_type": "execute_result",
          "data": {
            "text/plain": [
              "array([0, 1])"
            ]
          },
          "metadata": {},
          "execution_count": 92
        }
      ]
    },
    {
      "cell_type": "code",
      "metadata": {
        "colab": {
          "base_uri": "https://localhost:8080/",
          "height": 822
        },
        "id": "80uwyoJezN8I",
        "outputId": "e92ab8f2-2192-4619-8ff9-a8243b106705"
      },
      "source": [
        "msno.matrix(df)"
      ],
      "execution_count": 93,
      "outputs": [
        {
          "output_type": "execute_result",
          "data": {
            "text/plain": [
              "<matplotlib.axes._subplots.AxesSubplot at 0x7f9ca719f290>"
            ]
          },
          "metadata": {},
          "execution_count": 93
        },
        {
          "output_type": "display_data",
          "data": {
            "image/png": "[encoded data removed]",
            "text/plain": [
              "<Figure size 1800x720 with 2 Axes>"
            ]
          },
          "metadata": {
            "needs_background": "light"
          }
        }
      ]
    },
    {
      "cell_type": "code",
      "metadata": {
        "colab": {
          "base_uri": "https://localhost:8080/"
        },
        "id": "YuKCxaw0zV1O",
        "outputId": "3700ffea-90c0-47be-941e-806ed25b4902"
      },
      "source": [
        "df.columns"
      ],
      "execution_count": 94,
      "outputs": [
        {
          "output_type": "execute_result",
          "data": {
            "text/plain": [
              "Index(['USERID', 'USERNAME', 'FULLNAME', 'FOLLOWER', 'LIKES', 'COMMENTS',\n",
              "       'ENGAGEMENT', 'URL', 'ACCESSIBILITY_CAPTION', 'CAPTION', 'LOCATION',\n",
              "       'CITY', 'COUNTRY', 'TIME', 'IMAGE_LABELS', 'CAPTION_INTEREST',\n",
              "       'ACCESSIBILITY_CAPTION_INTEREST', 'IMAGE_LABEL_INTEREST',\n",
              "       'COMMENT_DISABLED', 'IS_VIDEO', 'HAS_AUDIO', 'VIDEO_VIEW_COUNT',\n",
              "       'DATETIME', 'YEAR', 'MONTH', 'DAY', 'DAYOFWEEK', 'HOUR', 'MINUTE'],\n",
              "      dtype='object')"
            ]
          },
          "metadata": {},
          "execution_count": 94
        }
      ]
    },
    {
      "cell_type": "markdown",
      "metadata": {
        "id": "uF9AHnIU4ae-"
      },
      "source": [
        "Raname the index"
      ]
    },
    {
      "cell_type": "code",
      "metadata": {
        "id": "3A0qeN-o4DPy"
      },
      "source": [
        "df = df.rename_axis('LINE_NUM_INDEX')"
      ],
      "execution_count": 95,
      "outputs": []
    },
    {
      "cell_type": "markdown",
      "metadata": {
        "id": "QosJ4CUL4mcc"
      },
      "source": [
        "Note by Eladk: we can fill location values by using a merdiction model base in the influancer and the time for the post. <BR> \n",
        "For Now, I'll just fill the columns with NULL"
      ]
    },
    {
      "cell_type": "markdown",
      "metadata": {
        "id": "FTZGaoMYArQ4"
      },
      "source": [
        "Replace all cases where VIDEO_VIEW_COUNT == Nan with 0. <BR> for double check i verified it with is_video column"
      ]
    },
    {
      "cell_type": "code",
      "metadata": {
        "id": "1RyzEtmyAWLd"
      },
      "source": [
        "df['VIDEO_VIEW_COUNT'].fillna(0, inplace=True)"
      ],
      "execution_count": 96,
      "outputs": []
    },
    {
      "cell_type": "markdown",
      "metadata": {
        "id": "Z1IpsQ1WDRwW"
      },
      "source": [
        "Eladk note 8-Sep-2021: I still need to handle missing values in column:\n",
        "\n",
        "\n",
        "*   FULLNAME\n",
        "*   ACCESSIBILITY_CAPTION - specify full name, time, location, video or picture and tag\n",
        "*   CAPTION - the text on this post (by the post uploader\n",
        "*   LOCATION, CITY, COUNTRY - location\n",
        "*   CAPTION_INTEREST -\n",
        "*   ACCESSIBILITY_CAPTION_INTEREST\n"
      ]
    },
    {
      "cell_type": "code",
      "metadata": {
        "colab": {
          "base_uri": "https://localhost:8080/",
          "height": 822
        },
        "id": "KFgrunbu5UN5",
        "outputId": "3be81065-0f43-4afe-a1e7-5b61d4583e33"
      },
      "source": [
        "msno.matrix(df)"
      ],
      "execution_count": 97,
      "outputs": [
        {
          "output_type": "execute_result",
          "data": {
            "text/plain": [
              "<matplotlib.axes._subplots.AxesSubplot at 0x7f9ca7318a10>"
            ]
          },
          "metadata": {},
          "execution_count": 97
        },
        {
          "output_type": "display_data",
          "data": {
            "image/png": "[encoded data removed]",
            "text/plain": [
              "<Figure size 1800x720 with 2 Axes>"
            ]
          },
          "metadata": {
            "needs_background": "light"
          }
        }
      ]
    },
    {
      "cell_type": "code",
      "metadata": {
        "colab": {
          "base_uri": "https://localhost:8080/"
        },
        "id": "pJzc-VCL6wem",
        "outputId": "912ae80f-6750-4d8b-d648-da242dc008ca"
      },
      "source": [
        "df.CAPTION.value_counts().sort_values(ascending=False)"
      ],
      "execution_count": 98,
      "outputs": [
        {
          "output_type": "execute_result",
          "data": {
            "text/plain": [
              "????                                                                                                                                                                                                                                                                                                                                                                                                                                                                                                                                     23\n",
              "????????                                                                                                                                                                                                                                                                                                                                                                                                                                                                                                                                 14\n",
              "????????????                                                                                                                                                                                                                                                                                                                                                                                                                                                                                                                             11\n",
              "✨If you’re in Charlotte this Saturday…\\n\\n✨Be a part of the LIVE taping of Brunch with Bree!\\n\\nTickets still available\\n\\nhttps://www.eventbrite.com/e/brunch-with-bree-live-ep12-killing-superwoman-tickets-158021395247?ref=eios\\n\\n???? Catch us on YouTube LIVE ????\\nhttps://www.youtube.com/channel/UC2simvxe1jIqUhvRChCfv3g\\n\\n✨Oh My Soul in NoDa will be hosting the brunch and handling food orders. \\n\\n✨Grab your seats and place your orders starting at 10:15\\n\\n✨Taping starts at 10:30am. Show wraps at 12:00pm.\\n\\n     6\n",
              "Tresuria, crafting your curiosity ????\\n\\nTreat yourself on our website :\\n???? www.tresuria.com\\n\\n#tresuria #tresuriaboutique #jewelry #gems #ring #bracelet #necklace                                                                                                                                                                                                                                                                                                                                                                  6\n",
              "                                                                                                                                                                                                                                                                                                                                                                                                                                                                                                                                         ..\n",
              "Baby shark                                                                                                                                                                                                                                                                                                                                                                                                                                                                                                                                1\n",
              "Breakfast view\\n\\n#beach #beachdays #igersgoldcoast #igersaustraliaofficial #holidays #goldcoast #getaway #palmbeach #palmbeachlagoon #bnw_captures  #samsung #samsunggalaxys21ultra #breakfast #dunecafe #view                                                                                                                                                                                                                                                                                                                           1\n",
              "♡ ???????????????? ︎???????????????????????????? ???????????????????????????????? \\nMay you begin to see your disappointments as divine appointments.\\n*\\nMay your spirit-eyes open up to God's invitation to something better, something deeper, something profoundly fitted for you. \\n*\\nMay you lift your eyes and see how your whole story fits in the bigger story God is writing for His Namesake. When you're tempted to look down in angst, may you instead look up and pray, not only for yourself, but for the                 1\n",
              "????ℂ????ℝ ????????ℕ????????????  Does your company give you a car bonus when you reach a certain promotion?? Ours does!! And you get to choose the car you want!! Look at the cars the team have got when hitting that promotion!! ????❤️ #car #cars #carsofinstagram #carbonus #carbonusearner #instadaily #instagood #instalike #instalikes #instafollowers #instafollowers #instareel #instareels #reel #reels #reelsinstagram #instagram #instagramers #instagramreels #foryou #foryoupage                                           1\n",
              "Finally it’s starting to feel like summer, Theo enjoyed playing in his paddling pool today and first time in his swim shorts☀️\\n\\nHope everyone’s enjoying the sunshine ☀️ \\n.\\n.\\n.\\n.\\n#baby #babyboy #firsttimemums #firsttimemummy #mummy2021 #janaurybaby #2021 #bornin2021 #mama #boy #myfamily #mylittlefamily #home #makingmemories #memories #fun #play #myworld #myboy #saturday #saturdayfun #weekend #familytime #family #paddlingpool #splishsplash #waterplay #play #discoverunder10k #instamummy #instababie               1\n",
              "Name: CAPTION, Length: 4215, dtype: int64"
            ]
          },
          "metadata": {},
          "execution_count": 98
        }
      ]
    },
    {
      "cell_type": "markdown",
      "metadata": {
        "id": "1nfbHMIBGBXo"
      },
      "source": [
        "selecting a subset of the data:"
      ]
    },
    {
      "cell_type": "code",
      "metadata": {
        "colab": {
          "base_uri": "https://localhost:8080/",
          "height": 448
        },
        "id": "EhYai8Vc-E1h",
        "outputId": "7ac1c9c9-4eea-454a-c675-ccf6b4fe23be"
      },
      "source": [
        "df[['FULLNAME','ACCESSIBILITY_CAPTION','CAPTION','LOCATION', 'CITY', 'COUNTRY','CAPTION_INTEREST','ACCESSIBILITY_CAPTION_INTEREST']].head(5)"
      ],
      "execution_count": 99,
      "outputs": [
        {
          "output_type": "execute_result",
          "data": {
            "text/html": [
              "<div>\n",
              "<style scoped>\n",
              "    .dataframe tbody tr th:only-of-type {\n",
              "        vertical-align: middle;\n",
              "    }\n",
              "\n",
              "    .dataframe tbody tr th {\n",
              "        vertical-align: top;\n",
              "    }\n",
              "\n",
              "    .dataframe thead th {\n",
              "        text-align: right;\n",
              "    }\n",
              "</style>\n",
              "<table border=\"1\" class=\"dataframe\">\n",
              "  <thead>\n",
              "    <tr style=\"text-align: right;\">\n",
              "      <th></th>\n",
              "      <th>FULLNAME</th>\n",
              "      <th>ACCESSIBILITY_CAPTION</th>\n",
              "      <th>CAPTION</th>\n",
              "      <th>LOCATION</th>\n",
              "      <th>CITY</th>\n",
              "      <th>COUNTRY</th>\n",
              "      <th>CAPTION_INTEREST</th>\n",
              "      <th>ACCESSIBILITY_CAPTION_INTEREST</th>\n",
              "    </tr>\n",
              "    <tr>\n",
              "      <th>LINE_NUM_INDEX</th>\n",
              "      <th></th>\n",
              "      <th></th>\n",
              "      <th></th>\n",
              "      <th></th>\n",
              "      <th></th>\n",
              "      <th></th>\n",
              "      <th></th>\n",
              "      <th></th>\n",
              "    </tr>\n",
              "  </thead>\n",
              "  <tbody>\n",
              "    <tr>\n",
              "      <th>1918</th>\n",
              "      <td>Elastici e Passamaneria</td>\n",
              "      <td>Photo by Elastici e Passamaneria on March 16, 2021.</td>\n",
              "      <td>FFP2 MADE IN ITALY????????#ffp2mask#italianstyle#madeinitaly????????#produzionepropria#produttori#farmacie#farmacieitaliane#parafarmacia#mascherinelavabili#mask#ffp2</td>\n",
              "      <td>NaN</td>\n",
              "      <td>NaN</td>\n",
              "      <td>NaN</td>\n",
              "      <td>education</td>\n",
              "      <td>movies</td>\n",
              "    </tr>\n",
              "    <tr>\n",
              "      <th>1919</th>\n",
              "      <td>Pamela La Torre</td>\n",
              "      <td>Photo by Pamela La Torre on June 13, 2021. May be an image of one or more people, people standing and indoor.</td>\n",
              "      <td>Prima comunione Giorgio</td>\n",
              "      <td>Santissimo Crocifisso</td>\n",
              "      <td>Taranto, Italy</td>\n",
              "      <td>NaN</td>\n",
              "      <td>news</td>\n",
              "      <td>arts_entertainment</td>\n",
              "    </tr>\n",
              "    <tr>\n",
              "      <th>1920</th>\n",
              "      <td>????????????????</td>\n",
              "      <td>Photo by ???????????????? on July 18, 2020. May be an image of 1 person.</td>\n",
              "      <td>mirame????</td>\n",
              "      <td>NaN</td>\n",
              "      <td>NaN</td>\n",
              "      <td>NaN</td>\n",
              "      <td>education</td>\n",
              "      <td>arts_entertainment</td>\n",
              "    </tr>\n",
              "    <tr>\n",
              "      <th>1921</th>\n",
              "      <td>Wellbish Store</td>\n",
              "      <td>Photo by Wellbish Store on December 12, 2020. May be an image of jewelry.</td>\n",
              "      <td>How sweet is your Heart? ❤️????\\n.\\n.\\n???? Follow @wellbishstore\\n???? Turn notification on\\n☑️ Tag me in your stories\\n???? click the link in my bio! ????\\n.\\n.\\n#wellbishstore #relationship #love #boyfriend #girlfriend #bracelet #key #heart #jewelry #engagement #sweethearts</td>\n",
              "      <td>NaN</td>\n",
              "      <td>NaN</td>\n",
              "      <td>NaN</td>\n",
              "      <td>style_fashion</td>\n",
              "      <td>arts_entertainment</td>\n",
              "    </tr>\n",
              "    <tr>\n",
              "      <th>1922</th>\n",
              "      <td>Mohamed Amine</td>\n",
              "      <td>Photo by Mohamed Amine in Mawazine.</td>\n",
              "      <td>NaN</td>\n",
              "      <td>Mawazine</td>\n",
              "      <td>Ksar Hellal, Tunisia</td>\n",
              "      <td>Tunisia</td>\n",
              "      <td>NaN</td>\n",
              "      <td>news</td>\n",
              "    </tr>\n",
              "  </tbody>\n",
              "</table>\n",
              "</div>"
            ],
            "text/plain": [
              "                               FULLNAME  ... ACCESSIBILITY_CAPTION_INTEREST\n",
              "LINE_NUM_INDEX                           ...                               \n",
              "1918            Elastici e Passamaneria  ...                         movies\n",
              "1919                    Pamela La Torre  ...             arts_entertainment\n",
              "1920                   ????????????????  ...             arts_entertainment\n",
              "1921                     Wellbish Store  ...             arts_entertainment\n",
              "1922                      Mohamed Amine  ...                           news\n",
              "\n",
              "[5 rows x 8 columns]"
            ]
          },
          "metadata": {},
          "execution_count": 99
        }
      ]
    },
    {
      "cell_type": "markdown",
      "metadata": {
        "id": "FKe1TsN2E03L"
      },
      "source": [
        "Increase the length to a column so that we'll see all the text in a cell"
      ]
    },
    {
      "cell_type": "code",
      "metadata": {
        "colab": {
          "base_uri": "https://localhost:8080/"
        },
        "id": "DQxDRFJz-z4n",
        "outputId": "1e5a4b6d-1bfa-4d9b-a589-39558c4af80e"
      },
      "source": [
        "pd.options.display.max_colwidth = 1000\n",
        "df.ACCESSIBILITY_CAPTION.head(5)"
      ],
      "execution_count": 100,
      "outputs": [
        {
          "output_type": "execute_result",
          "data": {
            "text/plain": [
              "LINE_NUM_INDEX\n",
              "1918                                                              Photo by Elastici e Passamaneria on March 16, 2021.\n",
              "1919    Photo by Pamela La Torre on June 13, 2021. May be an image of one or more people, people standing and indoor.\n",
              "1920                                         Photo by ???????????????? on July 18, 2020. May be an image of 1 person.\n",
              "1921                                        Photo by Wellbish Store on December 12, 2020. May be an image of jewelry.\n",
              "1922                                                                              Photo by Mohamed Amine in Mawazine.\n",
              "Name: ACCESSIBILITY_CAPTION, dtype: object"
            ]
          },
          "metadata": {},
          "execution_count": 100
        }
      ]
    },
    {
      "cell_type": "markdown",
      "metadata": {
        "id": "oRFlWKO6EqIZ"
      },
      "source": [
        "Selecting 1 row by index (specific column only)"
      ]
    },
    {
      "cell_type": "code",
      "metadata": {
        "colab": {
          "base_uri": "https://localhost:8080/",
          "height": 110
        },
        "id": "QDwmKBBU9M63",
        "outputId": "04253e90-22ee-4a77-a6da-65a9566882d3"
      },
      "source": [
        "df[df.index == 1929][['URL','ACCESSIBILITY_CAPTION','FULLNAME','DATETIME','LOCATION']] # name, "
      ],
      "execution_count": 101,
      "outputs": [
        {
          "output_type": "execute_result",
          "data": {
            "text/html": [
              "<div>\n",
              "<style scoped>\n",
              "    .dataframe tbody tr th:only-of-type {\n",
              "        vertical-align: middle;\n",
              "    }\n",
              "\n",
              "    .dataframe tbody tr th {\n",
              "        vertical-align: top;\n",
              "    }\n",
              "\n",
              "    .dataframe thead th {\n",
              "        text-align: right;\n",
              "    }\n",
              "</style>\n",
              "<table border=\"1\" class=\"dataframe\">\n",
              "  <thead>\n",
              "    <tr style=\"text-align: right;\">\n",
              "      <th></th>\n",
              "      <th>URL</th>\n",
              "      <th>ACCESSIBILITY_CAPTION</th>\n",
              "      <th>FULLNAME</th>\n",
              "      <th>DATETIME</th>\n",
              "      <th>LOCATION</th>\n",
              "    </tr>\n",
              "    <tr>\n",
              "      <th>LINE_NUM_INDEX</th>\n",
              "      <th></th>\n",
              "      <th></th>\n",
              "      <th></th>\n",
              "      <th></th>\n",
              "      <th></th>\n",
              "    </tr>\n",
              "  </thead>\n",
              "  <tbody>\n",
              "    <tr>\n",
              "      <th>1929</th>\n",
              "      <td>https://www.instagram.com/p/CH5E6XPDO_y</td>\n",
              "      <td>Photo by V i t t o r i a   C a r o n in Palermo, Italy with @federico_alberti_. May be an image of 2 people, outerwear and monument.</td>\n",
              "      <td>V i t t o r i a   C a r o n</td>\n",
              "      <td>2020-11-22 11:44:52</td>\n",
              "      <td>Palermo, Italy</td>\n",
              "    </tr>\n",
              "  </tbody>\n",
              "</table>\n",
              "</div>"
            ],
            "text/plain": [
              "                                                    URL  ...        LOCATION\n",
              "LINE_NUM_INDEX                                           ...                \n",
              "1929            https://www.instagram.com/p/CH5E6XPDO_y  ...  Palermo, Italy\n",
              "\n",
              "[1 rows x 5 columns]"
            ]
          },
          "metadata": {},
          "execution_count": 101
        }
      ]
    },
    {
      "cell_type": "code",
      "metadata": {
        "colab": {
          "base_uri": "https://localhost:8080/"
        },
        "id": "gIEu5AuP9DQn",
        "outputId": "29683668-d6d3-46ab-9d21-c714cdba3a82"
      },
      "source": [
        "df.columns"
      ],
      "execution_count": 102,
      "outputs": [
        {
          "output_type": "execute_result",
          "data": {
            "text/plain": [
              "Index(['USERID', 'USERNAME', 'FULLNAME', 'FOLLOWER', 'LIKES', 'COMMENTS',\n",
              "       'ENGAGEMENT', 'URL', 'ACCESSIBILITY_CAPTION', 'CAPTION', 'LOCATION',\n",
              "       'CITY', 'COUNTRY', 'TIME', 'IMAGE_LABELS', 'CAPTION_INTEREST',\n",
              "       'ACCESSIBILITY_CAPTION_INTEREST', 'IMAGE_LABEL_INTEREST',\n",
              "       'COMMENT_DISABLED', 'IS_VIDEO', 'HAS_AUDIO', 'VIDEO_VIEW_COUNT',\n",
              "       'DATETIME', 'YEAR', 'MONTH', 'DAY', 'DAYOFWEEK', 'HOUR', 'MINUTE'],\n",
              "      dtype='object')"
            ]
          },
          "metadata": {},
          "execution_count": 102
        }
      ]
    },
    {
      "cell_type": "code",
      "metadata": {
        "colab": {
          "base_uri": "https://localhost:8080/",
          "height": 692
        },
        "id": "rEWoJh98GMjH",
        "outputId": "21c0dd84-b0f7-42e7-d4f4-2de923ab293e"
      },
      "source": [
        "df[['CAPTION_INTEREST','ACCESSIBILITY_CAPTION_INTEREST']].head(20)"
      ],
      "execution_count": 103,
      "outputs": [
        {
          "output_type": "execute_result",
          "data": {
            "text/html": [
              "<div>\n",
              "<style scoped>\n",
              "    .dataframe tbody tr th:only-of-type {\n",
              "        vertical-align: middle;\n",
              "    }\n",
              "\n",
              "    .dataframe tbody tr th {\n",
              "        vertical-align: top;\n",
              "    }\n",
              "\n",
              "    .dataframe thead th {\n",
              "        text-align: right;\n",
              "    }\n",
              "</style>\n",
              "<table border=\"1\" class=\"dataframe\">\n",
              "  <thead>\n",
              "    <tr style=\"text-align: right;\">\n",
              "      <th></th>\n",
              "      <th>CAPTION_INTEREST</th>\n",
              "      <th>ACCESSIBILITY_CAPTION_INTEREST</th>\n",
              "    </tr>\n",
              "    <tr>\n",
              "      <th>LINE_NUM_INDEX</th>\n",
              "      <th></th>\n",
              "      <th></th>\n",
              "    </tr>\n",
              "  </thead>\n",
              "  <tbody>\n",
              "    <tr>\n",
              "      <th>1918</th>\n",
              "      <td>education</td>\n",
              "      <td>movies</td>\n",
              "    </tr>\n",
              "    <tr>\n",
              "      <th>1919</th>\n",
              "      <td>news</td>\n",
              "      <td>arts_entertainment</td>\n",
              "    </tr>\n",
              "    <tr>\n",
              "      <th>1920</th>\n",
              "      <td>education</td>\n",
              "      <td>arts_entertainment</td>\n",
              "    </tr>\n",
              "    <tr>\n",
              "      <th>1921</th>\n",
              "      <td>style_fashion</td>\n",
              "      <td>arts_entertainment</td>\n",
              "    </tr>\n",
              "    <tr>\n",
              "      <th>1922</th>\n",
              "      <td>NaN</td>\n",
              "      <td>news</td>\n",
              "    </tr>\n",
              "    <tr>\n",
              "      <th>1923</th>\n",
              "      <td>NaN</td>\n",
              "      <td>arts_entertainment</td>\n",
              "    </tr>\n",
              "    <tr>\n",
              "      <th>1924</th>\n",
              "      <td>NaN</td>\n",
              "      <td>arts_entertainment</td>\n",
              "    </tr>\n",
              "    <tr>\n",
              "      <th>1925</th>\n",
              "      <td>NaN</td>\n",
              "      <td>arts_entertainment</td>\n",
              "    </tr>\n",
              "    <tr>\n",
              "      <th>1926</th>\n",
              "      <td>parenting</td>\n",
              "      <td>travel</td>\n",
              "    </tr>\n",
              "    <tr>\n",
              "      <th>1927</th>\n",
              "      <td>style_fashion</td>\n",
              "      <td>music</td>\n",
              "    </tr>\n",
              "    <tr>\n",
              "      <th>1928</th>\n",
              "      <td>humor</td>\n",
              "      <td>entertainment</td>\n",
              "    </tr>\n",
              "    <tr>\n",
              "      <th>1929</th>\n",
              "      <td>entertainment</td>\n",
              "      <td>music</td>\n",
              "    </tr>\n",
              "    <tr>\n",
              "      <th>1930</th>\n",
              "      <td>education</td>\n",
              "      <td>NaN</td>\n",
              "    </tr>\n",
              "    <tr>\n",
              "      <th>1931</th>\n",
              "      <td>NaN</td>\n",
              "      <td>arts_entertainment</td>\n",
              "    </tr>\n",
              "    <tr>\n",
              "      <th>1932</th>\n",
              "      <td>desserts_baking</td>\n",
              "      <td>travel</td>\n",
              "    </tr>\n",
              "    <tr>\n",
              "      <th>1933</th>\n",
              "      <td>food_drink</td>\n",
              "      <td>news</td>\n",
              "    </tr>\n",
              "    <tr>\n",
              "      <th>1934</th>\n",
              "      <td>desserts_baking</td>\n",
              "      <td>NaN</td>\n",
              "    </tr>\n",
              "    <tr>\n",
              "      <th>1935</th>\n",
              "      <td>dating_and_relationships</td>\n",
              "      <td>NaN</td>\n",
              "    </tr>\n",
              "    <tr>\n",
              "      <th>1936</th>\n",
              "      <td>arts_entertainment</td>\n",
              "      <td>movies</td>\n",
              "    </tr>\n",
              "    <tr>\n",
              "      <th>1937</th>\n",
              "      <td>travel</td>\n",
              "      <td>arts_entertainment</td>\n",
              "    </tr>\n",
              "  </tbody>\n",
              "</table>\n",
              "</div>"
            ],
            "text/plain": [
              "                        CAPTION_INTEREST ACCESSIBILITY_CAPTION_INTEREST\n",
              "LINE_NUM_INDEX                                                         \n",
              "1918                           education                         movies\n",
              "1919                                news             arts_entertainment\n",
              "1920                           education             arts_entertainment\n",
              "1921                       style_fashion             arts_entertainment\n",
              "1922                                 NaN                           news\n",
              "1923                                 NaN             arts_entertainment\n",
              "1924                                 NaN             arts_entertainment\n",
              "1925                                 NaN             arts_entertainment\n",
              "1926                           parenting                         travel\n",
              "1927                       style_fashion                          music\n",
              "1928                               humor                  entertainment\n",
              "1929                       entertainment                          music\n",
              "1930                           education                            NaN\n",
              "1931                                 NaN             arts_entertainment\n",
              "1932                     desserts_baking                         travel\n",
              "1933                          food_drink                           news\n",
              "1934                     desserts_baking                            NaN\n",
              "1935            dating_and_relationships                            NaN\n",
              "1936                  arts_entertainment                         movies\n",
              "1937                              travel             arts_entertainment"
            ]
          },
          "metadata": {},
          "execution_count": 103
        }
      ]
    },
    {
      "cell_type": "code",
      "metadata": {
        "colab": {
          "base_uri": "https://localhost:8080/",
          "height": 110
        },
        "id": "XNhBGf_vIyTS",
        "outputId": "ac610d96-3745-4de0-c1c6-b9a5aec27a21"
      },
      "source": [
        "df[df.index == 1932][['URL','CAPTION_INTEREST','ACCESSIBILITY_CAPTION_INTEREST']] # name, "
      ],
      "execution_count": 104,
      "outputs": [
        {
          "output_type": "execute_result",
          "data": {
            "text/html": [
              "<div>\n",
              "<style scoped>\n",
              "    .dataframe tbody tr th:only-of-type {\n",
              "        vertical-align: middle;\n",
              "    }\n",
              "\n",
              "    .dataframe tbody tr th {\n",
              "        vertical-align: top;\n",
              "    }\n",
              "\n",
              "    .dataframe thead th {\n",
              "        text-align: right;\n",
              "    }\n",
              "</style>\n",
              "<table border=\"1\" class=\"dataframe\">\n",
              "  <thead>\n",
              "    <tr style=\"text-align: right;\">\n",
              "      <th></th>\n",
              "      <th>URL</th>\n",
              "      <th>CAPTION_INTEREST</th>\n",
              "      <th>ACCESSIBILITY_CAPTION_INTEREST</th>\n",
              "    </tr>\n",
              "    <tr>\n",
              "      <th>LINE_NUM_INDEX</th>\n",
              "      <th></th>\n",
              "      <th></th>\n",
              "      <th></th>\n",
              "    </tr>\n",
              "  </thead>\n",
              "  <tbody>\n",
              "    <tr>\n",
              "      <th>1932</th>\n",
              "      <td>https://www.instagram.com/p/CQAzST6hwxG</td>\n",
              "      <td>desserts_baking</td>\n",
              "      <td>travel</td>\n",
              "    </tr>\n",
              "  </tbody>\n",
              "</table>\n",
              "</div>"
            ],
            "text/plain": [
              "                                                    URL  ... ACCESSIBILITY_CAPTION_INTEREST\n",
              "LINE_NUM_INDEX                                           ...                               \n",
              "1932            https://www.instagram.com/p/CQAzST6hwxG  ...                         travel\n",
              "\n",
              "[1 rows x 3 columns]"
            ]
          },
          "metadata": {},
          "execution_count": 104
        }
      ]
    },
    {
      "cell_type": "markdown",
      "metadata": {
        "id": "n_YgP0eGJBuU"
      },
      "source": [
        "there are 308 combination as CAPTION_INTEREST and ACCESSIBILITY_CAPTION_INTEREST"
      ]
    },
    {
      "cell_type": "code",
      "metadata": {
        "colab": {
          "base_uri": "https://localhost:8080/",
          "height": 1000
        },
        "id": "RyfBkf7yGViq",
        "outputId": "6922853e-0442-411c-d2e1-475d3ef36906"
      },
      "source": [
        "df.groupby(['CAPTION_INTEREST','ACCESSIBILITY_CAPTION_INTEREST']).size().sort_values(ascending=False).reset_index(name='counts').head(50)"
      ],
      "execution_count": 105,
      "outputs": [
        {
          "output_type": "execute_result",
          "data": {
            "text/html": [
              "<div>\n",
              "<style scoped>\n",
              "    .dataframe tbody tr th:only-of-type {\n",
              "        vertical-align: middle;\n",
              "    }\n",
              "\n",
              "    .dataframe tbody tr th {\n",
              "        vertical-align: top;\n",
              "    }\n",
              "\n",
              "    .dataframe thead th {\n",
              "        text-align: right;\n",
              "    }\n",
              "</style>\n",
              "<table border=\"1\" class=\"dataframe\">\n",
              "  <thead>\n",
              "    <tr style=\"text-align: right;\">\n",
              "      <th></th>\n",
              "      <th>CAPTION_INTEREST</th>\n",
              "      <th>ACCESSIBILITY_CAPTION_INTEREST</th>\n",
              "      <th>counts</th>\n",
              "    </tr>\n",
              "  </thead>\n",
              "  <tbody>\n",
              "    <tr>\n",
              "      <th>0</th>\n",
              "      <td>parenting</td>\n",
              "      <td>arts_entertainment</td>\n",
              "      <td>229</td>\n",
              "    </tr>\n",
              "    <tr>\n",
              "      <th>1</th>\n",
              "      <td>style_fashion</td>\n",
              "      <td>arts_entertainment</td>\n",
              "      <td>202</td>\n",
              "    </tr>\n",
              "    <tr>\n",
              "      <th>2</th>\n",
              "      <td>arts_entertainment</td>\n",
              "      <td>arts_entertainment</td>\n",
              "      <td>193</td>\n",
              "    </tr>\n",
              "    <tr>\n",
              "      <th>3</th>\n",
              "      <td>style_fashion</td>\n",
              "      <td>style_fashion</td>\n",
              "      <td>160</td>\n",
              "    </tr>\n",
              "    <tr>\n",
              "      <th>4</th>\n",
              "      <td>arts_entertainment</td>\n",
              "      <td>travel</td>\n",
              "      <td>143</td>\n",
              "    </tr>\n",
              "    <tr>\n",
              "      <th>5</th>\n",
              "      <td>parenting</td>\n",
              "      <td>travel</td>\n",
              "      <td>129</td>\n",
              "    </tr>\n",
              "    <tr>\n",
              "      <th>6</th>\n",
              "      <td>education</td>\n",
              "      <td>arts_entertainment</td>\n",
              "      <td>122</td>\n",
              "    </tr>\n",
              "    <tr>\n",
              "      <th>7</th>\n",
              "      <td>food_drink</td>\n",
              "      <td>arts_entertainment</td>\n",
              "      <td>115</td>\n",
              "    </tr>\n",
              "    <tr>\n",
              "      <th>8</th>\n",
              "      <td>style_fashion</td>\n",
              "      <td>travel</td>\n",
              "      <td>91</td>\n",
              "    </tr>\n",
              "    <tr>\n",
              "      <th>9</th>\n",
              "      <td>travel</td>\n",
              "      <td>arts_entertainment</td>\n",
              "      <td>74</td>\n",
              "    </tr>\n",
              "    <tr>\n",
              "      <th>10</th>\n",
              "      <td>dating_and_relationships</td>\n",
              "      <td>arts_entertainment</td>\n",
              "      <td>69</td>\n",
              "    </tr>\n",
              "    <tr>\n",
              "      <th>11</th>\n",
              "      <td>food_drink</td>\n",
              "      <td>food_drink</td>\n",
              "      <td>69</td>\n",
              "    </tr>\n",
              "    <tr>\n",
              "      <th>12</th>\n",
              "      <td>parenting</td>\n",
              "      <td>parenting</td>\n",
              "      <td>68</td>\n",
              "    </tr>\n",
              "    <tr>\n",
              "      <th>13</th>\n",
              "      <td>parenting</td>\n",
              "      <td>style_fashion</td>\n",
              "      <td>63</td>\n",
              "    </tr>\n",
              "    <tr>\n",
              "      <th>14</th>\n",
              "      <td>arts_entertainment</td>\n",
              "      <td>parenting</td>\n",
              "      <td>59</td>\n",
              "    </tr>\n",
              "    <tr>\n",
              "      <th>15</th>\n",
              "      <td>education</td>\n",
              "      <td>travel</td>\n",
              "      <td>57</td>\n",
              "    </tr>\n",
              "    <tr>\n",
              "      <th>16</th>\n",
              "      <td>arts_entertainment</td>\n",
              "      <td>style_fashion</td>\n",
              "      <td>52</td>\n",
              "    </tr>\n",
              "    <tr>\n",
              "      <th>17</th>\n",
              "      <td>travel</td>\n",
              "      <td>travel</td>\n",
              "      <td>45</td>\n",
              "    </tr>\n",
              "    <tr>\n",
              "      <th>18</th>\n",
              "      <td>parenting</td>\n",
              "      <td>food_drink</td>\n",
              "      <td>45</td>\n",
              "    </tr>\n",
              "    <tr>\n",
              "      <th>19</th>\n",
              "      <td>pets</td>\n",
              "      <td>arts_entertainment</td>\n",
              "      <td>43</td>\n",
              "    </tr>\n",
              "    <tr>\n",
              "      <th>20</th>\n",
              "      <td>music</td>\n",
              "      <td>arts_entertainment</td>\n",
              "      <td>40</td>\n",
              "    </tr>\n",
              "    <tr>\n",
              "      <th>21</th>\n",
              "      <td>parenting</td>\n",
              "      <td>events</td>\n",
              "      <td>38</td>\n",
              "    </tr>\n",
              "    <tr>\n",
              "      <th>22</th>\n",
              "      <td>arts_entertainment</td>\n",
              "      <td>food_drink</td>\n",
              "      <td>37</td>\n",
              "    </tr>\n",
              "    <tr>\n",
              "      <th>23</th>\n",
              "      <td>food_drink</td>\n",
              "      <td>travel</td>\n",
              "      <td>36</td>\n",
              "    </tr>\n",
              "    <tr>\n",
              "      <th>24</th>\n",
              "      <td>dating_and_relationships</td>\n",
              "      <td>travel</td>\n",
              "      <td>35</td>\n",
              "    </tr>\n",
              "    <tr>\n",
              "      <th>25</th>\n",
              "      <td>arts_entertainment</td>\n",
              "      <td>events</td>\n",
              "      <td>32</td>\n",
              "    </tr>\n",
              "    <tr>\n",
              "      <th>26</th>\n",
              "      <td>weddings</td>\n",
              "      <td>arts_entertainment</td>\n",
              "      <td>30</td>\n",
              "    </tr>\n",
              "    <tr>\n",
              "      <th>27</th>\n",
              "      <td>travel</td>\n",
              "      <td>style_fashion</td>\n",
              "      <td>24</td>\n",
              "    </tr>\n",
              "    <tr>\n",
              "      <th>28</th>\n",
              "      <td>style_fashion</td>\n",
              "      <td>events</td>\n",
              "      <td>24</td>\n",
              "    </tr>\n",
              "    <tr>\n",
              "      <th>29</th>\n",
              "      <td>food_drink</td>\n",
              "      <td>style_fashion</td>\n",
              "      <td>23</td>\n",
              "    </tr>\n",
              "    <tr>\n",
              "      <th>30</th>\n",
              "      <td>pets</td>\n",
              "      <td>travel</td>\n",
              "      <td>23</td>\n",
              "    </tr>\n",
              "    <tr>\n",
              "      <th>31</th>\n",
              "      <td>parenting</td>\n",
              "      <td>movies</td>\n",
              "      <td>22</td>\n",
              "    </tr>\n",
              "    <tr>\n",
              "      <th>32</th>\n",
              "      <td>news</td>\n",
              "      <td>arts_entertainment</td>\n",
              "      <td>22</td>\n",
              "    </tr>\n",
              "    <tr>\n",
              "      <th>33</th>\n",
              "      <td>style_fashion</td>\n",
              "      <td>parenting</td>\n",
              "      <td>21</td>\n",
              "    </tr>\n",
              "    <tr>\n",
              "      <th>34</th>\n",
              "      <td>education</td>\n",
              "      <td>style_fashion</td>\n",
              "      <td>20</td>\n",
              "    </tr>\n",
              "    <tr>\n",
              "      <th>35</th>\n",
              "      <td>events</td>\n",
              "      <td>arts_entertainment</td>\n",
              "      <td>20</td>\n",
              "    </tr>\n",
              "    <tr>\n",
              "      <th>36</th>\n",
              "      <td>dating_and_relationships</td>\n",
              "      <td>style_fashion</td>\n",
              "      <td>20</td>\n",
              "    </tr>\n",
              "    <tr>\n",
              "      <th>37</th>\n",
              "      <td>parenting</td>\n",
              "      <td>pets</td>\n",
              "      <td>18</td>\n",
              "    </tr>\n",
              "    <tr>\n",
              "      <th>38</th>\n",
              "      <td>style_fashion</td>\n",
              "      <td>food_drink</td>\n",
              "      <td>18</td>\n",
              "    </tr>\n",
              "    <tr>\n",
              "      <th>39</th>\n",
              "      <td>business</td>\n",
              "      <td>arts_entertainment</td>\n",
              "      <td>17</td>\n",
              "    </tr>\n",
              "    <tr>\n",
              "      <th>40</th>\n",
              "      <td>food_drink</td>\n",
              "      <td>events</td>\n",
              "      <td>16</td>\n",
              "    </tr>\n",
              "    <tr>\n",
              "      <th>41</th>\n",
              "      <td>movies</td>\n",
              "      <td>arts_entertainment</td>\n",
              "      <td>15</td>\n",
              "    </tr>\n",
              "    <tr>\n",
              "      <th>42</th>\n",
              "      <td>style_fashion</td>\n",
              "      <td>music</td>\n",
              "      <td>15</td>\n",
              "    </tr>\n",
              "    <tr>\n",
              "      <th>43</th>\n",
              "      <td>weddings</td>\n",
              "      <td>travel</td>\n",
              "      <td>15</td>\n",
              "    </tr>\n",
              "    <tr>\n",
              "      <th>44</th>\n",
              "      <td>pets</td>\n",
              "      <td>parenting</td>\n",
              "      <td>15</td>\n",
              "    </tr>\n",
              "    <tr>\n",
              "      <th>45</th>\n",
              "      <td>pets</td>\n",
              "      <td>events</td>\n",
              "      <td>15</td>\n",
              "    </tr>\n",
              "    <tr>\n",
              "      <th>46</th>\n",
              "      <td>food_drink</td>\n",
              "      <td>parenting</td>\n",
              "      <td>14</td>\n",
              "    </tr>\n",
              "    <tr>\n",
              "      <th>47</th>\n",
              "      <td>dating_and_relationships</td>\n",
              "      <td>parenting</td>\n",
              "      <td>13</td>\n",
              "    </tr>\n",
              "    <tr>\n",
              "      <th>48</th>\n",
              "      <td>sports</td>\n",
              "      <td>arts_entertainment</td>\n",
              "      <td>13</td>\n",
              "    </tr>\n",
              "    <tr>\n",
              "      <th>49</th>\n",
              "      <td>pets</td>\n",
              "      <td>style_fashion</td>\n",
              "      <td>13</td>\n",
              "    </tr>\n",
              "  </tbody>\n",
              "</table>\n",
              "</div>"
            ],
            "text/plain": [
              "            CAPTION_INTEREST ACCESSIBILITY_CAPTION_INTEREST  counts\n",
              "0                  parenting             arts_entertainment     229\n",
              "1              style_fashion             arts_entertainment     202\n",
              "2         arts_entertainment             arts_entertainment     193\n",
              "3              style_fashion                  style_fashion     160\n",
              "4         arts_entertainment                         travel     143\n",
              "5                  parenting                         travel     129\n",
              "6                  education             arts_entertainment     122\n",
              "7                 food_drink             arts_entertainment     115\n",
              "8              style_fashion                         travel      91\n",
              "9                     travel             arts_entertainment      74\n",
              "10  dating_and_relationships             arts_entertainment      69\n",
              "11                food_drink                     food_drink      69\n",
              "12                 parenting                      parenting      68\n",
              "13                 parenting                  style_fashion      63\n",
              "14        arts_entertainment                      parenting      59\n",
              "15                 education                         travel      57\n",
              "16        arts_entertainment                  style_fashion      52\n",
              "17                    travel                         travel      45\n",
              "18                 parenting                     food_drink      45\n",
              "19                      pets             arts_entertainment      43\n",
              "20                     music             arts_entertainment      40\n",
              "21                 parenting                         events      38\n",
              "22        arts_entertainment                     food_drink      37\n",
              "23                food_drink                         travel      36\n",
              "24  dating_and_relationships                         travel      35\n",
              "25        arts_entertainment                         events      32\n",
              "26                  weddings             arts_entertainment      30\n",
              "27                    travel                  style_fashion      24\n",
              "28             style_fashion                         events      24\n",
              "29                food_drink                  style_fashion      23\n",
              "30                      pets                         travel      23\n",
              "31                 parenting                         movies      22\n",
              "32                      news             arts_entertainment      22\n",
              "33             style_fashion                      parenting      21\n",
              "34                 education                  style_fashion      20\n",
              "35                    events             arts_entertainment      20\n",
              "36  dating_and_relationships                  style_fashion      20\n",
              "37                 parenting                           pets      18\n",
              "38             style_fashion                     food_drink      18\n",
              "39                  business             arts_entertainment      17\n",
              "40                food_drink                         events      16\n",
              "41                    movies             arts_entertainment      15\n",
              "42             style_fashion                          music      15\n",
              "43                  weddings                         travel      15\n",
              "44                      pets                      parenting      15\n",
              "45                      pets                         events      15\n",
              "46                food_drink                      parenting      14\n",
              "47  dating_and_relationships                      parenting      13\n",
              "48                    sports             arts_entertainment      13\n",
              "49                      pets                  style_fashion      13"
            ]
          },
          "metadata": {},
          "execution_count": 105
        }
      ]
    },
    {
      "cell_type": "markdown",
      "metadata": {
        "id": "kt-1qSIIH2Mm"
      },
      "source": [
        "there are 35 unique CAPTION_INTEREST\n"
      ]
    },
    {
      "cell_type": "code",
      "metadata": {
        "colab": {
          "base_uri": "https://localhost:8080/",
          "height": 1000
        },
        "id": "RuNi4pnJHsIj",
        "outputId": "a989d732-5fb0-4a77-8d0b-bb3be4ddc85f"
      },
      "source": [
        "df.groupby(['CAPTION_INTEREST']).size().sort_values(ascending=False).reset_index(name='counts').head(50)"
      ],
      "execution_count": 106,
      "outputs": [
        {
          "output_type": "execute_result",
          "data": {
            "text/html": [
              "<div>\n",
              "<style scoped>\n",
              "    .dataframe tbody tr th:only-of-type {\n",
              "        vertical-align: middle;\n",
              "    }\n",
              "\n",
              "    .dataframe tbody tr th {\n",
              "        vertical-align: top;\n",
              "    }\n",
              "\n",
              "    .dataframe thead th {\n",
              "        text-align: right;\n",
              "    }\n",
              "</style>\n",
              "<table border=\"1\" class=\"dataframe\">\n",
              "  <thead>\n",
              "    <tr style=\"text-align: right;\">\n",
              "      <th></th>\n",
              "      <th>CAPTION_INTEREST</th>\n",
              "      <th>counts</th>\n",
              "    </tr>\n",
              "  </thead>\n",
              "  <tbody>\n",
              "    <tr>\n",
              "      <th>0</th>\n",
              "      <td>parenting</td>\n",
              "      <td>804</td>\n",
              "    </tr>\n",
              "    <tr>\n",
              "      <th>1</th>\n",
              "      <td>arts_entertainment</td>\n",
              "      <td>680</td>\n",
              "    </tr>\n",
              "    <tr>\n",
              "      <th>2</th>\n",
              "      <td>style_fashion</td>\n",
              "      <td>657</td>\n",
              "    </tr>\n",
              "    <tr>\n",
              "      <th>3</th>\n",
              "      <td>food_drink</td>\n",
              "      <td>363</td>\n",
              "    </tr>\n",
              "    <tr>\n",
              "      <th>4</th>\n",
              "      <td>education</td>\n",
              "      <td>335</td>\n",
              "    </tr>\n",
              "    <tr>\n",
              "      <th>5</th>\n",
              "      <td>dating_and_relationships</td>\n",
              "      <td>249</td>\n",
              "    </tr>\n",
              "    <tr>\n",
              "      <th>6</th>\n",
              "      <td>travel</td>\n",
              "      <td>246</td>\n",
              "    </tr>\n",
              "    <tr>\n",
              "      <th>7</th>\n",
              "      <td>pets</td>\n",
              "      <td>152</td>\n",
              "    </tr>\n",
              "    <tr>\n",
              "      <th>8</th>\n",
              "      <td>music</td>\n",
              "      <td>117</td>\n",
              "    </tr>\n",
              "    <tr>\n",
              "      <th>9</th>\n",
              "      <td>weddings</td>\n",
              "      <td>84</td>\n",
              "    </tr>\n",
              "    <tr>\n",
              "      <th>10</th>\n",
              "      <td>news</td>\n",
              "      <td>79</td>\n",
              "    </tr>\n",
              "    <tr>\n",
              "      <th>11</th>\n",
              "      <td>business</td>\n",
              "      <td>59</td>\n",
              "    </tr>\n",
              "    <tr>\n",
              "      <th>12</th>\n",
              "      <td>humor</td>\n",
              "      <td>52</td>\n",
              "    </tr>\n",
              "    <tr>\n",
              "      <th>13</th>\n",
              "      <td>movies</td>\n",
              "      <td>49</td>\n",
              "    </tr>\n",
              "    <tr>\n",
              "      <th>14</th>\n",
              "      <td>desserts_baking</td>\n",
              "      <td>43</td>\n",
              "    </tr>\n",
              "    <tr>\n",
              "      <th>15</th>\n",
              "      <td>entertainment</td>\n",
              "      <td>42</td>\n",
              "    </tr>\n",
              "    <tr>\n",
              "      <th>16</th>\n",
              "      <td>sports</td>\n",
              "      <td>40</td>\n",
              "    </tr>\n",
              "    <tr>\n",
              "      <th>17</th>\n",
              "      <td>events</td>\n",
              "      <td>40</td>\n",
              "    </tr>\n",
              "    <tr>\n",
              "      <th>18</th>\n",
              "      <td>politics</td>\n",
              "      <td>34</td>\n",
              "    </tr>\n",
              "    <tr>\n",
              "      <th>19</th>\n",
              "      <td>health</td>\n",
              "      <td>31</td>\n",
              "    </tr>\n",
              "    <tr>\n",
              "      <th>20</th>\n",
              "      <td>technology_computing</td>\n",
              "      <td>26</td>\n",
              "    </tr>\n",
              "    <tr>\n",
              "      <th>21</th>\n",
              "      <td>home_garden</td>\n",
              "      <td>23</td>\n",
              "    </tr>\n",
              "    <tr>\n",
              "      <th>22</th>\n",
              "      <td>gaming</td>\n",
              "      <td>21</td>\n",
              "    </tr>\n",
              "    <tr>\n",
              "      <th>23</th>\n",
              "      <td>chef</td>\n",
              "      <td>16</td>\n",
              "    </tr>\n",
              "    <tr>\n",
              "      <th>24</th>\n",
              "      <td>fitness</td>\n",
              "      <td>14</td>\n",
              "    </tr>\n",
              "    <tr>\n",
              "      <th>25</th>\n",
              "      <td>accessories</td>\n",
              "      <td>12</td>\n",
              "    </tr>\n",
              "    <tr>\n",
              "      <th>26</th>\n",
              "      <td>comic_books</td>\n",
              "      <td>10</td>\n",
              "    </tr>\n",
              "    <tr>\n",
              "      <th>27</th>\n",
              "      <td>hobbies_interests</td>\n",
              "      <td>8</td>\n",
              "    </tr>\n",
              "    <tr>\n",
              "      <th>28</th>\n",
              "      <td>books_literature</td>\n",
              "      <td>8</td>\n",
              "    </tr>\n",
              "    <tr>\n",
              "      <th>29</th>\n",
              "      <td>podcasts</td>\n",
              "      <td>8</td>\n",
              "    </tr>\n",
              "    <tr>\n",
              "      <th>30</th>\n",
              "      <td>legal</td>\n",
              "      <td>3</td>\n",
              "    </tr>\n",
              "    <tr>\n",
              "      <th>31</th>\n",
              "      <td>baking_cooking</td>\n",
              "      <td>2</td>\n",
              "    </tr>\n",
              "    <tr>\n",
              "      <th>32</th>\n",
              "      <td>finance</td>\n",
              "      <td>1</td>\n",
              "    </tr>\n",
              "    <tr>\n",
              "      <th>33</th>\n",
              "      <td>cars_motorcycles</td>\n",
              "      <td>1</td>\n",
              "    </tr>\n",
              "    <tr>\n",
              "      <th>34</th>\n",
              "      <td>barbecues_grilling</td>\n",
              "      <td>1</td>\n",
              "    </tr>\n",
              "  </tbody>\n",
              "</table>\n",
              "</div>"
            ],
            "text/plain": [
              "            CAPTION_INTEREST  counts\n",
              "0                  parenting     804\n",
              "1         arts_entertainment     680\n",
              "2              style_fashion     657\n",
              "3                 food_drink     363\n",
              "4                  education     335\n",
              "5   dating_and_relationships     249\n",
              "6                     travel     246\n",
              "7                       pets     152\n",
              "8                      music     117\n",
              "9                   weddings      84\n",
              "10                      news      79\n",
              "11                  business      59\n",
              "12                     humor      52\n",
              "13                    movies      49\n",
              "14           desserts_baking      43\n",
              "15             entertainment      42\n",
              "16                    sports      40\n",
              "17                    events      40\n",
              "18                  politics      34\n",
              "19                    health      31\n",
              "20      technology_computing      26\n",
              "21               home_garden      23\n",
              "22                    gaming      21\n",
              "23                      chef      16\n",
              "24                   fitness      14\n",
              "25               accessories      12\n",
              "26               comic_books      10\n",
              "27         hobbies_interests       8\n",
              "28          books_literature       8\n",
              "29                  podcasts       8\n",
              "30                     legal       3\n",
              "31            baking_cooking       2\n",
              "32                   finance       1\n",
              "33          cars_motorcycles       1\n",
              "34        barbecues_grilling       1"
            ]
          },
          "metadata": {},
          "execution_count": 106
        }
      ]
    },
    {
      "cell_type": "markdown",
      "metadata": {
        "id": "cwsqII4BILNz"
      },
      "source": [
        "there are 26 unique ACCESSIBILITY_CAPTION_INTEREST\n"
      ]
    },
    {
      "cell_type": "code",
      "metadata": {
        "colab": {
          "base_uri": "https://localhost:8080/",
          "height": 845
        },
        "id": "TMSR-DOfIFuG",
        "outputId": "4be63f1c-77dd-4019-9f05-2e338a6a70f7"
      },
      "source": [
        "df.groupby(['ACCESSIBILITY_CAPTION_INTEREST']).size().sort_values(ascending=False).reset_index(name='counts').head(30)"
      ],
      "execution_count": 107,
      "outputs": [
        {
          "output_type": "execute_result",
          "data": {
            "text/html": [
              "<div>\n",
              "<style scoped>\n",
              "    .dataframe tbody tr th:only-of-type {\n",
              "        vertical-align: middle;\n",
              "    }\n",
              "\n",
              "    .dataframe tbody tr th {\n",
              "        vertical-align: top;\n",
              "    }\n",
              "\n",
              "    .dataframe thead th {\n",
              "        text-align: right;\n",
              "    }\n",
              "</style>\n",
              "<table border=\"1\" class=\"dataframe\">\n",
              "  <thead>\n",
              "    <tr style=\"text-align: right;\">\n",
              "      <th></th>\n",
              "      <th>ACCESSIBILITY_CAPTION_INTEREST</th>\n",
              "      <th>counts</th>\n",
              "    </tr>\n",
              "  </thead>\n",
              "  <tbody>\n",
              "    <tr>\n",
              "      <th>0</th>\n",
              "      <td>arts_entertainment</td>\n",
              "      <td>1534</td>\n",
              "    </tr>\n",
              "    <tr>\n",
              "      <th>1</th>\n",
              "      <td>travel</td>\n",
              "      <td>724</td>\n",
              "    </tr>\n",
              "    <tr>\n",
              "      <th>2</th>\n",
              "      <td>style_fashion</td>\n",
              "      <td>464</td>\n",
              "    </tr>\n",
              "    <tr>\n",
              "      <th>3</th>\n",
              "      <td>food_drink</td>\n",
              "      <td>246</td>\n",
              "    </tr>\n",
              "    <tr>\n",
              "      <th>4</th>\n",
              "      <td>parenting</td>\n",
              "      <td>239</td>\n",
              "    </tr>\n",
              "    <tr>\n",
              "      <th>5</th>\n",
              "      <td>events</td>\n",
              "      <td>206</td>\n",
              "    </tr>\n",
              "    <tr>\n",
              "      <th>6</th>\n",
              "      <td>music</td>\n",
              "      <td>89</td>\n",
              "    </tr>\n",
              "    <tr>\n",
              "      <th>7</th>\n",
              "      <td>movies</td>\n",
              "      <td>83</td>\n",
              "    </tr>\n",
              "    <tr>\n",
              "      <th>8</th>\n",
              "      <td>pets</td>\n",
              "      <td>75</td>\n",
              "    </tr>\n",
              "    <tr>\n",
              "      <th>9</th>\n",
              "      <td>news</td>\n",
              "      <td>57</td>\n",
              "    </tr>\n",
              "    <tr>\n",
              "      <th>10</th>\n",
              "      <td>dating_and_relationships</td>\n",
              "      <td>35</td>\n",
              "    </tr>\n",
              "    <tr>\n",
              "      <th>11</th>\n",
              "      <td>books_literature</td>\n",
              "      <td>32</td>\n",
              "    </tr>\n",
              "    <tr>\n",
              "      <th>12</th>\n",
              "      <td>weddings</td>\n",
              "      <td>24</td>\n",
              "    </tr>\n",
              "    <tr>\n",
              "      <th>13</th>\n",
              "      <td>home_garden</td>\n",
              "      <td>22</td>\n",
              "    </tr>\n",
              "    <tr>\n",
              "      <th>14</th>\n",
              "      <td>entertainment</td>\n",
              "      <td>19</td>\n",
              "    </tr>\n",
              "    <tr>\n",
              "      <th>15</th>\n",
              "      <td>politics</td>\n",
              "      <td>17</td>\n",
              "    </tr>\n",
              "    <tr>\n",
              "      <th>16</th>\n",
              "      <td>health</td>\n",
              "      <td>14</td>\n",
              "    </tr>\n",
              "    <tr>\n",
              "      <th>17</th>\n",
              "      <td>sports</td>\n",
              "      <td>14</td>\n",
              "    </tr>\n",
              "    <tr>\n",
              "      <th>18</th>\n",
              "      <td>chef</td>\n",
              "      <td>11</td>\n",
              "    </tr>\n",
              "    <tr>\n",
              "      <th>19</th>\n",
              "      <td>business</td>\n",
              "      <td>9</td>\n",
              "    </tr>\n",
              "    <tr>\n",
              "      <th>20</th>\n",
              "      <td>fitness</td>\n",
              "      <td>7</td>\n",
              "    </tr>\n",
              "    <tr>\n",
              "      <th>21</th>\n",
              "      <td>education</td>\n",
              "      <td>7</td>\n",
              "    </tr>\n",
              "    <tr>\n",
              "      <th>22</th>\n",
              "      <td>accessories</td>\n",
              "      <td>5</td>\n",
              "    </tr>\n",
              "    <tr>\n",
              "      <th>23</th>\n",
              "      <td>podcasts</td>\n",
              "      <td>4</td>\n",
              "    </tr>\n",
              "    <tr>\n",
              "      <th>24</th>\n",
              "      <td>humor</td>\n",
              "      <td>3</td>\n",
              "    </tr>\n",
              "    <tr>\n",
              "      <th>25</th>\n",
              "      <td>technology_computing</td>\n",
              "      <td>3</td>\n",
              "    </tr>\n",
              "  </tbody>\n",
              "</table>\n",
              "</div>"
            ],
            "text/plain": [
              "   ACCESSIBILITY_CAPTION_INTEREST  counts\n",
              "0              arts_entertainment    1534\n",
              "1                          travel     724\n",
              "2                   style_fashion     464\n",
              "3                      food_drink     246\n",
              "4                       parenting     239\n",
              "5                          events     206\n",
              "6                           music      89\n",
              "7                          movies      83\n",
              "8                            pets      75\n",
              "9                            news      57\n",
              "10       dating_and_relationships      35\n",
              "11               books_literature      32\n",
              "12                       weddings      24\n",
              "13                    home_garden      22\n",
              "14                  entertainment      19\n",
              "15                       politics      17\n",
              "16                         health      14\n",
              "17                         sports      14\n",
              "18                           chef      11\n",
              "19                       business       9\n",
              "20                        fitness       7\n",
              "21                      education       7\n",
              "22                    accessories       5\n",
              "23                       podcasts       4\n",
              "24                          humor       3\n",
              "25           technology_computing       3"
            ]
          },
          "metadata": {},
          "execution_count": 107
        }
      ]
    },
    {
      "cell_type": "markdown",
      "metadata": {
        "id": "n5cW-lu2Vw_h"
      },
      "source": [
        "For Now (Eladk 2021-Sep-11) I'll fill every NaN with Null"
      ]
    },
    {
      "cell_type": "code",
      "metadata": {
        "id": "yUX6l3NkV5m1",
        "colab": {
          "base_uri": "https://localhost:8080/",
          "height": 822
        },
        "outputId": "ebc608a2-1a44-4b0e-afca-080bef41a152"
      },
      "source": [
        "msno.matrix(df)"
      ],
      "execution_count": 108,
      "outputs": [
        {
          "output_type": "execute_result",
          "data": {
            "text/plain": [
              "<matplotlib.axes._subplots.AxesSubplot at 0x7f9ca7276a50>"
            ]
          },
          "metadata": {},
          "execution_count": 108
        },
        {
          "output_type": "display_data",
          "data": {
            "image/png": "[encoded data removed]",
            "text/plain": [
              "<Figure size 1800x720 with 2 Axes>"
            ]
          },
          "metadata": {
            "needs_background": "light"
          }
        }
      ]
    },
    {
      "cell_type": "code",
      "metadata": {
        "id": "Z0zJFkodXwdY"
      },
      "source": [
        "#https://datatofish.com/rows-with-nan-pandas-dataframe/\n",
        "#len(df[df['FULLNAME'].isna()]) # 126 #849\n",
        "#df[df['FULLNAME'].isnull()]\n",
        "#df[df.isna().any(axis=1)] # len = 4020\n",
        "# df[df.isnull().any(axis=1)]"
      ],
      "execution_count": 109,
      "outputs": []
    },
    {
      "cell_type": "code",
      "metadata": {
        "id": "zMypjDEQXd2x",
        "colab": {
          "base_uri": "https://localhost:8080/"
        },
        "outputId": "57411dfd-52cb-42c7-9c59-9a1abc6375b5"
      },
      "source": [
        "for col in df.columns:\n",
        "    if len(df[df[col].isnull()]) > 0:\n",
        "      df[col] = df[col].fillna('Null')\n",
        "      print(col)"
      ],
      "execution_count": 110,
      "outputs": [
        {
          "output_type": "stream",
          "name": "stdout",
          "text": [
            "FULLNAME\n",
            "ACCESSIBILITY_CAPTION\n",
            "CAPTION\n",
            "LOCATION\n",
            "CITY\n",
            "COUNTRY\n",
            "IMAGE_LABELS\n",
            "CAPTION_INTEREST\n",
            "ACCESSIBILITY_CAPTION_INTEREST\n",
            "IMAGE_LABEL_INTEREST\n"
          ]
        }
      ]
    },
    {
      "cell_type": "code",
      "metadata": {
        "id": "EjV60NeaaTgG",
        "colab": {
          "base_uri": "https://localhost:8080/",
          "height": 822
        },
        "outputId": "a6969845-ac7d-4ae2-e6e2-ed19d9d17251"
      },
      "source": [
        "msno.matrix(df)"
      ],
      "execution_count": 111,
      "outputs": [
        {
          "output_type": "execute_result",
          "data": {
            "text/plain": [
              "<matplotlib.axes._subplots.AxesSubplot at 0x7f9ca7b62290>"
            ]
          },
          "metadata": {},
          "execution_count": 111
        },
        {
          "output_type": "display_data",
          "data": {
            "image/png": "[encoded data removed]",
            "text/plain": [
              "<Figure size 1800x720 with 2 Axes>"
            ]
          },
          "metadata": {
            "needs_background": "light"
          }
        }
      ]
    },
    {
      "cell_type": "markdown",
      "metadata": {
        "id": "88Rioz1FmEch"
      },
      "source": [
        "## Replacing Charecters  with Number uning OrdinalEncoder"
      ]
    },
    {
      "cell_type": "code",
      "metadata": {
        "id": "8SNxkSApbRPq"
      },
      "source": [
        "# list of char / object columns"
      ],
      "execution_count": 112,
      "outputs": []
    },
    {
      "cell_type": "code",
      "metadata": {
        "id": "-BjZYcZYiWpY",
        "colab": {
          "base_uri": "https://localhost:8080/"
        },
        "outputId": "390e2e8b-613e-4508-9c8c-adb2d8111086"
      },
      "source": [
        "df.dtypes"
      ],
      "execution_count": 113,
      "outputs": [
        {
          "output_type": "execute_result",
          "data": {
            "text/plain": [
              "USERID                                     int64\n",
              "USERNAME                                  object\n",
              "FULLNAME                                  object\n",
              "FOLLOWER                                   int64\n",
              "LIKES                                      int64\n",
              "COMMENTS                                   int64\n",
              "ENGAGEMENT                               float64\n",
              "URL                                       object\n",
              "ACCESSIBILITY_CAPTION                     object\n",
              "CAPTION                                   object\n",
              "LOCATION                                  object\n",
              "CITY                                      object\n",
              "COUNTRY                                   object\n",
              "TIME                                       int64\n",
              "IMAGE_LABELS                              object\n",
              "CAPTION_INTEREST                          object\n",
              "ACCESSIBILITY_CAPTION_INTEREST            object\n",
              "IMAGE_LABEL_INTEREST                      object\n",
              "COMMENT_DISABLED                           int64\n",
              "IS_VIDEO                                   int64\n",
              "HAS_AUDIO                                  int64\n",
              "VIDEO_VIEW_COUNT                         float64\n",
              "DATETIME                          datetime64[ns]\n",
              "YEAR                                       int64\n",
              "MONTH                                      int64\n",
              "DAY                                        int64\n",
              "DAYOFWEEK                                  int64\n",
              "HOUR                                       int64\n",
              "MINUTE                                     int64\n",
              "dtype: object"
            ]
          },
          "metadata": {},
          "execution_count": 113
        }
      ]
    },
    {
      "cell_type": "code",
      "metadata": {
        "id": "MCV7T7o8jZ7g",
        "colab": {
          "base_uri": "https://localhost:8080/"
        },
        "outputId": "86136fb8-6edd-456e-ab43-103f163f6785"
      },
      "source": [
        "df.select_dtypes(include=['object']).dtypes"
      ],
      "execution_count": 114,
      "outputs": [
        {
          "output_type": "execute_result",
          "data": {
            "text/plain": [
              "USERNAME                          object\n",
              "FULLNAME                          object\n",
              "URL                               object\n",
              "ACCESSIBILITY_CAPTION             object\n",
              "CAPTION                           object\n",
              "LOCATION                          object\n",
              "CITY                              object\n",
              "COUNTRY                           object\n",
              "IMAGE_LABELS                      object\n",
              "CAPTION_INTEREST                  object\n",
              "ACCESSIBILITY_CAPTION_INTEREST    object\n",
              "IMAGE_LABEL_INTEREST              object\n",
              "dtype: object"
            ]
          },
          "metadata": {},
          "execution_count": 114
        }
      ]
    },
    {
      "cell_type": "code",
      "metadata": {
        "id": "YMx9o7L_mwe4",
        "colab": {
          "base_uri": "https://localhost:8080/"
        },
        "outputId": "6d68f427-bac1-45bb-a6eb-e7385ec87455"
      },
      "source": [
        "df.select_dtypes(include=['object']).dtypes.index"
      ],
      "execution_count": 115,
      "outputs": [
        {
          "output_type": "execute_result",
          "data": {
            "text/plain": [
              "Index(['USERNAME', 'FULLNAME', 'URL', 'ACCESSIBILITY_CAPTION', 'CAPTION',\n",
              "       'LOCATION', 'CITY', 'COUNTRY', 'IMAGE_LABELS', 'CAPTION_INTEREST',\n",
              "       'ACCESSIBILITY_CAPTION_INTEREST', 'IMAGE_LABEL_INTEREST'],\n",
              "      dtype='object')"
            ]
          },
          "metadata": {},
          "execution_count": 115
        }
      ]
    },
    {
      "cell_type": "code",
      "metadata": {
        "id": "Fcr5t2FerRqu",
        "colab": {
          "base_uri": "https://localhost:8080/"
        },
        "outputId": "77cb766d-5793-471c-ef8a-e77c689800f3"
      },
      "source": [
        "df.info()"
      ],
      "execution_count": 116,
      "outputs": [
        {
          "output_type": "stream",
          "name": "stdout",
          "text": [
            "<class 'pandas.core.frame.DataFrame'>\n",
            "Int64Index: 4792 entries, 1918 to 6709\n",
            "Data columns (total 29 columns):\n",
            " #   Column                          Non-Null Count  Dtype         \n",
            "---  ------                          --------------  -----         \n",
            " 0   USERID                          4792 non-null   int64         \n",
            " 1   USERNAME                        4792 non-null   object        \n",
            " 2   FULLNAME                        4792 non-null   object        \n",
            " 3   FOLLOWER                        4792 non-null   int64         \n",
            " 4   LIKES                           4792 non-null   int64         \n",
            " 5   COMMENTS                        4792 non-null   int64         \n",
            " 6   ENGAGEMENT                      4792 non-null   float64       \n",
            " 7   URL                             4792 non-null   object        \n",
            " 8   ACCESSIBILITY_CAPTION           4792 non-null   object        \n",
            " 9   CAPTION                         4792 non-null   object        \n",
            " 10  LOCATION                        4792 non-null   object        \n",
            " 11  CITY                            4792 non-null   object        \n",
            " 12  COUNTRY                         4792 non-null   object        \n",
            " 13  TIME                            4792 non-null   int64         \n",
            " 14  IMAGE_LABELS                    4792 non-null   object        \n",
            " 15  CAPTION_INTEREST                4792 non-null   object        \n",
            " 16  ACCESSIBILITY_CAPTION_INTEREST  4792 non-null   object        \n",
            " 17  IMAGE_LABEL_INTEREST            4792 non-null   object        \n",
            " 18  COMMENT_DISABLED                4792 non-null   int64         \n",
            " 19  IS_VIDEO                        4792 non-null   int64         \n",
            " 20  HAS_AUDIO                       4792 non-null   int64         \n",
            " 21  VIDEO_VIEW_COUNT                4792 non-null   float64       \n",
            " 22  DATETIME                        4792 non-null   datetime64[ns]\n",
            " 23  YEAR                            4792 non-null   int64         \n",
            " 24  MONTH                           4792 non-null   int64         \n",
            " 25  DAY                             4792 non-null   int64         \n",
            " 26  DAYOFWEEK                       4792 non-null   int64         \n",
            " 27  HOUR                            4792 non-null   int64         \n",
            " 28  MINUTE                          4792 non-null   int64         \n",
            "dtypes: datetime64[ns](1), float64(2), int64(14), object(12)\n",
            "memory usage: 1.1+ MB\n"
          ]
        }
      ]
    },
    {
      "cell_type": "code",
      "metadata": {
        "id": "IkMgjuAerpKx"
      },
      "source": [
        "enc = OrdinalEncoder()"
      ],
      "execution_count": 117,
      "outputs": []
    },
    {
      "cell_type": "markdown",
      "metadata": {
        "id": "5KJW3SiP1sKY"
      },
      "source": [
        "Many columns:"
      ]
    },
    {
      "cell_type": "code",
      "metadata": {
        "id": "q-SzoBLq3WCA"
      },
      "source": [
        "for col in df.select_dtypes(include=['object']).dtypes.index:\n",
        "#for col in ['USERNAME','FULLNAME']:\n",
        "  #col_list = pd.DataFrame(df[col].unique())\n",
        "  #col_list.rename(columns = {0:col},inplace=True)\n",
        "  #col_list.rename(columns = {0:col},inplace=True)\n",
        "  enc.fit(df[[col]])\n",
        "  df[col + '_OBJECT_AS_INT'] = enc.transform(df[[col]])\n",
        "  #print(col)"
      ],
      "execution_count": 118,
      "outputs": []
    },
    {
      "cell_type": "code",
      "metadata": {
        "id": "I0oUrGfpqre2",
        "colab": {
          "base_uri": "https://localhost:8080/"
        },
        "outputId": "f8b0b31c-f316-45c1-a7ec-6bb2fa2400f1"
      },
      "source": [
        "df.info()"
      ],
      "execution_count": 119,
      "outputs": [
        {
          "output_type": "stream",
          "name": "stdout",
          "text": [
            "<class 'pandas.core.frame.DataFrame'>\n",
            "Int64Index: 4792 entries, 1918 to 6709\n",
            "Data columns (total 41 columns):\n",
            " #   Column                                        Non-Null Count  Dtype         \n",
            "---  ------                                        --------------  -----         \n",
            " 0   USERID                                        4792 non-null   int64         \n",
            " 1   USERNAME                                      4792 non-null   object        \n",
            " 2   FULLNAME                                      4792 non-null   object        \n",
            " 3   FOLLOWER                                      4792 non-null   int64         \n",
            " 4   LIKES                                         4792 non-null   int64         \n",
            " 5   COMMENTS                                      4792 non-null   int64         \n",
            " 6   ENGAGEMENT                                    4792 non-null   float64       \n",
            " 7   URL                                           4792 non-null   object        \n",
            " 8   ACCESSIBILITY_CAPTION                         4792 non-null   object        \n",
            " 9   CAPTION                                       4792 non-null   object        \n",
            " 10  LOCATION                                      4792 non-null   object        \n",
            " 11  CITY                                          4792 non-null   object        \n",
            " 12  COUNTRY                                       4792 non-null   object        \n",
            " 13  TIME                                          4792 non-null   int64         \n",
            " 14  IMAGE_LABELS                                  4792 non-null   object        \n",
            " 15  CAPTION_INTEREST                              4792 non-null   object        \n",
            " 16  ACCESSIBILITY_CAPTION_INTEREST                4792 non-null   object        \n",
            " 17  IMAGE_LABEL_INTEREST                          4792 non-null   object        \n",
            " 18  COMMENT_DISABLED                              4792 non-null   int64         \n",
            " 19  IS_VIDEO                                      4792 non-null   int64         \n",
            " 20  HAS_AUDIO                                     4792 non-null   int64         \n",
            " 21  VIDEO_VIEW_COUNT                              4792 non-null   float64       \n",
            " 22  DATETIME                                      4792 non-null   datetime64[ns]\n",
            " 23  YEAR                                          4792 non-null   int64         \n",
            " 24  MONTH                                         4792 non-null   int64         \n",
            " 25  DAY                                           4792 non-null   int64         \n",
            " 26  DAYOFWEEK                                     4792 non-null   int64         \n",
            " 27  HOUR                                          4792 non-null   int64         \n",
            " 28  MINUTE                                        4792 non-null   int64         \n",
            " 29  USERNAME_OBJECT_AS_INT                        4792 non-null   float64       \n",
            " 30  FULLNAME_OBJECT_AS_INT                        4792 non-null   float64       \n",
            " 31  URL_OBJECT_AS_INT                             4792 non-null   float64       \n",
            " 32  ACCESSIBILITY_CAPTION_OBJECT_AS_INT           4792 non-null   float64       \n",
            " 33  CAPTION_OBJECT_AS_INT                         4792 non-null   float64       \n",
            " 34  LOCATION_OBJECT_AS_INT                        4792 non-null   float64       \n",
            " 35  CITY_OBJECT_AS_INT                            4792 non-null   float64       \n",
            " 36  COUNTRY_OBJECT_AS_INT                         4792 non-null   float64       \n",
            " 37  IMAGE_LABELS_OBJECT_AS_INT                    4792 non-null   float64       \n",
            " 38  CAPTION_INTEREST_OBJECT_AS_INT                4792 non-null   float64       \n",
            " 39  ACCESSIBILITY_CAPTION_INTEREST_OBJECT_AS_INT  4792 non-null   float64       \n",
            " 40  IMAGE_LABEL_INTEREST_OBJECT_AS_INT            4792 non-null   float64       \n",
            "dtypes: datetime64[ns](1), float64(14), int64(14), object(12)\n",
            "memory usage: 1.5+ MB\n"
          ]
        }
      ]
    },
    {
      "cell_type": "code",
      "metadata": {
        "colab": {
          "base_uri": "https://localhost:8080/",
          "height": 444
        },
        "id": "8rO3WVx9b3GF",
        "outputId": "557897bc-3ba6-4bdc-cec2-61f869dbcd33"
      },
      "source": [
        "df.head(2)"
      ],
      "execution_count": 120,
      "outputs": [
        {
          "output_type": "execute_result",
          "data": {
            "text/html": [
              "<div>\n",
              "<style scoped>\n",
              "    .dataframe tbody tr th:only-of-type {\n",
              "        vertical-align: middle;\n",
              "    }\n",
              "\n",
              "    .dataframe tbody tr th {\n",
              "        vertical-align: top;\n",
              "    }\n",
              "\n",
              "    .dataframe thead th {\n",
              "        text-align: right;\n",
              "    }\n",
              "</style>\n",
              "<table border=\"1\" class=\"dataframe\">\n",
              "  <thead>\n",
              "    <tr style=\"text-align: right;\">\n",
              "      <th></th>\n",
              "      <th>USERID</th>\n",
              "      <th>USERNAME</th>\n",
              "      <th>FULLNAME</th>\n",
              "      <th>FOLLOWER</th>\n",
              "      <th>LIKES</th>\n",
              "      <th>COMMENTS</th>\n",
              "      <th>ENGAGEMENT</th>\n",
              "      <th>URL</th>\n",
              "      <th>ACCESSIBILITY_CAPTION</th>\n",
              "      <th>CAPTION</th>\n",
              "      <th>LOCATION</th>\n",
              "      <th>CITY</th>\n",
              "      <th>COUNTRY</th>\n",
              "      <th>TIME</th>\n",
              "      <th>IMAGE_LABELS</th>\n",
              "      <th>CAPTION_INTEREST</th>\n",
              "      <th>ACCESSIBILITY_CAPTION_INTEREST</th>\n",
              "      <th>IMAGE_LABEL_INTEREST</th>\n",
              "      <th>COMMENT_DISABLED</th>\n",
              "      <th>IS_VIDEO</th>\n",
              "      <th>HAS_AUDIO</th>\n",
              "      <th>VIDEO_VIEW_COUNT</th>\n",
              "      <th>DATETIME</th>\n",
              "      <th>YEAR</th>\n",
              "      <th>MONTH</th>\n",
              "      <th>DAY</th>\n",
              "      <th>DAYOFWEEK</th>\n",
              "      <th>HOUR</th>\n",
              "      <th>MINUTE</th>\n",
              "      <th>USERNAME_OBJECT_AS_INT</th>\n",
              "      <th>FULLNAME_OBJECT_AS_INT</th>\n",
              "      <th>URL_OBJECT_AS_INT</th>\n",
              "      <th>ACCESSIBILITY_CAPTION_OBJECT_AS_INT</th>\n",
              "      <th>CAPTION_OBJECT_AS_INT</th>\n",
              "      <th>LOCATION_OBJECT_AS_INT</th>\n",
              "      <th>CITY_OBJECT_AS_INT</th>\n",
              "      <th>COUNTRY_OBJECT_AS_INT</th>\n",
              "      <th>IMAGE_LABELS_OBJECT_AS_INT</th>\n",
              "      <th>CAPTION_INTEREST_OBJECT_AS_INT</th>\n",
              "      <th>ACCESSIBILITY_CAPTION_INTEREST_OBJECT_AS_INT</th>\n",
              "      <th>IMAGE_LABEL_INTEREST_OBJECT_AS_INT</th>\n",
              "    </tr>\n",
              "    <tr>\n",
              "      <th>LINE_NUM_INDEX</th>\n",
              "      <th></th>\n",
              "      <th></th>\n",
              "      <th></th>\n",
              "      <th></th>\n",
              "      <th></th>\n",
              "      <th></th>\n",
              "      <th></th>\n",
              "      <th></th>\n",
              "      <th></th>\n",
              "      <th></th>\n",
              "      <th></th>\n",
              "      <th></th>\n",
              "      <th></th>\n",
              "      <th></th>\n",
              "      <th></th>\n",
              "      <th></th>\n",
              "      <th></th>\n",
              "      <th></th>\n",
              "      <th></th>\n",
              "      <th></th>\n",
              "      <th></th>\n",
              "      <th></th>\n",
              "      <th></th>\n",
              "      <th></th>\n",
              "      <th></th>\n",
              "      <th></th>\n",
              "      <th></th>\n",
              "      <th></th>\n",
              "      <th></th>\n",
              "      <th></th>\n",
              "      <th></th>\n",
              "      <th></th>\n",
              "      <th></th>\n",
              "      <th></th>\n",
              "      <th></th>\n",
              "      <th></th>\n",
              "      <th></th>\n",
              "      <th></th>\n",
              "      <th></th>\n",
              "      <th></th>\n",
              "      <th></th>\n",
              "    </tr>\n",
              "  </thead>\n",
              "  <tbody>\n",
              "    <tr>\n",
              "      <th>1918</th>\n",
              "      <td>36193140327</td>\n",
              "      <td>elastici_e_passamaneria</td>\n",
              "      <td>Elastici e Passamaneria</td>\n",
              "      <td>1052</td>\n",
              "      <td>23</td>\n",
              "      <td>0</td>\n",
              "      <td>2.19</td>\n",
              "      <td>https://www.instagram.com/p/CMegChUlwm2</td>\n",
              "      <td>Photo by Elastici e Passamaneria on March 16, 2021.</td>\n",
              "      <td>FFP2 MADE IN ITALY????????#ffp2mask#italianstyle#madeinitaly????????#produzionepropria#produttori#farmacie#farmacieitaliane#parafarmacia#mascherinelavabili#mask#ffp2</td>\n",
              "      <td>Null</td>\n",
              "      <td>Null</td>\n",
              "      <td>Null</td>\n",
              "      <td>1615891163</td>\n",
              "      <td>Clothing, Apparel, Text, Money, Collage, Advertisement, Poster</td>\n",
              "      <td>education</td>\n",
              "      <td>movies</td>\n",
              "      <td>business</td>\n",
              "      <td>0</td>\n",
              "      <td>0</td>\n",
              "      <td>0</td>\n",
              "      <td>0.0</td>\n",
              "      <td>2021-03-16 10:39:23</td>\n",
              "      <td>2021</td>\n",
              "      <td>3</td>\n",
              "      <td>16</td>\n",
              "      <td>1</td>\n",
              "      <td>10</td>\n",
              "      <td>39</td>\n",
              "      <td>107.0</td>\n",
              "      <td>122.0</td>\n",
              "      <td>1124.0</td>\n",
              "      <td>821.0</td>\n",
              "      <td>1336.0</td>\n",
              "      <td>318.0</td>\n",
              "      <td>213.0</td>\n",
              "      <td>28.0</td>\n",
              "      <td>1128.0</td>\n",
              "      <td>12.0</td>\n",
              "      <td>15.0</td>\n",
              "      <td>5.0</td>\n",
              "    </tr>\n",
              "    <tr>\n",
              "      <th>1919</th>\n",
              "      <td>8210198494</td>\n",
              "      <td>pamela.latorre.73</td>\n",
              "      <td>Pamela La Torre</td>\n",
              "      <td>309</td>\n",
              "      <td>55</td>\n",
              "      <td>23</td>\n",
              "      <td>25.24</td>\n",
              "      <td>https://www.instagram.com/p/CQETjgBnZ7s</td>\n",
              "      <td>Photo by Pamela La Torre on June 13, 2021. May be an image of one or more people, people standing and indoor.</td>\n",
              "      <td>Prima comunione Giorgio</td>\n",
              "      <td>Santissimo Crocifisso</td>\n",
              "      <td>Taranto, Italy</td>\n",
              "      <td>Null</td>\n",
              "      <td>1623602137</td>\n",
              "      <td>Person, Human, Photographer, Photography, Photo, Furniture, Shoe, Clothing, Footwear, Apparel, Interior Design, Indoors</td>\n",
              "      <td>news</td>\n",
              "      <td>arts_entertainment</td>\n",
              "      <td>style_fashion</td>\n",
              "      <td>0</td>\n",
              "      <td>0</td>\n",
              "      <td>0</td>\n",
              "      <td>0.0</td>\n",
              "      <td>2021-06-13 16:35:37</td>\n",
              "      <td>2021</td>\n",
              "      <td>6</td>\n",
              "      <td>13</td>\n",
              "      <td>6</td>\n",
              "      <td>16</td>\n",
              "      <td>35</td>\n",
              "      <td>309.0</td>\n",
              "      <td>275.0</td>\n",
              "      <td>3586.0</td>\n",
              "      <td>1915.0</td>\n",
              "      <td>2828.0</td>\n",
              "      <td>393.0</td>\n",
              "      <td>296.0</td>\n",
              "      <td>28.0</td>\n",
              "      <td>3407.0</td>\n",
              "      <td>26.0</td>\n",
              "      <td>2.0</td>\n",
              "      <td>31.0</td>\n",
              "    </tr>\n",
              "  </tbody>\n",
              "</table>\n",
              "</div>"
            ],
            "text/plain": [
              "                     USERID  ... IMAGE_LABEL_INTEREST_OBJECT_AS_INT\n",
              "LINE_NUM_INDEX               ...                                   \n",
              "1918            36193140327  ...                                5.0\n",
              "1919             8210198494  ...                               31.0\n",
              "\n",
              "[2 rows x 41 columns]"
            ]
          },
          "metadata": {},
          "execution_count": 120
        }
      ]
    },
    {
      "cell_type": "markdown",
      "metadata": {
        "id": "WOQ4oH8sk_u9"
      },
      "source": [
        "## Feature Engneering"
      ]
    },
    {
      "cell_type": "markdown",
      "metadata": {
        "id": "agZSyhgnADZJ"
      },
      "source": [
        "Eladk 2021-Sep-17, we need to:\n",
        "\n",
        "\n",
        "*   convert y colum to 5 classes so we can have a classification problem and not a regresion model\n",
        "*   check if the data is inbalance (so we need to use stratify)\n",
        "\n"
      ]
    },
    {
      "cell_type": "markdown",
      "metadata": {
        "id": "txQpSmQulN2f"
      },
      "source": [
        "# Split the Data"
      ]
    },
    {
      "cell_type": "markdown",
      "metadata": {
        "id": "8R9pK4jD7f6U"
      },
      "source": [
        "select only int and float column types to X \n",
        "seletc LIKES, COMMENTS, ENGAGEMENT as y"
      ]
    },
    {
      "cell_type": "code",
      "metadata": {
        "id": "WSHRjLG-7sHj",
        "colab": {
          "base_uri": "https://localhost:8080/"
        },
        "outputId": "cece20ba-cfa1-4873-9e89-428874f9f38c"
      },
      "source": [
        "df.columns"
      ],
      "execution_count": 121,
      "outputs": [
        {
          "output_type": "execute_result",
          "data": {
            "text/plain": [
              "Index(['USERID', 'USERNAME', 'FULLNAME', 'FOLLOWER', 'LIKES', 'COMMENTS',\n",
              "       'ENGAGEMENT', 'URL', 'ACCESSIBILITY_CAPTION', 'CAPTION', 'LOCATION',\n",
              "       'CITY', 'COUNTRY', 'TIME', 'IMAGE_LABELS', 'CAPTION_INTEREST',\n",
              "       'ACCESSIBILITY_CAPTION_INTEREST', 'IMAGE_LABEL_INTEREST',\n",
              "       'COMMENT_DISABLED', 'IS_VIDEO', 'HAS_AUDIO', 'VIDEO_VIEW_COUNT',\n",
              "       'DATETIME', 'YEAR', 'MONTH', 'DAY', 'DAYOFWEEK', 'HOUR', 'MINUTE',\n",
              "       'USERNAME_OBJECT_AS_INT', 'FULLNAME_OBJECT_AS_INT', 'URL_OBJECT_AS_INT',\n",
              "       'ACCESSIBILITY_CAPTION_OBJECT_AS_INT', 'CAPTION_OBJECT_AS_INT',\n",
              "       'LOCATION_OBJECT_AS_INT', 'CITY_OBJECT_AS_INT', 'COUNTRY_OBJECT_AS_INT',\n",
              "       'IMAGE_LABELS_OBJECT_AS_INT', 'CAPTION_INTEREST_OBJECT_AS_INT',\n",
              "       'ACCESSIBILITY_CAPTION_INTEREST_OBJECT_AS_INT',\n",
              "       'IMAGE_LABEL_INTEREST_OBJECT_AS_INT'],\n",
              "      dtype='object')"
            ]
          },
          "metadata": {},
          "execution_count": 121
        }
      ]
    },
    {
      "cell_type": "code",
      "metadata": {
        "id": "JNK0bm9s7SNL"
      },
      "source": [
        "X = df.select_dtypes(include=['number'])\n",
        "X.drop(['LIKES','COMMENTS','ENGAGEMENT'], axis=1, inplace=True) #['LIKES','COMMENTS','ENGAGEMENT']"
      ],
      "execution_count": 122,
      "outputs": []
    },
    {
      "cell_type": "code",
      "metadata": {
        "id": "dpsYSMQl8b5b"
      },
      "source": [
        "y = df['ENGAGEMENT']\n",
        "y1 = df['LIKES']\n",
        "y2 = df['COMMENTS']"
      ],
      "execution_count": 123,
      "outputs": []
    },
    {
      "cell_type": "code",
      "metadata": {
        "id": "3yuZ2qUc_ysg"
      },
      "source": [
        "X_train, X_test, y_train, y_test = train_test_split(X, y, train_size = train_size\\\n",
        "                           , random_state = rand_state) #, stratify=unique_data_int.RainTomorrow)"
      ],
      "execution_count": 124,
      "outputs": []
    },
    {
      "cell_type": "markdown",
      "metadata": {
        "id": "IEfHCIsglq68"
      },
      "source": [
        "# Mechine Learning  Model"
      ]
    },
    {
      "cell_type": "markdown",
      "metadata": {
        "id": "4Jr-ID4tld2X"
      },
      "source": [
        "## Appling First1 Model "
      ]
    },
    {
      "cell_type": "markdown",
      "metadata": {
        "id": "QtMtVA3Alo6P"
      },
      "source": [
        "## Validating the Model "
      ]
    },
    {
      "cell_type": "markdown",
      "metadata": {
        "id": "lQNwJ7JHlz9s"
      },
      "source": [
        "## Scoring "
      ]
    }
  ]
}