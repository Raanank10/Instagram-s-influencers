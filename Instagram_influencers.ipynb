{
  "nbformat": 4,
  "nbformat_minor": 0,
  "metadata": {
    "colab": {
      "name": "Instagram_influencers.ipynb",
      "provenance": [],
      "collapsed_sections": [],
      "toc_visible": true,
      "include_colab_link": true
    },
    "kernelspec": {
      "name": "python3",
      "display_name": "Python 3"
    },
    "language_info": {
      "name": "python"
    },
    "accelerator": "GPU"
  },
  "cells": [
    {
      "cell_type": "markdown",
      "metadata": {
        "id": "view-in-github",
        "colab_type": "text"
      },
      "source": [
        "<a href=\"https://colab.research.google.com/github/Raanank10/Instagram-s-influencers/blob/Eladk_20211005/Instagram_influencers.ipynb\" target=\"_parent\"><img src=\"https://colab.research.google.com/assets/colab-badge.svg\" alt=\"Open In Colab\"/></a>"
      ]
    },
    {
      "cell_type": "markdown",
      "metadata": {
        "id": "wC1M-xaCmpct"
      },
      "source": [
        "**Instagram_influencers**"
      ]
    },
    {
      "cell_type": "markdown",
      "metadata": {
        "id": "CYHKFYQIsYs3"
      },
      "source": [
        "# Global Parameters"
      ]
    },
    {
      "cell_type": "code",
      "metadata": {
        "id": "1qeiaDu9mi-Y"
      },
      "source": [
        "path_part0 = 'https://raw.githubusercontent.com/Raanank10/Instagram-s-influencers/main/ai_posts_analysis_data.xlsx'\n",
        "fname = 'ai_posts_analysis_data.xlsx'\n",
        "# fname = 'https://github.com/Raanank10/Instagram-s-influencers/blob/ai_posts_analysis_data.xlsx'\n",
        "# fname = 'https://github.com/Raanank10/Instagram-s-influencers/blob/main/ai_posts_analysis_data.xlsx'\n",
        "\n",
        "path_part1= 'https://raw.githubusercontent.com/Raanank10/Instagram-s-influencers/main/project_part1.csv'\n",
        "path_part2= 'https://raw.githubusercontent.com/Raanank10/Instagram-s-influencers/main/project_part2.csv'\n",
        "\n",
        "train_size = 0.75\n",
        "rand_state = 990\n",
        "sigma = 3\n",
        "Min_followers = 500"
      ],
      "execution_count": 80,
      "outputs": []
    },
    {
      "cell_type": "code",
      "metadata": {
        "id": "GLy7IopF6pyT"
      },
      "source": [
        "# Bining\n",
        "bin_labels=['Low','Medium','High', 'Very High','Extreme']"
      ],
      "execution_count": 81,
      "outputs": []
    },
    {
      "cell_type": "markdown",
      "metadata": {
        "id": "aI1qxfM0j0KY"
      },
      "source": [
        "# Get the Data"
      ]
    },
    {
      "cell_type": "code",
      "metadata": {
        "id": "b2moKRJvjzUv"
      },
      "source": [
        "# General Tools\n",
        "import numpy as np\n",
        "import scipy as sp\n",
        "import pandas as pd\n",
        "import missingno as msno\n",
        "import xgboost as xgb\n",
        "\n",
        "# SK Learn\n",
        "from sklearn.impute import SimpleImputer\n",
        "from sklearn.tree import DecisionTreeClassifier\n",
        "from sklearn.neighbors import KNeighborsClassifier\n",
        "from sklearn.ensemble import RandomForestRegressor\n",
        "from sklearn import neighbors\n",
        "from sklearn.linear_model import LogisticRegression\n",
        "from sklearn import preprocessing\n",
        "from sklearn.ensemble import RandomForestClassifier\n",
        "from sklearn.preprocessing import MaxAbsScaler, MinMaxScaler, StandardScaler\n",
        "from sklearn.metrics import confusion_matrix, accuracy_score\n",
        "from sklearn.metrics import precision_score, recall_score, f1_score\n",
        "from sklearn.metrics import accuracy_score , confusion_matrix, roc_auc_score, roc_curve\n",
        "from sklearn.metrics import log_loss\n",
        "from sklearn.metrics import classification_report # elad 20210708\n",
        "from sklearn.neighbors import KNeighborsRegressor\n",
        "from sklearn.model_selection import train_test_split, GridSearchCV\n",
        "from sklearn.feature_selection import SelectKBest, chi2, f_classif, mutual_info_classif\n",
        "from sklearn.model_selection import cross_val_score\n",
        "from sklearn.model_selection import StratifiedShuffleSplit\n",
        "\n",
        "from sklearn.preprocessing import OrdinalEncoder # elad 20210911\n",
        "\n",
        "# Trees Visualization\n",
        "import pydot\n",
        "from sklearn.tree import export_graphviz\n",
        "from sklearn.externals.six import StringIO\n",
        "\n",
        "# For scoring\n",
        "from sklearn.metrics import mean_squared_log_error as msle\n",
        "from sklearn.metrics import mean_squared_error as mse\n",
        "from sklearn.metrics import r2_score\n",
        "\n",
        "# Misc\n",
        "import warnings\n",
        "from sys import modules\n",
        "from time import time\n",
        "from platform import python_version\n",
        "\n",
        "# Visualization\n",
        "import matplotlib.pyplot as plt\n",
        "import plotly.express as px\n",
        "import seaborn as sns\n",
        "import plotly.graph_objects as go\n",
        "\n",
        "# IPython\n",
        "from IPython.display import Image, display\n",
        "\n",
        "# Confuguration\n",
        "warnings.filterwarnings('ignore')\n",
        "%matplotlib inline"
      ],
      "execution_count": 82,
      "outputs": []
    },
    {
      "cell_type": "markdown",
      "metadata": {
        "id": "9qH-6EQ6jVsI"
      },
      "source": [
        "## Concate the 3 files"
      ]
    },
    {
      "cell_type": "code",
      "metadata": {
        "id": "c8YAL5TMnWhe",
        "colab": {
          "base_uri": "https://localhost:8080/",
          "height": 345
        },
        "outputId": "acb5d96f-b7ea-40f5-ef07-4329c1fbea7b"
      },
      "source": [
        "df_part0 = pd.read_csv(path_part0, index_col=0)  \n",
        "print(f'data len of df_part0 = {len(df_part0)}')\n",
        "df_part0.head(2)"
      ],
      "execution_count": 83,
      "outputs": [
        {
          "output_type": "stream",
          "name": "stdout",
          "text": [
            "data len of df_part0 = 4792\n"
          ]
        },
        {
          "output_type": "execute_result",
          "data": {
            "text/html": [
              "<div>\n",
              "<style scoped>\n",
              "    .dataframe tbody tr th:only-of-type {\n",
              "        vertical-align: middle;\n",
              "    }\n",
              "\n",
              "    .dataframe tbody tr th {\n",
              "        vertical-align: top;\n",
              "    }\n",
              "\n",
              "    .dataframe thead th {\n",
              "        text-align: right;\n",
              "    }\n",
              "</style>\n",
              "<table border=\"1\" class=\"dataframe\">\n",
              "  <thead>\n",
              "    <tr style=\"text-align: right;\">\n",
              "      <th></th>\n",
              "      <th>USERID</th>\n",
              "      <th>USERNAME</th>\n",
              "      <th>FULLNAME</th>\n",
              "      <th>FOLLOWER</th>\n",
              "      <th>POST ID</th>\n",
              "      <th>SHORTCODE</th>\n",
              "      <th>LIKES</th>\n",
              "      <th>COMMENTS</th>\n",
              "      <th>ENGAGEMENT</th>\n",
              "      <th>URL</th>\n",
              "      <th>ACCESSIBILITY CAPTION</th>\n",
              "      <th>CAPTION</th>\n",
              "      <th>LOCATION</th>\n",
              "      <th>CITY</th>\n",
              "      <th>COUNTRY</th>\n",
              "      <th>TIME</th>\n",
              "      <th>IMAGE LABELS</th>\n",
              "      <th>CAPTION INTEREST</th>\n",
              "      <th>ACCESSIBILITY CAPTION INTEREST</th>\n",
              "      <th>IMAGE LABEL INTEREST</th>\n",
              "      <th>IMAGE URL</th>\n",
              "      <th>COMMENT DISABLED</th>\n",
              "      <th>IS VIDEO</th>\n",
              "      <th>HAS AUDIO</th>\n",
              "      <th>VIDEO URL</th>\n",
              "      <th>VIDEO VIEW COUNT</th>\n",
              "    </tr>\n",
              "    <tr>\n",
              "      <th>1</th>\n",
              "      <th></th>\n",
              "      <th></th>\n",
              "      <th></th>\n",
              "      <th></th>\n",
              "      <th></th>\n",
              "      <th></th>\n",
              "      <th></th>\n",
              "      <th></th>\n",
              "      <th></th>\n",
              "      <th></th>\n",
              "      <th></th>\n",
              "      <th></th>\n",
              "      <th></th>\n",
              "      <th></th>\n",
              "      <th></th>\n",
              "      <th></th>\n",
              "      <th></th>\n",
              "      <th></th>\n",
              "      <th></th>\n",
              "      <th></th>\n",
              "      <th></th>\n",
              "      <th></th>\n",
              "      <th></th>\n",
              "      <th></th>\n",
              "      <th></th>\n",
              "      <th></th>\n",
              "    </tr>\n",
              "  </thead>\n",
              "  <tbody>\n",
              "    <tr>\n",
              "      <th>1918</th>\n",
              "      <td>36193140327</td>\n",
              "      <td>elastici_e_passamaneria</td>\n",
              "      <td>Elastici e Passamaneria</td>\n",
              "      <td>1052</td>\n",
              "      <td>2530600951335029174</td>\n",
              "      <td>CMegChUlwm2</td>\n",
              "      <td>23</td>\n",
              "      <td>0</td>\n",
              "      <td>2.19</td>\n",
              "      <td>https://www.instagram.com/p/CMegChUlwm2</td>\n",
              "      <td>Photo by Elastici e Passamaneria on March 16, ...</td>\n",
              "      <td>FFP2 MADE IN ITALY????????#ffp2mask#italiansty...</td>\n",
              "      <td>NaN</td>\n",
              "      <td>NaN</td>\n",
              "      <td>NaN</td>\n",
              "      <td>1615891163</td>\n",
              "      <td>Clothing, Apparel, Text, Money, Collage, Adver...</td>\n",
              "      <td>education</td>\n",
              "      <td>movies</td>\n",
              "      <td>business</td>\n",
              "      <td>https://instagram.fdok2-1.fna.fbcdn.net/v/t51....</td>\n",
              "      <td>no</td>\n",
              "      <td>no</td>\n",
              "      <td>no</td>\n",
              "      <td>NaN</td>\n",
              "      <td>NaN</td>\n",
              "    </tr>\n",
              "    <tr>\n",
              "      <th>1919</th>\n",
              "      <td>8210198494</td>\n",
              "      <td>pamela.latorre.73</td>\n",
              "      <td>Pamela La Torre</td>\n",
              "      <td>309</td>\n",
              "      <td>2595285287724490476</td>\n",
              "      <td>CQETjgBnZ7s</td>\n",
              "      <td>55</td>\n",
              "      <td>23</td>\n",
              "      <td>25.24</td>\n",
              "      <td>https://www.instagram.com/p/CQETjgBnZ7s</td>\n",
              "      <td>Photo by Pamela La Torre on June 13, 2021. May...</td>\n",
              "      <td>Prima comunione Giorgio</td>\n",
              "      <td>Santissimo Crocifisso</td>\n",
              "      <td>Taranto, Italy</td>\n",
              "      <td>NaN</td>\n",
              "      <td>1623602137</td>\n",
              "      <td>Person, Human, Photographer, Photography, Phot...</td>\n",
              "      <td>news</td>\n",
              "      <td>arts_entertainment</td>\n",
              "      <td>style_fashion</td>\n",
              "      <td>https://instagram.fhel3-1.fna.fbcdn.net/v/t51....</td>\n",
              "      <td>no</td>\n",
              "      <td>no</td>\n",
              "      <td>no</td>\n",
              "      <td>NaN</td>\n",
              "      <td>NaN</td>\n",
              "    </tr>\n",
              "  </tbody>\n",
              "</table>\n",
              "</div>"
            ],
            "text/plain": [
              "           USERID                 USERNAME  ... VIDEO URL  VIDEO VIEW COUNT\n",
              "1                                           ...                            \n",
              "1918  36193140327  elastici_e_passamaneria  ...       NaN               NaN\n",
              "1919   8210198494        pamela.latorre.73  ...       NaN               NaN\n",
              "\n",
              "[2 rows x 26 columns]"
            ]
          },
          "metadata": {},
          "execution_count": 83
        }
      ]
    },
    {
      "cell_type": "code",
      "metadata": {
        "id": "-0H1FjGyjU21",
        "colab": {
          "base_uri": "https://localhost:8080/",
          "height": 328
        },
        "outputId": "69d27ec5-4d6a-42d0-d833-bc78185a59d5"
      },
      "source": [
        "df_part1 = pd.read_csv(path_part1, index_col=0) \n",
        "print(f'data len of df_part1 = {len(df_part1)}') \n",
        "df_part1.head(2)"
      ],
      "execution_count": 84,
      "outputs": [
        {
          "output_type": "stream",
          "name": "stdout",
          "text": [
            "data len of df_part1 = 18586\n"
          ]
        },
        {
          "output_type": "execute_result",
          "data": {
            "text/html": [
              "<div>\n",
              "<style scoped>\n",
              "    .dataframe tbody tr th:only-of-type {\n",
              "        vertical-align: middle;\n",
              "    }\n",
              "\n",
              "    .dataframe tbody tr th {\n",
              "        vertical-align: top;\n",
              "    }\n",
              "\n",
              "    .dataframe thead th {\n",
              "        text-align: right;\n",
              "    }\n",
              "</style>\n",
              "<table border=\"1\" class=\"dataframe\">\n",
              "  <thead>\n",
              "    <tr style=\"text-align: right;\">\n",
              "      <th></th>\n",
              "      <th>USERID</th>\n",
              "      <th>USERNAME</th>\n",
              "      <th>FULLNAME</th>\n",
              "      <th>FOLLOWER</th>\n",
              "      <th>POST ID</th>\n",
              "      <th>SHORTCODE</th>\n",
              "      <th>LIKES</th>\n",
              "      <th>COMMENTS</th>\n",
              "      <th>ENGAGEMENT</th>\n",
              "      <th>URL</th>\n",
              "      <th>ACCESSIBILITY CAPTION</th>\n",
              "      <th>CAPTION</th>\n",
              "      <th>LOCATION</th>\n",
              "      <th>CITY</th>\n",
              "      <th>COUNTRY</th>\n",
              "      <th>TIME</th>\n",
              "      <th>IMAGE LABELS</th>\n",
              "      <th>CAPTION INTEREST</th>\n",
              "      <th>ACCESSIBILITY CAPTION INTEREST</th>\n",
              "      <th>IMAGE LABEL INTEREST</th>\n",
              "      <th>IMAGE URL</th>\n",
              "      <th>COMMENT DISABLED</th>\n",
              "      <th>IS VIDEO</th>\n",
              "      <th>HAS AUDIO</th>\n",
              "      <th>VIDEO URL</th>\n",
              "      <th>VIDEO VIEW COUNT</th>\n",
              "    </tr>\n",
              "    <tr>\n",
              "      <th>1</th>\n",
              "      <th></th>\n",
              "      <th></th>\n",
              "      <th></th>\n",
              "      <th></th>\n",
              "      <th></th>\n",
              "      <th></th>\n",
              "      <th></th>\n",
              "      <th></th>\n",
              "      <th></th>\n",
              "      <th></th>\n",
              "      <th></th>\n",
              "      <th></th>\n",
              "      <th></th>\n",
              "      <th></th>\n",
              "      <th></th>\n",
              "      <th></th>\n",
              "      <th></th>\n",
              "      <th></th>\n",
              "      <th></th>\n",
              "      <th></th>\n",
              "      <th></th>\n",
              "      <th></th>\n",
              "      <th></th>\n",
              "      <th></th>\n",
              "      <th></th>\n",
              "      <th></th>\n",
              "    </tr>\n",
              "  </thead>\n",
              "  <tbody>\n",
              "    <tr>\n",
              "      <th>24897</th>\n",
              "      <td>47655063851</td>\n",
              "      <td>_color_pal_ette</td>\n",
              "      <td>Asty</td>\n",
              "      <td>17</td>\n",
              "      <td>2.660000e+18</td>\n",
              "      <td>CTegsqAhtEs</td>\n",
              "      <td>959</td>\n",
              "      <td>0</td>\n",
              "      <td>5641.18</td>\n",
              "      <td>https://www.instagram.com/p/CTegsqAhtEs</td>\n",
              "      <td>NaN</td>\n",
              "      <td>......(50:7)\\n....\\n#islam#quran#islamic#verse...</td>\n",
              "      <td>NaN</td>\n",
              "      <td>NaN</td>\n",
              "      <td>NaN</td>\n",
              "      <td>1630923941</td>\n",
              "      <td>Vegetation, Plant, Nature, Rainforest, Outdoor...</td>\n",
              "      <td>education</td>\n",
              "      <td>NaN</td>\n",
              "      <td>travel</td>\n",
              "      <td>https://scontent-hel3-1.cdninstagram.com/v/t51...</td>\n",
              "      <td>no</td>\n",
              "      <td>yes</td>\n",
              "      <td>yes</td>\n",
              "      <td>https://scontent-hel3-1.cdninstagram.com/v/t50...</td>\n",
              "      <td>1872.0</td>\n",
              "    </tr>\n",
              "    <tr>\n",
              "      <th>31286</th>\n",
              "      <td>47448521201</td>\n",
              "      <td>gigimakeup25</td>\n",
              "      <td>Gilliam Ibáñez ???????? makeup</td>\n",
              "      <td>157</td>\n",
              "      <td>2.660000e+18</td>\n",
              "      <td>CTsfWCeFunb</td>\n",
              "      <td>30</td>\n",
              "      <td>2147</td>\n",
              "      <td>1386.62</td>\n",
              "      <td>https://www.instagram.com/p/CTsfWCeFunb</td>\n",
              "      <td>Photo by Gilliam Ibáñez ???????? makeup on Sep...</td>\n",
              "      <td>???????????????? ???? SORTEO ????????????\\n pa...</td>\n",
              "      <td>NaN</td>\n",
              "      <td>NaN</td>\n",
              "      <td>NaN</td>\n",
              "      <td>1631392946</td>\n",
              "      <td>Flyer, Brochure, Advertisement, Poster, Paper,...</td>\n",
              "      <td>entertainment</td>\n",
              "      <td>style_fashion</td>\n",
              "      <td>business</td>\n",
              "      <td>https://instagram.frix2-1.fna.fbcdn.net/v/t51....</td>\n",
              "      <td>no</td>\n",
              "      <td>no</td>\n",
              "      <td>no</td>\n",
              "      <td>NaN</td>\n",
              "      <td>NaN</td>\n",
              "    </tr>\n",
              "  </tbody>\n",
              "</table>\n",
              "</div>"
            ],
            "text/plain": [
              "            USERID  ... VIDEO VIEW COUNT\n",
              "1                   ...                 \n",
              "24897  47655063851  ...           1872.0\n",
              "31286  47448521201  ...              NaN\n",
              "\n",
              "[2 rows x 26 columns]"
            ]
          },
          "metadata": {},
          "execution_count": 84
        }
      ]
    },
    {
      "cell_type": "code",
      "metadata": {
        "id": "xYAnU_IIja4k",
        "colab": {
          "base_uri": "https://localhost:8080/",
          "height": 345
        },
        "outputId": "7dc40683-9b1e-46bc-b419-65f88a0103d2"
      },
      "source": [
        "df_part2 = pd.read_csv(path_part2, index_col=0)  \n",
        "print(f'data len of df_part2 = {len(df_part2)}') \n",
        "df_part2.head(2)"
      ],
      "execution_count": 85,
      "outputs": [
        {
          "output_type": "stream",
          "name": "stdout",
          "text": [
            "data len of df_part2 = 17471\n"
          ]
        },
        {
          "output_type": "execute_result",
          "data": {
            "text/html": [
              "<div>\n",
              "<style scoped>\n",
              "    .dataframe tbody tr th:only-of-type {\n",
              "        vertical-align: middle;\n",
              "    }\n",
              "\n",
              "    .dataframe tbody tr th {\n",
              "        vertical-align: top;\n",
              "    }\n",
              "\n",
              "    .dataframe thead th {\n",
              "        text-align: right;\n",
              "    }\n",
              "</style>\n",
              "<table border=\"1\" class=\"dataframe\">\n",
              "  <thead>\n",
              "    <tr style=\"text-align: right;\">\n",
              "      <th></th>\n",
              "      <th>USERID</th>\n",
              "      <th>USERNAME</th>\n",
              "      <th>FULLNAME</th>\n",
              "      <th>FOLLOWER</th>\n",
              "      <th>POST ID</th>\n",
              "      <th>SHORTCODE</th>\n",
              "      <th>LIKES</th>\n",
              "      <th>COMMENTS</th>\n",
              "      <th>ENGAGEMENT</th>\n",
              "      <th>URL</th>\n",
              "      <th>ACCESSIBILITY CAPTION</th>\n",
              "      <th>CAPTION</th>\n",
              "      <th>LOCATION</th>\n",
              "      <th>CITY</th>\n",
              "      <th>COUNTRY</th>\n",
              "      <th>TIME</th>\n",
              "      <th>IMAGE LABELS</th>\n",
              "      <th>CAPTION INTEREST</th>\n",
              "      <th>ACCESSIBILITY CAPTION INTEREST</th>\n",
              "      <th>IMAGE LABEL INTEREST</th>\n",
              "      <th>IMAGE URL</th>\n",
              "      <th>COMMENT DISABLED</th>\n",
              "      <th>IS VIDEO</th>\n",
              "      <th>HAS AUDIO</th>\n",
              "      <th>VIDEO URL</th>\n",
              "      <th>VIDEO VIEW COUNT</th>\n",
              "    </tr>\n",
              "    <tr>\n",
              "      <th>1</th>\n",
              "      <th></th>\n",
              "      <th></th>\n",
              "      <th></th>\n",
              "      <th></th>\n",
              "      <th></th>\n",
              "      <th></th>\n",
              "      <th></th>\n",
              "      <th></th>\n",
              "      <th></th>\n",
              "      <th></th>\n",
              "      <th></th>\n",
              "      <th></th>\n",
              "      <th></th>\n",
              "      <th></th>\n",
              "      <th></th>\n",
              "      <th></th>\n",
              "      <th></th>\n",
              "      <th></th>\n",
              "      <th></th>\n",
              "      <th></th>\n",
              "      <th></th>\n",
              "      <th></th>\n",
              "      <th></th>\n",
              "      <th></th>\n",
              "      <th></th>\n",
              "      <th></th>\n",
              "    </tr>\n",
              "  </thead>\n",
              "  <tbody>\n",
              "    <tr>\n",
              "      <th>25807</th>\n",
              "      <td>40005237207</td>\n",
              "      <td>byeonggil6734</td>\n",
              "      <td>ç ‚å²¡????????????</td>\n",
              "      <td>717</td>\n",
              "      <td>2.550000e+18</td>\n",
              "      <td>CNfe10KrHnr</td>\n",
              "      <td>31</td>\n",
              "      <td>0</td>\n",
              "      <td>4.32</td>\n",
              "      <td>https://www.instagram.com/p/CNfe10KrHnr</td>\n",
              "      <td>Photo by ç ‚å²¡???????????? on April 10, 2021....</td>\n",
              "      <td>ì£¼ë§ì—ëŠ” í•˜ë£¨ ìˆ˜ê³ í–ˆìŠµë‹ˆë‹¤ ë¶€ì‚°ì...</td>\n",
              "      <td>NaN</td>\n",
              "      <td>NaN</td>\n",
              "      <td>NaN</td>\n",
              "      <td>1618071572</td>\n",
              "      <td>Chair, Furniture, Couch, Skin, Clothing, Appar...</td>\n",
              "      <td>education</td>\n",
              "      <td>arts_entertainment</td>\n",
              "      <td>style_fashion</td>\n",
              "      <td>https://instagram.fixb1-1.fna.fbcdn.net/v/t51....</td>\n",
              "      <td>yes</td>\n",
              "      <td>no</td>\n",
              "      <td>no</td>\n",
              "      <td>NaN</td>\n",
              "      <td>NaN</td>\n",
              "    </tr>\n",
              "    <tr>\n",
              "      <th>27121</th>\n",
              "      <td>17931150200</td>\n",
              "      <td>hitmanmikey</td>\n",
              "      <td>mikey_BANGZ</td>\n",
              "      <td>6182</td>\n",
              "      <td>2.650000e+18</td>\n",
              "      <td>CS5ZWqFD3uv</td>\n",
              "      <td>242</td>\n",
              "      <td>25</td>\n",
              "      <td>4.32</td>\n",
              "      <td>https://www.instagram.com/p/CS5ZWqFD3uv</td>\n",
              "      <td>NaN</td>\n",
              "      <td>(5-Step #Drill - #SubJazz Version)\\n\\n142 BPM ...</td>\n",
              "      <td>NaN</td>\n",
              "      <td>NaN</td>\n",
              "      <td>NaN</td>\n",
              "      <td>1629678866</td>\n",
              "      <td>Poster, Advertisement, Symbol, Emblem, Logo, T...</td>\n",
              "      <td>arts_entertainment</td>\n",
              "      <td>NaN</td>\n",
              "      <td>business</td>\n",
              "      <td>https://instagram.fcvj4-1.fna.fbcdn.net/v/t51....</td>\n",
              "      <td>no</td>\n",
              "      <td>yes</td>\n",
              "      <td>yes</td>\n",
              "      <td>https://instagram.fcvj4-1.fna.fbcdn.net/v/t50....</td>\n",
              "      <td>3456.0</td>\n",
              "    </tr>\n",
              "  </tbody>\n",
              "</table>\n",
              "</div>"
            ],
            "text/plain": [
              "            USERID  ... VIDEO VIEW COUNT\n",
              "1                   ...                 \n",
              "25807  40005237207  ...              NaN\n",
              "27121  17931150200  ...           3456.0\n",
              "\n",
              "[2 rows x 26 columns]"
            ]
          },
          "metadata": {},
          "execution_count": 85
        }
      ]
    },
    {
      "cell_type": "code",
      "metadata": {
        "id": "bZs2BJPPkVuJ",
        "outputId": "43f3aca7-7321-4781-d16f-69df73c085cd",
        "colab": {
          "base_uri": "https://localhost:8080/"
        }
      },
      "source": [
        "df = pd.concat([df_part0, df_part1, df_part2])\n",
        "print(f'data len After concat all parts = {len(df)}')"
      ],
      "execution_count": 86,
      "outputs": [
        {
          "output_type": "stream",
          "name": "stdout",
          "text": [
            "data len After concat all parts = 40849\n"
          ]
        }
      ]
    },
    {
      "cell_type": "code",
      "metadata": {
        "id": "ezune597kZe8",
        "colab": {
          "base_uri": "https://localhost:8080/"
        },
        "outputId": "156333b9-d6b3-4751-e76f-e2c995291a04"
      },
      "source": [
        "df.info()"
      ],
      "execution_count": 87,
      "outputs": [
        {
          "output_type": "stream",
          "name": "stdout",
          "text": [
            "<class 'pandas.core.frame.DataFrame'>\n",
            "Int64Index: 40849 entries, 1918 to 37857\n",
            "Data columns (total 26 columns):\n",
            " #   Column                          Non-Null Count  Dtype  \n",
            "---  ------                          --------------  -----  \n",
            " 0   USERID                          40849 non-null  int64  \n",
            " 1   USERNAME                        40849 non-null  object \n",
            " 2   FULLNAME                        39489 non-null  object \n",
            " 3   FOLLOWER                        40849 non-null  int64  \n",
            " 4   POST ID                         40849 non-null  float64\n",
            " 5   SHORTCODE                       40849 non-null  object \n",
            " 6   LIKES                           40849 non-null  int64  \n",
            " 7   COMMENTS                        40849 non-null  int64  \n",
            " 8   ENGAGEMENT                      40849 non-null  float64\n",
            " 9   URL                             40849 non-null  object \n",
            " 10  ACCESSIBILITY CAPTION           33725 non-null  object \n",
            " 11  CAPTION                         34786 non-null  object \n",
            " 12  LOCATION                        11595 non-null  object \n",
            " 13  CITY                            10799 non-null  object \n",
            " 14  COUNTRY                         9394 non-null   object \n",
            " 15  TIME                            40849 non-null  int64  \n",
            " 16  IMAGE LABELS                    40808 non-null  object \n",
            " 17  CAPTION INTEREST                34786 non-null  object \n",
            " 18  ACCESSIBILITY CAPTION INTEREST  33725 non-null  object \n",
            " 19  IMAGE LABEL INTEREST            40808 non-null  object \n",
            " 20  IMAGE URL                       40849 non-null  object \n",
            " 21  COMMENT DISABLED                40849 non-null  object \n",
            " 22  IS VIDEO                        40849 non-null  object \n",
            " 23  HAS AUDIO                       40849 non-null  object \n",
            " 24  VIDEO URL                       6655 non-null   object \n",
            " 25  VIDEO VIEW COUNT                6655 non-null   float64\n",
            "dtypes: float64(3), int64(5), object(18)\n",
            "memory usage: 8.4+ MB\n"
          ]
        }
      ]
    },
    {
      "cell_type": "code",
      "metadata": {
        "id": "GHngxQvHvGen",
        "colab": {
          "base_uri": "https://localhost:8080/"
        },
        "outputId": "418b9fc9-d51d-4572-d87d-da3032e352ec"
      },
      "source": [
        "print(f'data len Before = {len(df)}')\n",
        "df = df[~df.index.duplicated()]\n",
        "print(f'data len After  = {len(df)}')\n",
        "df.info()"
      ],
      "execution_count": 88,
      "outputs": [
        {
          "output_type": "stream",
          "name": "stdout",
          "text": [
            "data len Before = 40849\n",
            "data len After  = 36057\n",
            "<class 'pandas.core.frame.DataFrame'>\n",
            "Int64Index: 36057 entries, 1918 to 37857\n",
            "Data columns (total 26 columns):\n",
            " #   Column                          Non-Null Count  Dtype  \n",
            "---  ------                          --------------  -----  \n",
            " 0   USERID                          36057 non-null  int64  \n",
            " 1   USERNAME                        36057 non-null  object \n",
            " 2   FULLNAME                        34823 non-null  object \n",
            " 3   FOLLOWER                        36057 non-null  int64  \n",
            " 4   POST ID                         36057 non-null  float64\n",
            " 5   SHORTCODE                       36057 non-null  object \n",
            " 6   LIKES                           36057 non-null  int64  \n",
            " 7   COMMENTS                        36057 non-null  int64  \n",
            " 8   ENGAGEMENT                      36057 non-null  float64\n",
            " 9   URL                             36057 non-null  object \n",
            " 10  ACCESSIBILITY CAPTION           29782 non-null  object \n",
            " 11  CAPTION                         30476 non-null  object \n",
            " 12  LOCATION                        10434 non-null  object \n",
            " 13  CITY                            9731 non-null   object \n",
            " 14  COUNTRY                         8447 non-null   object \n",
            " 15  TIME                            36057 non-null  int64  \n",
            " 16  IMAGE LABELS                    36022 non-null  object \n",
            " 17  CAPTION INTEREST                30476 non-null  object \n",
            " 18  ACCESSIBILITY CAPTION INTEREST  29782 non-null  object \n",
            " 19  IMAGE LABEL INTEREST            36022 non-null  object \n",
            " 20  IMAGE URL                       36057 non-null  object \n",
            " 21  COMMENT DISABLED                36057 non-null  object \n",
            " 22  IS VIDEO                        36057 non-null  object \n",
            " 23  HAS AUDIO                       36057 non-null  object \n",
            " 24  VIDEO URL                       5847 non-null   object \n",
            " 25  VIDEO VIEW COUNT                5847 non-null   float64\n",
            "dtypes: float64(3), int64(5), object(18)\n",
            "memory usage: 7.4+ MB\n"
          ]
        }
      ]
    },
    {
      "cell_type": "code",
      "metadata": {
        "colab": {
          "base_uri": "https://localhost:8080/"
        },
        "id": "2F94nN7WBGvm",
        "outputId": "d19c4c20-6742-4a31-e9d5-f3893a588bec"
      },
      "source": [
        "print(f'data len Before = {len(df)}')\n",
        "df = df[df.FOLLOWER >= Min_followers]\n",
        "print(f'data len Before = {len(df)}')\n",
        "df.info()"
      ],
      "execution_count": 89,
      "outputs": [
        {
          "output_type": "stream",
          "name": "stdout",
          "text": [
            "data len Before = 36057\n",
            "data len Before = 22123\n",
            "<class 'pandas.core.frame.DataFrame'>\n",
            "Int64Index: 22123 entries, 1918 to 37546\n",
            "Data columns (total 26 columns):\n",
            " #   Column                          Non-Null Count  Dtype  \n",
            "---  ------                          --------------  -----  \n",
            " 0   USERID                          22123 non-null  int64  \n",
            " 1   USERNAME                        22123 non-null  object \n",
            " 2   FULLNAME                        21598 non-null  object \n",
            " 3   FOLLOWER                        22123 non-null  int64  \n",
            " 4   POST ID                         22123 non-null  float64\n",
            " 5   SHORTCODE                       22123 non-null  object \n",
            " 6   LIKES                           22123 non-null  int64  \n",
            " 7   COMMENTS                        22123 non-null  int64  \n",
            " 8   ENGAGEMENT                      22123 non-null  float64\n",
            " 9   URL                             22123 non-null  object \n",
            " 10  ACCESSIBILITY CAPTION           17756 non-null  object \n",
            " 11  CAPTION                         20146 non-null  object \n",
            " 12  LOCATION                        7488 non-null   object \n",
            " 13  CITY                            6995 non-null   object \n",
            " 14  COUNTRY                         6143 non-null   object \n",
            " 15  TIME                            22123 non-null  int64  \n",
            " 16  IMAGE LABELS                    22109 non-null  object \n",
            " 17  CAPTION INTEREST                20146 non-null  object \n",
            " 18  ACCESSIBILITY CAPTION INTEREST  17756 non-null  object \n",
            " 19  IMAGE LABEL INTEREST            22109 non-null  object \n",
            " 20  IMAGE URL                       22123 non-null  object \n",
            " 21  COMMENT DISABLED                22123 non-null  object \n",
            " 22  IS VIDEO                        22123 non-null  object \n",
            " 23  HAS AUDIO                       22123 non-null  object \n",
            " 24  VIDEO URL                       4093 non-null   object \n",
            " 25  VIDEO VIEW COUNT                4093 non-null   float64\n",
            "dtypes: float64(3), int64(5), object(18)\n",
            "memory usage: 4.6+ MB\n"
          ]
        }
      ]
    },
    {
      "cell_type": "markdown",
      "metadata": {
        "id": "N7B3k5XZkwUD"
      },
      "source": [
        "# EDA"
      ]
    },
    {
      "cell_type": "markdown",
      "metadata": {
        "id": "8Qj-ErlQFC0h"
      },
      "source": [
        "Column names: Replace white spaces with underscore "
      ]
    },
    {
      "cell_type": "code",
      "metadata": {
        "id": "C5YI6mDgFCSr"
      },
      "source": [
        "df.columns = df.columns.str.replace(' ', '_')"
      ],
      "execution_count": 90,
      "outputs": []
    },
    {
      "cell_type": "markdown",
      "metadata": {
        "id": "NzJiloFn_gi4"
      },
      "source": [
        "Check for each column how many unique is there (lenght of the dataset 4792, len(df)) "
      ]
    },
    {
      "cell_type": "code",
      "metadata": {
        "colab": {
          "base_uri": "https://localhost:8080/"
        },
        "id": "Aia9nBwB-j1b",
        "outputId": "8d2a9845-a818-4550-9e4d-c27c018eb40a"
      },
      "source": [
        "df.apply(lambda col: len(col.unique())).sort_values(ascending=False)"
      ],
      "execution_count": 91,
      "outputs": [
        {
          "output_type": "execute_result",
          "data": {
            "text/plain": [
              "IMAGE_URL                         22123\n",
              "SHORTCODE                         22075\n",
              "URL                               22075\n",
              "TIME                              22059\n",
              "IMAGE_LABELS                      21317\n",
              "CAPTION                           19283\n",
              "ACCESSIBILITY_CAPTION             17077\n",
              "VIDEO_URL                          4094\n",
              "POST_ID                            3786\n",
              "LOCATION                           3475\n",
              "ENGAGEMENT                         2500\n",
              "FULLNAME                           1975\n",
              "CITY                               1955\n",
              "USERNAME                           1947\n",
              "USERID                             1947\n",
              "FOLLOWER                           1571\n",
              "LIKES                              1530\n",
              "VIDEO_VIEW_COUNT                   1501\n",
              "COMMENTS                            312\n",
              "COUNTRY                             106\n",
              "CAPTION_INTEREST                     37\n",
              "IMAGE_LABEL_INTEREST                 36\n",
              "ACCESSIBILITY_CAPTION_INTEREST       31\n",
              "COMMENT_DISABLED                      2\n",
              "IS_VIDEO                              2\n",
              "HAS_AUDIO                             2\n",
              "dtype: int64"
            ]
          },
          "metadata": {},
          "execution_count": 91
        }
      ]
    },
    {
      "cell_type": "markdown",
      "metadata": {
        "id": "_T7gSotnk82F"
      },
      "source": [
        "## Data Cleaning"
      ]
    },
    {
      "cell_type": "code",
      "metadata": {
        "colab": {
          "base_uri": "https://localhost:8080/",
          "height": 294
        },
        "id": "pvsxDR2PAuTj",
        "outputId": "0e15a9ba-5553-48a0-a2f8-369f548f614f"
      },
      "source": [
        "# Descriptive statistics for each column\n",
        "df.describe()"
      ],
      "execution_count": 92,
      "outputs": [
        {
          "output_type": "execute_result",
          "data": {
            "text/html": [
              "<div>\n",
              "<style scoped>\n",
              "    .dataframe tbody tr th:only-of-type {\n",
              "        vertical-align: middle;\n",
              "    }\n",
              "\n",
              "    .dataframe tbody tr th {\n",
              "        vertical-align: top;\n",
              "    }\n",
              "\n",
              "    .dataframe thead th {\n",
              "        text-align: right;\n",
              "    }\n",
              "</style>\n",
              "<table border=\"1\" class=\"dataframe\">\n",
              "  <thead>\n",
              "    <tr style=\"text-align: right;\">\n",
              "      <th></th>\n",
              "      <th>USERID</th>\n",
              "      <th>FOLLOWER</th>\n",
              "      <th>POST_ID</th>\n",
              "      <th>LIKES</th>\n",
              "      <th>COMMENTS</th>\n",
              "      <th>ENGAGEMENT</th>\n",
              "      <th>TIME</th>\n",
              "      <th>VIDEO_VIEW_COUNT</th>\n",
              "    </tr>\n",
              "  </thead>\n",
              "  <tbody>\n",
              "    <tr>\n",
              "      <th>count</th>\n",
              "      <td>2.212300e+04</td>\n",
              "      <td>2.212300e+04</td>\n",
              "      <td>2.212300e+04</td>\n",
              "      <td>2.212300e+04</td>\n",
              "      <td>22123.000000</td>\n",
              "      <td>22123.000000</td>\n",
              "      <td>2.212300e+04</td>\n",
              "      <td>4.093000e+03</td>\n",
              "    </tr>\n",
              "    <tr>\n",
              "      <th>mean</th>\n",
              "      <td>1.294732e+10</td>\n",
              "      <td>5.353148e+04</td>\n",
              "      <td>2.560923e+18</td>\n",
              "      <td>1.012033e+03</td>\n",
              "      <td>29.686932</td>\n",
              "      <td>5.444202</td>\n",
              "      <td>1.619499e+09</td>\n",
              "      <td>1.448958e+04</td>\n",
              "    </tr>\n",
              "    <tr>\n",
              "      <th>std</th>\n",
              "      <td>1.635346e+10</td>\n",
              "      <td>1.011282e+06</td>\n",
              "      <td>1.702821e+17</td>\n",
              "      <td>2.267501e+04</td>\n",
              "      <td>706.415323</td>\n",
              "      <td>7.577142</td>\n",
              "      <td>2.029269e+07</td>\n",
              "      <td>2.316489e+05</td>\n",
              "    </tr>\n",
              "    <tr>\n",
              "      <th>min</th>\n",
              "      <td>3.142160e+05</td>\n",
              "      <td>5.000000e+02</td>\n",
              "      <td>6.216878e+17</td>\n",
              "      <td>0.000000e+00</td>\n",
              "      <td>0.000000</td>\n",
              "      <td>0.000000</td>\n",
              "      <td>1.388331e+09</td>\n",
              "      <td>0.000000e+00</td>\n",
              "    </tr>\n",
              "    <tr>\n",
              "      <th>25%</th>\n",
              "      <td>5.652381e+08</td>\n",
              "      <td>9.180000e+02</td>\n",
              "      <td>2.560000e+18</td>\n",
              "      <td>2.300000e+01</td>\n",
              "      <td>0.000000</td>\n",
              "      <td>1.270000</td>\n",
              "      <td>1.619573e+09</td>\n",
              "      <td>9.400000e+01</td>\n",
              "    </tr>\n",
              "    <tr>\n",
              "      <th>50%</th>\n",
              "      <td>4.459829e+09</td>\n",
              "      <td>1.616000e+03</td>\n",
              "      <td>2.610000e+18</td>\n",
              "      <td>5.700000e+01</td>\n",
              "      <td>3.000000</td>\n",
              "      <td>3.140000</td>\n",
              "      <td>1.624838e+09</td>\n",
              "      <td>2.350000e+02</td>\n",
              "    </tr>\n",
              "    <tr>\n",
              "      <th>75%</th>\n",
              "      <td>2.290415e+10</td>\n",
              "      <td>4.140000e+03</td>\n",
              "      <td>2.650000e+18</td>\n",
              "      <td>1.360000e+02</td>\n",
              "      <td>10.000000</td>\n",
              "      <td>6.960000</td>\n",
              "      <td>1.630711e+09</td>\n",
              "      <td>7.290000e+02</td>\n",
              "    </tr>\n",
              "    <tr>\n",
              "      <th>max</th>\n",
              "      <td>4.944817e+10</td>\n",
              "      <td>3.636130e+07</td>\n",
              "      <td>2.670000e+18</td>\n",
              "      <td>1.409732e+06</td>\n",
              "      <td>73188.000000</td>\n",
              "      <td>338.740000</td>\n",
              "      <td>1.632341e+09</td>\n",
              "      <td>9.785071e+06</td>\n",
              "    </tr>\n",
              "  </tbody>\n",
              "</table>\n",
              "</div>"
            ],
            "text/plain": [
              "             USERID      FOLLOWER  ...          TIME  VIDEO_VIEW_COUNT\n",
              "count  2.212300e+04  2.212300e+04  ...  2.212300e+04      4.093000e+03\n",
              "mean   1.294732e+10  5.353148e+04  ...  1.619499e+09      1.448958e+04\n",
              "std    1.635346e+10  1.011282e+06  ...  2.029269e+07      2.316489e+05\n",
              "min    3.142160e+05  5.000000e+02  ...  1.388331e+09      0.000000e+00\n",
              "25%    5.652381e+08  9.180000e+02  ...  1.619573e+09      9.400000e+01\n",
              "50%    4.459829e+09  1.616000e+03  ...  1.624838e+09      2.350000e+02\n",
              "75%    2.290415e+10  4.140000e+03  ...  1.630711e+09      7.290000e+02\n",
              "max    4.944817e+10  3.636130e+07  ...  1.632341e+09      9.785071e+06\n",
              "\n",
              "[8 rows x 8 columns]"
            ]
          },
          "metadata": {},
          "execution_count": 92
        }
      ]
    },
    {
      "cell_type": "code",
      "metadata": {
        "id": "az5iRMwtagVt",
        "colab": {
          "base_uri": "https://localhost:8080/"
        },
        "outputId": "e4340566-a699-412b-8228-660314c0b631"
      },
      "source": [
        "df.isnull().sum()"
      ],
      "execution_count": 93,
      "outputs": [
        {
          "output_type": "execute_result",
          "data": {
            "text/plain": [
              "USERID                                0\n",
              "USERNAME                              0\n",
              "FULLNAME                            525\n",
              "FOLLOWER                              0\n",
              "POST_ID                               0\n",
              "SHORTCODE                             0\n",
              "LIKES                                 0\n",
              "COMMENTS                              0\n",
              "ENGAGEMENT                            0\n",
              "URL                                   0\n",
              "ACCESSIBILITY_CAPTION              4367\n",
              "CAPTION                            1977\n",
              "LOCATION                          14635\n",
              "CITY                              15128\n",
              "COUNTRY                           15980\n",
              "TIME                                  0\n",
              "IMAGE_LABELS                         14\n",
              "CAPTION_INTEREST                   1977\n",
              "ACCESSIBILITY_CAPTION_INTEREST     4367\n",
              "IMAGE_LABEL_INTEREST                 14\n",
              "IMAGE_URL                             0\n",
              "COMMENT_DISABLED                      0\n",
              "IS_VIDEO                              0\n",
              "HAS_AUDIO                             0\n",
              "VIDEO_URL                         18030\n",
              "VIDEO_VIEW_COUNT                  18030\n",
              "dtype: int64"
            ]
          },
          "metadata": {},
          "execution_count": 93
        }
      ]
    },
    {
      "cell_type": "code",
      "metadata": {
        "colab": {
          "base_uri": "https://localhost:8080/"
        },
        "id": "Xew-Z_G30l6j",
        "outputId": "fef866e7-9cb2-43fd-f181-6e6374b78041"
      },
      "source": [
        "print(f'data len Before = {len(df)}')\n",
        "df = df[df['ENGAGEMENT'].notna()]\n",
        "print(f'data len After  = {len(df)}')"
      ],
      "execution_count": 94,
      "outputs": [
        {
          "output_type": "stream",
          "name": "stdout",
          "text": [
            "data len Before = 22123\n",
            "data len After  = 22123\n"
          ]
        }
      ]
    },
    {
      "cell_type": "code",
      "metadata": {
        "colab": {
          "base_uri": "https://localhost:8080/",
          "height": 283
        },
        "id": "4xNT9kwiRJF_",
        "outputId": "b4b68d44-498d-4520-f74c-fd665e0ea2cb"
      },
      "source": [
        "df.ENGAGEMENT.hist(bins=100)"
      ],
      "execution_count": 95,
      "outputs": [
        {
          "output_type": "execute_result",
          "data": {
            "text/plain": [
              "<matplotlib.axes._subplots.AxesSubplot at 0x7f9cc2790e10>"
            ]
          },
          "metadata": {},
          "execution_count": 95
        },
        {
          "output_type": "display_data",
          "data": {
            "image/png": "[encoded data removed]",
            "text/plain": [
              "<Figure size 432x288 with 1 Axes>"
            ]
          },
          "metadata": {
            "needs_background": "light"
          }
        }
      ]
    },
    {
      "cell_type": "code",
      "metadata": {
        "colab": {
          "base_uri": "https://localhost:8080/",
          "height": 284
        },
        "id": "zT20Pg8SRZDb",
        "outputId": "a842c486-e10c-45a4-98d3-504afdc1f73f"
      },
      "source": [
        "log_ENGAGEMENT = np.log1p(df.ENGAGEMENT)\n",
        "log_ENGAGEMENT.hist(bins=100)"
      ],
      "execution_count": 96,
      "outputs": [
        {
          "output_type": "execute_result",
          "data": {
            "text/plain": [
              "<matplotlib.axes._subplots.AxesSubplot at 0x7f9cc14775d0>"
            ]
          },
          "metadata": {},
          "execution_count": 96
        },
        {
          "output_type": "display_data",
          "data": {
            "image/png": "[encoded data removed]",
            "text/plain": [
              "<Figure size 432x288 with 1 Axes>"
            ]
          },
          "metadata": {
            "needs_background": "light"
          }
        }
      ]
    },
    {
      "cell_type": "code",
      "metadata": {
        "id": "YYchCjxAmCpu"
      },
      "source": [
        "df['log_ENGAGEMENT'] = log_ENGAGEMENT"
      ],
      "execution_count": 97,
      "outputs": []
    },
    {
      "cell_type": "code",
      "metadata": {
        "id": "XOVyc53bt-dl",
        "outputId": "5a1b3fcb-4f06-462f-9e30-0f4dc88d3fab",
        "colab": {
          "base_uri": "https://localhost:8080/"
        }
      },
      "source": [
        "print(f'data len Before = {len(df)}')\n",
        "df = df[df['LIKES'].notna()]\n",
        "print(f'data len After  = {len(df)}')"
      ],
      "execution_count": 98,
      "outputs": [
        {
          "output_type": "stream",
          "name": "stdout",
          "text": [
            "data len Before = 22123\n",
            "data len After  = 22123\n"
          ]
        }
      ]
    },
    {
      "cell_type": "code",
      "metadata": {
        "id": "eYG3Bw4joiQ6",
        "colab": {
          "base_uri": "https://localhost:8080/",
          "height": 295
        },
        "outputId": "016a384b-f920-4f2a-c00c-b14b95281aeb"
      },
      "source": [
        "df.LIKES.hist(bins=100)"
      ],
      "execution_count": 99,
      "outputs": [
        {
          "output_type": "execute_result",
          "data": {
            "text/plain": [
              "<matplotlib.axes._subplots.AxesSubplot at 0x7f9cc8b08e90>"
            ]
          },
          "metadata": {},
          "execution_count": 99
        },
        {
          "output_type": "display_data",
          "data": {
            "image/png": "[encoded data removed]",
            "text/plain": [
              "<Figure size 432x288 with 1 Axes>"
            ]
          },
          "metadata": {
            "needs_background": "light"
          }
        }
      ]
    },
    {
      "cell_type": "code",
      "metadata": {
        "id": "wI0Ilah0ooSs",
        "colab": {
          "base_uri": "https://localhost:8080/",
          "height": 282
        },
        "outputId": "885ec6e5-e0bf-44d3-c5cb-67b54bd798bd"
      },
      "source": [
        "log_LIKES = np.log1p(df.LIKES)\n",
        "log_LIKES.hist(bins=100)"
      ],
      "execution_count": 100,
      "outputs": [
        {
          "output_type": "execute_result",
          "data": {
            "text/plain": [
              "<matplotlib.axes._subplots.AxesSubplot at 0x7f9cc1142750>"
            ]
          },
          "metadata": {},
          "execution_count": 100
        },
        {
          "output_type": "display_data",
          "data": {
            "image/png": "[encoded data removed]",
            "text/plain": [
              "<Figure size 432x288 with 1 Axes>"
            ]
          },
          "metadata": {
            "needs_background": "light"
          }
        }
      ]
    },
    {
      "cell_type": "code",
      "metadata": {
        "id": "YEXM9o1dphMy"
      },
      "source": [
        "df['log_LIKES'] = log_LIKES"
      ],
      "execution_count": 101,
      "outputs": []
    },
    {
      "cell_type": "code",
      "metadata": {
        "id": "-yIHJlgLpDGA",
        "colab": {
          "base_uri": "https://localhost:8080/",
          "height": 282
        },
        "outputId": "bce2625f-51d2-4c5f-c85d-5c193461babc"
      },
      "source": [
        "df.COMMENTS.hist(bins=100)"
      ],
      "execution_count": 102,
      "outputs": [
        {
          "output_type": "execute_result",
          "data": {
            "text/plain": [
              "<matplotlib.axes._subplots.AxesSubplot at 0x7f9cc0fb1c50>"
            ]
          },
          "metadata": {},
          "execution_count": 102
        },
        {
          "output_type": "display_data",
          "data": {
            "image/png": "[encoded data removed]",
            "text/plain": [
              "<Figure size 432x288 with 1 Axes>"
            ]
          },
          "metadata": {
            "needs_background": "light"
          }
        }
      ]
    },
    {
      "cell_type": "code",
      "metadata": {
        "id": "gE8xWF4guChp",
        "outputId": "5c169d6f-c75e-4dd2-c82f-1cae561e727d",
        "colab": {
          "base_uri": "https://localhost:8080/"
        }
      },
      "source": [
        "print(f'data len Before = {len(df)}')\n",
        "df = df[df['COMMENTS'].notna()]\n",
        "print(f'data len After  = {len(df)}')"
      ],
      "execution_count": 103,
      "outputs": [
        {
          "output_type": "stream",
          "name": "stdout",
          "text": [
            "data len Before = 22123\n",
            "data len After  = 22123\n"
          ]
        }
      ]
    },
    {
      "cell_type": "code",
      "metadata": {
        "id": "bGpaQpf5pHHJ",
        "colab": {
          "base_uri": "https://localhost:8080/",
          "height": 282
        },
        "outputId": "0e6f00c5-4351-46d0-ebd8-db00558cf6c2"
      },
      "source": [
        "log_COMMENTS = np.log1p(df.COMMENTS)\n",
        "log_COMMENTS.hist(bins=100)"
      ],
      "execution_count": 104,
      "outputs": [
        {
          "output_type": "execute_result",
          "data": {
            "text/plain": [
              "<matplotlib.axes._subplots.AxesSubplot at 0x7f9cc0e693d0>"
            ]
          },
          "metadata": {},
          "execution_count": 104
        },
        {
          "output_type": "display_data",
          "data": {
            "image/png": "[encoded data removed]",
            "text/plain": [
              "<Figure size 432x288 with 1 Axes>"
            ]
          },
          "metadata": {
            "needs_background": "light"
          }
        }
      ]
    },
    {
      "cell_type": "code",
      "metadata": {
        "id": "YI75q-6wpksr"
      },
      "source": [
        "df['log_COMMENTS'] = log_COMMENTS"
      ],
      "execution_count": 105,
      "outputs": []
    },
    {
      "cell_type": "markdown",
      "metadata": {
        "id": "DiJtaUFVyOTZ"
      },
      "source": [
        "##Feature Engeering - Unstack IMAGE_LABELS, "
      ]
    },
    {
      "cell_type": "code",
      "metadata": {
        "id": "oGKGCFYIgSfG",
        "colab": {
          "base_uri": "https://localhost:8080/"
        },
        "outputId": "dc7031ed-0300-4a96-acc3-1a2e053913d8"
      },
      "source": [
        "df['IMAGE_LABELS'].unique()"
      ],
      "execution_count": 106,
      "outputs": [
        {
          "output_type": "execute_result",
          "data": {
            "text/plain": [
              "array(['Clothing, Apparel, Text, Money, Collage, Advertisement, Poster',\n",
              "       'Clothing, Apparel, Person, Human, Female, Swimwear, Footwear, Woman, Bikini, Shoe, Skin, Pants, Flooring, Girl',\n",
              "       'Clothing, Apparel, Person, Human, Sunglasses, Accessories, Accessory, Face, Scarf, Portrait, Photography, Photo, Glasses, People, Selfie, Female, Coat, Smile',\n",
              "       ...,\n",
              "       'Coin, Money, Gold, Flyer, Advertisement, Paper, Poster, Brochure',\n",
              "       'Nature, Outdoors, Sky, Azure Sky, Horizon, Ice',\n",
              "       'Face, Person, Human, Female, Plant, Tree, Clothing, Apparel, Woman, Portrait, Photography, Photo, Girl, Palm Tree, Arecaceae, Smile, Selfie, Glasses, Accessories, Accessory, Laughing'],\n",
              "      dtype=object)"
            ]
          },
          "metadata": {},
          "execution_count": 106
        }
      ]
    },
    {
      "cell_type": "code",
      "metadata": {
        "id": "1M8FpX6ogb5d",
        "colab": {
          "base_uri": "https://localhost:8080/"
        },
        "outputId": "0d18606c-4505-44a1-f269-4feb036d0452"
      },
      "source": [
        "df['CAPTION_INTEREST'].unique()"
      ],
      "execution_count": 107,
      "outputs": [
        {
          "output_type": "execute_result",
          "data": {
            "text/plain": [
              "array(['education', nan, 'entertainment', 'desserts_baking',\n",
              "       'dating_and_relationships', 'arts_entertainment', 'business',\n",
              "       'gaming', 'travel', 'news', 'music', 'politics', 'pets',\n",
              "       'food_drink', 'parenting', 'style_fashion', 'humor', 'sports',\n",
              "       'accessories', 'technology_computing', 'health', 'home_garden',\n",
              "       'weddings', 'books_literature', 'legal', 'movies', 'fitness',\n",
              "       'chef', 'events', 'baking_cooking', 'comic_books',\n",
              "       'cars_motorcycles', 'hobbies_interests', 'podcasts',\n",
              "       'green_living', 'barbecues_grilling', 'finance'], dtype=object)"
            ]
          },
          "metadata": {},
          "execution_count": 107
        }
      ]
    },
    {
      "cell_type": "code",
      "metadata": {
        "id": "3_mWqgmjgkeb",
        "colab": {
          "base_uri": "https://localhost:8080/",
          "height": 896
        },
        "outputId": "3a3aca2e-701f-4de6-c85b-020d6156982d"
      },
      "source": [
        "IMAGE_LABELS = df.groupby('CAPTION_INTEREST').size().sort_values()\n",
        "IMAGE_LABELS.plot.barh(figsize=(8, 15), fontsize=10, title='CAPTION_INTEREST')"
      ],
      "execution_count": 108,
      "outputs": [
        {
          "output_type": "execute_result",
          "data": {
            "text/plain": [
              "<matplotlib.axes._subplots.AxesSubplot at 0x7f9cc0c84650>"
            ]
          },
          "metadata": {},
          "execution_count": 108
        },
        {
          "output_type": "display_data",
          "data": {
            "image/png": "[encoded data removed]",
            "text/plain": [
              "<Figure size 576x1080 with 1 Axes>"
            ]
          },
          "metadata": {
            "needs_background": "light"
          }
        }
      ]
    },
    {
      "cell_type": "code",
      "metadata": {
        "id": "BhotiyOxdoL5",
        "colab": {
          "base_uri": "https://localhost:8080/"
        },
        "outputId": "5e035fb6-9609-44d5-fe41-ba78e28aa0c4"
      },
      "source": [
        "IMAGE_LABELS = df.groupby('IMAGE_LABELS').size().sort_values()\n",
        "IMAGE_LABELS.plot.barh(figsize=(8, 15), fontsize=10, title='IMAGE_LABELS')"
      ],
      "execution_count": null,
      "outputs": [
        {
          "output_type": "execute_result",
          "data": {
            "text/plain": [
              "<matplotlib.axes._subplots.AxesSubplot at 0x7f9cc0b44110>"
            ]
          },
          "metadata": {},
          "execution_count": 109
        }
      ]
    },
    {
      "cell_type": "markdown",
      "metadata": {
        "id": "7Xyw85OBbvj5"
      },
      "source": [
        "## Sigma cleaning"
      ]
    },
    {
      "cell_type": "code",
      "metadata": {
        "id": "dAzvasb2bybT"
      },
      "source": [
        "# # we lose the most viral posts and most unviral posts\n",
        "# for col in df.columns:\n",
        "#     if df[col].dtype == 'float64':\n",
        "#         std = df[col].std()\n",
        "#         ave = df[col].mean()\n",
        "#         df = df.loc[df[col].between\\\n",
        "#                                (ave - (sigma * std), ave + (sigma * std))] \n",
        "#         print(f'Processing {col:10} --> {df.shape[0]:5} entities entries remain')"
      ],
      "execution_count": null,
      "outputs": []
    },
    {
      "cell_type": "code",
      "metadata": {
        "id": "92U3NlTgb4j_"
      },
      "source": [
        "df.describe()"
      ],
      "execution_count": null,
      "outputs": []
    },
    {
      "cell_type": "markdown",
      "metadata": {
        "id": "y8BTw9B4CP69"
      },
      "source": [
        "## Handle NaN valus"
      ]
    },
    {
      "cell_type": "markdown",
      "metadata": {
        "id": "ksd42-L6J9Sz"
      },
      "source": [
        "How Many NaN values are ther in the datast?"
      ]
    },
    {
      "cell_type": "code",
      "metadata": {
        "id": "xk360FI0J8sB"
      },
      "source": [
        "msno.matrix(df)"
      ],
      "execution_count": null,
      "outputs": []
    },
    {
      "cell_type": "code",
      "metadata": {
        "id": "ItG8cSILKIPZ"
      },
      "source": [
        "msno.bar(df, figsize=(20, 8))"
      ],
      "execution_count": null,
      "outputs": []
    },
    {
      "cell_type": "markdown",
      "metadata": {
        "id": "ftNhR1FiMDhe"
      },
      "source": [
        "Conert unix time to separate Date and Time columns"
      ]
    },
    {
      "cell_type": "code",
      "metadata": {
        "id": "rCf1bnIbxjU7"
      },
      "source": [
        "df['DATETIME'] = pd.to_datetime(df['TIME'],unit='s')"
      ],
      "execution_count": null,
      "outputs": []
    },
    {
      "cell_type": "code",
      "metadata": {
        "id": "LZ_7L8emN7yz"
      },
      "source": [
        "df['YEAR'] = pd.DatetimeIndex(df['DATETIME']).year\n",
        "df['MONTH'] = pd.DatetimeIndex(df['DATETIME']).month\n",
        "df['DAY'] = pd.DatetimeIndex(df['DATETIME']).day\n",
        "df['DAYOFWEEK'] = pd.DatetimeIndex(df['DATETIME']).dayofweek\n",
        "df['HOUR'] = pd.DatetimeIndex(df['DATETIME']).hour\n",
        "df['MINUTE'] = pd.DatetimeIndex(df['DATETIME']).minute"
      ],
      "execution_count": null,
      "outputs": []
    },
    {
      "cell_type": "code",
      "metadata": {
        "id": "3xhU2m4udKti"
      },
      "source": [
        "per_DAY = df.groupby(['DAY']).sum()\n",
        "per_DAY.plot(y=[\"ENGAGEMENT\"], kind=\"bar\",figsize=(12,8))"
      ],
      "execution_count": null,
      "outputs": []
    },
    {
      "cell_type": "code",
      "metadata": {
        "id": "soiAP4DJfeWm"
      },
      "source": [
        "per_HOUR = df.groupby(['HOUR']).sum()\n",
        "per_HOUR.plot(y=[\"ENGAGEMENT\"], kind=\"bar\",figsize=(12,8))"
      ],
      "execution_count": null,
      "outputs": []
    },
    {
      "cell_type": "code",
      "metadata": {
        "id": "e5L6Rresf2jA"
      },
      "source": [
        "per_MINUTE = df.groupby(['MINUTE']).sum()\n",
        "per_MINUTE.plot(y=[\"ENGAGEMENT\"], kind=\"bar\",figsize=(12,8))"
      ],
      "execution_count": null,
      "outputs": []
    },
    {
      "cell_type": "code",
      "metadata": {
        "id": "LDFzscFuK6SQ"
      },
      "source": [
        "# per_FULLNAME = df.groupby(['USERNAME']).sum()\n",
        "# per_FULLNAME.plot(y=[\"ENGAGEMENT\", \"LIKES\",\"COMMENTS\"], kind=\"bar\",figsize=(12,8))\n",
        "\n",
        "# plt.title(\"Total ENGAGEMENT, LIKES, COMMENTS per state\",fontsize=15)\n",
        "# plt.xlabel('FULLNAME',fontsize=12)\n",
        "# plt.ylabel('ENGAGEMENT, LIKES, COMMENTS',fontsize=12)"
      ],
      "execution_count": null,
      "outputs": []
    },
    {
      "cell_type": "markdown",
      "metadata": {
        "id": "FS4RdvS3B4nr"
      },
      "source": [
        "Remove column that all values are unique:"
      ]
    },
    {
      "cell_type": "code",
      "metadata": {
        "id": "mDp86xxgB_H9"
      },
      "source": [
        "for col in df.columns:\n",
        "    if len(df[col].unique()) == len(df):\n",
        "        print(col)\n",
        "        #df.drop(col,inplace=True,axis=1)"
      ],
      "execution_count": null,
      "outputs": []
    },
    {
      "cell_type": "code",
      "metadata": {
        "id": "fpJMf4XQL03A"
      },
      "source": [
        "df.head()"
      ],
      "execution_count": null,
      "outputs": []
    },
    {
      "cell_type": "code",
      "metadata": {
        "id": "2Xk5qhATLp05"
      },
      "source": [
        "df.URL.head()\n",
        "# SHORTCODE\n",
        "# URL\n",
        "# IMAGE_URL\n",
        "# VIDEO_URL # Not working"
      ],
      "execution_count": null,
      "outputs": []
    },
    {
      "cell_type": "markdown",
      "metadata": {
        "id": "dvmzVNTENNw2"
      },
      "source": [
        "## Remove unneccessary columns from Dataframe"
      ]
    },
    {
      "cell_type": "code",
      "metadata": {
        "id": "5Ep01ay_nm1p"
      },
      "source": [
        "df.drop(['POST_ID','VIDEO_URL','SHORTCODE','IMAGE_URL','USERID','FULLNAME','USERNAME',\n",
        "         'USERID','TIME','URL','VIDEO_VIEW_COUNT'],inplace=True,axis=1)"
      ],
      "execution_count": null,
      "outputs": []
    },
    {
      "cell_type": "markdown",
      "metadata": {
        "id": "YqZwRTL0nnp1"
      },
      "source": [
        "After talking with Royi on 1-Oct: "
      ]
    },
    {
      "cell_type": "code",
      "metadata": {
        "id": "CBotm3nAny4M"
      },
      "source": [
        "df.info()"
      ],
      "execution_count": null,
      "outputs": []
    },
    {
      "cell_type": "markdown",
      "metadata": {
        "id": "egjqB8d9BlQS"
      },
      "source": [
        "Convert columns type to characters :"
      ]
    },
    {
      "cell_type": "code",
      "metadata": {
        "id": "VIzv3R77Bjqn"
      },
      "source": [
        "df['COMMENT_DISABLED'].value_counts()"
      ],
      "execution_count": null,
      "outputs": []
    },
    {
      "cell_type": "code",
      "metadata": {
        "id": "5Py0fclpFn1r"
      },
      "source": [
        "df['COMMENT_DISABLED'] = df['COMMENT_DISABLED'].map(dict(yes=1, no=0))"
      ],
      "execution_count": null,
      "outputs": []
    },
    {
      "cell_type": "code",
      "metadata": {
        "id": "VTX8T6IIGf0h"
      },
      "source": [
        "df['IS_VIDEO'] = df['IS_VIDEO'].map(dict(yes=1, no=0))"
      ],
      "execution_count": null,
      "outputs": []
    },
    {
      "cell_type": "code",
      "metadata": {
        "id": "TkhoNyMcG_jZ"
      },
      "source": [
        "df['HAS_AUDIO'] = df['HAS_AUDIO'].map(dict(yes=1, no=0))"
      ],
      "execution_count": null,
      "outputs": []
    },
    {
      "cell_type": "code",
      "metadata": {
        "id": "3cVRk_oSGpqR"
      },
      "source": [
        "df[['COMMENT_DISABLED','IS_VIDEO','HAS_AUDIO']].value_counts()"
      ],
      "execution_count": null,
      "outputs": []
    },
    {
      "cell_type": "code",
      "metadata": {
        "id": "zHYCMkwrIvJE"
      },
      "source": [
        "pd.unique(df[['COMMENT_DISABLED','IS_VIDEO','HAS_AUDIO']].values.ravel('K'))"
      ],
      "execution_count": null,
      "outputs": []
    },
    {
      "cell_type": "code",
      "metadata": {
        "id": "80uwyoJezN8I"
      },
      "source": [
        "msno.matrix(df)"
      ],
      "execution_count": null,
      "outputs": []
    },
    {
      "cell_type": "code",
      "metadata": {
        "id": "YuKCxaw0zV1O"
      },
      "source": [
        "df.columns"
      ],
      "execution_count": null,
      "outputs": []
    },
    {
      "cell_type": "markdown",
      "metadata": {
        "id": "uF9AHnIU4ae-"
      },
      "source": [
        "Raname the index"
      ]
    },
    {
      "cell_type": "code",
      "metadata": {
        "id": "3A0qeN-o4DPy"
      },
      "source": [
        "df = df.rename_axis('LINE_NUM_INDEX')"
      ],
      "execution_count": null,
      "outputs": []
    },
    {
      "cell_type": "markdown",
      "metadata": {
        "id": "QosJ4CUL4mcc"
      },
      "source": [
        "Note by Eladk: we can fill location values by using a merdiction model base in the influancer and the time for the post. <BR> \n",
        "For Now, I'll just fill the columns with NULL"
      ]
    },
    {
      "cell_type": "markdown",
      "metadata": {
        "id": "FTZGaoMYArQ4"
      },
      "source": [
        "Replace all cases where VIDEO_VIEW_COUNT == Nan with 0. <BR> for double check i verified it with is_video column"
      ]
    },
    {
      "cell_type": "markdown",
      "metadata": {
        "id": "Z1IpsQ1WDRwW"
      },
      "source": [
        "Eladk note 8-Sep-2021: I still need to handle missing values in column:\n",
        "\n",
        "\n",
        "*   FULLNAME\n",
        "*   ACCESSIBILITY_CAPTION - specify full name, time, location, video or picture and tag\n",
        "*   CAPTION - the text on this post (by the post uploader\n",
        "*   LOCATION, CITY, COUNTRY - location\n",
        "*   CAPTION_INTEREST -\n",
        "*   ACCESSIBILITY_CAPTION_INTEREST\n"
      ]
    },
    {
      "cell_type": "code",
      "metadata": {
        "id": "KFgrunbu5UN5"
      },
      "source": [
        "msno.matrix(df)"
      ],
      "execution_count": null,
      "outputs": []
    },
    {
      "cell_type": "code",
      "metadata": {
        "id": "pJzc-VCL6wem"
      },
      "source": [
        "df.CAPTION.value_counts().sort_values(ascending=False)"
      ],
      "execution_count": null,
      "outputs": []
    },
    {
      "cell_type": "markdown",
      "metadata": {
        "id": "1nfbHMIBGBXo"
      },
      "source": [
        "selecting a subset of the data:"
      ]
    },
    {
      "cell_type": "code",
      "metadata": {
        "id": "EhYai8Vc-E1h"
      },
      "source": [
        "df[['ACCESSIBILITY_CAPTION','CAPTION','LOCATION', 'CITY', 'COUNTRY'\\\n",
        "    ,'CAPTION_INTEREST','ACCESSIBILITY_CAPTION_INTEREST']].head(5)"
      ],
      "execution_count": null,
      "outputs": []
    },
    {
      "cell_type": "markdown",
      "metadata": {
        "id": "FKe1TsN2E03L"
      },
      "source": [
        "Increase the length to a column so that we'll see all the text in a cell"
      ]
    },
    {
      "cell_type": "code",
      "metadata": {
        "id": "DQxDRFJz-z4n"
      },
      "source": [
        "pd.options.display.max_colwidth = 1000\n",
        "df.ACCESSIBILITY_CAPTION.head(5)"
      ],
      "execution_count": null,
      "outputs": []
    },
    {
      "cell_type": "markdown",
      "metadata": {
        "id": "oRFlWKO6EqIZ"
      },
      "source": [
        "Selecting 1 row by index (specific column only)"
      ]
    },
    {
      "cell_type": "code",
      "metadata": {
        "id": "QDwmKBBU9M63"
      },
      "source": [
        "#df[df.index == 1929][['URL','ACCESSIBILITY_CAPTION','DATETIME','LOCATION']] # name, \n",
        "df[df.index == 1929][['ACCESSIBILITY_CAPTION','DATETIME','LOCATION']] # name, "
      ],
      "execution_count": null,
      "outputs": []
    },
    {
      "cell_type": "code",
      "metadata": {
        "id": "gIEu5AuP9DQn"
      },
      "source": [
        "df.columns"
      ],
      "execution_count": null,
      "outputs": []
    },
    {
      "cell_type": "code",
      "metadata": {
        "id": "rEWoJh98GMjH"
      },
      "source": [
        "df[['CAPTION_INTEREST','ACCESSIBILITY_CAPTION_INTEREST']].head(20)"
      ],
      "execution_count": null,
      "outputs": []
    },
    {
      "cell_type": "code",
      "metadata": {
        "id": "XNhBGf_vIyTS"
      },
      "source": [
        "#df[df.index == 1932][['URL','CAPTION_INTEREST','ACCESSIBILITY_CAPTION_INTEREST']] # name, \n",
        "df[df.index == 1932][['CAPTION_INTEREST','ACCESSIBILITY_CAPTION_INTEREST']] # name,"
      ],
      "execution_count": null,
      "outputs": []
    },
    {
      "cell_type": "markdown",
      "metadata": {
        "id": "n_YgP0eGJBuU"
      },
      "source": [
        "there are 308 combination as CAPTION_INTEREST and ACCESSIBILITY_CAPTION_INTEREST"
      ]
    },
    {
      "cell_type": "code",
      "metadata": {
        "id": "RyfBkf7yGViq"
      },
      "source": [
        "df.groupby(['CAPTION_INTEREST','ACCESSIBILITY_CAPTION_INTEREST']).size().sort_values(ascending=False).reset_index(name='counts').head(50)"
      ],
      "execution_count": null,
      "outputs": []
    },
    {
      "cell_type": "markdown",
      "metadata": {
        "id": "kt-1qSIIH2Mm"
      },
      "source": [
        "there are 35 unique CAPTION_INTEREST\n"
      ]
    },
    {
      "cell_type": "code",
      "metadata": {
        "id": "RuNi4pnJHsIj"
      },
      "source": [
        "df.groupby(['CAPTION_INTEREST']).size().sort_values(ascending=False).reset_index(name='counts').head(50)"
      ],
      "execution_count": null,
      "outputs": []
    },
    {
      "cell_type": "markdown",
      "metadata": {
        "id": "cwsqII4BILNz"
      },
      "source": [
        "there are 26 unique ACCESSIBILITY_CAPTION_INTEREST\n"
      ]
    },
    {
      "cell_type": "code",
      "metadata": {
        "id": "TMSR-DOfIFuG"
      },
      "source": [
        "df.groupby(['ACCESSIBILITY_CAPTION_INTEREST']).size().sort_values(ascending=False).reset_index(name='counts').head(30)"
      ],
      "execution_count": null,
      "outputs": []
    },
    {
      "cell_type": "markdown",
      "metadata": {
        "id": "4x8kck8QqZQb"
      },
      "source": [
        "Eladk 1-Oct , creat new column the state if CAPTION_INTEREST == ACCESSIBILITY_CAPTION_INTEREST"
      ]
    },
    {
      "cell_type": "code",
      "metadata": {
        "id": "8Z2aUkz5qS7O"
      },
      "source": [
        "df.groupby(['CAPTION_INTEREST','ACCESSIBILITY_CAPTION_INTEREST']).size().sort_values(ascending=False).reset_index(name='counts').head(50)"
      ],
      "execution_count": null,
      "outputs": []
    },
    {
      "cell_type": "markdown",
      "metadata": {
        "id": "n5cW-lu2Vw_h"
      },
      "source": [
        "For Now (Eladk 2021-Sep-11) I'll fill every NaN with Null"
      ]
    },
    {
      "cell_type": "code",
      "metadata": {
        "id": "yUX6l3NkV5m1"
      },
      "source": [
        "msno.matrix(df)"
      ],
      "execution_count": null,
      "outputs": []
    },
    {
      "cell_type": "code",
      "metadata": {
        "id": "Z0zJFkodXwdY"
      },
      "source": [
        "#https://datatofish.com/rows-with-nan-pandas-dataframe/\n",
        "#len(df[df['FULLNAME'].isna()]) # 126 #849\n",
        "#df[df['FULLNAME'].isnull()]\n",
        "#df[df.isna().any(axis=1)] # len = 4020\n",
        "# df[df.isnull().any(axis=1)]"
      ],
      "execution_count": null,
      "outputs": []
    },
    {
      "cell_type": "code",
      "metadata": {
        "id": "zMypjDEQXd2x"
      },
      "source": [
        "for col in df.columns:\n",
        "    if len(df[df[col].isnull()]) > 0:\n",
        "      df[col] = df[col].fillna('Null')\n",
        "      print(col)"
      ],
      "execution_count": null,
      "outputs": []
    },
    {
      "cell_type": "code",
      "metadata": {
        "id": "EjV60NeaaTgG"
      },
      "source": [
        "msno.matrix(df)"
      ],
      "execution_count": null,
      "outputs": []
    },
    {
      "cell_type": "code",
      "metadata": {
        "id": "yIqU1s91tXfl"
      },
      "source": [
        "df.IMAGE_LABEL_INTEREST.unique()"
      ],
      "execution_count": null,
      "outputs": []
    },
    {
      "cell_type": "code",
      "metadata": {
        "id": "jCpf3nCTtgW1"
      },
      "source": [
        "df.IMAGE_LABEL_INTEREST.value_counts()"
      ],
      "execution_count": null,
      "outputs": []
    },
    {
      "cell_type": "code",
      "metadata": {
        "id": "4Dw_iPEvusa4"
      },
      "source": [
        "IMAGE_LABEL_INTEREST = df.groupby(['IMAGE_LABEL_INTEREST']).head(10)\n",
        "print(IMAGE_LABEL_INTEREST)"
      ],
      "execution_count": null,
      "outputs": []
    },
    {
      "cell_type": "markdown",
      "metadata": {
        "id": "8np0GAF5ZHf-"
      },
      "source": [
        "## Create bins (buckets) of Likes, Comment Engagement so we can use a classification model"
      ]
    },
    {
      "cell_type": "code",
      "metadata": {
        "id": "4cy-I4p7ZUcS"
      },
      "source": [
        "sns.histplot(x = df.LIKES,bins=50)"
      ],
      "execution_count": null,
      "outputs": []
    },
    {
      "cell_type": "code",
      "metadata": {
        "id": "Jyj2WmGZaFB1"
      },
      "source": [
        "bins_LIKES=[min(df.LIKES)-1,15,40,200,400,max(df.LIKES)+1]\n",
        "pd.cut(x=df.LIKES, bins=5).value_counts()\n",
        "pd.cut(x=df.LIKES, bins=bins_LIKES, labels=bin_labels,\n",
        "       ordered=True).value_counts()"
      ],
      "execution_count": null,
      "outputs": []
    },
    {
      "cell_type": "code",
      "metadata": {
        "id": "iwM5U9n8aYZS"
      },
      "source": [
        "df['LIKES_RANK'] = pd.cut(x=df.LIKES, bins=bins_LIKES, labels=bin_labels,\n",
        "       ordered=True)"
      ],
      "execution_count": null,
      "outputs": []
    },
    {
      "cell_type": "code",
      "metadata": {
        "id": "VtfiGx4RZVba"
      },
      "source": [
        "sns.histplot(x = df.COMMENTS,bins=50)"
      ],
      "execution_count": null,
      "outputs": []
    },
    {
      "cell_type": "code",
      "metadata": {
        "id": "38-SRsDxdhuT"
      },
      "source": [
        "len(df.COMMENTS) #3921"
      ],
      "execution_count": null,
      "outputs": []
    },
    {
      "cell_type": "code",
      "metadata": {
        "id": "y9Ex6T9daQOi"
      },
      "source": [
        "bins_COMMENTS=[min(df.COMMENTS)-1,1,5,40,60,max(df.COMMENTS)]\n",
        "#pd.cut(x=df.COMMENTS, bins=5).value_counts()\n",
        "pd.cut(x=df.COMMENTS, bins=bins_COMMENTS#, labels=labels \n",
        "        ,ordered=True).value_counts()"
      ],
      "execution_count": null,
      "outputs": []
    },
    {
      "cell_type": "code",
      "metadata": {
        "id": "W-uzUFsTahRs"
      },
      "source": [
        "df['COMMENTS_RANK'] = pd.cut(x=df.COMMENTS, bins=bins_COMMENTS, labels=bin_labels \n",
        "        ,ordered=True)"
      ],
      "execution_count": null,
      "outputs": []
    },
    {
      "cell_type": "code",
      "metadata": {
        "id": "sSj3KoHeZV2m"
      },
      "source": [
        "sns.histplot(x = df.ENGAGEMENT,bins=50)"
      ],
      "execution_count": null,
      "outputs": []
    },
    {
      "cell_type": "code",
      "metadata": {
        "id": "uWnd3CbhhnCd"
      },
      "source": [
        ""
      ],
      "execution_count": null,
      "outputs": []
    },
    {
      "cell_type": "code",
      "metadata": {
        "id": "G97J2z7qZtKa"
      },
      "source": [
        "bins_ENGAGEMENT=[min(df.ENGAGEMENT)-1,1.5,3.5,10,15,max(df.ENGAGEMENT)]\n",
        "pd.cut(x=df.ENGAGEMENT, bins=5, labels=bin_labels, ordered=True).value_counts()\n",
        "pd.cut(x=df.ENGAGEMENT, bins=bins_ENGAGEMENT, labels=bin_labels, ordered=True).value_counts()"
      ],
      "execution_count": null,
      "outputs": []
    },
    {
      "cell_type": "code",
      "metadata": {
        "id": "XKe78jRgapiz"
      },
      "source": [
        "df['ENGAGEMENT_RANK'] = pd.cut(x=df.ENGAGEMENT, bins=bins_ENGAGEMENT, labels=bin_labels, ordered=True)"
      ],
      "execution_count": null,
      "outputs": []
    },
    {
      "cell_type": "code",
      "metadata": {
        "id": "gf-HkrAGcIap"
      },
      "source": [
        "df['ENGAGEMENT_RANK']"
      ],
      "execution_count": null,
      "outputs": []
    },
    {
      "cell_type": "markdown",
      "metadata": {
        "id": "RVKDBrD-r1cw"
      },
      "source": [
        "Convert Rank to Code using Dictionary "
      ]
    },
    {
      "cell_type": "code",
      "metadata": {
        "id": "8GjnzjU_sDM-"
      },
      "source": [
        "df.columns"
      ],
      "execution_count": null,
      "outputs": []
    },
    {
      "cell_type": "code",
      "metadata": {
        "id": "ogslQvCzsNja"
      },
      "source": [
        "df.LIKES_RANK.unique()"
      ],
      "execution_count": null,
      "outputs": []
    },
    {
      "cell_type": "code",
      "metadata": {
        "id": "EDbozRwH1Wu0"
      },
      "source": [
        "df['COMMENTS_RANK']"
      ],
      "execution_count": null,
      "outputs": []
    },
    {
      "cell_type": "code",
      "metadata": {
        "id": "UMMoi9bysTIk"
      },
      "source": [
        "map_dict_rank = {'Low':0.0 , 'Medium':1.0, 'High':2.0, 'Very High':3.0, 'Extreme':4.0}\n",
        "map_dict_rank"
      ],
      "execution_count": null,
      "outputs": []
    },
    {
      "cell_type": "code",
      "metadata": {
        "id": "pPXqmdmgr1BR"
      },
      "source": [
        "df['LIKES_RANK_INT'] =  df['LIKES_RANK'].map(map_dict_rank).astype(int)"
      ],
      "execution_count": null,
      "outputs": []
    },
    {
      "cell_type": "code",
      "metadata": {
        "id": "0n2nX4Pgtnk1"
      },
      "source": [
        "df['COMMENTS_RANK_INT'] =   df['COMMENTS_RANK'].map(map_dict_rank).astype(int)"
      ],
      "execution_count": null,
      "outputs": []
    },
    {
      "cell_type": "code",
      "metadata": {
        "id": "0PYykOAVtoDF"
      },
      "source": [
        "df['ENGAGEMENT_RANK_INT'] =   df['ENGAGEMENT_RANK'].map(map_dict_rank).astype(int)"
      ],
      "execution_count": null,
      "outputs": []
    },
    {
      "cell_type": "code",
      "metadata": {
        "id": "Z0foohodz0os"
      },
      "source": [
        "df[['LIKES_RANK','LIKES_RANK_INT']].value_counts().sort_index()"
      ],
      "execution_count": null,
      "outputs": []
    },
    {
      "cell_type": "code",
      "metadata": {
        "id": "2RLElKQuz64o"
      },
      "source": [
        "df[['COMMENTS_RANK','COMMENTS_RANK_INT']].value_counts().sort_index()"
      ],
      "execution_count": null,
      "outputs": []
    },
    {
      "cell_type": "code",
      "metadata": {
        "id": "ikD3ia5mz7e2"
      },
      "source": [
        "df[['ENGAGEMENT_RANK','ENGAGEMENT_RANK_INT']].value_counts().sort_index()"
      ],
      "execution_count": null,
      "outputs": []
    },
    {
      "cell_type": "code",
      "metadata": {
        "id": "zxqGnokqgs0K"
      },
      "source": [
        "p = sns.violinplot(x='ENGAGEMENT_RANK', y='ENGAGEMENT', \n",
        "                    #order=cut_order, \n",
        "                    data=df)"
      ],
      "execution_count": null,
      "outputs": []
    },
    {
      "cell_type": "markdown",
      "metadata": {
        "id": "JtHjvw_dnWmi"
      },
      "source": [
        "## Eladk 28-Sep-2021, more bucketing"
      ]
    },
    {
      "cell_type": "markdown",
      "metadata": {
        "id": "uLrKcG3LoDqa"
      },
      "source": [
        "\n",
        "\n",
        "1.  VIDEO_VIEW_COUNT          41.148879\n",
        "2.  FOLLOWER                  35.852012\n",
        "3.  USERNAME_OBJECT_AS_INT    17.961764\n",
        "4.  CAPTION_OBJECT_AS_INT      3.558228\n",
        "5.  HOUR                       1.201713\n",
        "6.  MINUTE                     0.277403\n",
        "\n"
      ]
    },
    {
      "cell_type": "code",
      "metadata": {
        "id": "O2rlx5FqnbFI"
      },
      "source": [
        "df.FOLLOWER.value_counts().sort_values(ascending=False).plot.bar()\n",
        "#.reindex()"
      ],
      "execution_count": null,
      "outputs": []
    },
    {
      "cell_type": "markdown",
      "metadata": {
        "id": "88Rioz1FmEch"
      },
      "source": [
        "## Replacing Charecters  with Number uning OrdinalEncoder"
      ]
    },
    {
      "cell_type": "code",
      "metadata": {
        "id": "8SNxkSApbRPq"
      },
      "source": [
        "# list of char / object columns"
      ],
      "execution_count": null,
      "outputs": []
    },
    {
      "cell_type": "code",
      "metadata": {
        "id": "-BjZYcZYiWpY"
      },
      "source": [
        "df.dtypes"
      ],
      "execution_count": null,
      "outputs": []
    },
    {
      "cell_type": "code",
      "metadata": {
        "id": "MCV7T7o8jZ7g"
      },
      "source": [
        "df.select_dtypes(include=['object']).dtypes"
      ],
      "execution_count": null,
      "outputs": []
    },
    {
      "cell_type": "code",
      "metadata": {
        "id": "YMx9o7L_mwe4"
      },
      "source": [
        "df.select_dtypes(include=['object']).dtypes.index"
      ],
      "execution_count": null,
      "outputs": []
    },
    {
      "cell_type": "code",
      "metadata": {
        "id": "Fcr5t2FerRqu"
      },
      "source": [
        "df.info()"
      ],
      "execution_count": null,
      "outputs": []
    },
    {
      "cell_type": "code",
      "metadata": {
        "id": "IkMgjuAerpKx"
      },
      "source": [
        "enc = OrdinalEncoder()"
      ],
      "execution_count": null,
      "outputs": []
    },
    {
      "cell_type": "markdown",
      "metadata": {
        "id": "5KJW3SiP1sKY"
      },
      "source": [
        "Many columns:"
      ]
    },
    {
      "cell_type": "code",
      "metadata": {
        "id": "q-SzoBLq3WCA"
      },
      "source": [
        "for col in df.select_dtypes(include=['object']).dtypes.index:\n",
        "#for col in ['USERNAME','FULLNAME']:\n",
        "  #col_list = pd.DataFrame(df[col].unique())\n",
        "  #col_list.rename(columns = {0:col},inplace=True)\n",
        "  #col_list.rename(columns = {0:col},inplace=True)\n",
        "  enc.fit(df[[col]])\n",
        "  df[col + '_OBJECT_AS_INT'] = enc.transform(df[[col]])\n",
        "  #print(col)"
      ],
      "execution_count": null,
      "outputs": []
    },
    {
      "cell_type": "code",
      "metadata": {
        "id": "I0oUrGfpqre2"
      },
      "source": [
        "df.info()"
      ],
      "execution_count": null,
      "outputs": []
    },
    {
      "cell_type": "code",
      "metadata": {
        "id": "8rO3WVx9b3GF"
      },
      "source": [
        "df.head(2)"
      ],
      "execution_count": null,
      "outputs": []
    },
    {
      "cell_type": "code",
      "metadata": {
        "id": "tnJpFe_AEDSm"
      },
      "source": [
        "plt.figure(figsize=(25,12))\n",
        "plt.title(\"Relationship Between The Features of The instagram Data\")\n",
        "sns.heatmap(df.corr().abs(), annot=True, linewidths = 2, linecolor = \"white\")"
      ],
      "execution_count": null,
      "outputs": []
    },
    {
      "cell_type": "code",
      "metadata": {
        "id": "Wpg75JJ8gQmx"
      },
      "source": [
        "# %%time \n",
        "# df = df.select_dtypes(include=np.number)\n",
        "# sns.pairplot(df ,height=1.8) # takes about 5 min."
      ],
      "execution_count": null,
      "outputs": []
    },
    {
      "cell_type": "markdown",
      "metadata": {
        "id": "MgDT06-XkeNa"
      },
      "source": [
        "## More EDA"
      ]
    },
    {
      "cell_type": "code",
      "metadata": {
        "id": "0kFwmF2Kkkzy"
      },
      "source": [
        "df.head(2)"
      ],
      "execution_count": null,
      "outputs": []
    },
    {
      "cell_type": "markdown",
      "metadata": {
        "id": "WOQ4oH8sk_u9"
      },
      "source": [
        "## Feature Engneering"
      ]
    },
    {
      "cell_type": "markdown",
      "metadata": {
        "id": "qMVat39thWpF"
      },
      "source": [
        "## Image captioning"
      ]
    },
    {
      "cell_type": "code",
      "metadata": {
        "id": "7wzSwRd53Yde"
      },
      "source": [
        ""
      ],
      "execution_count": null,
      "outputs": []
    },
    {
      "cell_type": "markdown",
      "metadata": {
        "id": "agZSyhgnADZJ"
      },
      "source": [
        "Eladk 2021-Sep-17, we need to:\n",
        "\n",
        "\n",
        "*   convert y colum to 5 classes so we can have a classification problem and not a regresion model\n",
        "*   check if the data is inbalance (so we need to use stratify)\n",
        "\n"
      ]
    },
    {
      "cell_type": "markdown",
      "metadata": {
        "id": "wmHb9clEBtu2"
      },
      "source": [
        "# Split the Data for image or video post"
      ]
    },
    {
      "cell_type": "code",
      "metadata": {
        "id": "-xDn0t9KEi04"
      },
      "source": [
        "df.info()"
      ],
      "execution_count": null,
      "outputs": []
    },
    {
      "cell_type": "code",
      "metadata": {
        "id": "OfVWrHN8BzN6"
      },
      "source": [
        "df_image = df[df['IS_VIDEO'] == 'no']\n",
        "df_image.info()"
      ],
      "execution_count": null,
      "outputs": []
    },
    {
      "cell_type": "code",
      "metadata": {
        "id": "xvqUEbmmE_EK"
      },
      "source": [
        "df_video = df[df['IS_VIDEO']=='yes']\n",
        "df_video.info()"
      ],
      "execution_count": null,
      "outputs": []
    },
    {
      "cell_type": "markdown",
      "metadata": {
        "id": "txQpSmQulN2f"
      },
      "source": [
        "# Split the Data for modules"
      ]
    },
    {
      "cell_type": "markdown",
      "metadata": {
        "id": "8R9pK4jD7f6U"
      },
      "source": [
        "select only int and float column types to X \n",
        "seletc LIKES, COMMENTS, ENGAGEMENT as y"
      ]
    },
    {
      "cell_type": "code",
      "metadata": {
        "id": "x8uRD-ir6d2s"
      },
      "source": [
        "df_image.columns"
      ],
      "execution_count": null,
      "outputs": []
    },
    {
      "cell_type": "code",
      "metadata": {
        "id": "LIPj2Ij7FWdi"
      },
      "source": [
        "df_video.columns"
      ],
      "execution_count": null,
      "outputs": []
    },
    {
      "cell_type": "code",
      "metadata": {
        "id": "JNK0bm9s7SNL"
      },
      "source": [
        "X = df.select_dtypes(include=['number'])\n",
        "X.drop(['LIKES','COMMENTS','ENGAGEMENT','log_ENGAGEMENT'], axis=1, inplace=True) #['LIKES','COMMENTS','ENGAGEMENT']"
      ],
      "execution_count": null,
      "outputs": []
    },
    {
      "cell_type": "code",
      "metadata": {
        "id": "zWfMT2ch6iUA"
      },
      "source": [
        "X.drop(['LIKES_RANK_INT','COMMENTS_RANK_INT','ENGAGEMENT_RANK_INT'], axis=1, inplace=True) #['LIKES','COMMENTS','ENGAGEMENT']"
      ],
      "execution_count": null,
      "outputs": []
    },
    {
      "cell_type": "code",
      "metadata": {
        "id": "dpsYSMQl8b5b"
      },
      "source": [
        "y = df['ENGAGEMENT']\n",
        "y1 = df['LIKES']\n",
        "y2 = df['COMMENTS']\n",
        "y3 = df['log_ENGAGEMENT']\n",
        "y_ENGAGEMENT_RANK_INT = df['ENGAGEMENT_RANK_INT']\n",
        "y_LIKES_RANK_INT = df['LIKES_RANK_INT']\n",
        "y_COMMENTS_RANK_INT = df['COMMENTS_RANK_INT']"
      ],
      "execution_count": null,
      "outputs": []
    },
    {
      "cell_type": "code",
      "metadata": {
        "id": "3yuZ2qUc_ysg"
      },
      "source": [
        "X_train, X_test, y_train, y_test = train_test_split(X, y3, train_size = train_size\\\n",
        "                           , random_state = rand_state)#, stratify = df.ENGAGEMENT)"
      ],
      "execution_count": null,
      "outputs": []
    },
    {
      "cell_type": "code",
      "metadata": {
        "id": "Vy8CqiHeyyQZ"
      },
      "source": [
        "print('Training Features Shape:', X_train.shape)\n",
        "print('Training Labels (y) Shape:', y_train.shape)\n",
        "print('Testing Features Shape:', X_test.shape)\n",
        "print('Testing Labels(y) Shape:', y_test.shape)"
      ],
      "execution_count": null,
      "outputs": []
    },
    {
      "cell_type": "markdown",
      "metadata": {
        "id": "IEfHCIsglq68"
      },
      "source": [
        "# Mechine Learning  Model for df_image"
      ]
    },
    {
      "cell_type": "markdown",
      "metadata": {
        "id": "4Jr-ID4tld2X"
      },
      "source": [
        "## Appling First1 Model - KNN model"
      ]
    },
    {
      "cell_type": "code",
      "metadata": {
        "id": "8H8qgk8OhilC"
      },
      "source": [
        "rmse_val = [] #to store rmse values for different k\n",
        "for K in range(30):\n",
        "    K = K+1\n",
        "    model = neighbors.KNeighborsRegressor(n_neighbors = K)\n",
        "\n",
        "    model.fit(X_train, y_train)  #fit the model\n",
        "    pred=model.predict(X_test) #make prediction on test set\n",
        "    error = (mse(y_test,pred))**0.5 #calculate rmse\n",
        "    rmse_val.append(error) #store rmse values\n",
        "    print('RMSE value for k= ' , K , 'is:', error)"
      ],
      "execution_count": null,
      "outputs": []
    },
    {
      "cell_type": "code",
      "metadata": {
        "id": "zuPDduwghqRY"
      },
      "source": [
        "#plotting the rmse values against k values\n",
        "curve = pd.DataFrame(rmse_val) #elbow curve \n",
        "curve.plot()"
      ],
      "execution_count": null,
      "outputs": []
    },
    {
      "cell_type": "code",
      "metadata": {
        "id": "K3A0tH80i636"
      },
      "source": [
        "min_mse_k = min(rmse_val)\n",
        "min_index = rmse_val.index(min_mse_k)\n",
        "print(min_index, min_mse_k)"
      ],
      "execution_count": null,
      "outputs": []
    },
    {
      "cell_type": "code",
      "metadata": {
        "id": "wwBEiFn0Du3a"
      },
      "source": [
        "neighbor = min_index\n",
        "knn_model_1 = KNeighborsRegressor(n_neighbors=neighbor).fit(X_train, y_train)"
      ],
      "execution_count": null,
      "outputs": []
    },
    {
      "cell_type": "code",
      "metadata": {
        "id": "wGhxbbeUzDDB"
      },
      "source": [
        "y_train_pred = knn_model_1.predict(X_train)"
      ],
      "execution_count": null,
      "outputs": []
    },
    {
      "cell_type": "code",
      "metadata": {
        "id": "xQau0usPzGFs"
      },
      "source": [
        "ax = sns.scatterplot(x=y_train, y=y_train_pred)\n",
        "ax.plot(y_train, y_train, 'r')"
      ],
      "execution_count": null,
      "outputs": []
    },
    {
      "cell_type": "code",
      "metadata": {
        "id": "lsLYK4vF3p-r"
      },
      "source": [
        "fig = go.Figure()\n",
        "fig.add_trace(go.Scatter(x=list(range(len(y_train[-150:]))), y=y_train[-150:],\n",
        "                         mode='lines',\n",
        "                         name='Prediction'))\n",
        "fig.add_trace(go.Scatter(x=list(range(len(y_train_pred[-150:]))), y=y_train_pred[-150:],\n",
        "                         mode='lines',\n",
        "                         name='True value'))\n",
        "\n",
        "fig.show()"
      ],
      "execution_count": null,
      "outputs": []
    },
    {
      "cell_type": "markdown",
      "metadata": {
        "id": "QtMtVA3Alo6P"
      },
      "source": [
        "## Validating the Model "
      ]
    },
    {
      "cell_type": "code",
      "metadata": {
        "id": "UvIPB3DShe0B"
      },
      "source": [
        "RMSE = mse(y_train, y_train_pred)**0.5\n",
        "RMSE"
      ],
      "execution_count": null,
      "outputs": []
    },
    {
      "cell_type": "code",
      "metadata": {
        "id": "HKhnZ1aQhkOW"
      },
      "source": [
        "y_test_pred = knn_model_1.predict(X_test)\n",
        "ax = sns.scatterplot(x=y_test, y=y_test_pred)\n",
        "ax.plot(y_test, y_test, 'r')"
      ],
      "execution_count": null,
      "outputs": []
    },
    {
      "cell_type": "code",
      "metadata": {
        "id": "rAGEawpMiNo1"
      },
      "source": [
        "RMSE = mse(y_test, y_test_pred)**0.5\n",
        "print('RMSE ', RMSE)\n",
        "\n",
        "print('r2_score: ', round(r2_score(y_test, y_test_pred)*100, 2))"
      ],
      "execution_count": null,
      "outputs": []
    },
    {
      "cell_type": "markdown",
      "metadata": {
        "id": "t1tZY32LinnW"
      },
      "source": [
        "## Scaled MaxAbsScaler model"
      ]
    },
    {
      "cell_type": "code",
      "metadata": {
        "id": "JeNbo2x7iyk7"
      },
      "source": [
        "my_scaler = MaxAbsScaler().fit(X_train)\n",
        "X_train_scaled = pd.DataFrame(my_scaler.transform(X_train), columns=X_train.columns)\n",
        "X_train_scaled.head()"
      ],
      "execution_count": null,
      "outputs": []
    },
    {
      "cell_type": "code",
      "metadata": {
        "id": "xoD9c6V_i1Iu"
      },
      "source": [
        "knn_model_2 = KNeighborsRegressor(n_neighbors=10).fit(X_train_scaled, y_train)"
      ],
      "execution_count": null,
      "outputs": []
    },
    {
      "cell_type": "code",
      "metadata": {
        "id": "bCA2dniBi69y"
      },
      "source": [
        "y_train_pred = knn_model_2.predict(X_train_scaled)"
      ],
      "execution_count": null,
      "outputs": []
    },
    {
      "cell_type": "code",
      "metadata": {
        "id": "5xVKSBZ6i9Bb"
      },
      "source": [
        "ax = sns.scatterplot(x=y_train, y=y_train_pred)\n",
        "ax.plot(y_train, y_train, 'r')"
      ],
      "execution_count": null,
      "outputs": []
    },
    {
      "cell_type": "code",
      "metadata": {
        "id": "401-3iipi_XN"
      },
      "source": [
        "RMSE = mse(y_train, y_train_pred)**0.5\n",
        "RMSE"
      ],
      "execution_count": null,
      "outputs": []
    },
    {
      "cell_type": "code",
      "metadata": {
        "id": "XH0XNEO5jmbK"
      },
      "source": [
        "X_test_scaled = my_scaler.transform(X_test)\n",
        "y_test_pred = knn_model_2.predict(X_test_scaled)\n",
        "\n",
        "ax = sns.scatterplot(x=y_test, y=y_test_pred)\n",
        "ax.plot(y_test, y_test, 'r')"
      ],
      "execution_count": null,
      "outputs": []
    },
    {
      "cell_type": "code",
      "metadata": {
        "id": "dlgIARjyjvhs"
      },
      "source": [
        "RMSE = mse(y_test, y_test_pred)**0.5\n",
        "RMSE"
      ],
      "execution_count": null,
      "outputs": []
    },
    {
      "cell_type": "markdown",
      "metadata": {
        "id": "HoKWz-TKX_uj"
      },
      "source": [
        "## Appling 2nd Model - Decision Tree with bins"
      ]
    },
    {
      "cell_type": "code",
      "metadata": {
        "id": "l0DZM9-0XZ_d"
      },
      "source": [
        "model_2_dt = DecisionTreeClassifier(\n",
        "    min_samples_leaf=3\n",
        "    ,max_depth=5\n",
        "    )"
      ],
      "execution_count": null,
      "outputs": []
    },
    {
      "cell_type": "code",
      "metadata": {
        "id": "WxyAiLL6Ya4U"
      },
      "source": [
        "model_2_dt.fit(X, \n",
        "              y_ENGAGEMENT_RANK_INT)"
      ],
      "execution_count": null,
      "outputs": []
    },
    {
      "cell_type": "code",
      "metadata": {
        "id": "WcnWynaMzhRD"
      },
      "source": [
        "model_2_dt_pred_like.fit(X, \n",
        "              y_LIKES_RANK_INT)"
      ],
      "execution_count": null,
      "outputs": []
    },
    {
      "cell_type": "code",
      "metadata": {
        "id": "O2cdd5OFzqbj"
      },
      "source": [
        "model_2_dt_pred_comments.fit(X, \n",
        "              y_COMMENTS_RANK_INT)"
      ],
      "execution_count": null,
      "outputs": []
    },
    {
      "cell_type": "code",
      "metadata": {
        "id": "4LeXOrDAe2q5"
      },
      "source": [
        "class_list = [str(x) for x in model_2_dt.classes_]\n",
        "class_list"
      ],
      "execution_count": null,
      "outputs": []
    },
    {
      "cell_type": "code",
      "metadata": {
        "id": "dL3OaXO3ZoMc"
      },
      "source": [
        "dot_data = StringIO()  \n",
        "export_graphviz(model_2_dt, out_file=dot_data, feature_names=X.columns, \n",
        "                leaves_parallel=True, filled=True, class_names=[str(x) for x in model_2_dt.classes_])\n",
        "graph = pydot.graph_from_dot_data(dot_data.getvalue())[0]  \n",
        "Image(graph.create_png(), width=1000) "
      ],
      "execution_count": null,
      "outputs": []
    },
    {
      "cell_type": "markdown",
      "metadata": {
        "id": "FJ9BxIyLp88_"
      },
      "source": [
        "View Features Emportance:"
      ]
    },
    {
      "cell_type": "code",
      "metadata": {
        "id": "euSQFw0iZ1I4"
      },
      "source": [
        "pd.Series(model_2_dt.feature_importances_*100,\n",
        "          index=X.columns).sort_values(ascending=False).round()"
      ],
      "execution_count": null,
      "outputs": []
    },
    {
      "cell_type": "markdown",
      "metadata": {
        "id": "RhKAxda_6iuQ"
      },
      "source": [
        "Eladk 2021-Sep-24 comment in first model:\n",
        "\n",
        "*   Why Time is So meaning full?\n",
        "*   What ACCESSIBILITY_CAPTION have corolation with ranking?\n",
        "*   I Need to understand why folloer is very meaningfull\n",
        "*   I Need to understand why USERNAME,userid is very meaningfull"
      ]
    },
    {
      "cell_type": "code",
      "metadata": {
        "id": "FOT2WP_ugxUw"
      },
      "source": [
        "df.head(3)"
      ],
      "execution_count": null,
      "outputs": []
    },
    {
      "cell_type": "code",
      "metadata": {
        "id": "ioxdXnAGdNZx"
      },
      "source": [
        "df['ENGAGEMENT_RANK_INT_pred'] = model_2_dt.predict(X)\n",
        "df.head(3)"
      ],
      "execution_count": null,
      "outputs": []
    },
    {
      "cell_type": "code",
      "metadata": {
        "id": "EPPPrwsPBAVw"
      },
      "source": [
        "s = pd.Series(model_2_dt.feature_importances_*100,\n",
        "          index=X.columns).sort_values(ascending=False)\n",
        "\n",
        "s[s.gt(0)]"
      ],
      "execution_count": null,
      "outputs": []
    },
    {
      "cell_type": "code",
      "metadata": {
        "id": "-J6IUP-goKzX"
      },
      "source": [
        "# map_dict_ENGAGEMENT = dict(zip(df.ENGAGEMENT_RANK_INT,df.ENGAGEMENT_RANK))\n",
        "# map_dict_ENGAGEMENT"
      ],
      "execution_count": null,
      "outputs": []
    },
    {
      "cell_type": "code",
      "metadata": {
        "id": "-lkIjq2MkGjj"
      },
      "source": [
        "#df['ENGAGEMENT_RANK_pred'] = df['ENGAGEMENT_RANK_INT_pred'].map(map_dict_ENGAGEMENT)"
      ],
      "execution_count": null,
      "outputs": []
    },
    {
      "cell_type": "markdown",
      "metadata": {
        "id": "VOulAFYJqETj"
      },
      "source": [
        "Evanuating the Model:"
      ]
    },
    {
      "cell_type": "code",
      "metadata": {
        "id": "mNvgTWiG_TnL"
      },
      "source": [
        "#type(df[['ENGAGEMENT_RANK','ENGAGEMENT_RANK_pred']].value_counts())"
      ],
      "execution_count": null,
      "outputs": []
    },
    {
      "cell_type": "code",
      "metadata": {
        "id": "RwhEp5PuBB0a"
      },
      "source": [
        "df[['ENGAGEMENT_RANK_INT','ENGAGEMENT_RANK_INT_pred']].value_counts().sort_index()"
      ],
      "execution_count": null,
      "outputs": []
    },
    {
      "cell_type": "code",
      "metadata": {
        "id": "r25D8vq39dCS"
      },
      "source": [
        "#df[['ENGAGEMENT_RANK','ENGAGEMENT_RANK_pred']].value_counts().sort_index()"
      ],
      "execution_count": null,
      "outputs": []
    },
    {
      "cell_type": "code",
      "metadata": {
        "id": "2wprCZbAdOA3"
      },
      "source": [
        "cm = confusion_matrix(y_true=df.ENGAGEMENT_RANK_INT,\n",
        "                      y_pred=df.ENGAGEMENT_RANK_INT_pred)\n",
        "pd.DataFrame(cm,\n",
        "             index=model_2_dt.classes_,\n",
        "             columns=model_2_dt.classes_)"
      ],
      "execution_count": null,
      "outputs": []
    },
    {
      "cell_type": "code",
      "metadata": {
        "id": "u4pSIYqJ8HJ4"
      },
      "source": [
        "print(classification_report(y_true=df.ENGAGEMENT_RANK_INT,\n",
        "                      y_pred=df.ENGAGEMENT_RANK_INT_pred))"
      ],
      "execution_count": null,
      "outputs": []
    },
    {
      "cell_type": "code",
      "metadata": {
        "id": "PXLwCQpv8yOG"
      },
      "source": [
        "accuracy_score(y_true=df.ENGAGEMENT_RANK_INT, y_pred=df.ENGAGEMENT_RANK_INT_pred)"
      ],
      "execution_count": null,
      "outputs": []
    },
    {
      "cell_type": "code",
      "metadata": {
        "id": "RHdkm_7Rh0wf"
      },
      "source": [
        "s = pd.Series(model_2_dt.feature_importances_*100,\n",
        "          index=X.columns).sort_values(ascending=False)\n",
        "\n",
        "s[s.gt(0)]"
      ],
      "execution_count": null,
      "outputs": []
    },
    {
      "cell_type": "code",
      "metadata": {
        "id": "yqbnx6PNhu1Y"
      },
      "source": [
        "p = sns.violinplot(x='ENGAGEMENT_RANK', y='HOUR', \n",
        "                    #order=cut_order, \n",
        "                    data=df)"
      ],
      "execution_count": null,
      "outputs": []
    },
    {
      "cell_type": "code",
      "metadata": {
        "colab": {
          "base_uri": "https://localhost:8080/",
          "height": 817
        },
        "id": "5ElKkFGDh84Q",
        "outputId": "962c4150-5911-405f-c7e5-60307798ff3a"
      },
      "source": [
        "for index, val in pd.Series(model_2_dt.feature_importances_*100,index=X.columns).iteritems():\n",
        "  if val > 0:\n",
        "    plt.figure()\n",
        "    p = sns.violinplot(x='ENGAGEMENT_RANK', y=index, \n",
        "                    #order=cut_order, \n",
        "                    data=df)\n",
        "    "
      ],
      "execution_count": null,
      "outputs": [
        {
          "output_type": "display_data",
          "data": {
            "image/png": "[encoded data removed]",
            "text/plain": [
              "<Figure size 432x288 with 1 Axes>"
            ]
          },
          "metadata": {
            "needs_background": "light"
          }
        },
        {
          "output_type": "display_data",
          "data": {
            "image/png": "[encoded data removed]",
            "text/plain": [
              "<Figure size 432x288 with 1 Axes>"
            ]
          },
          "metadata": {
            "needs_background": "light"
          }
        },
        {
          "output_type": "display_data",
          "data": {
            "image/png": "[encoded data removed]",
            "text/plain": [
              "<Figure size 432x288 with 1 Axes>"
            ]
          },
          "metadata": {
            "needs_background": "light"
          }
        }
      ]
    },
    {
      "cell_type": "markdown",
      "metadata": {
        "id": "lQNwJ7JHlz9s"
      },
      "source": [
        "## Scoring "
      ]
    },
    {
      "cell_type": "markdown",
      "metadata": {
        "id": "huafxFCPX0Jv"
      },
      "source": [
        "## Appling 3nd Model - Random Forest regression"
      ]
    },
    {
      "cell_type": "code",
      "metadata": {
        "id": "ZAv9GTHabeqm"
      },
      "source": [
        "# Instantiate model with 1000 decision trees\n",
        "rf = RandomForestRegressor(n_estimators = 1000, random_state = rand_state)\n",
        "# Train the model on training data\n",
        "rf.fit(X_train, y_train);"
      ],
      "execution_count": null,
      "outputs": []
    },
    {
      "cell_type": "code",
      "metadata": {
        "id": "URCAWW4mgEpn",
        "colab": {
          "base_uri": "https://localhost:8080/"
        },
        "outputId": "3db60f12-a49e-4672-8493-84c339d74da3"
      },
      "source": [
        "# Use the forest's predict method on the test data\n",
        "rf_predictions = rf.predict(X_test)\n",
        "# Calculate the absolute errors\n",
        "errors = abs(rf_predictions - y_test)\n",
        "# Print out the mean absolute error (mae)\n",
        "print('Mean Absolute Error:', round(np.mean(errors), 2), 'log_of_enegament.')"
      ],
      "execution_count": null,
      "outputs": [
        {
          "output_type": "stream",
          "name": "stdout",
          "text": [
            "Mean Absolute Error: 0.02 log_of_enegament.\n"
          ]
        }
      ]
    },
    {
      "cell_type": "code",
      "metadata": {
        "id": "kxmCw0GurMQ-",
        "colab": {
          "base_uri": "https://localhost:8080/",
          "height": 298
        },
        "outputId": "da8a72c7-76c5-4a1c-dea2-a73125619a1d"
      },
      "source": [
        "ax = sns.scatterplot(x=y_test, y=rf_predictions)\n",
        "ax.plot(y_train, y_train, 'r')"
      ],
      "execution_count": null,
      "outputs": [
        {
          "output_type": "execute_result",
          "data": {
            "text/plain": [
              "[<matplotlib.lines.Line2D at 0x7f4c1f45d590>]"
            ]
          },
          "metadata": {},
          "execution_count": 150
        },
        {
          "output_type": "display_data",
          "data": {
            "image/png": "[encoded data removed]",
            "text/plain": [
              "<Figure size 432x288 with 1 Axes>"
            ]
          },
          "metadata": {
            "needs_background": "light"
          }
        }
      ]
    },
    {
      "cell_type": "code",
      "metadata": {
        "id": "UiEF1fJ6ssib",
        "colab": {
          "base_uri": "https://localhost:8080/",
          "height": 606
        },
        "outputId": "a3e734e4-f3c7-4a62-c544-692b4094b240"
      },
      "source": [
        "x = np.linspace(0, len(y_test), len(y_test))\n",
        "fig = plt.figure(figsize=(9, 10))\n",
        "plt.plot(x, y_test, label='y_test')\n",
        "plt.plot(x, rf_predictions, label='y_prep')\n",
        "plt.xlabel('index')\n",
        "plt.ylabel('log_engament')\n",
        "plt.legend()\n",
        "plt.show()"
      ],
      "execution_count": null,
      "outputs": [
        {
          "output_type": "display_data",
          "data": {
            "image/png": "[encoded data removed]",
            "text/plain": [
              "<Figure size 648x720 with 1 Axes>"
            ]
          },
          "metadata": {
            "needs_background": "light"
          }
        }
      ]
    },
    {
      "cell_type": "code",
      "metadata": {
        "id": "KK_M9AVGiS1q",
        "colab": {
          "base_uri": "https://localhost:8080/"
        },
        "outputId": "92bc3311-da37-4203-e151-ab78b7bf4722"
      },
      "source": [
        "rf_y_train_pred = rf.predict(X_train)\n",
        "RMSE = mse(y_train, rf_y_train_pred)**0.5\n",
        "RMSE"
      ],
      "execution_count": null,
      "outputs": [
        {
          "output_type": "execute_result",
          "data": {
            "text/plain": [
              "0.02183439965154419"
            ]
          },
          "metadata": {},
          "execution_count": 152
        }
      ]
    },
    {
      "cell_type": "code",
      "metadata": {
        "id": "OaYLvhmvBsiP",
        "colab": {
          "base_uri": "https://localhost:8080/"
        },
        "outputId": "061102b9-eb88-4885-fd5d-b0ecd6fc596c"
      },
      "source": [
        "rf_y_test_pred = rf.predict(X_test)\n",
        "RMSE = mse(y_test, rf_y_test_pred)**0.5\n",
        "RMSE\n"
      ],
      "execution_count": null,
      "outputs": [
        {
          "output_type": "execute_result",
          "data": {
            "text/plain": [
              "0.049846423934298445"
            ]
          },
          "metadata": {},
          "execution_count": 153
        }
      ]
    },
    {
      "cell_type": "code",
      "metadata": {
        "id": "4XbPFLONhEwG",
        "colab": {
          "base_uri": "https://localhost:8080/"
        },
        "outputId": "8366b075-9761-41c4-8e0b-7640129debaa"
      },
      "source": [
        "pd.Series(rf.feature_importances_, index=X_train.columns).\\\n",
        "sort_values(ascending=False)"
      ],
      "execution_count": null,
      "outputs": [
        {
          "output_type": "execute_result",
          "data": {
            "text/plain": [
              "log_LIKES                                       0.568706\n",
              "FOLLOWER                                        0.419867\n",
              "log_COMMENTS                                    0.008330\n",
              "CAPTION_OBJECT_AS_INT                           0.000366\n",
              "DAY                                             0.000304\n",
              "HOUR                                            0.000299\n",
              "ACCESSIBILITY_CAPTION_OBJECT_AS_INT             0.000294\n",
              "MINUTE                                          0.000282\n",
              "IMAGE_LABELS_OBJECT_AS_INT                      0.000271\n",
              "IMAGE_LABEL_INTEREST_OBJECT_AS_INT              0.000232\n",
              "CAPTION_INTEREST_OBJECT_AS_INT                  0.000203\n",
              "MONTH                                           0.000176\n",
              "DAYOFWEEK                                       0.000171\n",
              "ACCESSIBILITY_CAPTION_INTEREST_OBJECT_AS_INT    0.000140\n",
              "LOCATION_OBJECT_AS_INT                          0.000097\n",
              "CITY_OBJECT_AS_INT                              0.000085\n",
              "COUNTRY_OBJECT_AS_INT                           0.000083\n",
              "YEAR                                            0.000030\n",
              "HAS_AUDIO                                       0.000026\n",
              "IS_VIDEO                                        0.000024\n",
              "COMMENT_DISABLED                                0.000015\n",
              "dtype: float64"
            ]
          },
          "metadata": {},
          "execution_count": 154
        }
      ]
    },
    {
      "cell_type": "code",
      "metadata": {
        "id": "O5Fm6APsB_3I",
        "colab": {
          "base_uri": "https://localhost:8080/"
        },
        "outputId": "7a74aad9-bdbc-4004-e1fa-d9f4b0e6359a"
      },
      "source": [
        "from pprint import pprint\n",
        "# Look at parameters used by our current forest\n",
        "print('Parameters currently in use:\\n')\n",
        "pprint(rf.get_params())"
      ],
      "execution_count": null,
      "outputs": [
        {
          "output_type": "stream",
          "name": "stdout",
          "text": [
            "Parameters currently in use:\n",
            "\n",
            "{'bootstrap': True,\n",
            " 'ccp_alpha': 0.0,\n",
            " 'criterion': 'mse',\n",
            " 'max_depth': None,\n",
            " 'max_features': 'auto',\n",
            " 'max_leaf_nodes': None,\n",
            " 'max_samples': None,\n",
            " 'min_impurity_decrease': 0.0,\n",
            " 'min_impurity_split': None,\n",
            " 'min_samples_leaf': 1,\n",
            " 'min_samples_split': 2,\n",
            " 'min_weight_fraction_leaf': 0.0,\n",
            " 'n_estimators': 1000,\n",
            " 'n_jobs': None,\n",
            " 'oob_score': False,\n",
            " 'random_state': 990,\n",
            " 'verbose': 0,\n",
            " 'warm_start': False}\n"
          ]
        }
      ]
    },
    {
      "cell_type": "code",
      "metadata": {
        "id": "v2dDV9w_COww"
      },
      "source": [
        "def evaluate(model, test_features, test_labels):\n",
        "    predictions = model.predict(test_features)\n",
        "    errors = abs(predictions - test_labels)\n",
        "    mape = 100 * np.mean(errors / test_labels)\n",
        "    accuracy = 100 - mape\n",
        "    print('Model Performance')\n",
        "    print('Average Error: {:0.4f} degrees.'.format(np.mean(errors)))\n",
        "    print('Accuracy = {:0.2f}%.'.format(accuracy))"
      ],
      "execution_count": null,
      "outputs": []
    },
    {
      "cell_type": "code",
      "metadata": {
        "id": "K8zFWKgNCRTK"
      },
      "source": [
        "from sklearn.model_selection import GridSearchCV\n",
        "# Create the parameter grid based on the results of random search \n",
        "param_grid = {\n",
        "    'bootstrap': [True],\n",
        "    'max_depth': [20, 35, 50],\n",
        "    'max_features': [2, 3],\n",
        "    'min_samples_leaf': [3, 4, 5],\n",
        "    'min_samples_split': [8, 10, 12],\n",
        "    'n_estimators': [100, 200, 1000]\n",
        "}\n",
        "# Create a based model\n",
        "rf = RandomForestRegressor()\n",
        "# Instantiate the grid search model\n",
        "grid_search = GridSearchCV(estimator = rf, param_grid = param_grid, \n",
        "                          cv = 3, n_jobs = -1, verbose = 2)"
      ],
      "execution_count": null,
      "outputs": []
    },
    {
      "cell_type": "code",
      "metadata": {
        "id": "noH4SHd8CUFL",
        "colab": {
          "base_uri": "https://localhost:8080/",
          "height": 414
        },
        "outputId": "2dcf63bc-4fd2-4764-b412-a882a11400bb"
      },
      "source": [
        "# Fit the grid search to the data\n",
        "grid_search.fit(X_train, y_train)\n",
        "grid_search.best_params_\n",
        "{'bootstrap': True,\n",
        " 'max_depth': 80,\n",
        " 'max_features': 3,\n",
        " 'min_samples_leaf': 5,\n",
        " 'min_samples_split': 12,\n",
        " 'n_estimators': 100}\n",
        "best_grid = grid_search.best_estimator_\n",
        "grid_accuracy = evaluate(best_grid, X_test, y_test)\n",
        "#Model Performance\n",
        "#Average Error: 3.6561 degrees.\n",
        "#Accuracy = 93.83%.\n",
        "#print('Improvement of {:0.2f}%.'.format( 100 * (grid_accuracy - base_accuracy) / base_accuracy))\n",
        "#Improvement of 0.50%."
      ],
      "execution_count": null,
      "outputs": [
        {
          "output_type": "stream",
          "name": "stdout",
          "text": [
            "Fitting 3 folds for each of 162 candidates, totalling 486 fits\n"
          ]
        },
        {
          "output_type": "stream",
          "name": "stderr",
          "text": [
            "[Parallel(n_jobs=-1)]: Using backend LokyBackend with 2 concurrent workers.\n"
          ]
        },
        {
          "output_type": "error",
          "ename": "KeyboardInterrupt",
          "evalue": "ignored",
          "traceback": [
            "\u001b[0;31m---------------------------------------------------------------------------\u001b[0m",
            "\u001b[0;31mKeyboardInterrupt\u001b[0m                         Traceback (most recent call last)",
            "\u001b[0;32m<ipython-input-160-bc343aaaf0fc>\u001b[0m in \u001b[0;36m<module>\u001b[0;34m()\u001b[0m\n\u001b[1;32m      1\u001b[0m \u001b[0;31m# Fit the grid search to the data\u001b[0m\u001b[0;34m\u001b[0m\u001b[0;34m\u001b[0m\u001b[0;34m\u001b[0m\u001b[0m\n\u001b[0;32m----> 2\u001b[0;31m \u001b[0mgrid_search\u001b[0m\u001b[0;34m.\u001b[0m\u001b[0mfit\u001b[0m\u001b[0;34m(\u001b[0m\u001b[0mX_train\u001b[0m\u001b[0;34m,\u001b[0m \u001b[0my_train\u001b[0m\u001b[0;34m)\u001b[0m\u001b[0;34m\u001b[0m\u001b[0;34m\u001b[0m\u001b[0m\n\u001b[0m\u001b[1;32m      3\u001b[0m \u001b[0mgrid_search\u001b[0m\u001b[0;34m.\u001b[0m\u001b[0mbest_params_\u001b[0m\u001b[0;34m\u001b[0m\u001b[0;34m\u001b[0m\u001b[0m\n\u001b[1;32m      4\u001b[0m {'bootstrap': True,\n\u001b[1;32m      5\u001b[0m  \u001b[0;34m'max_depth'\u001b[0m\u001b[0;34m:\u001b[0m \u001b[0;36m80\u001b[0m\u001b[0;34m,\u001b[0m\u001b[0;34m\u001b[0m\u001b[0;34m\u001b[0m\u001b[0m\n",
            "\u001b[0;32m/usr/local/lib/python3.7/dist-packages/sklearn/model_selection/_search.py\u001b[0m in \u001b[0;36mfit\u001b[0;34m(self, X, y, groups, **fit_params)\u001b[0m\n\u001b[1;32m    708\u001b[0m                 \u001b[0;32mreturn\u001b[0m \u001b[0mresults\u001b[0m\u001b[0;34m\u001b[0m\u001b[0;34m\u001b[0m\u001b[0m\n\u001b[1;32m    709\u001b[0m \u001b[0;34m\u001b[0m\u001b[0m\n\u001b[0;32m--> 710\u001b[0;31m             \u001b[0mself\u001b[0m\u001b[0;34m.\u001b[0m\u001b[0m_run_search\u001b[0m\u001b[0;34m(\u001b[0m\u001b[0mevaluate_candidates\u001b[0m\u001b[0;34m)\u001b[0m\u001b[0;34m\u001b[0m\u001b[0;34m\u001b[0m\u001b[0m\n\u001b[0m\u001b[1;32m    711\u001b[0m \u001b[0;34m\u001b[0m\u001b[0m\n\u001b[1;32m    712\u001b[0m         \u001b[0;31m# For multi-metric evaluation, store the best_index_, best_params_ and\u001b[0m\u001b[0;34m\u001b[0m\u001b[0;34m\u001b[0m\u001b[0;34m\u001b[0m\u001b[0m\n",
            "\u001b[0;32m/usr/local/lib/python3.7/dist-packages/sklearn/model_selection/_search.py\u001b[0m in \u001b[0;36m_run_search\u001b[0;34m(self, evaluate_candidates)\u001b[0m\n\u001b[1;32m   1149\u001b[0m     \u001b[0;32mdef\u001b[0m \u001b[0m_run_search\u001b[0m\u001b[0;34m(\u001b[0m\u001b[0mself\u001b[0m\u001b[0;34m,\u001b[0m \u001b[0mevaluate_candidates\u001b[0m\u001b[0;34m)\u001b[0m\u001b[0;34m:\u001b[0m\u001b[0;34m\u001b[0m\u001b[0;34m\u001b[0m\u001b[0m\n\u001b[1;32m   1150\u001b[0m         \u001b[0;34m\"\"\"Search all candidates in param_grid\"\"\"\u001b[0m\u001b[0;34m\u001b[0m\u001b[0;34m\u001b[0m\u001b[0m\n\u001b[0;32m-> 1151\u001b[0;31m         \u001b[0mevaluate_candidates\u001b[0m\u001b[0;34m(\u001b[0m\u001b[0mParameterGrid\u001b[0m\u001b[0;34m(\u001b[0m\u001b[0mself\u001b[0m\u001b[0;34m.\u001b[0m\u001b[0mparam_grid\u001b[0m\u001b[0;34m)\u001b[0m\u001b[0;34m)\u001b[0m\u001b[0;34m\u001b[0m\u001b[0;34m\u001b[0m\u001b[0m\n\u001b[0m\u001b[1;32m   1152\u001b[0m \u001b[0;34m\u001b[0m\u001b[0m\n\u001b[1;32m   1153\u001b[0m \u001b[0;34m\u001b[0m\u001b[0m\n",
            "\u001b[0;32m/usr/local/lib/python3.7/dist-packages/sklearn/model_selection/_search.py\u001b[0m in \u001b[0;36mevaluate_candidates\u001b[0;34m(candidate_params)\u001b[0m\n\u001b[1;32m    687\u001b[0m                                \u001b[0;32mfor\u001b[0m \u001b[0mparameters\u001b[0m\u001b[0;34m,\u001b[0m \u001b[0;34m(\u001b[0m\u001b[0mtrain\u001b[0m\u001b[0;34m,\u001b[0m \u001b[0mtest\u001b[0m\u001b[0;34m)\u001b[0m\u001b[0;34m\u001b[0m\u001b[0;34m\u001b[0m\u001b[0m\n\u001b[1;32m    688\u001b[0m                                in product(candidate_params,\n\u001b[0;32m--> 689\u001b[0;31m                                           cv.split(X, y, groups)))\n\u001b[0m\u001b[1;32m    690\u001b[0m \u001b[0;34m\u001b[0m\u001b[0m\n\u001b[1;32m    691\u001b[0m                 \u001b[0;32mif\u001b[0m \u001b[0mlen\u001b[0m\u001b[0;34m(\u001b[0m\u001b[0mout\u001b[0m\u001b[0;34m)\u001b[0m \u001b[0;34m<\u001b[0m \u001b[0;36m1\u001b[0m\u001b[0;34m:\u001b[0m\u001b[0;34m\u001b[0m\u001b[0;34m\u001b[0m\u001b[0m\n",
            "\u001b[0;32m/usr/local/lib/python3.7/dist-packages/joblib/parallel.py\u001b[0m in \u001b[0;36m__call__\u001b[0;34m(self, iterable)\u001b[0m\n\u001b[1;32m   1052\u001b[0m \u001b[0;34m\u001b[0m\u001b[0m\n\u001b[1;32m   1053\u001b[0m             \u001b[0;32mwith\u001b[0m \u001b[0mself\u001b[0m\u001b[0;34m.\u001b[0m\u001b[0m_backend\u001b[0m\u001b[0;34m.\u001b[0m\u001b[0mretrieval_context\u001b[0m\u001b[0;34m(\u001b[0m\u001b[0;34m)\u001b[0m\u001b[0;34m:\u001b[0m\u001b[0;34m\u001b[0m\u001b[0;34m\u001b[0m\u001b[0m\n\u001b[0;32m-> 1054\u001b[0;31m                 \u001b[0mself\u001b[0m\u001b[0;34m.\u001b[0m\u001b[0mretrieve\u001b[0m\u001b[0;34m(\u001b[0m\u001b[0;34m)\u001b[0m\u001b[0;34m\u001b[0m\u001b[0;34m\u001b[0m\u001b[0m\n\u001b[0m\u001b[1;32m   1055\u001b[0m             \u001b[0;31m# Make sure that we get a last message telling us we are done\u001b[0m\u001b[0;34m\u001b[0m\u001b[0;34m\u001b[0m\u001b[0;34m\u001b[0m\u001b[0m\n\u001b[1;32m   1056\u001b[0m             \u001b[0melapsed_time\u001b[0m \u001b[0;34m=\u001b[0m \u001b[0mtime\u001b[0m\u001b[0;34m.\u001b[0m\u001b[0mtime\u001b[0m\u001b[0;34m(\u001b[0m\u001b[0;34m)\u001b[0m \u001b[0;34m-\u001b[0m \u001b[0mself\u001b[0m\u001b[0;34m.\u001b[0m\u001b[0m_start_time\u001b[0m\u001b[0;34m\u001b[0m\u001b[0;34m\u001b[0m\u001b[0m\n",
            "\u001b[0;32m/usr/local/lib/python3.7/dist-packages/joblib/parallel.py\u001b[0m in \u001b[0;36mretrieve\u001b[0;34m(self)\u001b[0m\n\u001b[1;32m    931\u001b[0m             \u001b[0;32mtry\u001b[0m\u001b[0;34m:\u001b[0m\u001b[0;34m\u001b[0m\u001b[0;34m\u001b[0m\u001b[0m\n\u001b[1;32m    932\u001b[0m                 \u001b[0;32mif\u001b[0m \u001b[0mgetattr\u001b[0m\u001b[0;34m(\u001b[0m\u001b[0mself\u001b[0m\u001b[0;34m.\u001b[0m\u001b[0m_backend\u001b[0m\u001b[0;34m,\u001b[0m \u001b[0;34m'supports_timeout'\u001b[0m\u001b[0;34m,\u001b[0m \u001b[0;32mFalse\u001b[0m\u001b[0;34m)\u001b[0m\u001b[0;34m:\u001b[0m\u001b[0;34m\u001b[0m\u001b[0;34m\u001b[0m\u001b[0m\n\u001b[0;32m--> 933\u001b[0;31m                     \u001b[0mself\u001b[0m\u001b[0;34m.\u001b[0m\u001b[0m_output\u001b[0m\u001b[0;34m.\u001b[0m\u001b[0mextend\u001b[0m\u001b[0;34m(\u001b[0m\u001b[0mjob\u001b[0m\u001b[0;34m.\u001b[0m\u001b[0mget\u001b[0m\u001b[0;34m(\u001b[0m\u001b[0mtimeout\u001b[0m\u001b[0;34m=\u001b[0m\u001b[0mself\u001b[0m\u001b[0;34m.\u001b[0m\u001b[0mtimeout\u001b[0m\u001b[0;34m)\u001b[0m\u001b[0;34m)\u001b[0m\u001b[0;34m\u001b[0m\u001b[0;34m\u001b[0m\u001b[0m\n\u001b[0m\u001b[1;32m    934\u001b[0m                 \u001b[0;32melse\u001b[0m\u001b[0;34m:\u001b[0m\u001b[0;34m\u001b[0m\u001b[0;34m\u001b[0m\u001b[0m\n\u001b[1;32m    935\u001b[0m                     \u001b[0mself\u001b[0m\u001b[0;34m.\u001b[0m\u001b[0m_output\u001b[0m\u001b[0;34m.\u001b[0m\u001b[0mextend\u001b[0m\u001b[0;34m(\u001b[0m\u001b[0mjob\u001b[0m\u001b[0;34m.\u001b[0m\u001b[0mget\u001b[0m\u001b[0;34m(\u001b[0m\u001b[0;34m)\u001b[0m\u001b[0;34m)\u001b[0m\u001b[0;34m\u001b[0m\u001b[0;34m\u001b[0m\u001b[0m\n",
            "\u001b[0;32m/usr/local/lib/python3.7/dist-packages/joblib/_parallel_backends.py\u001b[0m in \u001b[0;36mwrap_future_result\u001b[0;34m(future, timeout)\u001b[0m\n\u001b[1;32m    540\u001b[0m         AsyncResults.get from multiprocessing.\"\"\"\n\u001b[1;32m    541\u001b[0m         \u001b[0;32mtry\u001b[0m\u001b[0;34m:\u001b[0m\u001b[0;34m\u001b[0m\u001b[0;34m\u001b[0m\u001b[0m\n\u001b[0;32m--> 542\u001b[0;31m             \u001b[0;32mreturn\u001b[0m \u001b[0mfuture\u001b[0m\u001b[0;34m.\u001b[0m\u001b[0mresult\u001b[0m\u001b[0;34m(\u001b[0m\u001b[0mtimeout\u001b[0m\u001b[0;34m=\u001b[0m\u001b[0mtimeout\u001b[0m\u001b[0;34m)\u001b[0m\u001b[0;34m\u001b[0m\u001b[0;34m\u001b[0m\u001b[0m\n\u001b[0m\u001b[1;32m    543\u001b[0m         \u001b[0;32mexcept\u001b[0m \u001b[0mCfTimeoutError\u001b[0m \u001b[0;32mas\u001b[0m \u001b[0me\u001b[0m\u001b[0;34m:\u001b[0m\u001b[0;34m\u001b[0m\u001b[0;34m\u001b[0m\u001b[0m\n\u001b[1;32m    544\u001b[0m             \u001b[0;32mraise\u001b[0m \u001b[0mTimeoutError\u001b[0m \u001b[0;32mfrom\u001b[0m \u001b[0me\u001b[0m\u001b[0;34m\u001b[0m\u001b[0;34m\u001b[0m\u001b[0m\n",
            "\u001b[0;32m/usr/lib/python3.7/concurrent/futures/_base.py\u001b[0m in \u001b[0;36mresult\u001b[0;34m(self, timeout)\u001b[0m\n\u001b[1;32m    428\u001b[0m                 \u001b[0;32mreturn\u001b[0m \u001b[0mself\u001b[0m\u001b[0;34m.\u001b[0m\u001b[0m__get_result\u001b[0m\u001b[0;34m(\u001b[0m\u001b[0;34m)\u001b[0m\u001b[0;34m\u001b[0m\u001b[0;34m\u001b[0m\u001b[0m\n\u001b[1;32m    429\u001b[0m \u001b[0;34m\u001b[0m\u001b[0m\n\u001b[0;32m--> 430\u001b[0;31m             \u001b[0mself\u001b[0m\u001b[0;34m.\u001b[0m\u001b[0m_condition\u001b[0m\u001b[0;34m.\u001b[0m\u001b[0mwait\u001b[0m\u001b[0;34m(\u001b[0m\u001b[0mtimeout\u001b[0m\u001b[0;34m)\u001b[0m\u001b[0;34m\u001b[0m\u001b[0;34m\u001b[0m\u001b[0m\n\u001b[0m\u001b[1;32m    431\u001b[0m \u001b[0;34m\u001b[0m\u001b[0m\n\u001b[1;32m    432\u001b[0m             \u001b[0;32mif\u001b[0m \u001b[0mself\u001b[0m\u001b[0;34m.\u001b[0m\u001b[0m_state\u001b[0m \u001b[0;32min\u001b[0m \u001b[0;34m[\u001b[0m\u001b[0mCANCELLED\u001b[0m\u001b[0;34m,\u001b[0m \u001b[0mCANCELLED_AND_NOTIFIED\u001b[0m\u001b[0;34m]\u001b[0m\u001b[0;34m:\u001b[0m\u001b[0;34m\u001b[0m\u001b[0;34m\u001b[0m\u001b[0m\n",
            "\u001b[0;32m/usr/lib/python3.7/threading.py\u001b[0m in \u001b[0;36mwait\u001b[0;34m(self, timeout)\u001b[0m\n\u001b[1;32m    294\u001b[0m         \u001b[0;32mtry\u001b[0m\u001b[0;34m:\u001b[0m    \u001b[0;31m# restore state no matter what (e.g., KeyboardInterrupt)\u001b[0m\u001b[0;34m\u001b[0m\u001b[0;34m\u001b[0m\u001b[0m\n\u001b[1;32m    295\u001b[0m             \u001b[0;32mif\u001b[0m \u001b[0mtimeout\u001b[0m \u001b[0;32mis\u001b[0m \u001b[0;32mNone\u001b[0m\u001b[0;34m:\u001b[0m\u001b[0;34m\u001b[0m\u001b[0;34m\u001b[0m\u001b[0m\n\u001b[0;32m--> 296\u001b[0;31m                 \u001b[0mwaiter\u001b[0m\u001b[0;34m.\u001b[0m\u001b[0macquire\u001b[0m\u001b[0;34m(\u001b[0m\u001b[0;34m)\u001b[0m\u001b[0;34m\u001b[0m\u001b[0;34m\u001b[0m\u001b[0m\n\u001b[0m\u001b[1;32m    297\u001b[0m                 \u001b[0mgotit\u001b[0m \u001b[0;34m=\u001b[0m \u001b[0;32mTrue\u001b[0m\u001b[0;34m\u001b[0m\u001b[0;34m\u001b[0m\u001b[0m\n\u001b[1;32m    298\u001b[0m             \u001b[0;32melse\u001b[0m\u001b[0;34m:\u001b[0m\u001b[0;34m\u001b[0m\u001b[0;34m\u001b[0m\u001b[0m\n",
            "\u001b[0;31mKeyboardInterrupt\u001b[0m: "
          ]
        }
      ]
    },
    {
      "cell_type": "code",
      "metadata": {
        "id": "PDtza7MACU7M"
      },
      "source": [
        "grid_search.best_params_"
      ],
      "execution_count": null,
      "outputs": []
    },
    {
      "cell_type": "markdown",
      "metadata": {
        "id": "pD8OF8Izocmm"
      },
      "source": [
        "## Appling 4nd Model - Random Forest Classification "
      ]
    },
    {
      "cell_type": "code",
      "metadata": {
        "id": "FHwBoNqp1Bsy"
      },
      "source": [
        "X_train_4, X_test_4, y_train_4, y_test_4 = train_test_split(X, y_LIKES_RANK_INT, train_size = train_size\\\n",
        "                           , random_state = rand_state)#, stratify = df.ENGAGEMENT)"
      ],
      "execution_count": null,
      "outputs": []
    },
    {
      "cell_type": "code",
      "metadata": {
        "id": "By87tKVk0BsP"
      },
      "source": [
        "X_train_4, X_test_4, y_train_4, y_test_4 = train_test_split(X, y_COMMENTS_RANK_INT, train_size = train_size\\\n",
        "                           , random_state = rand_state)#, stratify = df.ENGAGEMENT)"
      ],
      "execution_count": null,
      "outputs": []
    },
    {
      "cell_type": "code",
      "metadata": {
        "id": "7AMExxQ_zuxg"
      },
      "source": [
        "X_train_4.drop(columns='VIDEO_VIEW_COUNT', inplace=True)\n",
        "X_test_4.drop(columns='VIDEO_VIEW_COUNT', inplace=True)"
      ],
      "execution_count": null,
      "outputs": []
    },
    {
      "cell_type": "code",
      "metadata": {
        "id": "h-EApVaa10VT"
      },
      "source": [
        "X_train_4.columns"
      ],
      "execution_count": null,
      "outputs": []
    },
    {
      "cell_type": "code",
      "metadata": {
        "id": "45stLozczjWr"
      },
      "source": [
        "model_rf_4 = RandomForestClassifier()\n",
        "\n",
        "model_rf_4.fit(X_train_4,y_train_4) # X_test_4 is Engagment_rank\n",
        "preds= model_rf_4.predict_proba(X_train_4)[:,1]\n",
        "\n",
        "#roc_auc_score(y_test_4,preds)"
      ],
      "execution_count": null,
      "outputs": []
    },
    {
      "cell_type": "code",
      "metadata": {
        "id": "mdGHSSUeASx8"
      },
      "source": [
        "# map_dict_ENGAGEMENT = dict(zip(df.ENGAGEMENT_RANK_INT,df.ENGAGEMENT_RANK))"
      ],
      "execution_count": null,
      "outputs": []
    },
    {
      "cell_type": "code",
      "metadata": {
        "id": "wM0hrxCyyaBF"
      },
      "source": [
        "pd.Series(model_rf_4.feature_importances_*100, index=X_train_4.columns).sort_values(ascending=False).round()#.plot.barh(figsize=(14,12))"
      ],
      "execution_count": null,
      "outputs": []
    },
    {
      "cell_type": "code",
      "metadata": {
        "id": "V9m93GGc5SzE"
      },
      "source": [
        "from sklearn import tree"
      ],
      "execution_count": null,
      "outputs": []
    },
    {
      "cell_type": "code",
      "metadata": {
        "id": "bIxmOhJV6dcw"
      },
      "source": [
        "import six"
      ],
      "execution_count": null,
      "outputs": []
    },
    {
      "cell_type": "code",
      "metadata": {
        "id": "Zrol2vV95I3N"
      },
      "source": [
        "_ = tree.plot_tree(model_rf_4.estimators_[0], feature_names=X_train_4.columns, filled=True)"
      ],
      "execution_count": null,
      "outputs": []
    },
    {
      "cell_type": "code",
      "metadata": {
        "id": "RK8Epcn2_39W"
      },
      "source": [
        "X_train_4.columns"
      ],
      "execution_count": null,
      "outputs": []
    },
    {
      "cell_type": "code",
      "metadata": {
        "id": "uzctsc_h_8hl"
      },
      "source": [
        "X_train_4.head(3)"
      ],
      "execution_count": null,
      "outputs": []
    },
    {
      "cell_type": "code",
      "metadata": {
        "id": "SfmygXYA8aOI"
      },
      "source": [
        "X_train_4['y_ENGAGEMENT_RANK_INT_pred_rf'] = model_rf_4.predict(X_train_4)"
      ],
      "execution_count": null,
      "outputs": []
    },
    {
      "cell_type": "code",
      "metadata": {
        "id": "wyFkp4xtBFeU"
      },
      "source": [
        "X_train_4.head(3)"
      ],
      "execution_count": null,
      "outputs": []
    },
    {
      "cell_type": "code",
      "metadata": {
        "id": "3aFsj193BRuD"
      },
      "source": [
        "X_train_4 = pd.concat([X_train_4, y_train_4], axis=1).reset_index()"
      ],
      "execution_count": null,
      "outputs": []
    },
    {
      "cell_type": "code",
      "metadata": {
        "id": "rbfvWG1cBoqi"
      },
      "source": [
        "X_train_4.head(3)"
      ],
      "execution_count": null,
      "outputs": []
    },
    {
      "cell_type": "code",
      "metadata": {
        "id": "r220I9dBD0E8"
      },
      "source": [
        "print(len(X_train_4))"
      ],
      "execution_count": null,
      "outputs": []
    },
    {
      "cell_type": "code",
      "metadata": {
        "id": "cErDB1_7D6jk"
      },
      "source": [
        "len(X_train_4[X_train_4.y_ENGAGEMENT_RANK_INT_pred_rf == X_train_4.ENGAGEMENT_RANK_INT])"
      ],
      "execution_count": null,
      "outputs": []
    },
    {
      "cell_type": "code",
      "metadata": {
        "id": "I_3D4mYN8SXc"
      },
      "source": [
        "cm = confusion_matrix(y_true=y_train_4,\n",
        "                      y_pred=X_train_4['y_ENGAGEMENT_RANK_INT_pred_rf'])\n",
        "pd.DataFrame(cm,\n",
        "             index=model_rf_4.classes_,\n",
        "             columns=model_rf_4.classes_)"
      ],
      "execution_count": null,
      "outputs": []
    },
    {
      "cell_type": "code",
      "metadata": {
        "id": "Ae1XXLbvJHhj"
      },
      "source": [
        "X_train_4.columns"
      ],
      "execution_count": null,
      "outputs": []
    },
    {
      "cell_type": "code",
      "metadata": {
        "id": "p07cwbWBJCCu"
      },
      "source": [
        "print(classification_report(y_true=y_train_4,\n",
        "                      y_pred=X_train_4.y_ENGAGEMENT_RANK_INT_pred_rf))"
      ],
      "execution_count": null,
      "outputs": []
    },
    {
      "cell_type": "markdown",
      "metadata": {
        "id": "NPk2pO5XI28e"
      },
      "source": [
        "**WTF!!!**"
      ]
    },
    {
      "cell_type": "code",
      "metadata": {
        "id": "KkgaImgHI2dJ"
      },
      "source": [
        "print(classification_report(y_true=df.ENGAGEMENT_RANK_INT,\n",
        "                      y_pred=df.ENGAGEMENT_RANK_INT_pred))"
      ],
      "execution_count": null,
      "outputs": []
    },
    {
      "cell_type": "code",
      "metadata": {
        "id": "u9TOaYe7GKGA"
      },
      "source": [
        "X_test_4.columns"
      ],
      "execution_count": null,
      "outputs": []
    },
    {
      "cell_type": "code",
      "metadata": {
        "id": "h5vP5sRIGtt-"
      },
      "source": [
        "X_test_4.head(3)"
      ],
      "execution_count": null,
      "outputs": []
    },
    {
      "cell_type": "code",
      "metadata": {
        "id": "YhS0o0kFGIKV"
      },
      "source": [
        "X_test_4['y_ENGAGEMENT_RANK_INT_pred'] = model_rf_4.predict(X_test_4)"
      ],
      "execution_count": null,
      "outputs": []
    },
    {
      "cell_type": "code",
      "metadata": {
        "id": "ZnX_PWAhGqOq"
      },
      "source": [
        "X_test_4.head(3)"
      ],
      "execution_count": null,
      "outputs": []
    },
    {
      "cell_type": "code",
      "metadata": {
        "id": "6w9-msDKGxbg"
      },
      "source": [
        "#pd.concat([X_test_4, df4.reindex(df1.index)], axis=1)\n",
        "X_test_4 = pd.concat([X_test_4, y_test_4], axis=1).reindex(X_test_4.index)"
      ],
      "execution_count": null,
      "outputs": []
    },
    {
      "cell_type": "code",
      "metadata": {
        "id": "Q1vgycgnGwwI"
      },
      "source": [
        "X_test_4.head(3)"
      ],
      "execution_count": null,
      "outputs": []
    },
    {
      "cell_type": "code",
      "metadata": {
        "id": "Mm7I3_FCIO4H"
      },
      "source": [
        "X_test_4[['ENGAGEMENT_RANK_INT','y_ENGAGEMENT_RANK_INT_pred']].value_counts().sort_index()"
      ],
      "execution_count": null,
      "outputs": []
    },
    {
      "cell_type": "code",
      "metadata": {
        "id": "AntgXf1PIgqK"
      },
      "source": [
        "cm = confusion_matrix(y_true=X_test_4.ENGAGEMENT_RANK_INT,\n",
        "                      y_pred=X_test_4.y_ENGAGEMENT_RANK_INT_pred)\n",
        "pd.DataFrame(cm,\n",
        "             index=model_2_dt.classes_,\n",
        "             columns=model_2_dt.classes_)"
      ],
      "execution_count": null,
      "outputs": []
    },
    {
      "cell_type": "code",
      "metadata": {
        "id": "97lFycAOJb9B"
      },
      "source": [
        "print(classification_report(y_test_4,\n",
        "                      y_pred=X_test_4.y_ENGAGEMENT_RANK_INT_pred))"
      ],
      "execution_count": null,
      "outputs": []
    },
    {
      "cell_type": "markdown",
      "metadata": {
        "id": "XSEFuUof8IaW"
      },
      "source": [
        "Visualize the Random Forest:"
      ]
    },
    {
      "cell_type": "code",
      "metadata": {
        "id": "7ZQKbFtv6J6r"
      },
      "source": [
        "# dotfile = six.StringIO()\n",
        "# i_tree = 0\n",
        "# for tree_in_forest in model_rf_4.estimators_:\n",
        "#   if (i_tree <1):        \n",
        "#       export_graphviz(model_rf_4,\n",
        "#                   feature_names=X_train_4.columns,\n",
        "#                   filled=True,\n",
        "#                   rounded=True)\n",
        "#       pydotplus.graph_from_dot_data(dotfile.getvalue()).write_png('dtree'+ str(i_tree) +'.png')\n",
        "#       i_tree = i_tree + 1"
      ],
      "execution_count": null,
      "outputs": []
    },
    {
      "cell_type": "markdown",
      "metadata": {
        "id": "fjs1pAoYCfNa"
      },
      "source": [
        "## Appling 4nd Model - XGBoost regression\n"
      ]
    },
    {
      "cell_type": "code",
      "metadata": {
        "id": "wijX7cMxCqIl"
      },
      "source": [
        "XGB_reg = xgb.XGBRegressor()"
      ],
      "execution_count": null,
      "outputs": []
    },
    {
      "cell_type": "code",
      "metadata": {
        "id": "xFLotximCtBK"
      },
      "source": [
        "print(XGB_reg)"
      ],
      "execution_count": null,
      "outputs": []
    },
    {
      "cell_type": "code",
      "metadata": {
        "id": "pVDaOyYHCtuC"
      },
      "source": [
        "XGB_reg.fit(X_train, y_train)"
      ],
      "execution_count": null,
      "outputs": []
    },
    {
      "cell_type": "code",
      "metadata": {
        "id": "KzsO58r4Cviq"
      },
      "source": [
        "score = XGB_reg.score(X_train, y_train)  \n",
        "print(\"Training score: \", score)"
      ],
      "execution_count": null,
      "outputs": []
    },
    {
      "cell_type": "code",
      "metadata": {
        "id": "RJbJCJYhCxWW"
      },
      "source": [
        "scores = cross_val_score(XGB_reg, X_train, y_train,cv=10)\n",
        "print(\"Mean cross-validation score: %.2f\" % scores.mean())"
      ],
      "execution_count": null,
      "outputs": []
    },
    {
      "cell_type": "code",
      "metadata": {
        "id": "fK-i0KuRC0LF"
      },
      "source": [
        "y_test_pred = XGB_reg.predict(X_test)\n",
        "mse = mse(y_test, y_test_pred)\n",
        "score_test = XGB_reg.score(X_test, y_test)  \n",
        "print(\"Training score: \", score_test)\n",
        "print(\"MSE: %.2f\" % mse)\n",
        "print(\"RMSE: %.2f\" % (mse**0.5))\n"
      ],
      "execution_count": null,
      "outputs": []
    },
    {
      "cell_type": "code",
      "metadata": {
        "id": "BvMgDsYWC2M7"
      },
      "source": [
        "x_ax = range(len(y_test))\n",
        "fig = plt.figure(figsize=(9, 10))\n",
        "plt.plot(x_ax, y_test, label=\"original\")\n",
        "plt.plot(x_ax, y_test_pred, label=\"predicted\")\n",
        "plt.title(\"Boston test and predicted data\")\n",
        "plt.legend()\n",
        "plt.show()"
      ],
      "execution_count": null,
      "outputs": []
    },
    {
      "cell_type": "code",
      "metadata": {
        "id": "HbPoc3y2C40y"
      },
      "source": [
        "XGB_param_grid = {'colsample_bytree': [0.3, 0.7, 1.0, 1.2],\n",
        "    'n_estimators': [50,100,200],    'max_depth': [2,3,4]\n",
        "}\n",
        "XGB_reg_grid = xgb.XGBRegressor()\n",
        "grid_mse = GridSearchCV(param_grid=XGB_param_grid, estimator=XGB_reg_grid, \n",
        "                        scoring='neg_mean_squared_error', cv=4, verbose=1)\n",
        "grid_mse.fit(X, y)\n",
        "# Print the best parameters and lowest RMSE\n",
        "print(\"Best parameters found: \", grid_mse.best_params_)\n",
        "print(\"Lowest RMSE found: \", np.sqrt(np.abs(grid_mse.best_score_)))"
      ],
      "execution_count": null,
      "outputs": []
    }
  ]
}